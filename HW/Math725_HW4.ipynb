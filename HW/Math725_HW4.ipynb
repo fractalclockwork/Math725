{
 "cells": [
  {
   "cell_type": "markdown",
   "metadata": {},
   "source": [
    "# Math 725 Advanced Linear Algebra\n",
    "## HW4\n",
    "\n",
    "\n",
    "### Brent A. Thorne\n",
    "\n",
    "brentathorne@gmail.com\n",
    "\n",
    "##### Quotent Space and Dual Basis\n",
    "\n",
    "\n",
    "$\\require{AMScd}$\n",
    "$\\require{cancel}$\n",
    "$\\newcommand{\\null}{\\text{null}}$\n",
    "$\\newcommand{\\P}{\\mathcal{P}}$\n",
    "$\\newcommand{\\B}{\\mathcal{B}}$\n",
    "$\\newcommand{\\0}{\\{\\Bbb{0}\\}}$\n",
    "$\\newcommand{\\C}{\\Bbb{C}}$\n",
    "$\\newcommand{\\1}{\\Bbb{1}}$\n",
    "$\\newcommand{\\range}{\\text{range}}$\n",
    "$\\newcommand{\\T}{\\mathcal{T}}$\n",
    "$\\newcommand{\\M}{\\mathcal{M}}$\n",
    "$\\newcommand{\\U}{\\mathbf{U}}$\n",
    "$\\newcommand{\\L}{\\mathcal{L}}$\n",
    "$\\newcommand{\\W}{\\mathbf{W}}$\n",
    "$\\newcommand{\\R}{\\mathbb{R}}$\n",
    "$\\newcommand{\\F}{\\mathbb{F}}$\n",
    "$\\newcommand{\\v}[2]{#1_1...#1_#2}$"
   ]
  },
  {
   "cell_type": "code",
   "execution_count": 1,
   "metadata": {},
   "outputs": [],
   "source": [
    "# import libraries\n",
    "import numpy as np\n",
    "import sympy as sym\n",
    "from sympy.matrices import Matrix\n",
    "from sympy import I\n",
    "import matplotlib.pyplot as plt\n",
    "from IPython.display import display, Math, Latex\n",
    "\n",
    "from sympy import init_printing\n",
    "init_printing()"
   ]
  },
  {
   "cell_type": "markdown",
   "metadata": {},
   "source": [
    "## 1. (3E2)\n",
    "### Suppose $V_1,...,V_m$ are vector spaces such that $V_1 \\times \\cdots \\times V_m$ is finite-dimensional.  Prove that $V_j$ is finite-dimenstional for each $j=1,\\cdots,m$."
   ]
  },
  {
   "cell_type": "markdown",
   "metadata": {},
   "source": [
    "#### Solution:\n",
    "Consider a basis of each $V_j$ such that the $j^{th}$ slot is $1$ and all other slots is $0$.  The list of all such vector is linearly independent and spans $V_1 \\times \\cdots \\times V_m$ and has lenght of the basis is dim$V + \\cdots +$dim$V_m$, which is finite dimensional as desired.  \n",
    "\n",
    "see also Axler 3.76 proof\n",
    "\n",
    "Another way to see this is to consider the contrary...\n",
    "\n",
    "Consider $(v_{1,1},v_{1,2},\\cdots,v_{1,m}),(v_{2,1},v_{2,2},\\cdots,v_{2,m}), \\cdots,\n",
    "(v_{k,1},v_{k,2},\\cdots,v_{k,m})$ as a baisis for $V_1 \\times \\cdots \\times V_m$ and there exits $v\\in V$ so the $v\\notin$ span$(v_{1,1},v_{2,1},...v_{k,1})$.  Thus $u_1,u_2,...,u_m$ for any $u_i\\in V$ is not a linear combination of $v_{i,1},...,v_{i,m}$, $1\\leq i \\leq k$, thus contradiction.  $V_i$ must be finite dimensional as desired."
   ]
  },
  {
   "cell_type": "markdown",
   "metadata": {},
   "source": [
    "## 2. (3E3)\n",
    "### Give an example of a vector space $V$ and subspaces $U_1,U_2$ of $V$ such that $U_1\\times U_2$ is isomorphic to $U_1 + U_2$ but $U_1+U_2$ is not a direct sum.\n",
    "\n",
    "##### Hint:  The vector space $V$ must be infinite-dimensional."
   ]
  },
  {
   "cell_type": "markdown",
   "metadata": {},
   "source": [
    "#### Solution:\n",
    "Suppose polynominal vector spaces, $V=\\P(\\R)$, $U_1=$span$(1,x,x^2)$, and $U_2=${$p\\in\\P(\\R):$ deg $p\\geq2$}.\n",
    "\n",
    "$U_1+U_2\\neq U_1\\oplus U_2$ since,\n",
    "\n",
    "$1+x+2x^2+x^3=(1+x+x^2)+(x^2+x^3)=(1+x) + (2x^2+x^3)$.\n",
    "\n",
    "Let T: $U_1\\times U_2 \\mapsto U_1 + U_2$ such that $T(u_1,u_2)=u_1,xu_2$.\n",
    "\n",
    "If $T(u_1,u_2)=T(v_1,v_2)$ then $u_1+xu_2=v1+xv_2$, thus surjective.\n",
    "\n",
    "If deg $u_1 \\leq$ deg $xu_2$ for any $u_1\\in U_1$ and $u_2\\in U_2$ then $u_1=v_1$ and $u_2=v_2$ must be True.  Thus $T$ is injective and is an isomorphism."
   ]
  },
  {
   "cell_type": "markdown",
   "metadata": {},
   "source": [
    "## 3. (3E6)\n",
    "### For $n$ a positive integer, define $V^n$ by\n",
    "\n",
    "### $$V^n= \\underbrace{V\\times\\cdots\\times V}_{n\\text{ times}}$$\n",
    "\n",
    "### Prove that $V^n$ and $\\L(\\F^n,V)$ are isomorphic vector spaces."
   ]
  },
  {
   "cell_type": "markdown",
   "metadata": {},
   "source": [
    "#### Solution:\n",
    "Define $T: V^n \\mapsto \\L(\\F^n,V)$ such that $T(\\v{v}{n})=S\\in \\L(\\F^n,V)$ and $S(0,...,0,1_i,0,...,0)=v_i$.  Thus by construction $T$ is surjective.\n",
    "\n",
    "If $T(\\v{v}{n})=T(\\v{u}{n})$ the $S_v=S_u$ so $S_v(0,...,0,1_i,0,...,0)=S_u(0,...,0,1_i,0,...,0)$.  \n",
    "\n",
    "Hence $v_i=u_i \\implies \\v{v}{n}=\\v{u}{n} $ thus $T$ is injective $\\implies$ $V^n$ and $\\L(\\F^n,V)$ are isomorphic."
   ]
  },
  {
   "cell_type": "markdown",
   "metadata": {},
   "source": [
    "## 4. (3E8)\n",
    "### Prove that a nonempty subset $A$ of $V$ is an affine subset of $V$ if and only if $\\lambda v + (1-\\lambda)w\\in A$ and for all $v,w \\in A$ and all $\\lambda \\in \\F$."
   ]
  },
  {
   "cell_type": "markdown",
   "metadata": {},
   "source": [
    "#### Solution:\n",
    "If $A$ is an affine subspace of $V$ then A is $a + U$ for $a\\in V$ and $U \\in V$.  \n",
    "\n",
    "Suppose $v,w\\in A$ and $u_1,u_2 \\in U$ such that $a+u_1=v$ and $a+u_2=w$.  Hence, \n",
    "\n",
    "$\\lambda v + (1-\\lambda)w = a + \\lambda u_1 + (1-\\lambda)u_2 \\in A$ for any $\\lambda \\in \\F$."
   ]
  },
  {
   "cell_type": "markdown",
   "metadata": {},
   "source": [
    "If $\\lambda v + (1-\\lambda)w\\in A$ for all $v,w\\in A$ and all $\\lambda\\in\\F$, then consider arbitary $w\\in A$ so that $U=\\{u-w:u\\in A\\}$ and any $x_1,x_2\\in U$ such that $x_1=u_1-w, x_2=u_2-w$ for $u_1,u_2\\in A$.\n",
    "\n",
    "Let $\\lambda=2$ then $2u_1-w\\in A, 2u_2-w\\in A$.\n",
    "\n",
    "Let $\\lambda=\\frac{1}{2}$ then $\\frac{1}{2}(2u_1-w) + \\frac{1}{2}(2u_2-w) \\in A$ $\\implies u_1+u_2-2w\\in A$.  Thus it follows $u_1+u_2-2w\\in u$ $\\implies x_1+x_2\\in U$ for any $x_1,x_2\\in U$.\n",
    "\n",
    "If $\\lambda (2u_1-w) + (1-\\lambda)w\\in A$ or $2\\lambda u_1 \\in A$ for any $u_1\\in A$ $\\implies U$ is a subspace of $V$.\n",
    "\n",
    "Hence $A=w+U$ thus $A$ is an affine subset of $V$ as desired.\n",
    "\n",
    "see proof of 3.87 Axler\n",
    "\n",
    "see also Toan Quang Pham's notes for LADR"
   ]
  },
  {
   "cell_type": "markdown",
   "metadata": {},
   "source": [
    "## 5. (3F1)\n",
    "### Explain why every linear function is either surjective or the zero map. "
   ]
  },
  {
   "cell_type": "markdown",
   "metadata": {},
   "source": [
    "#### Solution:\n",
    "Consider $\\varphi\\in \\L(V,\\F)$, if $\\text{dim range } \\varphi = 0$, then $\\varphi$ is the zero map.\n",
    "\n",
    "On the other hand, if $\\varphi$ not a zero map there exists $v\\in V$ so $v\\varphi=c\\neq 0$ $\\implies$ that for any $\\lambda\\in\\F$ that $\\varphi(\\lambda/c \\cdot v)=\\lambda$. Thus $\\varphi$ is surjective."
   ]
  },
  {
   "cell_type": "markdown",
   "metadata": {},
   "source": [
    "## 6. (3F13)\n",
    "### Define $\\T:\\R^3\\mapsto\\R^2$ by $\\T(x,y,z)=(4x+5y+6z,7x+8y+9z)$.\n",
    "### Suppose $\\varphi_1,\\varphi_2$ denotes that dual basis of the standard basis of $R^2$ and $\\psi_1,\\psi_2,\\psi_3$ denotes that dual basis of the standard basis of $R^3$.\n",
    "\n",
    "#### (a) Describe the linear functionals $\\T'(\\varphi_1)$ and $\\T'(\\varphi_2)$.\n",
    "\n",
    "#### (b) Write  $\\T'(\\varphi_1)$ and $\\T'(\\varphi_2)$ as linear combinations of $\\psi_1,\\psi_2,\\psi_3$."
   ]
  },
  {
   "cell_type": "markdown",
   "metadata": {},
   "source": [
    "#### Solution:\n",
    "(a) Describe the linear functionals $\\T'(\\varphi_1)$ and $\\T'(\\varphi_2)$.\n",
    "\n",
    "This is a coordinate transform...\n",
    "\n",
    "$(\\T'(\\varphi_1))(x,y,z)= (\\varphi_1 \\circ \\T)(x,y,z)=\\varphi_1(4x+5y+6z,7x+8y+9z)=4x+5y+6z $.\n",
    "\n",
    "Similarly, $(\\T'(\\varphi_2))(x,y,z)= 7x+8y+9z$\n",
    "\n",
    "(b) Write  $\\T'(\\varphi_1)$ and $\\T'(\\varphi_2)$ as linear combinations of $\\psi_1,\\psi_2,\\psi_3$.\n",
    "\n",
    "Recall $\\T'(\\varphi)\\in(\\R^3)'$ and $\\psi_1,\\psi_2,\\psi_3$ is dual basis of $(\\R^3)'$..\n",
    "\n",
    "$(\\T'(\\varphi_1))=(\\T'(\\varphi_1))(1,0,0)\\psi_1 + (\\T'(\\varphi_1))(0,1,0)\\psi_2 + (\\T'(\\varphi_1))(0,0,1)\\psi_3 = 4\\psi_1 + 5\\psi_2 + 6\\psi_3$, and\n",
    "\n",
    "$(\\T'(\\varphi_2))=(\\T'(\\varphi_2))(1,0,0)\\psi_1 + (\\T'(\\varphi_2))(0,1,0)\\psi_2 + (\\T'(\\varphi_2))(0,0,1)\\psi_3 = 7\\psi_1 + 8\\psi_2 + 9\\psi_3$, "
   ]
  },
  {
   "cell_type": "markdown",
   "metadata": {},
   "source": [
    "## 7. (3F22)\n",
    "### Suppose $U,W$ are subspaces of $V$.  \n",
    "\n",
    "### Show that $(U+W)^0=U^0 \\cap W^0$."
   ]
  },
  {
   "cell_type": "markdown",
   "metadata": {},
   "source": [
    "#### Solution:\n",
    "Consider $U\\subset U + W$ $\\implies$ $U^0\\subset U^0 + W^0$ $\\implies (U+W)^0 \\subset U^0$ (by proof of 3.105 Axler).\n",
    "\n",
    "Similarly, $(U+W)^0\\subset W^0$, thus $(U+W)^0 \\subset U^0 \\cap W^0$.\n",
    " \n",
    "Conversely if $\\varphi\\in U^0 \\cap W^0$ then $\\varphi(u)=0$ for any $u\\in U$ or $u\\in W$.  Thus, $\\varphi(u+w)=0$ for any $u\\in U, w\\in U$ so $\\varphi\\in(U+W)^0$. (also by proof of 3.105 Axler)\n",
    "\n",
    "It follows that $U^0 \\cap W \\subset (U+W)^0 \\implies U^0 \\cap W = (U+W)^0$ as desired."
   ]
  },
  {
   "cell_type": "markdown",
   "metadata": {},
   "source": [
    "## 8. (3F34)\n",
    "### The $\\textit{double dual space}$ of $V$, denoted $V''$, is defined to be the dual space of $V'$.  In other words, $V''=(V')'$.  Define  $\\Lambda:V\\mapsto V''$ by\n",
    "### $$(\\Lambda v)(\\varphi)=\\varphi(v)$$ for $v\\in V$ and $\\varphi \\in V'$.\n",
    "#### (a) Show that $\\Lambda$ is a linear map from $V$ to $V''$.\n",
    "\n",
    "#### (b) Show that if $\\T\\in \\L(V)$, then $\\T''\\circ\\Lambda=\\Lambda\\circ\\T$, where $\\T''=(\\T')'$.\n",
    "\n",
    "#### (c) Show that is finite-dimensional, then $\\Lambda$ is an isomorphism from $V$ onto $V''$.\n",
    "\n",
    "##### [Suppose $V$ is finite-dimensional.  Then $V$ and $V'$ are isomorphic, but find an isomorphism from $V$ onto $V'$ generally requires choosing a basis of $V$.  In contrast, the isomorphism $\\Lambda$ from $V$ onto $V''$ does not require a choice of basis and thus is considered more natural.]"
   ]
  },
  {
   "cell_type": "markdown",
   "metadata": {},
   "source": [
    "#### Solution:\n",
    "(a) Show that $\\Lambda$ is a linear map from $V$ to $V''$.\n",
    "\n",
    "For any $\\varphi\\in V'$ then $$(\\Lambda(v_1+v_2))(\\varphi)=\\Lambda \\varphi(v_1+v_2)=\\Lambda (\\varphi(v_1)+\\varphi(v_2))=(\\Lambda v_1)(\\varphi)+(\\Lambda v_2)(\\varphi).$$\n",
    "\n",
    "Thus, $\\Lambda(v_1+v_2) = \\Lambda v_1 + \\Lambda v_2$. Similarly, $\\Lambda(\\lambda v)=\\lambda(\\Lambda v)$. Thus, $\\Lambda$ is a linear map from $V$ to $V''$."
   ]
  },
  {
   "cell_type": "markdown",
   "metadata": {},
   "source": [
    "(b) Show that if $\\T\\in \\L(V)$, then $\\T''\\circ\\Lambda=\\Lambda\\circ\\T$, where $\\T''=(\\T')'$.\n",
    "\n",
    "Consider $\\varphi\\in V'$ then, $$(\\Lambda(\\T v))(\\varphi)=(\\T''(\\Lambda v)(\\varphi).$$\n",
    "\n",
    "Thus, $(\\Lambda(\\T v))(\\varphi)=\\varphi(\\T v)$ and $T''=(T')'\\in\\L(V'',V'')$ so $$(T''(\\Lambda v))(\\varphi)= ((\\Lambda v) \\circ \\T')(\\varphi) = (\\Lambda v)(\\T'(\\varphi)) = (\\T'(\\varphi))(v) = (\\varphi \\circ \\T)(v)=\\varphi(\\T v).$$\n",
    "\n",
    "Thus $(T''(\\Lambda v))(\\varphi)=(\\Lambda(\\T v))(\\varphi)$ for any $\\varphi \\in V'$ $\\implies \\Lambda(\\T v) = T''(\\Lambda)$ for any $v \\in V$. Thus, $\\Lambda \\circ \\T=\\T''\\circ \\Lambda$ as desired."
   ]
  },
  {
   "cell_type": "markdown",
   "metadata": {},
   "source": [
    "(c) Show that is finite-dimensional, then $\\Lambda$ is an isomorphism from $V$ onto $V''$.\n",
    "\n",
    "Suppose $\\Lambda v = 0$ then $(\\Lambda v)(\\varphi)=0$ for any $\\varphi\\in V'$ $\\implies v=0$.  Thus, $\\Lambda$ is injective.\n",
    "\n",
    "Consider $\\v{v}{n}$ to be a basis of $V$ and $\\v{\\varphi}{n}$ to be a dual basis of $V'$.  Also consider $S\\in V''$ so that $\\Lambda v = S$ where $v = \\sum\\limits_{i=1}^{n}  S(\\varphi_i)v_i$.\n",
    "\n",
    "We can see that $\\varphi_i(v) = S(\\varphi_i)$ for each $1\\leq i \\leq n$. Thus $\\varphi(v)=S(\\varphi)$ for any $\\varphi \\in V'$.  Thus,\n",
    "$\\Lambda v = S \\implies \\Lambda$ surjective.\n",
    "\n",
    "Thus, $\\Lambda$ is an isomorphism from $V$ onto $V''$\n",
    "\n",
    "see also Toan Quang Pham's notes for LADR"
   ]
  },
  {
   "cell_type": "markdown",
   "metadata": {},
   "source": [
    "## Appendix 0.  Extra Problems"
   ]
  },
  {
   "cell_type": "markdown",
   "metadata": {},
   "source": [
    "## x. (3F32)\n",
    "### Suppose $\\T\\in \\L(V)$, and $u_1,...,u_n$ and $v_1,...,v_n$ are bases of $V$.  Prove that the following are equivalent:\n",
    "\n",
    "#### (a) $\\T$ is invertible.\n",
    "\n",
    "Surjective \n",
    "\n",
    "#### (b) The columns of $\\M(\\T)$ are linearly independent in $\\F^{n,1}$.\n",
    "\n",
    "#### (c) The columns of $\\M(\\T)$ span $\\F^{n,1}$.\n",
    "\n",
    "#### (d) The rows $\\M(\\T)$ are linearly independent in $\\F^{1,n}$.\n",
    "\n",
    "#### (e) The rows $\\M(\\T)$ span $\\F^{1,n}$.\n",
    "\n",
    "##### Here $\\M(\\T)$ means $\\M(\\T, (u_1,...,u_n),(v_1,...,v_n))$."
   ]
  },
  {
   "cell_type": "markdown",
   "metadata": {},
   "source": [
    "## Appendix 1. Complex "
   ]
  },
  {
   "cell_type": "code",
   "execution_count": 2,
   "metadata": {},
   "outputs": [],
   "source": [
    "# fancy plot\n",
    "def z_plot(Z, c=None):\n",
    "    #display(Latex(f'${sym.latex(Z.T)}$'))\n",
    "    z= np.array(Z.tolist()).astype(np.complex64)\n",
    "    n = len(z)\n",
    "    #plt.scatter(z.real, z.imag, c=c)\n",
    "    if False:\n",
    "        for i in range(len(z)): # this got a bit fancy\n",
    "            zz = z[i] + .06 *np.exp(1j*2*np.pi*i/n)  #offset text\n",
    "            plt.text(zz.real, zz.imag, i, fontsize=12)\n",
    "    z = np.append(z,z[0]) # close the shape\n",
    "    plt.plot(z.real, z.imag, c=c)\n",
    "    plt.grid(visible=True);\n",
    "    plt.gca().set_aspect(\"equal\") # square grids are pretty\n",
    "    plt.axhline(0, color='black', alpha = .2, linestyle='--')\n",
    "    plt.axvline(0, color='black', alpha = .2, linestyle='--')"
   ]
  },
  {
   "cell_type": "code",
   "execution_count": 3,
   "metadata": {},
   "outputs": [
    {
     "data": {
      "text/latex": [
       "Recall: $p=z^{4} - z + 1$, and $z=R e^{2 i \\pi \\theta}$"
      ],
      "text/plain": [
       "<IPython.core.display.Latex object>"
      ]
     },
     "metadata": {},
     "output_type": "display_data"
    },
    {
     "data": {
      "image/png": "[encoded data removed]",
      "text/plain": [
       "<Figure size 432x288 with 1 Axes>"
      ]
     },
     "metadata": {
      "needs_background": "light"
     },
     "output_type": "display_data"
    }
   ],
   "source": [
    "# we're replicating Arek's algorithm here\n",
    "# FIXME!!! we ought to use sympy's plot_implicit() to avoid np.linspace()\n",
    "z,R, theta =sym.symbols('z R theta')\n",
    "p = z**4-z+1\n",
    "eq = R*sym.exp(2*sym.pi*sym.I*theta)\n",
    "\n",
    "phi = np.linspace(0,1,100)\n",
    "r = np.linspace(3,0,10)\n",
    "\n",
    "Z=[p.subs([(z,eq.subs([(R,1),(theta,t)]))]) for t in phi]\n",
    "z_plot(Matrix([Z]))\n",
    "\n",
    "display(Latex(f'Recall: $p={sym.latex(p)}$, and $z={sym.latex(eq)}$'))"
   ]
  },
  {
   "cell_type": "code",
   "execution_count": 4,
   "metadata": {},
   "outputs": [],
   "source": [
    "import ipywidgets as widgets\n",
    "from ipywidgets import HBox, VBox\n",
    "import numpy as np\n",
    "import matplotlib.pyplot as plt\n",
    "from IPython.display import display\n",
    "%matplotlib inline"
   ]
  },
  {
   "cell_type": "code",
   "execution_count": 5,
   "metadata": {
    "scrolled": true
   },
   "outputs": [
    {
     "data": {
      "application/vnd.jupyter.widget-view+json": {
       "model_id": "77ccdc6ac9994081b4ce45ee553c6dbb",
       "version_major": 2,
       "version_minor": 0
      },
      "text/plain": [
       "interactive(children=(FloatSlider(value=3.1, description='r', max=9.3, min=-3.1), Output()), _dom_classes=('wi…"
      ]
     },
     "metadata": {},
     "output_type": "display_data"
    }
   ],
   "source": [
    "@widgets.interact\n",
    "def f(r=3.1):\n",
    "    Z=[p.subs([(z,eq.subs([(R,r),(theta,t)]))]) for t in phi]\n",
    "    z_plot(Matrix([Z]))"
   ]
  },
  {
   "cell_type": "code",
   "execution_count": 6,
   "metadata": {},
   "outputs": [
    {
     "data": {
      "application/vnd.jupyter.widget-view+json": {
       "model_id": "134039387efd4266a27130689078b312",
       "version_major": 2,
       "version_minor": 0
      },
      "text/plain": [
       "interactive(children=(FloatSlider(value=3.1, description='r', max=9.3, min=-3.1), Output()), _dom_classes=('wi…"
      ]
     },
     "metadata": {},
     "output_type": "display_data"
    }
   ],
   "source": [
    "# Symbolic plotting is much slower than numeric\n",
    "from sympy import plot_implicit, cos, sin, symbols, Eq, And, sqrt, plot_parametric\n",
    "theta, R, z, u= symbols('theta R z u')\n",
    "p = z**4 - z+1\n",
    "Z = R * sym.exp(2*sym.I*sym.pi*theta)\n",
    "P = p.subs([(z,Z)])\n",
    "lim = sym.pi\n",
    "\n",
    "@widgets.interact\n",
    "def f(r=3.1):\n",
    "    PP = P.subs([(R,r)])\n",
    "    plot_parametric(sym.re(PP), sym.im(PP), (theta, -lim, lim)) # this takes a while\n",
    "    #p1 = plot_implicit(P, theta)"
   ]
  },
  {
   "cell_type": "code",
   "execution_count": null,
   "metadata": {},
   "outputs": [],
   "source": []
  }
 ],
 "metadata": {
  "kernelspec": {
   "display_name": "Python 3",
   "language": "python",
   "name": "python3"
  },
  "language_info": {
   "codemirror_mode": {
    "name": "ipython",
    "version": 3
   },
   "file_extension": ".py",
   "mimetype": "text/x-python",
   "name": "python",
   "nbconvert_exporter": "python",
   "pygments_lexer": "ipython3",
   "version": "3.8.10"
  }
 },
 "nbformat": 4,
 "nbformat_minor": 4
}
