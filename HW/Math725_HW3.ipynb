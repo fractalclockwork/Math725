{
 "cells": [
  {
   "cell_type": "markdown",
   "metadata": {},
   "source": [
    "# Math 725 Advanced Linear Algebra\n",
    "## HW3\n",
    "\n",
    "\n",
    "### Brent A. Thorne\n",
    "\n",
    "brentathorne@gmail.com\n",
    "\n",
    "##### Linear Transformations\n",
    "$\\require{AMScd}$\n",
    "$\\require{cancel}$\n",
    "$\\newcommand{\\null}{\\text{null}}$\n",
    "$\\newcommand{\\P}{\\mathcal{P}}$\n",
    "$\\newcommand{\\0}{\\{\\Bbb{0}\\}}$\n",
    "$\\newcommand{\\C}{\\Bbb{C}}$\n",
    "$\\newcommand{\\1}{\\Bbb{1}}$\n",
    "$\\newcommand{\\range}{\\text{range}}$\n",
    "$\\newcommand{\\T}{\\mathbf{T}}$\n",
    "$\\newcommand{\\U}{\\mathbf{U}}$\n",
    "$\\newcommand{\\L}{\\mathcal{L}}$\n",
    "$\\newcommand{\\W}{\\mathbf{W}}$\n",
    "$\\newcommand{\\R}{\\mathbb{R}}$\n",
    "$\\newcommand{\\F}{\\mathbb{F}}$\n",
    "$\\newcommand{\\v}[2]{#1_1...#1_#2}$"
   ]
  },
  {
   "cell_type": "code",
   "execution_count": 1,
   "metadata": {},
   "outputs": [],
   "source": [
    "# import libraries\n",
    "import numpy as np\n",
    "import sympy as sym\n",
    "from sympy.matrices import Matrix\n",
    "from sympy import I\n",
    "import matplotlib.pyplot as plt\n",
    "from IPython.display import display, Math, Latex\n",
    "\n",
    "from sympy import init_printing\n",
    "init_printing() "
   ]
  },
  {
   "cell_type": "markdown",
   "metadata": {},
   "source": [
    "## 1. (3A4)\n",
    "### Suppose $T\\in \\L(V,W)$ and $v_1,...,v_m$ is a list of vectors in $V$ such that $T v_1,...,T v_m$ is a linearly independent list in $W$. Prove that $v_1,...,v_m$ is linearly independent."
   ]
  },
  {
   "cell_type": "markdown",
   "metadata": {},
   "source": [
    "#### Solution:\n",
    "\n",
    "Recall the definition of linearly independence: A list $\\v{v}{m}$ of vectors in $V$ is called $\\textbf{linearly independent}$ if the only choice of $\\v{a}{m}\\in\\F$ that make $a_1 v_1+...+a_m v_m$ equal 0 is $a_1=...=a_m=0$.  The empty list $()$ is also declared to be linearly independent. "
   ]
  },
  {
   "cell_type": "markdown",
   "metadata": {},
   "source": [
    "Consider that for $T v_1,...,T v_m$ to be linearly independent, the only choice of $\\v{a}{m}\\in\\F$ that make $T a_1 v_1+...+T a_m v_m$ equal 0 is $a_1=...=a_m=0$ (by definition of span).  Thus, $T v_1,...,T v_m$ being linearly independent implies $v_1,...,v_m$ is linearly independent.\n",
    "\n",
    "$\\blacksquare$\n",
    "\n",
    "While this is obvious for a finite dimensional space, by induction we can show it is also true for an infinite vector space.\n",
    "\n",
    "Consider $a_1 v_1+...+a_{k+1}v_{k+1} = 0$.\n",
    "\n",
    "Assume that $\\lambda_i\\neq\\lambda_j$ for $i\\neq j$, and $v_1,...,v_k$ is independent, where $(k<m)$ and .\n",
    "\n",
    "$0=T(0)=T(a_1 v_1+...+a_{k+1}v_{k+1})$\n",
    "\n",
    "$=a_1 T v_1+...+a_{k+1} T v_{k+1} $\n",
    "\n",
    "$=\\lambda_1 a_1 v_1+...+\\lambda_{k+1} a_{k+1}v_{k+1} $\n",
    "\n",
    "Substracting $\\lambda_{k+1}(a_1 v_1+...+a_{k+1}v_{k+1})$ from $(\\lambda_1 a_1 v_1+...+\\lambda_{k+1} a_{k+1}v_{k+1})$ we get,\n",
    "\n",
    "$(\\lambda_1-\\lambda_{k+1})a_{1}v_{1}+...+(\\lambda_{k}-\\lambda_{k+1}) a_{k}v_{k} = 0$.\n",
    "\n",
    "Since $\\lambda_i\\neq\\lambda_j$ for $i\\neq j$, and $v_1,...,v_k$ are independent and by inductive application of the above for $(\\lambda_{k+1}, \\lambda_{k}, \\lambda_{k-1}, ..., \\lambda_{1})$ we obtain that\n",
    "\n",
    "$a_1=...=a_k=0$, by $a_1 v_1+...+a_{k+1}v_{k+1} = 0$, $a_{k+1}=0$ and $v_{k+1}\\neq 0$.\n",
    "\n",
    "Thus $v_1,...,v_{k+1}$ is independent.\n",
    "\n",
    "$\\blacksquare\\blacksquare$"
   ]
  },
  {
   "cell_type": "markdown",
   "metadata": {},
   "source": [
    "## 2. (3A9)\n",
    "### Give an example of a function $\\varphi:\\C\\mapsto\\C$ such that\n",
    "\n",
    "### $\\varphi(w+z)=\\varphi(w)+\\varphi(z)$\n",
    "\n",
    "### for all $w,z \\in \\C$ but $\\varphi$ is not linear. (Here $\\C$ is thought of as a complex vector space.)\n",
    "\\[There also exists a function $\\varphi:\\R\\mapsto\\R$  such that $\\varphi$ satisfies the additivity condition above but $\\varphi$ is not linear. However, showing the existence of such a function involves considerably more advanced tools.\\]"
   ]
  },
  {
   "cell_type": "markdown",
   "metadata": {},
   "source": [
    "#### Solution:\n",
    "Consider fucntion $\\varphi(a+bi)=bi$, where $a,b\\in \\R$.  If $w=\\alpha_w + \\beta_w i$ and $z=\\alpha_z + \\beta_z i$ where $\\alpha_w, \\beta_w, \\alpha_z, \\beta_z\\in \\R$, such that,\n",
    "\n",
    "$\\varphi(w+z)=\\varphi(\\alpha_w + \\beta_w + \\alpha_z + \\beta_z) = \\beta_w + \\beta_z = \\varphi(w) + \\varphi(z)$.\n",
    "\n",
    "However, $i\\varphi(1)=0 \\neq \\varphi(i\\cdot1)=1$, thus $\\varphi$ is nonlinear over $\\C$.\n",
    "\n",
    "\\[Also, non-linear over $\\R$, but that would be $\\varphi:\\R\\mapsto\\C$ rather than $\\varphi:\\R\\mapsto\\R$ as the proposed existance.  So that doesn't quite work.\\]"
   ]
  },
  {
   "cell_type": "code",
   "execution_count": 2,
   "metadata": {},
   "outputs": [
    {
     "data": {
      "text/latex": [
       "Additivty: $\\varphi(w+z)==(\\varphi(w)+\\varphi(z))$ is True."
      ],
      "text/plain": [
       "<IPython.core.display.Latex object>"
      ]
     },
     "metadata": {},
     "output_type": "display_data"
    },
    {
     "data": {
      "text/latex": [
       "Multiplitity: $i\\varphi(1)==\\varphi(i1)$ is False."
      ],
      "text/plain": [
       "<IPython.core.display.Latex object>"
      ]
     },
     "metadata": {},
     "output_type": "display_data"
    },
    {
     "data": {
      "image/png": "[encoded data removed]",
      "text/latex": [
       "$\\displaystyle \\left( 0, \\  1\\right)$"
      ],
      "text/plain": [
       "(0, 1)"
      ]
     },
     "execution_count": 2,
     "metadata": {},
     "output_type": "execute_result"
    }
   ],
   "source": [
    "# scratch it out...\n",
    "# knocking out either the real or imaginary parts will make this nonlinear\n",
    "# ...but maybe we get a bonus if we choose the real part\n",
    "w,z = sym.symbols('w z')\n",
    "phi = lambda x: sym.im(x)\n",
    "\n",
    "display(Latex(f'Additivty: $\\\\varphi(w+z)==(\\\\varphi(w)+\\\\varphi(z))$ is {phi(w+z)==(phi(w)+phi(z))}.'))\n",
    "display(Latex(f'Multiplitity: $i\\\\varphi(1)==\\\\varphi(i1)$ is {sym.I*phi(1)==phi(sym.I*1)}.'))\n",
    "\n",
    "sym.I*phi(1), phi(sym.I*1)"
   ]
  },
  {
   "cell_type": "markdown",
   "metadata": {},
   "source": [
    "## 3. (3B27)\n",
    "### Suppose $p\\in\\mathcal{P}(\\R)$. Prove that there exists a polynomial $q\\in\\mathcal{P}(\\R)$ such that $5q''+3q'=p$.\n",
    "\\[This exercise can be done without linear algebra, but it’s more fun to do\n",
    "it using linear algebra.\\]"
   ]
  },
  {
   "cell_type": "markdown",
   "metadata": {},
   "source": [
    "#### Solution:\n",
    "Suppose $D\\in \\L( \\P(\\R), \\P(\\R) )$ the differentiation map defined by $5D^2q+3Dq =p$.  \n",
    "\n",
    "FIXME!!!  Both $p,q \\in \\P(\\R)$ so this is a linear map.  We are already done before we started...  Show that range$D=\\P(R)$ and be done with this."
   ]
  },
  {
   "attachments": {
    "inject_surject.png": {
     "image/png": "[encoded data removed]"
    }
   },
   "cell_type": "markdown",
   "metadata": {},
   "source": [
    "##### Things to consider:\n",
    "Recall: A function $T:V\\mapsto W$ is $\\textit{injective}$ (one-to-one) if $Tu=Tv \\implies u=v$.\n",
    "\n",
    "Also recall: A function $T:V\\mapsto W$ is $\\textit{sujective}$ (onto) if it's range equal $W$.\n",
    "![inject_surject.png](attachment:inject_surject.png)"
   ]
  },
  {
   "cell_type": "markdown",
   "metadata": {},
   "source": [
    "## 4. (3C12)\n",
    "### Give an example with 2-by-2 matrices to show that matrix multiplication is not commutative.  In other words, find 2-by-2 matrices $A$ and $C$ such that $AC \\neq CA$."
   ]
  },
  {
   "cell_type": "markdown",
   "metadata": {},
   "source": [
    "#### Solution:\n",
    "We'll use the property that any square matrix can be uniquely decomposed into a symmetric part and anti-symmetric part (skew-symmetric).  \n",
    "\n",
    "$A_{sym} = \\frac{A+A^T}{2}$\n",
    "\n",
    "$A_{asym} = \\frac{A-A^T}{2}$\n",
    "\n",
    "$A = A_{sym} + A_{asym}$\n",
    "\n",
    "Think about this... Ought to hold true unless $AC = CA = 0$. Yup!"
   ]
  },
  {
   "cell_type": "code",
   "execution_count": 112,
   "metadata": {},
   "outputs": [
    {
     "data": {
      "text/latex": [
       "Let $A = \\left[\\begin{matrix}0 & 1\\\\i & 0\\end{matrix}\\right]$ and $C= \\left[\\begin{matrix}0 & \\frac{1}{2} - \\frac{i}{2}\\\\- \\frac{1}{2} + \\frac{i}{2} & 0\\end{matrix}\\right]$."
      ],
      "text/plain": [
       "<IPython.core.display.Latex object>"
      ]
     },
     "metadata": {},
     "output_type": "display_data"
    },
    {
     "data": {
      "text/latex": [
       "Then, $AC = \\left[\\begin{matrix}- \\frac{1}{2} + \\frac{i}{2} & 0\\\\0 & i \\left(\\frac{1}{2} - \\frac{i}{2}\\right)\\end{matrix}\\right]$ and $CA = \\left[\\begin{matrix}i \\left(\\frac{1}{2} - \\frac{i}{2}\\right) & 0\\\\0 & - \\frac{1}{2} + \\frac{i}{2}\\end{matrix}\\right]$, thus $AC\\neq CA$."
      ],
      "text/plain": [
       "<IPython.core.display.Latex object>"
      ]
     },
     "metadata": {},
     "output_type": "display_data"
    }
   ],
   "source": [
    "# most any random matrix will do the trick\n",
    "# let's assure we cook up a non-degenerate case\n",
    "A = Matrix([[0,1],[sym.I,0]])\n",
    "C = (A-A.T)/2 # we're cooking with antisymmetry\n",
    "\n",
    "display(Latex(f'Let $A = {sym.latex(A)}$' + \n",
    "             f' and $C= {sym.latex(C)}$.'))\n",
    "display(Latex(f'Then, $AC = {sym.latex(A*C)}$' +\n",
    "             f' and $CA = {sym.latex(C*A)}$, thus $AC\\\\neq CA$.'))"
   ]
  },
  {
   "cell_type": "markdown",
   "metadata": {},
   "source": [
    "## 5. (3D11)\n",
    "### Suppose $V$ is finite-dimensional and $S,T,U\\in\\L(V)$ and $STU=\\1$. Show that $T$ is invertible and that $T^{-1}=US$."
   ]
  },
  {
   "cell_type": "markdown",
   "metadata": {},
   "source": [
    "#### Solution:\n",
    "I like this one!"
   ]
  },
  {
   "cell_type": "markdown",
   "metadata": {},
   "source": [
    "## 6. Invertiblity\n",
    "### Show that the midpoint map $T$ on $C^n$, $(v_1, ..., v_n) \\mapsto \\frac{1}{2}(v_n+v_1,v_1+v_2,...)$ is invertible if and only if n is odd. For $n$ even determine rank$(T)$."
   ]
  },
  {
   "cell_type": "markdown",
   "metadata": {},
   "source": [
    "#### Solution:\n",
    "\n",
    "Recall the definition of $\\textit{invertible, inverse}$:\n",
    "\n",
    " * A linear map $T\\in\\L(V,W)$ is called $\\textit{invertible}$ if there exist a linear map $S\\in\\L(W,V)$ such that $ST$ equals the identity map on $V$ and $TS$ equals the identity map on $W$.\n",
    "\n",
    " * A linear map $S\\in\\L(W,V)$ satisfiying $\\underbrace{ST=\\1}_\\text{map on V}$ and $\\underbrace{TS=\\1}_\\text{map on W}$ is called the $\\textit{inverse}$ of T."
   ]
  },
  {
   "cell_type": "markdown",
   "metadata": {},
   "source": [
    "We've already discovered this one. ;-)\n",
    "FIXME!!! Add Proof."
   ]
  },
  {
   "cell_type": "code",
   "execution_count": 108,
   "metadata": {},
   "outputs": [
    {
     "data": {
      "text/latex": [
       "$T\\in C^3=\\left[\\begin{matrix}\\frac{1}{2} & 0 & \\frac{1}{2}\\\\\\frac{1}{2} & \\frac{1}{2} & 0\\\\0 & \\frac{1}{2} & \\frac{1}{2}\\end{matrix}\\right]$, also $T^-1\\in C^3=\\left[\\begin{matrix}1 & 1 & -1\\\\-1 & 1 & 1\\\\1 & -1 & 1\\end{matrix}\\right]$"
      ],
      "text/plain": [
       "<IPython.core.display.Latex object>"
      ]
     },
     "metadata": {},
     "output_type": "display_data"
    }
   ],
   "source": [
    "# show a couple examples\n",
    "def T(n):\n",
    "    m = [sym.Rational(1,2)]  + [0 for i in range(n-2)] + [sym.Rational(1,2)] \n",
    "    return Matrix([m[-i:] + m[:-i] for i in range(n)]) \n",
    "display(Latex(f'$T\\in C^3={sym.latex(T(3))}$, also $T^{-1}\\in C^3={sym.latex(T(3).inv())}$'))"
   ]
  },
  {
   "cell_type": "code",
   "execution_count": 110,
   "metadata": {},
   "outputs": [
    {
     "name": "stdout",
     "output_type": "stream",
     "text": [
      "We caught an error.\n"
     ]
    },
    {
     "data": {
      "text/latex": [
       "$T\\in C^4=\\left[\\begin{matrix}\\frac{1}{2} & 0 & 0 & \\frac{1}{2}\\\\\\frac{1}{2} & \\frac{1}{2} & 0 & 0\\\\0 & \\frac{1}{2} & \\frac{1}{2} & 0\\\\0 & 0 & \\frac{1}{2} & \\frac{1}{2}\\end{matrix}\\right]$, also $T^-1\\in C^4=\\mathtt{\\text{Non-inverible}}$"
      ],
      "text/plain": [
       "<IPython.core.display.Latex object>"
      ]
     },
     "metadata": {},
     "output_type": "display_data"
    }
   ],
   "source": [
    "# show failing case\n",
    "# we'll catch this error to be graceful\n",
    "T4 = T(4)\n",
    "\n",
    "try:\n",
    "    T4_inv = T4.inv()\n",
    "except ValueError:\n",
    "    print(\"We caught an error.\")\n",
    "    T4_inv = \"Non-inverible\"  # such poise and grace!\n",
    "\n",
    "display(Latex(f'$T\\in C^4={sym.latex(T4)}$, also $T^{-1}\\in C^4={sym.latex(T4_inv)}$'))    "
   ]
  },
  {
   "cell_type": "markdown",
   "metadata": {},
   "source": [
    "## 7. Scaling Transformation\n",
    "### For the map from the previous exercise, let $v_1, ..., v_n$ denote the \"regular\" polygon vectors on which $T$ acts as a 1-dim complex rescaling. Show that $v_1, ..., v_n$ form a basis for $C^n$."
   ]
  },
  {
   "cell_type": "markdown",
   "metadata": {},
   "source": [
    "#### Solution:\n",
    "Not much to do here as we get this for free with Homogenenity of linear map.\n",
    "\n",
    "FIXME!!!  Try to be more rigorous."
   ]
  },
  {
   "cell_type": "markdown",
   "metadata": {},
   "source": [
    "## 8. Powers and Matrix Functions\n",
    "### (i) Estimate max modulus of entries in $M^k$ (the $k$th power of a square matrix $M$ whose coefficients have magnitude not exceeding $c$)."
   ]
  },
  {
   "cell_type": "markdown",
   "metadata": {},
   "source": [
    "#### Solution:\n",
    "Think about what this question asking.  Are we interesting the mag of the entries or the distance?  Start by consider a 2-by-2 and use induction.\n",
    "\n",
    "Maybe this is what Arek meant...\n",
    "\n",
    "$e^M=\\sum\\limits_{k=0}^{\\infty}\\frac{M^k}{k!}$, then if M is diagonal...\n",
    "\n",
    "That is $M = diag(\\v{a}{n})$ its exponential is $e^M=diag(e^{a_1},...,e^{a_n})$...\n",
    "\n",
    "$M=UDU^{-1}$ and $D$ is diagonal, then $e^M=Ue^DU^{-1}$. \n",
    "\n",
    "That's a seriousily interesting result!\n",
    "\n",
    "##### Now let us consider the more general case,\n",
    "\n",
    "$y(t)=e^{At}y(0)$, \n",
    "\n",
    "where $t$ is some constant $(c)$, $A$ is our matrix $(M)$, with some initial state $y(0)$..."
   ]
  },
  {
   "cell_type": "code",
   "execution_count": 75,
   "metadata": {},
   "outputs": [],
   "source": [
    "# puzzle me this...\n",
    "t = sym.symbols('t')\n",
    "A = Matrix([[0,1],[0,0]])"
   ]
  },
  {
   "cell_type": "code",
   "execution_count": 72,
   "metadata": {},
   "outputs": [
    {
     "data": {
      "text/latex": [
       "$\\displaystyle \\left[\\begin{matrix}1 & t\\\\0 & 1\\end{matrix}\\right]$"
      ],
      "text/plain": [
       "⎡1  t⎤\n",
       "⎢    ⎥\n",
       "⎣0  1⎦"
      ]
     },
     "execution_count": 72,
     "metadata": {},
     "output_type": "execute_result"
    }
   ],
   "source": [
    "sym.exp(A*t)"
   ]
  },
  {
   "cell_type": "code",
   "execution_count": 73,
   "metadata": {},
   "outputs": [
    {
     "data": {
      "text/latex": [
       "$\\displaystyle \\left( \\left[\\begin{matrix}0 & 1 & 0\\\\0 & 0 & 1\\\\0 & 0 & 0\\end{matrix}\\right], \\  \\left[\\begin{matrix}0 & 0 & 1\\\\0 & 0 & 0\\\\0 & 0 & 0\\end{matrix}\\right]\\right)$"
      ],
      "text/plain": [
       "⎛⎡0  1  0⎤  ⎡0  0  1⎤⎞\n",
       "⎜⎢       ⎥  ⎢       ⎥⎟\n",
       "⎜⎢0  0  1⎥, ⎢0  0  0⎥⎟\n",
       "⎜⎢       ⎥  ⎢       ⎥⎟\n",
       "⎝⎣0  0  0⎦  ⎣0  0  0⎦⎠"
      ]
     },
     "execution_count": 73,
     "metadata": {},
     "output_type": "execute_result"
    }
   ],
   "source": [
    "# puzzle me again...\n",
    "A = Matrix([[0,1,0],[0,0,1],[0,0,0]])\n",
    "A, A**2"
   ]
  },
  {
   "cell_type": "code",
   "execution_count": 74,
   "metadata": {},
   "outputs": [
    {
     "data": {
      "text/latex": [
       "$\\displaystyle \\left[\\begin{matrix}1 & t & \\frac{t^{2}}{2}\\\\0 & 1 & t\\\\0 & 0 & 1\\end{matrix}\\right]$"
      ],
      "text/plain": [
       "⎡       2⎤\n",
       "⎢      t ⎥\n",
       "⎢1  t  ──⎥\n",
       "⎢      2 ⎥\n",
       "⎢        ⎥\n",
       "⎢0  1  t ⎥\n",
       "⎢        ⎥\n",
       "⎣0  0  1 ⎦"
      ]
     },
     "execution_count": 74,
     "metadata": {},
     "output_type": "execute_result"
    }
   ],
   "source": [
    "sym.exp(A*t)"
   ]
  },
  {
   "cell_type": "markdown",
   "metadata": {},
   "source": [
    "FIXME!!! Ask Arek about max modulus.  We can start to see the shape of this but a bit need some theory."
   ]
  },
  {
   "cell_type": "markdown",
   "metadata": {},
   "source": [
    "See also:\n",
    "Gil Strang: https://www.youtube.com/watch?v=LwSk9M5lJx4"
   ]
  },
  {
   "cell_type": "markdown",
   "metadata": {},
   "source": [
    "### (ii) Show that matrix exponential $exp(M)$ is defined for all (*square) matrices.  Assume the natural convergence of matrices defined by simultaneous convergence of each of their entries."
   ]
  },
  {
   "cell_type": "markdown",
   "metadata": {},
   "source": [
    "#### Solution:\n",
    "Given a square matrix $M$ this means the matrix exponential is defined as,\n",
    "\n",
    "$exp(M)\\equiv e^M=\\sum\\limits_{n=0}^{\\infty}\\frac{M^n}{n!} = \\1 + M + \\frac{MM}{2!}+\\frac{MMM}{3!}+...,$ and converges for any *square matrix.\n",
    "\n",
    "FIXME!!! Think about this. Power series expansion shows it's defined for all square matrices and will determinate for all but the more degenerate ones (see iv below).\n",
    "\n",
    "Side Note: $e^{A+B} \\neq e^A e^B$ unless $A,B$ commute."
   ]
  },
  {
   "cell_type": "markdown",
   "metadata": {},
   "source": [
    "### (iii) Google and summarize one application of a matrix exponential that is close to your mathematical or applied interest."
   ]
  },
  {
   "cell_type": "markdown",
   "metadata": {},
   "source": [
    "#### Solution:\n",
    "A super powerful one is solving ODEs w/Eigenvalues and Eigenvectors.\n",
    "\n",
    "FIXME!!! Add detail about diagonal decoupled system."
   ]
  },
  {
   "cell_type": "markdown",
   "metadata": {},
   "source": [
    "#### See also:\n",
    "https://nhigham.com/2020/05/28/what-is-the-matrix-exponential/\n",
    "\n",
    "https://en.wikipedia.org/wiki/Matrix_exponential"
   ]
  },
  {
   "cell_type": "markdown",
   "metadata": {},
   "source": [
    "### (iv) By including a printout, illustrate your facility in computing a power and a finite Taylor sum of a random $2\\times 2$ matrix. "
   ]
  },
  {
   "cell_type": "markdown",
   "metadata": {},
   "source": [
    "#### Solution:\n",
    "Recall:\n",
    "$exp(M)\\equiv e^M=\\sum\\limits_{n=0}^{\\infty}\\frac{M^n}{n!} = \\1 + M + \\frac{MM}{2!}+\\frac{MMM}{3!}+...,$ and converges for any *square matrix.\n",
    "\n",
    "Gil showed us that some nice matrices converge quickly, so we ought to check that case.  \n",
    "\n",
    "\"You have to be good to be lucky.\""
   ]
  },
  {
   "cell_type": "code",
   "execution_count": 67,
   "metadata": {},
   "outputs": [
    {
     "data": {
      "text/latex": [
       "$M=\\left[\\begin{matrix}1 & 0\\\\2 & -1\\end{matrix}\\right]$"
      ],
      "text/plain": [
       "<IPython.core.display.Latex object>"
      ]
     },
     "metadata": {},
     "output_type": "display_data"
    },
    {
     "data": {
      "text/latex": [
       "$\\displaystyle \\left[\\begin{matrix}2.72 & 0\\\\2.35 & 0.368\\end{matrix}\\right]$"
      ],
      "text/plain": [
       "⎡2.72    0  ⎤\n",
       "⎢           ⎥\n",
       "⎣2.35  0.368⎦"
      ]
     },
     "metadata": {},
     "output_type": "display_data"
    },
    {
     "data": {
      "text/latex": [
       "$\\displaystyle \\left[\\begin{matrix}2.72 & 0\\\\2.35 & 0.368\\end{matrix}\\right]$"
      ],
      "text/plain": [
       "⎡2.72    0  ⎤\n",
       "⎢           ⎥\n",
       "⎣2.35  0.368⎦"
      ]
     },
     "execution_count": 67,
     "metadata": {},
     "output_type": "execute_result"
    }
   ],
   "source": [
    "import random\n",
    "import math\n",
    "xi = 2\n",
    "M = Matrix([random.randint(-xi,xi) for i in range(xi**2)]).reshape(xi,xi)\n",
    "\n",
    "precision = 3\n",
    "n=8 # selected for 'slide-rule scale' precision of about 2 decimal points\n",
    "display(Latex(f'$M={sym.latex(M)}$'))\n",
    "\n",
    "# math.factorial() was a really dumb way to do this, but we are using a 'slide-rule'\n",
    "# as our measure of precision, crafting artisanal matrices for the hipster crowd...\n",
    "factorial = math.factorial\n",
    "#factorial = lambda n: np.sqrt(2*np.pi*n) * (n/np.exp(1))**n # Striling Approximation\n",
    "\n",
    "e_M_est = sum([M**i/factorial(i) for i in range(n)], sym.zeros(xi)).n(precision)\n",
    "display(e_M_est)\n",
    "sym.exp(M).n(precision) "
   ]
  },
  {
   "cell_type": "markdown",
   "metadata": {},
   "source": [
    "##### Things to consider:\n",
    " * We had to keep out $\\xi$ values rather small keep the computation times down.\n",
    " * Sometimes we get a rather degenerate random matrix that has quite a bit of error.\n",
    " * math.factorial() is stupid slow, don't ever use this for anything practical.\n",
    " * Striling Approximation failed in Power Series due to lack of precision.\n",
    " * There are several dubious ways to compute the exponention of a matrix."
   ]
  },
  {
   "cell_type": "markdown",
   "metadata": {},
   "source": [
    "#### See also:\n",
    "https://sites.millersville.edu/bikenaga/linear-algebra/matrix-exponential/matrix-exponential.html\n",
    "\n",
    "Nineteen Dubious Ways to Compute the Exponential of a Matrix: https://www.math.purdue.edu/~yipn/543/matrixExp19-I.pdf"
   ]
  },
  {
   "cell_type": "markdown",
   "metadata": {},
   "source": [
    "## Appendix 1. Enjoy Yourself\n",
    "```\n",
    "You work and work for years and years, you're always on the go.    \n",
    "You never take a minute off, too busy makin' dough.\n",
    "Someday you say, you'll have your fun, when you're a millionaire.    \n",
    "Imagine all the fun you'll have in your old rockin' chair.\n",
    "\n",
    "    Enjoy yourself, it's later than you think.\n",
    "    Enjoy yourself, while you're still in the pink.\n",
    "    The years go by, as quickly as a wink.\n",
    "    Enjoy yourself, enjoy yourself, it's later than you think.\n",
    "\n",
    "You're gonna take that ocean trip, no matter come what may.\n",
    "You've got your reservations made, but you just can't get away.\n",
    "Next year for sure, you'll see the world, you'll really get around,\n",
    "But how far can you travel when you're six feet underground?\n",
    "\n",
    "Your heart of hearts, your dream of dreams, your ravishing brunette,    \n",
    "She's left you and she's now become somebody else's pet.\n",
    "Lay down that gun, don't try my friend to reach the great beyond.    \n",
    "You'll have more fun by reaching for a redhead or a blond.\n",
    "\n",
    "    Enjoy yourself, it's later than you think.\n",
    "    Enjoy yourself, while you're still in the pink.\n",
    "    The years go by, as quickly as a wink.\n",
    "    Enjoy yourself, enjoy yourself, it's later than you think.\n",
    "\n",
    "You never go to night clubs and you just don't care to dance.\n",
    "You don't have time for silly things like moonlight and romance.\n",
    "You only think of dollar bills tied neatly in a stack,\n",
    "But when you kiss a dollar bill, it doesn't kiss you back.\n",
    "\n",
    "    Enjoy yourself, it's later than you think.\n",
    "    Enjoy yourself, while you're still in the pink.\n",
    "    The years go by, as quickly as a wink.\n",
    "    Enjoy yourself, enjoy yourself, it's later than you think.\n",
    "```\n",
    "Lyrics by Herb Magidson"
   ]
  },
  {
   "cell_type": "markdown",
   "metadata": {},
   "source": [
    "## Appendix 2. Proof Techniques\n",
    "\n",
    "#### To prove goal of the form:\n",
    " - $\\neg P:$\n",
    "     - Reexpress as a positive statement.\n",
    "     - use proof by contradiction; that is, assue that $P$ is true and try to reach a contradiction.\n",
    " - $P\\implies Q:$\n",
    "     - Assume $P$ is true and prove $Q$.\n",
    "     - Prove the contrapositive; that is, assume that $Q$ is false and prove that $P$ is false.\n",
    " - $P\\wedge Q:$\n",
    "     - Prove $P$ and $Q$ seperately.  In other words, treat this as two separate goals: $P$ and $Q$.\n",
    " - $P\\vee Q:$\n",
    "     - Assume $P$ is false and prove $Q$, or assume $Q$ is false and prove $P$.\n",
    "     - Use proof by cases. In each case, either prove $P$ or prove $Q$.\n",
    " - $P\\iff Q$:\n",
    "     - Prove $P\\implies Q$ and $Q\\implies P$, see method above for $P\\implies Q$\n",
    " - $\\forall xP(x):$\n",
    "     - Let $x$ stand for an arbitrary object, and prove $P(x)$. (If the letter $x$ already stands for something in the proof, you will have to use a different letter for the arbitary object.)\n",
    " - $\\exists xP(x):$\n",
    "     - Find a value of $x$ that make $P(n)$ true. Prove $P(n)$ for this value of $x$.\n",
    " - $\\exists!xP(x):$\n",
    "     - Prove $\\exists xP(x)$ (existence) and $\\forall y \\forall z((P(y)\\wedge P(z)) \\implies y=z)$ (uniqueness).\n",
    "     - Prove the equivalent statement $\\exists x(P(x)\\wedge P(y)) \\implies y=x)).$\n",
    " - $\\forall n\\in \\mathbb{N}P(n):$\n",
    "     - Mathematicall induction: Prove $P(0)$ (base case) and $\\forall n\\in \\mathbb{N}P(n) \\implies P(n+1))$ (induction step).\n",
    "     - Strong induction: Prove $\\forall n\\in \\mathbb{N}[\\forall k \\lt n P(k) \\implies P(n)]$.\n",
    " \n",
    "#### To use a given form:\n",
    " - $\\neg P:$\n",
    "    - Reexpress as a positive statement.\n",
    "    - In a proof by contradiction, you can reach a contradiction by proving $P$.\n",
    " - $P\\to Q:$\n",
    "     - If you are also given $P$, or you can prove that $P$ is true, then you can conclude that $Q$ is true.\n",
    "     - Use the contrapositive: If you are given or can prove that $Q$ is false, then you can condlude that $P$ is false.\n",
    " - $P\\wedge Q:$\n",
    "     - Treat this as two givens: $P$ and $Q$.\n",
    " - $P\\vee Q:$\n",
    "     - Use proof by cases. In the first case assume that $P$ is true, then in the second case assume the $Q$ is true.\n",
    "     - If you are also given that $P$ is false, or you can prove that $P$ is false, then you can conclude that $Q$ is true.  Similarly, if you know that $Q$ is false then you can conclude that $P$ is true.\n",
    " - $P\\iff Q$:\n",
    "     - Treat this as two givens: $P\\implies Q$ and $Q\\implies P$.\n",
    " - $\\forall xP(x):$\n",
    "     - You can plug in any value, say $a$, for $x$, and conclude that $P(a)$ is true.\n",
    " - $\\exists xP(x):$\n",
    "     - Indroduce a new variable, say $x_0$, into the proof, to stand for a particular object for which $P(x_0)$ is true.\n",
    " - $\\exists!xP(x):$\n",
    "     - Indroduce a new variable, say $x_0$, into the proof, to stand for a particular object for which $P(x_0)$ is true.  You may assume that $\\forall y(P(y) \\implies y=x_0$.\n",
    " \n",
    "#### Techniques that can be used in any proof:\n",
    " - Proof by contradiction: Assume the goal is false and derive a contradiction.\n",
    " - Proof by cases: Consider serveral cases that are $\\textit{exhaustive}$, that is, that include all possibilities. Prove the goal in each case.\n",
    "   \n",
    "##### * See also, How to Prove It, Velleman\n",
    "  "
   ]
  }
 ],
 "metadata": {
  "kernelspec": {
   "display_name": "Python 3",
   "language": "python",
   "name": "python3"
  },
  "language_info": {
   "codemirror_mode": {
    "name": "ipython",
    "version": 3
   },
   "file_extension": ".py",
   "mimetype": "text/x-python",
   "name": "python",
   "nbconvert_exporter": "python",
   "pygments_lexer": "ipython3",
   "version": "3.8.10"
  }
 },
 "nbformat": 4,
 "nbformat_minor": 4
}
