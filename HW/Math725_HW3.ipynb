{
 "cells": [
  {
   "cell_type": "markdown",
   "metadata": {},
   "source": [
    "# Math 725 Advanced Linear Algebra\n",
    "## HW3\n",
    "\n",
    "\n",
    "### Brent A. Thorne\n",
    "\n",
    "brentathorne@gmail.com\n",
    "\n",
    "##### Linear Transformations\n",
    "$\\require{AMScd}$\n",
    "$\\require{cancel}$\n",
    "$\\newcommand{\\null}{\\text{null}}$\n",
    "$\\newcommand{\\P}{\\mathcal{P}}$\n",
    "$\\newcommand{\\B}{\\mathcal{B}}$\n",
    "$\\newcommand{\\0}{\\{\\Bbb{0}\\}}$\n",
    "$\\newcommand{\\C}{\\Bbb{C}}$\n",
    "$\\newcommand{\\1}{\\Bbb{1}}$\n",
    "$\\newcommand{\\range}{\\text{range}}$\n",
    "$\\newcommand{\\T}{\\mathbf{T}}$\n",
    "$\\newcommand{\\U}{\\mathbf{U}}$\n",
    "$\\newcommand{\\L}{\\mathcal{L}}$\n",
    "$\\newcommand{\\W}{\\mathbf{W}}$\n",
    "$\\newcommand{\\R}{\\mathbb{R}}$\n",
    "$\\newcommand{\\F}{\\mathbb{F}}$\n",
    "$\\newcommand{\\v}[2]{#1_1...#1_#2}$"
   ]
  },
  {
   "cell_type": "code",
   "execution_count": 1,
   "metadata": {},
   "outputs": [],
   "source": [
    "# import libraries\n",
    "import numpy as np\n",
    "import sympy as sym\n",
    "from sympy.matrices import Matrix\n",
    "from sympy import I\n",
    "import matplotlib.pyplot as plt\n",
    "from IPython.display import display, Math, Latex\n",
    "\n",
    "from sympy import init_printing\n",
    "init_printing()"
   ]
  },
  {
   "cell_type": "markdown",
   "metadata": {},
   "source": [
    "## 1. (3A4)\n",
    "### Suppose $T\\in \\L(V,W)$ and $v_1,...,v_m$ is a list of vectors in $V$ such that $T v_1,...,T v_m$ is a linearly independent list in $W$. Prove that $v_1,...,v_m$ is linearly independent."
   ]
  },
  {
   "cell_type": "markdown",
   "metadata": {},
   "source": [
    "#### Solution:\n",
    "\n",
    "Recall the definition of linearly independence: A list $\\v{v}{m}$ of vectors in $V$ is called $\\textbf{linearly independent}$ if the only choice of $\\v{a}{m}\\in\\F$ that make $a_1 v_1+...+a_m v_m$ equal 0 is $a_1=...=a_m=0$.  The empty list $()$ is also declared to be linearly independent. "
   ]
  },
  {
   "cell_type": "markdown",
   "metadata": {},
   "source": [
    "Consider that for $T v_1,...,T v_m$ to be linearly independent, the only choice of $\\v{a}{m}\\in\\F$ that make $T a_1 v_1+...+T a_m v_m$ equal 0 is $a_1=...=a_m=0$ (by definition of span).  Thus, $T v_1,...,T v_m$ being linearly independent implies $v_1,...,v_m$ is linearly independent.\n",
    "\n",
    "$\\square$\n",
    "\n",
    "While this is obvious for a finite dimensional space, by induction we can show it is also true for an infinite vector space.\n",
    "\n",
    "Consider $a_1 v_1+...+a_{k+1}v_{k+1} = 0$.\n",
    "\n",
    "Assume that $\\lambda_i\\neq\\lambda_j$ for $i\\neq j$, and $v_1,...,v_k$ is independent, where $(k<m)$ and .\n",
    "\n",
    "$0=T(0)=T(a_1 v_1+...+a_{k+1}v_{k+1})$\n",
    "\n",
    "$=a_1 T v_1+...+a_{k+1} T v_{k+1} $\n",
    "\n",
    "$=\\lambda_1 a_1 v_1+...+\\lambda_{k+1} a_{k+1}v_{k+1} $\n",
    "\n",
    "Substracting $\\lambda_{k+1}(a_1 v_1+...+a_{k+1}v_{k+1})$ from $(\\lambda_1 a_1 v_1+...+\\lambda_{k+1} a_{k+1}v_{k+1})$ we get,\n",
    "\n",
    "$(\\lambda_1-\\lambda_{k+1})a_{1}v_{1}+...+(\\lambda_{k}-\\lambda_{k+1}) a_{k}v_{k} = 0$.\n",
    "\n",
    "Since $\\lambda_i\\neq\\lambda_j$ for $i\\neq j$, and $v_1,...,v_k$ are independent and by inductive application of the above for $(\\lambda_{k+1}, \\lambda_{k}, \\lambda_{k-1}, ..., \\lambda_{1})$ we obtain that\n",
    "\n",
    "$a_1=...=a_k=0$, by $a_1 v_1+...+a_{k+1}v_{k+1} = 0$, $a_{k+1}=0$ and $v_{k+1}\\neq 0$.\n",
    "\n",
    "Thus $v_1,...,v_{k+1}$ is independent.\n",
    "\n",
    "$\\square\\square$\n",
    "\n",
    "Proof adpated from lecture notes."
   ]
  },
  {
   "cell_type": "markdown",
   "metadata": {},
   "source": [
    "## 2. (3A9)\n",
    "### Give an example of a function $\\varphi:\\C\\mapsto\\C$ such that\n",
    "\n",
    "### $\\varphi(w+z)=\\varphi(w)+\\varphi(z)$\n",
    "\n",
    "### for all $w,z \\in \\C$ but $\\varphi$ is not linear. (Here $\\C$ is thought of as a complex vector space.)\n",
    "\\[There also exists a function $\\varphi:\\R\\mapsto\\R$  such that $\\varphi$ satisfies the additivity condition above but $\\varphi$ is not linear. However, showing the existence of such a function involves considerably more advanced tools.\\]"
   ]
  },
  {
   "cell_type": "markdown",
   "metadata": {},
   "source": [
    "#### Solution:\n",
    "Consider function $\\varphi(a+bi)=bi$, where $a,b\\in \\R$.  If $w=\\alpha_w + \\beta_w i$ and $z=\\alpha_z + \\beta_z i$ where $\\alpha_w, \\beta_w, \\alpha_z, \\beta_z\\in \\R$, such that,\n",
    "\n",
    "$\\varphi(w+z)=\\varphi(\\alpha_w + \\beta_w + \\alpha_z + \\beta_z) = \\beta_w + \\beta_z = \\varphi(w) + \\varphi(z)$.\n",
    "\n",
    "However, $i\\varphi(1)=0 \\neq \\varphi(i\\cdot1)=1$, thus $\\varphi$ is nonlinear over $\\C$.\n",
    "\n",
    "\\[Also, non-linear over $\\R$, but that would be $\\varphi:\\R\\mapsto\\C$ rather than $\\varphi:\\R\\mapsto\\R$ as the proposed existance.  So that doesn't quite work.\\]"
   ]
  },
  {
   "cell_type": "code",
   "execution_count": 2,
   "metadata": {},
   "outputs": [
    {
     "data": {
      "text/latex": [
       "Additivty: $\\varphi(w+z)==(\\varphi(w)+\\varphi(z))$ is True."
      ],
      "text/plain": [
       "<IPython.core.display.Latex object>"
      ]
     },
     "metadata": {},
     "output_type": "display_data"
    },
    {
     "data": {
      "text/latex": [
       "Multiplitity: $i\\varphi(1)==\\varphi(i1)$ is False."
      ],
      "text/plain": [
       "<IPython.core.display.Latex object>"
      ]
     },
     "metadata": {},
     "output_type": "display_data"
    },
    {
     "data": {
      "image/png": "[encoded data removed]",
      "text/latex": [
       "$\\displaystyle \\left( 0, \\  1\\right)$"
      ],
      "text/plain": [
       "(0, 1)"
      ]
     },
     "execution_count": 2,
     "metadata": {},
     "output_type": "execute_result"
    }
   ],
   "source": [
    "# scratch it out...\n",
    "# knocking out either the real or imaginary parts will make this nonlinear\n",
    "# ...but maybe we get a bonus if we choose the real part\n",
    "w,z = sym.symbols('w z')\n",
    "phi = lambda x: sym.im(x)\n",
    "\n",
    "display(Latex(f'Additivty: $\\\\varphi(w+z)==(\\\\varphi(w)+\\\\varphi(z))$ is {phi(w+z)==(phi(w)+phi(z))}.'))\n",
    "display(Latex(f'Multiplitity: $i\\\\varphi(1)==\\\\varphi(i1)$ is {sym.I*phi(1)==phi(sym.I*1)}.'))\n",
    "\n",
    "sym.I*phi(1), phi(sym.I*1)"
   ]
  },
  {
   "cell_type": "markdown",
   "metadata": {},
   "source": [
    "See also: https://linearalgebras.com, where I used Rashidi's solution to validate my work.\n",
    "\n",
    "##### Things to consider:\n",
    "\n",
    "Does addition create a symmetry matrix?\n",
    "\n",
    "Is Multiplication/Quotent a mirror/reflection/scale of addition's odd/even symmetry?\n",
    "\n",
    "Affine matrices and function spaces..."
   ]
  },
  {
   "cell_type": "markdown",
   "metadata": {},
   "source": [
    "## 3. (3B27)\n",
    "### Suppose $p\\in\\mathcal{P}(\\R)$. Prove that there exists a polynomial $q\\in\\mathcal{P}(\\R)$ such that $5q''+3q'=p$.\n",
    "\\[This exercise can be done without linear algebra, but it’s more fun to do\n",
    "it using linear algebra.\\]"
   ]
  },
  {
   "cell_type": "markdown",
   "metadata": {},
   "source": [
    "#### Solution:\n",
    "Both $p,q \\in \\P(\\R)$ thus this is a linear map, so it would seem we are done before we even get started.  Anyway, let's continue...\n",
    "\n",
    "Here's is what we'll do...\n",
    "Suppose $D\\in \\L( \\P(\\R), \\P(\\R) )$ the differentiation map defined by $5D^2q+3Dq =p$, then show that range$D=\\P(R)$, thus surjective, hence existance."
   ]
  },
  {
   "cell_type": "markdown",
   "metadata": {},
   "source": [
    "Now on with the program...\n",
    "\n",
    "By defining $D\\in \\L( \\P(\\R), \\P(\\R) )$ as $Dq=q'$, we can note,\n",
    "\n",
    "deg$Dx^n=n-1$, and that range$D$ is a subspace, hence\n",
    "\n",
    "span$(Dx,Dx^2,...)\\subset$ range$D$ and by Axler '2.31 Spanning list contains a basis',\n",
    "\n",
    "span$(Dx,Dx^2,DX^3,...)=$ span$(1, x, x^2,...)$.\n",
    "\n",
    "Hence span$(1,x,x^2,...)\\subset$ range$D=\\P(\\R)$.\n",
    "\n",
    "Now we can clearly see that $q\\in\\P(\\R)$ exists such that $(5D^2+3D)q =p$, by the surjectivity of $(5D^2+3D)$.  \n",
    "\n",
    "$\\square$\n",
    "\n",
    "See also: https://linearalgebras.com, where I used Rashidi's solution to clean up my notation."
   ]
  },
  {
   "attachments": {
    "inject_surject.png": {
     "image/png": "[encoded data removed]"
    }
   },
   "cell_type": "markdown",
   "metadata": {},
   "source": [
    "##### Things to consider:\n",
    "Recall: A function $T:V\\mapsto W$ is $\\textit{injective}$ (one-to-one) if $Tu=Tv \\implies u=v$.\n",
    "\n",
    "Also recall: A function $T:V\\mapsto W$ is $\\textit{sujective}$ (onto) if it's range equals $W$.\n",
    "![inject_surject.png](attachment:inject_surject.png)"
   ]
  },
  {
   "cell_type": "markdown",
   "metadata": {},
   "source": [
    "## 4. (3C12)\n",
    "### Give an example with 2-by-2 matrices to show that matrix multiplication is not commutative.  In other words, find 2-by-2 matrices $A$ and $C$ such that $AC \\neq CA$."
   ]
  },
  {
   "cell_type": "markdown",
   "metadata": {},
   "source": [
    "#### Solution:\n",
    "We'll use the property that any square matrix can be uniquely decomposed into a symmetric part and anti-symmetric part (skew-symmetric).  \n",
    "\n",
    "$A_{sym} = \\frac{A+A^T}{2}$\n",
    "\n",
    "$A_{asym} = \\frac{A-A^T}{2}$\n",
    "\n",
    "$A = A_{sym} + A_{asym}$"
   ]
  },
  {
   "cell_type": "code",
   "execution_count": 3,
   "metadata": {},
   "outputs": [
    {
     "data": {
      "text/latex": [
       "Let $A = \\left[\\begin{matrix}0 & 1\\\\i & 0\\end{matrix}\\right]$ and $C= \\left[\\begin{matrix}0 & \\frac{1}{2} - \\frac{i}{2}\\\\- \\frac{1}{2} + \\frac{i}{2} & 0\\end{matrix}\\right]$."
      ],
      "text/plain": [
       "<IPython.core.display.Latex object>"
      ]
     },
     "metadata": {},
     "output_type": "display_data"
    },
    {
     "data": {
      "text/latex": [
       "Then, $AC = \\left[\\begin{matrix}- \\frac{1}{2} + \\frac{i}{2} & 0\\\\0 & i \\left(\\frac{1}{2} - \\frac{i}{2}\\right)\\end{matrix}\\right]$ and $CA = \\left[\\begin{matrix}i \\left(\\frac{1}{2} - \\frac{i}{2}\\right) & 0\\\\0 & - \\frac{1}{2} + \\frac{i}{2}\\end{matrix}\\right]$, thus $AC\\neq CA$."
      ],
      "text/plain": [
       "<IPython.core.display.Latex object>"
      ]
     },
     "metadata": {},
     "output_type": "display_data"
    }
   ],
   "source": [
    "# most any random matrix will do the trick\n",
    "# let's assure we cook up a non-degenerate case\n",
    "A = Matrix([[0,1],[sym.I,0]])\n",
    "C = (A-A.T)/2 # we're cooking with antisymmetry\n",
    "\n",
    "display(Latex(f'Let $A = {sym.latex(A)}$' + \n",
    "             f' and $C= {sym.latex(C)}$.'))\n",
    "display(Latex(f'Then, $AC = {sym.latex(A*C)}$' +\n",
    "             f' and $CA = {sym.latex(C*A)}$, thus $AC\\\\neq CA$.'))"
   ]
  },
  {
   "cell_type": "markdown",
   "metadata": {},
   "source": [
    "Solution adapted from Austin J. Hedeman's wonderful Mathematical Physics Lecture Notes."
   ]
  },
  {
   "cell_type": "markdown",
   "metadata": {},
   "source": [
    "## 5. (3D11)\n",
    "### Suppose $V$ is finite-dimensional and $S,T,U\\in\\L(V)$ and $STU=\\1$.\n",
    "\n",
    "### Show that $T$ is invertible and that $T^{-1}=US$."
   ]
  },
  {
   "cell_type": "markdown",
   "metadata": {},
   "source": [
    "#### Solution:\n",
    "Given,\n",
    "$STU=\\1$\n",
    "\n",
    "$\\implies S^{-1}STU=S^{-1}$\n",
    "\n",
    "$\\implies TUS=S^{-1}S$ \n",
    "\n",
    "$\\implies T^{-1}TUS=T^{-1}$, which\n",
    "\n",
    "$\\implies US=T^{-1}$, as desired.\n",
    "\n",
    "$\\square$  I like this one!  Something 'gezellig' about it."
   ]
  },
  {
   "cell_type": "markdown",
   "metadata": {},
   "source": [
    "## 6. Invertiblity\n",
    "### Show that the midpoint map $T$ on $C^n$, $(v_1, ..., v_n) \\mapsto \\frac{1}{2}(v_n+v_1 ,v_1+v_2, ..., v_{n-1}+v_n)$ is invertible if and only if n is odd.\n",
    "\n",
    "### For $n$ even, determine rank$(T)$."
   ]
  },
  {
   "cell_type": "markdown",
   "metadata": {},
   "source": [
    "Recall the definition of $\\textit{invertible, inverse}$:\n",
    "\n",
    " * A linear map $T\\in\\L(V,W)$ is called $\\textit{invertible}$ if there exist a linear map $S\\in\\L(W,V)$ such that $ST$ equals the identity map on $V$ and $TS$ equals the identity map on $W$.\n",
    "\n",
    " * A linear map $S\\in\\L(W,V)$ satisfiying $\\underbrace{ST=\\1}_\\text{map on V}$ and $\\underbrace{TS=\\1}_\\text{map on W}$ is called the $\\textit{inverse}$ of T.\n",
    "  \n",
    " * Where $ST$ is just the usual composition $S\\circ T$ of two functions ($TS=T\\circ S$ as well)."
   ]
  },
  {
   "cell_type": "markdown",
   "metadata": {},
   "source": [
    "#### Solution:\n",
    "We can see that for an even $n$, the rank$(T^{n\\times n})=n-1$, thus for $n$ even, $T(v)=\\frac{1}{2}(v_n+v_1 ,v_1+v_2, ..., v_{n-1}+v_n)$ is non-injectivite thus non-invertible.\n",
    "\n",
    "See \"Example: rank$(T^{n\\times n})$ for $n$ odd and even\" below, where we calculate the rank$(T^{n\\times n})$ for even $n$.\n",
    "\n",
    "$\\square$"
   ]
  },
  {
   "cell_type": "markdown",
   "metadata": {},
   "source": [
    "Now show that the midpoint map $T$ on $C^n$, $(v_1, ..., v_n) \\mapsto \\frac{1}{2}(v_n+v_1 ,v_1+v_2, ..., v_{n-1}+v_n)$ is invertible if and only if $n$ is odd.\n",
    "\n",
    "$\\Rightarrow$\n",
    "\n",
    "If there is a isomorphism from $V=$ span{$v_1,...,v_n$} to $W$.\n",
    "\n",
    "$\\underbrace{\\null(\\T)}_\\text{pre-images of null space}=\\0$ $\\leftarrow$ since $\\T$ is injective\n",
    "\n",
    "range$(T)=W$ $\\leftarrow$ since $\\T$ is surjective\n",
    "\n",
    "Thus by Fundemental Theorem of Albebra,\n",
    "\n",
    "dim$V=$ dim$(\\null\\T) +$ dim(range$\\T$) $\\implies$\n",
    "\n",
    "dim$V = 0 + $ dim$W$ as desired.\n",
    "\n",
    "$\\square\\square$\n",
    "\n",
    "$\\Leftarrow$\n",
    "\n",
    "Now suppose dim$V = $ dim$W$, where $v_1,...,v_n$ is a basis for $V$, and  $w_1,...,w_n$ is a basis for $W$.\n",
    "\n",
    "Thus, $\\T(a_1 v_1,...,a_n v_n) = a_1 w_1,...,a_n w_n$.\n",
    "\n",
    "We can now see that $T:V\\mapsto W$ is linear and $T$ is surjective since {$w_1,...,w_n$} is a spanning list.  Also $\\T$ is injective since {$v_1,...,v_n$} is independent.\n",
    "\n",
    "See \"Example: Invertible and Non-invertible Matices\" below for additional insight.\n",
    "\n",
    "$\\square\\square\\square$"
   ]
  },
  {
   "cell_type": "markdown",
   "metadata": {},
   "source": [
    "#### Example: rank$(T^{n\\times n})$ for $n$ odd and even."
   ]
  },
  {
   "cell_type": "code",
   "execution_count": 4,
   "metadata": {},
   "outputs": [
    {
     "data": {
      "text/latex": [
       "For n even, determine rank(T)."
      ],
      "text/plain": [
       "<IPython.core.display.Latex object>"
      ]
     },
     "metadata": {},
     "output_type": "display_data"
    },
    {
     "data": {
      "text/latex": [
       "We can now see that for even $n$, rank$(T^{n\\times n})=n-1$.  That's quite interesting!"
      ],
      "text/plain": [
       "<IPython.core.display.Latex object>"
      ]
     },
     "metadata": {},
     "output_type": "display_data"
    },
    {
     "data": {
      "image/png": "[encoded data removed]",
      "text/latex": [
       "$\\displaystyle \\left( 3, \\  3\\right)$"
      ],
      "text/plain": [
       "(3, 3)"
      ]
     },
     "metadata": {},
     "output_type": "display_data"
    },
    {
     "data": {
      "text/latex": [
       "$\\displaystyle \\left[ \\left[\\begin{matrix}\\frac{1}{2}\\\\\\frac{1}{2}\\\\0\\\\0\\end{matrix}\\right], \\  \\left[\\begin{matrix}0\\\\\\frac{1}{2}\\\\\\frac{1}{2}\\\\0\\end{matrix}\\right], \\  \\left[\\begin{matrix}0\\\\0\\\\\\frac{1}{2}\\\\\\frac{1}{2}\\end{matrix}\\right]\\right]$"
      ],
      "text/plain": [
       "⎡⎡1/2⎤  ⎡ 0 ⎤  ⎡ 0 ⎤⎤\n",
       "⎢⎢   ⎥  ⎢   ⎥  ⎢   ⎥⎥\n",
       "⎢⎢1/2⎥  ⎢1/2⎥  ⎢ 0 ⎥⎥\n",
       "⎢⎢   ⎥, ⎢   ⎥, ⎢   ⎥⎥\n",
       "⎢⎢ 0 ⎥  ⎢1/2⎥  ⎢1/2⎥⎥\n",
       "⎢⎢   ⎥  ⎢   ⎥  ⎢   ⎥⎥\n",
       "⎣⎣ 0 ⎦  ⎣ 0 ⎦  ⎣1/2⎦⎦"
      ]
     },
     "metadata": {},
     "output_type": "display_data"
    },
    {
     "data": {
      "text/latex": [
       "$\\displaystyle \\left[ \\left[\\begin{matrix}-1\\\\1\\\\-1\\\\1\\end{matrix}\\right]\\right]$"
      ],
      "text/plain": [
       "⎡⎡-1⎤⎤\n",
       "⎢⎢  ⎥⎥\n",
       "⎢⎢1 ⎥⎥\n",
       "⎢⎢  ⎥⎥\n",
       "⎢⎢-1⎥⎥\n",
       "⎢⎢  ⎥⎥\n",
       "⎣⎣1 ⎦⎦"
      ]
     },
     "metadata": {},
     "output_type": "display_data"
    },
    {
     "data": {
      "text/latex": [
       "$\\displaystyle \\left[\\begin{matrix}\\frac{1}{2} & 0 & 0 & \\frac{1}{2}\\\\\\frac{1}{2} & \\frac{1}{2} & 0 & 0\\\\0 & \\frac{1}{2} & \\frac{1}{2} & 0\\\\0 & 0 & \\frac{1}{2} & \\frac{1}{2}\\end{matrix}\\right]$"
      ],
      "text/plain": [
       "⎡1/2   0    0   1/2⎤\n",
       "⎢                  ⎥\n",
       "⎢1/2  1/2   0    0 ⎥\n",
       "⎢                  ⎥\n",
       "⎢ 0   1/2  1/2   0 ⎥\n",
       "⎢                  ⎥\n",
       "⎣ 0    0   1/2  1/2⎦"
      ]
     },
     "execution_count": 4,
     "metadata": {},
     "output_type": "execute_result"
    }
   ],
   "source": [
    "# For n even, determine rank(T).\n",
    "def T(n):\n",
    "    m = [sym.Rational(1,2)]  + [0 for i in range(n-2)] + [sym.Rational(1,2)] \n",
    "    return Matrix([m[-i:] + m[:-i] for i in range(n)]) \n",
    "display(Latex('For n even, determine rank(T).'))\n",
    "display(Latex(\"We can now see that for even $n$, rank$(T^{n\\\\times n})=n-1$.  That's quite interesting!\"))\n",
    "display((T(4).rank(), T(3).rank())) # well that's interesting\n",
    "display(T(4).columnspace())\n",
    "display(T(4).nullspace())\n",
    "T(4)"
   ]
  },
  {
   "cell_type": "code",
   "execution_count": 5,
   "metadata": {},
   "outputs": [
    {
     "data": {
      "image/png": "[encoded data removed]",
      "text/latex": [
       "$\\displaystyle \\left( 3, \\  5\\right)$"
      ],
      "text/plain": [
       "(3, 5)"
      ]
     },
     "metadata": {},
     "output_type": "display_data"
    }
   ],
   "source": [
    "display((T(3).rank(), T(5).rank()))"
   ]
  },
  {
   "cell_type": "markdown",
   "metadata": {},
   "source": [
    "#### Example: Invertible and Non-invertible Matices "
   ]
  },
  {
   "cell_type": "code",
   "execution_count": 6,
   "metadata": {},
   "outputs": [
    {
     "data": {
      "text/latex": [
       "$T\\in C^3=\\left[\\begin{matrix}\\frac{1}{2} & 0 & \\frac{1}{2}\\\\\\frac{1}{2} & \\frac{1}{2} & 0\\\\0 & \\frac{1}{2} & \\frac{1}{2}\\end{matrix}\\right]$, also $T^-1\\in C^3=\\left[\\begin{matrix}1 & 1 & -1\\\\-1 & 1 & 1\\\\1 & -1 & 1\\end{matrix}\\right]$"
      ],
      "text/plain": [
       "<IPython.core.display.Latex object>"
      ]
     },
     "metadata": {},
     "output_type": "display_data"
    }
   ],
   "source": [
    "# show an invertible case\n",
    "display(Latex(f'$T\\in C^3={sym.latex(T(3))}$, also $T^{-1}\\in C^3={sym.latex(T(3).inv())}$'))"
   ]
  },
  {
   "cell_type": "code",
   "execution_count": 7,
   "metadata": {},
   "outputs": [
    {
     "name": "stdout",
     "output_type": "stream",
     "text": [
      "We caught an error.\n"
     ]
    },
    {
     "data": {
      "text/latex": [
       "$T\\in C^4=\\left[\\begin{matrix}\\frac{1}{2} & 0 & 0 & \\frac{1}{2}\\\\\\frac{1}{2} & \\frac{1}{2} & 0 & 0\\\\0 & \\frac{1}{2} & \\frac{1}{2} & 0\\\\0 & 0 & \\frac{1}{2} & \\frac{1}{2}\\end{matrix}\\right]$, also $T^-1\\in C^4=\\mathtt{\\text{Non-inverible}}$"
      ],
      "text/plain": [
       "<IPython.core.display.Latex object>"
      ]
     },
     "metadata": {},
     "output_type": "display_data"
    }
   ],
   "source": [
    "# show a non-invertible case\n",
    "# we'll catch this error to be graceful\n",
    "T4 = T(4)\n",
    "\n",
    "try:\n",
    "    T4_inv = T4.inv()\n",
    "except ValueError:\n",
    "    print(\"We caught an error.\")\n",
    "    T4_inv = \"Non-inverible\"  # such poise and grace!\n",
    "\n",
    "display(Latex(f'$T\\in C^4={sym.latex(T4)}$, also $T^{-1}\\in C^4={sym.latex(T4_inv)}$'))    "
   ]
  },
  {
   "cell_type": "code",
   "execution_count": 8,
   "metadata": {},
   "outputs": [
    {
     "data": {
      "text/latex": [
       "Show some Truth:"
      ],
      "text/plain": [
       "<IPython.core.display.Latex object>"
      ]
     },
     "metadata": {},
     "output_type": "display_data"
    },
    {
     "data": {
      "text/plain": [
       "[False, True]"
      ]
     },
     "metadata": {},
     "output_type": "display_data"
    },
    {
     "data": {
      "image/png": "[encoded data removed]",
      "text/latex": [
       "$\\displaystyle 0$"
      ],
      "text/plain": [
       "0"
      ]
     },
     "metadata": {},
     "output_type": "display_data"
    },
    {
     "data": {
      "text/latex": [
       "Well there we go... det$A=0$ if and only if $T$ is non-invertible."
      ],
      "text/plain": [
       "<IPython.core.display.Latex object>"
      ]
     },
     "metadata": {},
     "output_type": "display_data"
    }
   ],
   "source": [
    "display(Latex('Show some Truth:'))\n",
    "display([T4.is_positive_definite, T4.is_positive_semidefinite])\n",
    "display(T4.det())\n",
    "display(Latex(\"Well there we go... det$A=0$ if and only if $T$ is non-invertible.\")) \n",
    "# Axler would hate this, but I think he's wrong about the determinate.\n",
    "# It's perfectly fine for exploring space computational."
   ]
  },
  {
   "cell_type": "code",
   "execution_count": 9,
   "metadata": {
    "scrolled": true
   },
   "outputs": [
    {
     "data": {
      "text/latex": [
       "Check this out!  Looks rather familar, doesn't it"
      ],
      "text/plain": [
       "<IPython.core.display.Latex object>"
      ]
     },
     "metadata": {},
     "output_type": "display_data"
    },
    {
     "data": {
      "text/latex": [
       "$\\displaystyle \\left[ \\left( 0, \\  1, \\  \\left[ \\left[\\begin{matrix}-1\\\\1\\\\-1\\\\1\\end{matrix}\\right]\\right]\\right), \\  \\left( 1, \\  1, \\  \\left[ \\left[\\begin{matrix}1\\\\1\\\\1\\\\1\\end{matrix}\\right]\\right]\\right), \\  \\left( \\frac{1}{2} - \\frac{i}{2}, \\  1, \\  \\left[ \\left[\\begin{matrix}i\\\\-1\\\\- i\\\\1\\end{matrix}\\right]\\right]\\right), \\  \\left( \\frac{1}{2} + \\frac{i}{2}, \\  1, \\  \\left[ \\left[\\begin{matrix}- i\\\\-1\\\\i\\\\1\\end{matrix}\\right]\\right]\\right)\\right]$"
      ],
      "text/plain": [
       "⎡⎛      ⎡⎡-1⎤⎤⎞  ⎛      ⎡⎡1⎤⎤⎞  ⎛          ⎡⎡ⅈ ⎤⎤⎞  ⎛          ⎡⎡-ⅈ⎤⎤⎞⎤\n",
       "⎢⎜      ⎢⎢  ⎥⎥⎟  ⎜      ⎢⎢ ⎥⎥⎟  ⎜          ⎢⎢  ⎥⎥⎟  ⎜          ⎢⎢  ⎥⎥⎟⎥\n",
       "⎢⎜      ⎢⎢1 ⎥⎥⎟  ⎜      ⎢⎢1⎥⎥⎟  ⎜1   ⅈ     ⎢⎢-1⎥⎥⎟  ⎜1   ⅈ     ⎢⎢-1⎥⎥⎟⎥\n",
       "⎢⎜0, 1, ⎢⎢  ⎥⎥⎟, ⎜1, 1, ⎢⎢ ⎥⎥⎟, ⎜─ - ─, 1, ⎢⎢  ⎥⎥⎟, ⎜─ + ─, 1, ⎢⎢  ⎥⎥⎟⎥\n",
       "⎢⎜      ⎢⎢-1⎥⎥⎟  ⎜      ⎢⎢1⎥⎥⎟  ⎜2   2     ⎢⎢-ⅈ⎥⎥⎟  ⎜2   2     ⎢⎢ⅈ ⎥⎥⎟⎥\n",
       "⎢⎜      ⎢⎢  ⎥⎥⎟  ⎜      ⎢⎢ ⎥⎥⎟  ⎜          ⎢⎢  ⎥⎥⎟  ⎜          ⎢⎢  ⎥⎥⎟⎥\n",
       "⎣⎝      ⎣⎣1 ⎦⎦⎠  ⎝      ⎣⎣1⎦⎦⎠  ⎝          ⎣⎣1 ⎦⎦⎠  ⎝          ⎣⎣1 ⎦⎦⎠⎦"
      ]
     },
     "metadata": {},
     "output_type": "display_data"
    },
    {
     "data": {
      "text/latex": [
       "$\\displaystyle \\left( \\left[\\begin{matrix}1 & 0 & 0 & 1\\\\0 & 1 & 0 & -1\\\\0 & 0 & 1 & 1\\\\0 & 0 & 0 & 0\\end{matrix}\\right], \\  \\left( 0, \\  1, \\  2\\right)\\right)$"
      ],
      "text/plain": [
       "⎛⎡1  0  0  1 ⎤           ⎞\n",
       "⎜⎢           ⎥           ⎟\n",
       "⎜⎢0  1  0  -1⎥           ⎟\n",
       "⎜⎢           ⎥, (0, 1, 2)⎟\n",
       "⎜⎢0  0  1  1 ⎥           ⎟\n",
       "⎜⎢           ⎥           ⎟\n",
       "⎝⎣0  0  0  0 ⎦           ⎠"
      ]
     },
     "metadata": {},
     "output_type": "display_data"
    },
    {
     "data": {
      "text/latex": [
       "$T\\in C^4 = \\left[\\begin{matrix}\\frac{1}{2} & 0 & 0 & \\frac{1}{2}\\\\\\frac{1}{2} & \\frac{1}{2} & 0 & 0\\\\0 & \\frac{1}{2} & \\frac{1}{2} & 0\\\\0 & 0 & \\frac{1}{2} & \\frac{1}{2}\\end{matrix}\\right] \\leftarrow$ obviously linearly dependent, thus $m\\neq n$."
      ],
      "text/plain": [
       "<IPython.core.display.Latex object>"
      ]
     },
     "metadata": {},
     "output_type": "display_data"
    }
   ],
   "source": [
    "# Drink in the Eiguinness\n",
    "display(Latex(\"Check this out!  Looks rather familar, doesn't it\"))\n",
    "display(T4.eigenvects())\n",
    "display(T4.rref())\n",
    "display(Latex(f'$T\\in C^4 = {sym.latex(T4)} \\\\leftarrow$ obviously linearly dependent, thus $m\\\\neq n$.'))"
   ]
  },
  {
   "attachments": {
    "HW3_cdia1.png": {
     "image/png": "[encoded data removed]"
    }
   },
   "cell_type": "markdown",
   "metadata": {},
   "source": [
    "##### Things to consider:\n",
    "\n",
    "A general method to prove truths using Matrices... We're just having a bit of fun here.\n",
    "\n",
    "\n",
    "See also: Lay, Linear Algerbra and its Appplications, 'The Matrix of a Linear Transformation' which was used as a motivation for establishing Linear Transformations as a method of proof...\n",
    "\n",
    "$\\Rightarrow$\n",
    "\n",
    "Let's consider $V\\in\\F^n$ and $W\\in\\F^m$ and let $T$ be any linear transformation from $V$ to $W$.  To associate a matrix with $T$, we'll choose ordered bases $\\mathcal{B}$ and $\\mathcal{C}$ for $V$ and $W$, respectively. \n",
    "\n",
    "Given any $v \\in V$, the coordinate vector $[v]_\\mathcal{B}$ is in $\\R^n$ and the coordinate vector of its image, $[\\T(v)]_\\mathcal{C}$, in in $\\R^m$.\n",
    "\n",
    "Now we'll show the connection between $[v]_\\mathcal{B}$ and $[\\T(v)]_{\\mathcal{C}}$, by letting $\\{b_1,...,b_n\\}$ be a basis $\\mathcal{B}$ for $V$.  \n",
    "\n",
    "Thus if $v = r_1 b_1+...+r_n b_n$, then\n",
    "$[v]_\\mathcal{B}=\\begin{bmatrix} r_1\\\\ \\vdots \\\\r_n \\end{bmatrix}$ and \n",
    "$\\T(v)=\\T(r_1 b_1+...+r_n b_n) = r_1 \\T(b_1)+...+r_n \\T(b_n)$ as $\\T$ is linear.\n",
    "\n",
    "Since, the coordinate mapping from $W$ to $\\R^m$ is linear,\n",
    "\n",
    "$[\\T(v)]_\\mathcal{C}=r_1[\\T(b_1)]_\\mathcal{C}+...+r_n[\\T(b_n)]_\\mathcal{C}$.\n",
    "\n",
    "Since $\\mathcal{C}$-coordinate vector are in $\\R^m$, this can be rewritten as,\n",
    "\n",
    "$[\\T(v)]_\\mathcal{C}=M[v]_\\mathcal{B}$, where \n",
    "$M=\\begin{pmatrix}[\\T(b_1)]_\\mathcal{C} && [\\T(b_2)]_\\mathcal{C} && \\dots &&[\\T(b_n)]_\\mathcal{C} \\end{pmatrix}$\n",
    "\n",
    "Now we have the matrix represenation of $\\T$ which is the 'matrix for $T$ relative to the bases $\\mathcal{B}$ and $\\mathcal{C}$'.\n",
    "\n",
    "![HW3_cdia1.png](attachment:HW3_cdia1.png)\n",
    "\n",
    "Now that we've layed this out we might as well use matrix multiplications in place of proofs.  However, before we can do that we need one more piece to pull it together.\n",
    "\n",
    "$\\square$ "
   ]
  },
  {
   "attachments": {
    "HW3_cdia2.png": {
     "image/png": "[encoded data removed]"
    }
   },
   "cell_type": "markdown",
   "metadata": {},
   "source": [
    "<=\n",
    "\n",
    "Show Simularity of the Diagonal Matrix Representation.  \n",
    "\n",
    "Suppose $A=P D P^{-1}$, where $D$ is a diagonal $n \\times n$ matrix.  If $\\mathcal{B}$ is a basis for $\\R^n$ formed from the columns of $P$, then $D$ is the $\\mathcal{B}$-matrix for the transfromation $v\\mapsto Av$.\n",
    "\n",
    "Consider $b_1,...b_n$ to be the columns of $P$ such that $\\mathcal{B}= {b_1,...,b_n}$ and $P=\\begin{bmatrix}b_1 && \\dots &&b_n \\end{bmatrix}$.  \n",
    "\n",
    "$P$ can now be seen as a change-of-coordinated matrix $P_\\mathcal{B}$, where\n",
    "\n",
    "$P[v]_\\mathcal{B}=v$ and $[v]_\\mathcal{B}=P^{-1}v$.\n",
    "\n",
    "If $\\T(v)=Av$ for $x\\in\\R$, then\n",
    "\n",
    "$[T]_\\B = \\begin{bmatrix}[\\T(b_1)]_\\mathcal{B}  && \\dots &&[\\T(b_n)]_\\mathcal{B} \\end{bmatrix} \\leftarrow$ definition of $[\\T]_\\B$\n",
    "\n",
    "$= \\begin{bmatrix}[Ab_1]_\\mathcal{B}  && \\dots &&[Ab_n]_\\mathcal{B} \\end{bmatrix} \\leftarrow$ definition of $[\\T(v)]=Av$\n",
    "\n",
    "$= \\begin{bmatrix}P^{-1}Ab_1  && \\dots &&P^{-1}Ab_n \\end{bmatrix} \\leftarrow$ Change of coordinates\n",
    "\n",
    "$= P^{-1}A\\begin{bmatrix}b_1  && \\dots &&PAb_n \\end{bmatrix} \\leftarrow$ Matrix Multiply\n",
    "\n",
    "$= P^{-1}AP$.\n",
    "\n",
    "$A=P D P^{-1} \\implies [T]_\\B=P A P^{-1}=D$.\n",
    "\n",
    "Now we can see the similarity of two matrices $A$ and $D$,\n",
    "\n",
    "![HW3_cdia2.png](attachment:HW3_cdia2.png)\n",
    "\n",
    "$\\square\\square$ We have proved that Matrix Multiplication is a valid way to look at the world.  Now we can discover new truths using it."
   ]
  },
  {
   "cell_type": "markdown",
   "metadata": {},
   "source": [
    "Now everyway...\n",
    "\n",
    "<=>\n",
    "\n",
    "\n",
    "What were we doing again?\n",
    "\n",
    "Oh yeah, $T$ on $C^n$, $(v_1, ..., v_n) \\mapsto \\frac{1}{2}(v_n+v_1 ,v_1+v_2, ..., v_{n-1}+v_n)$ is invertible if and only if n is odd.\n",
    "\n",
    "Pull in Singular Value Decomposition, as we are on a grand tour...\n",
    "\n",
    "$T^{m\\times n}(v)=Av \\implies$\n",
    "\n",
    "$A = U\\Sigma V^T=\n",
    "\\begin{pmatrix}\n",
    "\\begin{matrix} \\vdots \\\\ \\vec{v_1} \\\\ \\vdots & \\end{matrix}\n",
    "\\begin{matrix} \\vdots \\\\ \\vec{v_2} \\\\ \\vdots & \\end{matrix}\n",
    "\\begin{matrix}  \\\\ \\cdots \\\\  && \\end{matrix}\n",
    "\\begin{matrix} \\vdots \\\\ \\vec{v_n} \\\\ \\vdots & \\end{matrix}\n",
    "\\end{pmatrix}\n",
    "\\begin{pmatrix}\n",
    "\\begin{matrix} \\sigma_1 \\\\           \\\\ \\\\ &\\end{matrix}\n",
    "\\begin{matrix}           \\\\ \\sigma_2 \\\\ \\\\& \\end{matrix}\n",
    "\\begin{matrix}           \\\\            \\\\ \\ddots \\\\&\\end{matrix}\n",
    "\\begin{matrix}           \\\\            \\\\ \\\\\\ \\sigma_m &\\end{matrix}\n",
    "\\end{pmatrix}\n",
    "\\begin{pmatrix}\n",
    "\\cdots & \\vec{v_1} & \\cdots \\\\\n",
    "\\cdots & \\vec{v_2} & \\cdots \\\\\n",
    "       & \\vdots    &  \\\\\n",
    "\\cdots & \\vec{v_n} & \\cdots \\\\\n",
    "\\end{pmatrix}$, where $\\sigma_i=\\sqrt{\\lambda_i}$,\n",
    "\n",
    "Say could something about that dim$(<n,m>)=0$ must be true for invertiblity to wrap this up, but we're just playing around.  We've already shown the shape of this problem in another light.  We'll leave this as a work in progress for the moment.  \n",
    "\n",
    "We pick this up in P8 (iii) below where we show an example from control theory.  It's a sweet one for sure and even sweeter now that took the time to explore it in the manner above."
   ]
  },
  {
   "cell_type": "markdown",
   "metadata": {},
   "source": [
    "Notes:\n",
    "```\n",
    "We're trying to paint a picture so we'll use whatever means at our disposal.\n",
    "We're mixing notation from Strang, Halmos and Lay.\n",
    "We ought to port this back to Axler, however his basis notation is not as expressive.\n",
    "We don't care about purity... beauty is our desire.\n",
    "Beauty is in the eye of the beholder.\n",
    "```"
   ]
  },
  {
   "cell_type": "markdown",
   "metadata": {},
   "source": [
    "## 7. Scaling Transformation\n",
    "### For the map from the previous exercise, let $v_1, ..., v_n$ denote the \"regular\" polygon vectors on which $T$ acts as a 1-dim complex rescaling. \n",
    "\n",
    "### Show that $v_1, ..., v_n$ form a basis for $C^n$."
   ]
  },
  {
   "cell_type": "markdown",
   "metadata": {},
   "source": [
    "#### Solution:\n",
    "Not much to do here as we get this for free with Homogenenity of linear map.  Anyhow, we'll try to be more rigorous, we already have all the tools in place to $V$ has a basis consisting of eigenvectors of $\\T$.  See code section for P6 above, \"Drink in the Eiguinness\".\n",
    "\n",
    "Consider $v_1,...,v_n \\in V$, such that {$v_1,...,v_n$} spans $V$.\n",
    "\n",
    "span$(\\T v_1,...,\\T v_n)\\subset$ range$T$ and by Axler '2.31 Spanning list contains a basis',\n",
    "\n",
    "span$(\\T v_1,...,\\T v_n)=$ span$(v_1,...,v_n)$.\n",
    "\n",
    "Hence span$(v_1,...,v_n)\\subset$ range$T=\\C^n$ as desired.\n",
    "\n",
    "\n",
    "\n",
    "##### Things to consider:\n",
    "Try showing the basis using diagonalization... \n",
    "\n",
    "Something like, if $P = [ b1 ... b2]$, then the basis matrix is $P^{-1} A P$.  We outline this in P6 above."
   ]
  },
  {
   "cell_type": "markdown",
   "metadata": {},
   "source": [
    "## 8. Powers and Matrix Functions\n",
    "### (i) Estimate max modulus of entries in $M^k$ (the $k$th power of a square matrix $M$ whose coefficients have magnitude not exceeding $c$)."
   ]
  },
  {
   "cell_type": "markdown",
   "metadata": {},
   "source": [
    "#### Solution:\n",
    "We used a bit of computational experimentaion to find the exact quadratic for the max modulus of entries to be,\n",
    "\n",
    "$n^{k-2} c^{k-1}$ for $n,c,k\\in\\R$, $(k>2)$."
   ]
  },
  {
   "cell_type": "code",
   "execution_count": 10,
   "metadata": {},
   "outputs": [
    {
     "data": {
      "text/latex": [
       "$\\displaystyle \\left[ \\left[\\begin{matrix}1 & 0\\\\0 & 1\\end{matrix}\\right], \\  \\left[\\begin{matrix}c & c\\\\c & c\\end{matrix}\\right], \\  \\left[\\begin{matrix}2 c^{2} & 2 c^{2}\\\\2 c^{2} & 2 c^{2}\\end{matrix}\\right]\\right]$"
      ],
      "text/plain": [
       "⎡                ⎡   2     2⎤⎤\n",
       "⎢⎡1  0⎤  ⎡c  c⎤  ⎢2⋅c   2⋅c ⎥⎥\n",
       "⎢⎢    ⎥, ⎢    ⎥, ⎢          ⎥⎥\n",
       "⎢⎣0  1⎦  ⎣c  c⎦  ⎢   2     2⎥⎥\n",
       "⎣                ⎣2⋅c   2⋅c ⎦⎦"
      ]
     },
     "metadata": {},
     "output_type": "display_data"
    },
    {
     "data": {
      "text/latex": [
       "Show the modulus of the matrix but that's not really what this question is after.  If my understanding is correct..."
      ],
      "text/plain": [
       "<IPython.core.display.Latex object>"
      ]
     },
     "metadata": {},
     "output_type": "display_data"
    },
    {
     "data": {
      "text/latex": [
       "$mod_{max}({M^k}_{n\\times n})=$ $\\left[\\begin{matrix}8 c^{4} & 8 c^{4}\\\\8 c^{4} & 8 c^{4}\\end{matrix}\\right]$, for $k=3$ and $n=2$."
      ],
      "text/plain": [
       "<IPython.core.display.Latex object>"
      ]
     },
     "metadata": {},
     "output_type": "display_data"
    },
    {
     "data": {
      "text/latex": [
       "These entries are what we are after... ${M^k}_{n\\times n}=$$\\left[\\begin{matrix}2 c^{2} & 2 c^{2}\\\\2 c^{2} & 2 c^{2}\\end{matrix}\\right]$, for $k=3$ and $n=2$."
      ],
      "text/plain": [
       "<IPython.core.display.Latex object>"
      ]
     },
     "metadata": {},
     "output_type": "display_data"
    }
   ],
   "source": [
    "c=sym.symbols('c')\n",
    "n = 2\n",
    "j = 3\n",
    "M = c*sym.ones(n,n)\n",
    "\n",
    "display([M**k for k in range(j)])\n",
    "\n",
    "display(Latex(\"Show the modulus of the matrix but that's not really \" +\n",
    "              \"what this question is after.  If my understanding is correct...\"))\n",
    "\n",
    "display(Latex('$mod_{max}({M^k}_{n\\\\times n})=$ ' +\n",
    "              f'${sym.latex((M**(j-1)).T * M**(j-1))}$, for $k={j}$ and $n={n}$.'))\n",
    "\n",
    "display(Latex(\"These entries are what we are after... \" +\n",
    "              '${M^k}_{n\\\\times n}=$' +\n",
    "              f'${sym.latex( n**(j-2)*c**(j-1) * sym.ones(n,n))}$, for $k={j}$ and $n={n}$.'))"
   ]
  },
  {
   "cell_type": "markdown",
   "metadata": {},
   "source": [
    "\n",
    "$\\newcommand{\\aws}{\\frac{e^{- 2 i \\pi \\theta}}{2}}$\n",
    "##### Going deeper...\n",
    "Recall: For a real vector space, the matrix representation of the adjoint is the transpose of\n",
    "the matrix represenation. (Let's Keep It Real... for now.)\n",
    "\n",
    "$\\textit{Actually we can see the complex solution, so let's do that too!}$\n",
    "\n",
    "Recall: A modulus of a matrix $A_{mod} = sqrt(A^\\dagger A)$, where $\\dagger$ is the Hermitian conjugate. Since $A^\\dagger A$ is always positive semidefinite.  \n",
    "\n",
    "Also Recall: Spectral theorem, then forget about it... We'll consider it below.\n",
    "\n",
    "Consider a matrix $M$ with $norm \\leq 1$.\n",
    "\n",
    "To assure this $c$ must be $\\leq \\frac{1}{2}$ for $c\\in\\R$, or more generally, $\\leq \\aws$ for $c\\in\\C$. Thus,\n",
    "\n",
    " if $c=\\aws$ the modulus will be monotonic for any $k$,\n",
    "\n",
    " if $c\\lt \\aws$ the modulus will vanish as $\\lim_{k \\to \\infty}$, or\n",
    "    \n",
    " if $c\\gt \\aws$ the modulus will blowup as $\\lim_{k \\to \\infty}$."
   ]
  },
  {
   "cell_type": "code",
   "execution_count": 11,
   "metadata": {},
   "outputs": [
    {
     "data": {
      "text/latex": [
       "$\\displaystyle \\left( \\left[\\begin{matrix}0.5 & 0.5\\\\0.5 & 0.5\\end{matrix}\\right], \\  \\left[\\begin{matrix}0.5 & 0.5\\\\0.5 & 0.5\\end{matrix}\\right], \\  1.0\\right)$"
      ],
      "text/plain": [
       "⎛⎡0.5  0.5⎤  ⎡0.5  0.5⎤     ⎞\n",
       "⎜⎢        ⎥, ⎢        ⎥, 1.0⎟\n",
       "⎝⎣0.5  0.5⎦  ⎣0.5  0.5⎦     ⎠"
      ]
     },
     "execution_count": 11,
     "metadata": {},
     "output_type": "execute_result"
    }
   ],
   "source": [
    "# scratch it \n",
    "c = sym.symbols('c', real=True)\n",
    "c = 1/2\n",
    "M = Matrix([[c,c],[c,c]])\n",
    "mod = lambda A,k:  (A**k).T*(A**k) # \"do a barrel roll\", --Star Fox\n",
    "M.T*M, mod(M,3), mod(M,3).norm() "
   ]
  },
  {
   "cell_type": "code",
   "execution_count": 12,
   "metadata": {},
   "outputs": [
    {
     "data": {
      "image/png": "[encoded data removed]",
      "text/latex": [
       "$\\displaystyle \\frac{e^{- 2 i \\pi \\theta}}{2}$"
      ],
      "text/plain": [
       " -2⋅ⅈ⋅π⋅θ\n",
       "ℯ        \n",
       "─────────\n",
       "    2    "
      ]
     },
     "metadata": {},
     "output_type": "display_data"
    },
    {
     "data": {
      "text/latex": [
       "$\\displaystyle \\left( \\left[\\begin{matrix}\\frac{e^{- 2 i \\pi \\theta}}{2} & \\frac{e^{- 2 i \\pi \\theta}}{2}\\\\\\frac{e^{- 2 i \\pi \\theta}}{2} & \\frac{e^{- 2 i \\pi \\theta}}{2}\\end{matrix}\\right], \\  \\left[\\begin{matrix}\\frac{e^{- 4 i \\pi \\theta}}{2} & \\frac{e^{- 4 i \\pi \\theta}}{2}\\\\\\frac{e^{- 4 i \\pi \\theta}}{2} & \\frac{e^{- 4 i \\pi \\theta}}{2}\\end{matrix}\\right], \\  1\\right)$"
      ],
      "text/plain": [
       "⎛⎡ -2⋅ⅈ⋅π⋅θ   -2⋅ⅈ⋅π⋅θ⎤  ⎡ -4⋅ⅈ⋅π⋅θ   -4⋅ⅈ⋅π⋅θ⎤   ⎞\n",
       "⎜⎢ℯ          ℯ        ⎥  ⎢ℯ          ℯ        ⎥   ⎟\n",
       "⎜⎢─────────  ─────────⎥  ⎢─────────  ─────────⎥   ⎟\n",
       "⎜⎢    2          2    ⎥  ⎢    2          2    ⎥   ⎟\n",
       "⎜⎢                    ⎥, ⎢                    ⎥, 1⎟\n",
       "⎜⎢ -2⋅ⅈ⋅π⋅θ   -2⋅ⅈ⋅π⋅θ⎥  ⎢ -4⋅ⅈ⋅π⋅θ   -4⋅ⅈ⋅π⋅θ⎥   ⎟\n",
       "⎜⎢ℯ          ℯ        ⎥  ⎢ℯ          ℯ        ⎥   ⎟\n",
       "⎜⎢─────────  ─────────⎥  ⎢─────────  ─────────⎥   ⎟\n",
       "⎝⎣    2          2    ⎦  ⎣    2          2    ⎦   ⎠"
      ]
     },
     "execution_count": 12,
     "metadata": {},
     "output_type": "execute_result"
    }
   ],
   "source": [
    "# scratch deeper by considering complex field\n",
    "from sympy.physics.quantum.dagger import Dagger # pull out the daggers\n",
    "\n",
    "c = sym.symbols('c', imaginary=True)\n",
    "theta = sym.symbols('theta', real=True)\n",
    "c = sym.exp(-2*sym.pi*sym.I*theta)/2  # cooking up some complexity\n",
    "display(c)\n",
    "#display(sym.latex(c))\n",
    "\n",
    "M = Matrix([[c,c],[c,c]])\n",
    "mod = lambda A,k:  Dagger(A**k) * (A**k) # \"do a barrel roll\", --Star Fox\n",
    "M, M.T*M, mod(M,4).norm()  # same result"
   ]
  },
  {
   "cell_type": "markdown",
   "metadata": {},
   "source": [
    "##### Things to consider:\n",
    "\n",
    "$e^M=\\sum\\limits_{k=0}^{\\infty}\\frac{M^k}{k!}$, then if M is diagonal.\n",
    "\n",
    "That is $M = diag(\\v{a}{n})$ its exponential is $e^M=diag(e^{a_1},...,e^{a_n})$.\n",
    "\n",
    "$M=UDU^{-1}$ and $D$ is diagonal, then $e^M=Ue^DU^{-1}$. \n",
    "\n",
    "That's a seriousily interesting result!\n",
    "\n",
    "##### Now let us consider the more general case,\n",
    "\n",
    "$y(t)=e^{At}y(0)$, \n",
    "\n",
    "where $t$ is some constant $(c)$, $A$ is our matrix $(M)$, with some initial state $y(0)$."
   ]
  },
  {
   "cell_type": "markdown",
   "metadata": {},
   "source": [
    "#### Share some Computational Thoughts:"
   ]
  },
  {
   "cell_type": "code",
   "execution_count": 13,
   "metadata": {},
   "outputs": [],
   "source": [
    "# puzzle me this...\n",
    "t = sym.symbols('t')\n",
    "A = Matrix([[0,1],[0,0]])"
   ]
  },
  {
   "cell_type": "code",
   "execution_count": 14,
   "metadata": {},
   "outputs": [
    {
     "data": {
      "text/latex": [
       "$\\displaystyle \\left[\\begin{matrix}1 & t\\\\0 & 1\\end{matrix}\\right]$"
      ],
      "text/plain": [
       "⎡1  t⎤\n",
       "⎢    ⎥\n",
       "⎣0  1⎦"
      ]
     },
     "execution_count": 14,
     "metadata": {},
     "output_type": "execute_result"
    }
   ],
   "source": [
    "sym.exp(A*t)"
   ]
  },
  {
   "cell_type": "code",
   "execution_count": 15,
   "metadata": {},
   "outputs": [
    {
     "data": {
      "text/latex": [
       "$\\displaystyle \\left( \\left[\\begin{matrix}0 & 1 & 0\\\\0 & 0 & 1\\\\0 & 0 & 0\\end{matrix}\\right], \\  \\left[\\begin{matrix}0 & 0 & 1\\\\0 & 0 & 0\\\\0 & 0 & 0\\end{matrix}\\right]\\right)$"
      ],
      "text/plain": [
       "⎛⎡0  1  0⎤  ⎡0  0  1⎤⎞\n",
       "⎜⎢       ⎥  ⎢       ⎥⎟\n",
       "⎜⎢0  0  1⎥, ⎢0  0  0⎥⎟\n",
       "⎜⎢       ⎥  ⎢       ⎥⎟\n",
       "⎝⎣0  0  0⎦  ⎣0  0  0⎦⎠"
      ]
     },
     "execution_count": 15,
     "metadata": {},
     "output_type": "execute_result"
    }
   ],
   "source": [
    "# puzzle me again...\n",
    "A = Matrix([[0,1,0],[0,0,1],[0,0,0]])\n",
    "A, A**2"
   ]
  },
  {
   "cell_type": "code",
   "execution_count": 16,
   "metadata": {},
   "outputs": [
    {
     "data": {
      "text/latex": [
       "$\\displaystyle \\left[\\begin{matrix}1 & t & \\frac{t^{2}}{2}\\\\0 & 1 & t\\\\0 & 0 & 1\\end{matrix}\\right]$"
      ],
      "text/plain": [
       "⎡       2⎤\n",
       "⎢      t ⎥\n",
       "⎢1  t  ──⎥\n",
       "⎢      2 ⎥\n",
       "⎢        ⎥\n",
       "⎢0  1  t ⎥\n",
       "⎢        ⎥\n",
       "⎣0  0  1 ⎦"
      ]
     },
     "execution_count": 16,
     "metadata": {},
     "output_type": "execute_result"
    }
   ],
   "source": [
    "sym.exp(A*t)"
   ]
  },
  {
   "cell_type": "markdown",
   "metadata": {},
   "source": [
    "See also:\n",
    "Gil Strang: https://www.youtube.com/watch?v=LwSk9M5lJx4"
   ]
  },
  {
   "cell_type": "markdown",
   "metadata": {},
   "source": [
    "### (ii) Show that matrix exponential $exp(M)$ is defined for all *square matrices.\n",
    "\n",
    "### Assume the natural convergence of matrices defined by simultaneous convergence of each of their entries.\n",
    "\n",
    "```* matrix exponential is only defined for square matrices```"
   ]
  },
  {
   "cell_type": "markdown",
   "metadata": {},
   "source": [
    "#### Solution:\n",
    "Consider M is an $(n\\times n)$ matrix with real entries,\n",
    "\n",
    "$exp(Mt)\\equiv e^{Mt}=\\sum\\limits_{n=0}^{\\infty}\\frac{t^{n}M^n}{n!}$.  (1)\n",
    "\n",
    "This series can be shown that it converges for all $t$ and every *square matrix by differentating each term,\n",
    "\n",
    "$\\frac{d}{dt}e^{Mt}=\\sum\\limits_{n=0}^{\\infty}n\\frac{t^{n}M^n}{n!}=\\sum\\limits_{n=1}^{\\infty}\\frac{t^{n-1}M^n}{(n-1)!}=M\\sum\\limits_{n=1}^{\\infty}\\frac{t^{n-1}M^{n-1}}{(n-1)!}=M\\sum\\limits_{m=0}^{\\infty}\\frac{t^{m}M^{m}}{m!}=Me^{Mt}$ (2)\n",
    "\n",
    "$\\square$"
   ]
  },
  {
   "cell_type": "markdown",
   "metadata": {},
   "source": [
    "### (iii) Google and summarize one application of a matrix exponential that is close to your mathematical or applied interest."
   ]
  },
  {
   "cell_type": "markdown",
   "metadata": {},
   "source": [
    "#### Solution:\n",
    "A super powerful one is solving ODEs w/Eigenvalues and Eigenvectors.  The following example is from Linear Control Theory.  \n",
    "\n",
    "See also, Section 8.2 'Linear Time-Invariant Systems' Brunton/Kutz, from which this example is heavily borrowed... basically copied, but it's a really good one and we want to preserve its form.\n",
    "\n",
    "##### Consider an Unforced Linear System.  \n",
    "\n",
    "In the absence of control with measuements of the full state of a dynamical system can be repesented as,\n",
    "\n",
    "$\\frac{d}{dt}x=Ax.$ (1)\n",
    "\n",
    "The solution $x(t)$ is given by,\n",
    "\n",
    "$x(t)=e^{At}x(0)$, (2)\n",
    "\n",
    "where the matrix exponential is defined by,\n",
    "\n",
    "$e^{At}=\\1+At+\\frac{A^2t^2}{2}+\\frac{A^3t^3}{3}+\\cdots$. (3)\n",
    "\n",
    "The solution in (2) is determined entirely by the eigenvalues and eigenvectors of the matrix $A$.  Now consider the eigendecomposition of $A$,\n",
    "\n",
    "$AT=T\\Lambda$ (4)\n",
    "\n",
    "In the simplest case, $\\Lambda$ is a diagonal matrix of distinct eigen values and $T$ is a matrix whose columns are the corresponding linearly independent eigenvector of $A$.\n",
    "\n",
    "For diagonal $\\Lambda$, the matrix exponential is given by:  \n",
    "\n",
    "$e^{\\Lambda t}=\\begin{bmatrix}\n",
    "\\begin{matrix} e^{\\lambda_1 t} \\\\ 0               \\\\ \\vdots \\\\ 0 \\end{matrix}\n",
    "\\begin{matrix} 0               \\\\ e^{\\lambda_2 t} \\\\  \\vdots\\\\ 0 \\end{matrix}\n",
    "\\begin{matrix} \\cdots          \\\\ \\cdots           \\\\ \\ddots\\\\ \\cdots \\end{matrix}\n",
    "\\begin{matrix} 0                \\\\ 0 \\\\ \\vdots  \\\\ e^{\\lambda_n t}  \\end{matrix}\n",
    "\\end{bmatrix}$ (5)"
   ]
  },
  {
   "cell_type": "markdown",
   "metadata": {},
   "source": [
    "Rearranging the terms in (4), we find that the represent powers of $\\Lambda $ in terms of the eigenvectors and eigenvalues,\n",
    "\n",
    "$A=T\\Lambda T^{-1}$  (6a)\n",
    "\n",
    "$A^2=(T\\Lambda T^{-1})(T\\Lambda T^{-1})=(T\\Lambda ^2 T^{-1})$ (6b)\n",
    "\n",
    "$\\cdots$\n",
    "\n",
    "$A^k=(T\\Lambda T^{-1})(T\\Lambda T^{-1})\\cdots(T\\Lambda T^{-1})=(T\\Lambda ^k T^{-1})$ (6c)"
   ]
  },
  {
   "cell_type": "markdown",
   "metadata": {},
   "source": [
    "Finally, substituting these expression into (3) yields,\n",
    "\n",
    "$e^{At} = e^{T\\Lambda T^{-1}t} = TT^{-1} + T\\Lambda T^{-1}t + \\frac{T\\Lambda ^2 T^{-1} t^2}{2} + \\frac{T\\Lambda ^3 T^{-1} t^3}{3} + \\cdots$ (7a)\n",
    "\n",
    "$=T\\begin{bmatrix}\n",
    "\\1 + \\Lambda t+ \\frac{\\Lambda ^2t^2}{2} + \\frac{\\Lambda ^3t^3}{3}\n",
    "\\end{bmatrix} T^{-1}$  (7b)\n",
    "\n",
    "$=Te^{\\Lambda t}T^{-1}$. (7c)"
   ]
  },
  {
   "cell_type": "markdown",
   "metadata": {},
   "source": [
    "Thus, we see that it is possible to compute the matrix expoential effciently in terms of the eigendecomposition of $\\Lambda$.  Moreover, the matrix of eigen vectors $T$ defines a change of coordinated that dramatically simplifies the dynamics:\n",
    "\n",
    "$x=Tz \\implies \\stackrel{\\cdot}{z}=T^{-1}Ax=T^{-1}ATz \\implies \\stackrel{\\cdot}{z}=\\Lambda z$\n",
    "\n",
    "In other words, changing to the eigenvector coordinate, the dynamics become diagonal.  Combining (2) with (7c), it is possible to write the solution $x(t)$ as\n",
    "\n",
    "$x(t) = \\underbrace{T \\underbrace{e^{\\Lambda t} \\underbrace{T^{-1}x(0)}_{z(0)}}_{z(t)}}_{x(t)}$. (8)"
   ]
  },
  {
   "cell_type": "markdown",
   "metadata": {},
   "source": [
    "From (8) we see that:\n",
    " * The first step, $T^{-1}$ maps the initial condition in physical coordinate, $x(0)$, into eigenvector coordinate, $z(0)$.\n",
    "\n",
    " * The next step, advances these inital conditions using the diagonal update $e^{\\Lambda t}$, which is considerably simpler in eigenvector coordinates $z$.\n",
    "\n",
    " * Finally, multiplying by $T$ maps $z(t)$ back to physical coordinates, $x(t)$."
   ]
  },
  {
   "cell_type": "markdown",
   "metadata": {},
   "source": [
    "In addition to making it possible to compute the matrix exponential, and hence the solution $x(t)$, the eigendecomposition of $\\Lambda$ is even more useful to understand the dynamics and stability of the system.  We can see from (8) that only the time-varying portion of the solution is $e^{\\Lambda t}$.  In general the eigenvalues $\\lambda=a+ib$ may be complex numbers, so that the solutions are given by, $e^{\\lambda t}=e^{at}(\\cos(bt)+i\\sin(bt))$.\n",
    "\n",
    "Thus, if all the eigenvalues $\\lambda_k$ have negative real part ($\\mathcal{Re}(\\lambda)=a<0$), then the system is stable, and solutions all decay to $x=0$ as $t\\rightarrow \\infty$.  However, if even a single eigenvalue has a postive real part, then the system is unstable and will diverge from the fixed point along the corresponsng unstable eigenvector direction, and moreover, disturbances will likely excite all eigenvectors of the system."
   ]
  },
  {
   "cell_type": "markdown",
   "metadata": {},
   "source": [
    "##### Things to consider:\n",
    "That was truly freaking awesome example from Steven Brunton!\n",
    "\n",
    "How we can directly apply this to the randomied midpoint polygon map.\n",
    "\n",
    "Just how much I've forgotten about control system theory.  We'll have to revisit that because we could really have a lot of fun with that now!"
   ]
  },
  {
   "cell_type": "markdown",
   "metadata": {},
   "source": [
    "#### See also:\n",
    "\n",
    "http://www.databookuw.com/databook.pdf\n",
    "\n",
    "https://nhigham.com/2020/05/28/what-is-the-matrix-exponential/\n",
    "\n",
    "https://en.wikipedia.org/wiki/Matrix_exponential\n",
    "\n",
    "https://en.wikipedia.org/wiki/Jordan_normal_form\n",
    "\n",
    "https://en.wikipedia.org/wiki/Nilpotent_matrix"
   ]
  },
  {
   "cell_type": "markdown",
   "metadata": {},
   "source": [
    "### (iv) By including a printout, illustrate your facility in computing a power and a finite Taylor sum of a random $2\\times 2$ matrix. "
   ]
  },
  {
   "cell_type": "markdown",
   "metadata": {},
   "source": [
    "#### Solution:\n",
    "Recall:\n",
    "$exp(M)\\equiv e^M=\\sum\\limits_{n=0}^{\\infty}\\frac{M^n}{n!} = \\1 + M + \\frac{MM}{2!}+\\frac{MMM}{3!}+...,$ and converges for any square matrix.\n",
    "\n",
    "*Note: We are using the formula (1) from (ii) above with $t=1$."
   ]
  },
  {
   "cell_type": "code",
   "execution_count": 17,
   "metadata": {},
   "outputs": [
    {
     "data": {
      "text/latex": [
       "$M=\\left[\\begin{matrix}2 & 1\\\\0 & -2\\end{matrix}\\right]$"
      ],
      "text/plain": [
       "<IPython.core.display.Latex object>"
      ]
     },
     "metadata": {},
     "output_type": "display_data"
    },
    {
     "data": {
      "text/latex": [
       "$\\displaystyle \\left[\\begin{matrix}7.39 & 1.81\\\\0 & 0.135\\end{matrix}\\right]$"
      ],
      "text/plain": [
       "⎡7.39  1.81 ⎤\n",
       "⎢           ⎥\n",
       "⎣ 0    0.135⎦"
      ]
     },
     "metadata": {},
     "output_type": "display_data"
    },
    {
     "data": {
      "text/latex": [
       "$\\displaystyle \\left[\\begin{matrix}7.39 & 1.81\\\\0 & 0.135\\end{matrix}\\right]$"
      ],
      "text/plain": [
       "⎡7.39  1.81 ⎤\n",
       "⎢           ⎥\n",
       "⎣ 0    0.135⎦"
      ]
     },
     "metadata": {},
     "output_type": "display_data"
    }
   ],
   "source": [
    "import random\n",
    "import math\n",
    "xi = 2\n",
    "M = Matrix([random.randint(-xi,xi) for i in range(xi**2)]).reshape(xi,xi)\n",
    "\n",
    "precision = 3\n",
    "n=10 # selected for 'slide-rule scale' precision of about 2 decimal points\n",
    "display(Latex(f'$M={sym.latex(M)}$'))\n",
    "\n",
    "# math.factorial() was a rather lame way to do this however, Strilling is even worse due to error\n",
    "#factorial = lambda n: np.sqrt(2*np.pi*n) * (n/np.exp(1))**n # NOPE!\n",
    "\n",
    "# we are crafting artisanal matrices for a slide-rule world.\n",
    "factorial = math.factorial\n",
    "\n",
    "e_M_est = sum([M**i/factorial(i) for i in range(n)], sym.zeros(xi)).n(precision)\n",
    "display(e_M_est) # show our estimate\n",
    "display(sym.exp(M).n(precision)) # now show the library result"
   ]
  },
  {
   "cell_type": "markdown",
   "metadata": {},
   "source": [
    "##### Things to consider:\n",
    " * We had to keep out $\\xi$ values rather small keep the computation times down.\n",
    " * Sometimes we get a rather degenerate random matrix that has quite a bit of error.\n",
    " * math.factorial() is very slow, don't ever use this for anything practical.\n",
    " * Striling Approximation failed in Power Series due to lack of precision.\n",
    " * There are several dubious ways to compute the exponention of a matrix."
   ]
  },
  {
   "cell_type": "markdown",
   "metadata": {},
   "source": [
    "#### See also:\n",
    "https://sites.millersville.edu/bikenaga/linear-algebra/matrix-exponential/matrix-exponential.html\n",
    "\n",
    "Nineteen Dubious Ways to Compute the Exponential of a Matrix: https://www.math.purdue.edu/~yipn/543/matrixExp19-I.pdf"
   ]
  },
  {
   "cell_type": "markdown",
   "metadata": {},
   "source": [
    "## Appendix 0. Island Song\n",
    "https://www.youtube.com/watch?v=xXQNdUpCQzw"
   ]
  },
  {
   "cell_type": "markdown",
   "metadata": {},
   "source": [
    "## Appendix 1. Enjoy Yourself\n",
    "```\n",
    "You work and work for years and years, you're always on the go.    \n",
    "You never take a minute off, too busy makin' dough.\n",
    "Someday you say, you'll have your fun, when you're a millionaire.    \n",
    "Imagine all the fun you'll have in your old rockin' chair.\n",
    "\n",
    "    Enjoy yourself, it's later than you think.\n",
    "    Enjoy yourself, while you're still in the pink.\n",
    "    The years go by, as quickly as a wink.\n",
    "    Enjoy yourself, enjoy yourself, it's later than you think.\n",
    "\n",
    "You're gonna take that ocean trip, no matter come what may.\n",
    "You've got your reservations made, but you just can't get away.\n",
    "Next year for sure, you'll see the world, you'll really get around,\n",
    "But how far can you travel when you're six feet underground?\n",
    "\n",
    "Your heart of hearts, your dream of dreams, your ravishing brunette,    \n",
    "She's left you and she's now become somebody else's pet.\n",
    "Lay down that gun, don't try my friend to reach the great beyond.    \n",
    "You'll have more fun by reaching for a redhead or a blond.\n",
    "\n",
    "    Enjoy yourself, it's later than you think.\n",
    "    Enjoy yourself, while you're still in the pink.\n",
    "    The years go by, as quickly as a wink.\n",
    "    Enjoy yourself, enjoy yourself, it's later than you think.\n",
    "\n",
    "You never go to night clubs and you just don't care to dance.\n",
    "You don't have time for silly things like moonlight and romance.\n",
    "You only think of dollar bills tied neatly in a stack,\n",
    "But when you kiss a dollar bill, it doesn't kiss you back.\n",
    "\n",
    "    Enjoy yourself, it's later than you think.\n",
    "    Enjoy yourself, while you're still in the pink.\n",
    "    The years go by, as quickly as a wink.\n",
    "    Enjoy yourself, enjoy yourself, it's later than you think.\n",
    "```\n",
    "Lyrics by Herb Magidson"
   ]
  },
  {
   "cell_type": "markdown",
   "metadata": {},
   "source": [
    "## Appendix 2. Proof Techniques\n",
    "\n",
    "#### To prove goal of the form:\n",
    " - $\\neg P:$\n",
    "     - Reexpress as a positive statement.\n",
    "     - use proof by contradiction; that is, assue that $P$ is true and try to reach a contradiction.\n",
    " - $P\\implies Q:$\n",
    "     - Assume $P$ is true and prove $Q$.\n",
    "     - Prove the contrapositive; that is, assume that $Q$ is false and prove that $P$ is false.\n",
    " - $P\\wedge Q:$\n",
    "     - Prove $P$ and $Q$ seperately.  In other words, treat this as two separate goals: $P$ and $Q$.\n",
    " - $P\\vee Q:$\n",
    "     - Assume $P$ is false and prove $Q$, or assume $Q$ is false and prove $P$.\n",
    "     - Use proof by cases. In each case, either prove $P$ or prove $Q$.\n",
    " - $P\\iff Q$:\n",
    "     - Prove $P\\implies Q$ and $Q\\implies P$, see method above for $P\\implies Q$\n",
    " - $\\forall xP(x):$\n",
    "     - Let $x$ stand for an arbitrary object, and prove $P(x)$. (If the letter $x$ already stands for something in the proof, you will have to use a different letter for the arbitary object.)\n",
    " - $\\exists xP(x):$\n",
    "     - Find a value of $x$ that make $P(n)$ true. Prove $P(n)$ for this value of $x$.\n",
    " - $\\exists!xP(x):$\n",
    "     - Prove $\\exists xP(x)$ (existence) and $\\forall y \\forall z((P(y)\\wedge P(z)) \\implies y=z)$ (uniqueness).\n",
    "     - Prove the equivalent statement $\\exists x(P(x)\\wedge P(y)) \\implies y=x)).$\n",
    " - $\\forall n\\in \\mathbb{N}P(n):$\n",
    "     - Mathematicall induction: Prove $P(0)$ (base case) and $\\forall n\\in \\mathbb{N}P(n) \\implies P(n+1))$ (induction step).\n",
    "     - Strong induction: Prove $\\forall n\\in \\mathbb{N}[\\forall k \\lt n P(k) \\implies P(n)]$.\n",
    " \n",
    "#### To use a given form:\n",
    " - $\\neg P:$\n",
    "    - Reexpress as a positive statement.\n",
    "    - In a proof by contradiction, you can reach a contradiction by proving $P$.\n",
    " - $P\\to Q:$\n",
    "     - If you are also given $P$, or you can prove that $P$ is true, then you can conclude that $Q$ is true.\n",
    "     - Use the contrapositive: If you are given or can prove that $Q$ is false, then you can condlude that $P$ is false.\n",
    " - $P\\wedge Q:$\n",
    "     - Treat this as two givens: $P$ and $Q$.\n",
    " - $P\\vee Q:$\n",
    "     - Use proof by cases. In the first case assume that $P$ is true, then in the second case assume the $Q$ is true.\n",
    "     - If you are also given that $P$ is false, or you can prove that $P$ is false, then you can conclude that $Q$ is true.  Similarly, if you know that $Q$ is false then you can conclude that $P$ is true.\n",
    " - $P\\iff Q$:\n",
    "     - Treat this as two givens: $P\\implies Q$ and $Q\\implies P$.\n",
    " - $\\forall xP(x):$\n",
    "     - You can plug in any value, say $a$, for $x$, and conclude that $P(a)$ is true.\n",
    " - $\\exists xP(x):$\n",
    "     - Indroduce a new variable, say $x_0$, into the proof, to stand for a particular object for which $P(x_0)$ is true.\n",
    " - $\\exists!xP(x):$\n",
    "     - Indroduce a new variable, say $x_0$, into the proof, to stand for a particular object for which $P(x_0)$ is true.  You may assume that $\\forall y(P(y) \\implies y=x_0$.\n",
    " \n",
    "#### Techniques that can be used in any proof:\n",
    " - Proof by contradiction: Assume the goal is false and derive a contradiction.\n",
    " - Proof by cases: Consider serveral cases that are $\\textit{exhaustive}$, that is, that include all possibilities. Prove the goal in each case.\n",
    "   \n",
    "##### * See also, How to Prove It, Velleman\n",
    "  "
   ]
  },
  {
   "cell_type": "markdown",
   "metadata": {},
   "source": [
    "### Appendix 4.  Render Commutation Diagrams\n",
    "\n",
    "\\begin{CD}\n",
    "v @> \\T >> \\T(v)\\\\\n",
    "@VV V  @VV V\\\\\n",
    "[v]_\\mathcal{B} @> \\text{Mulptiply by M} >> [\\T(v)]_\\mathcal{C}\n",
    "\\end{CD}\n",
    "\n",
    "\n",
    "\n",
    "\\begin{CD}\n",
    "v @> \\text{Mulptiply by A} >> Av\\\\\n",
    "@V\\text{Mulptiply by}P^{-1} VV  @AAA\\text{Mulptiply by P} \\\\\n",
    "[v]_\\mathcal{B} @> \\text{Mulptiply by D} >> [Av]_\\mathcal{B}\n",
    "\\end{CD}"
   ]
  }
 ],
 "metadata": {
  "kernelspec": {
   "display_name": "Python 3",
   "language": "python",
   "name": "python3"
  },
  "language_info": {
   "codemirror_mode": {
    "name": "ipython",
    "version": 3
   },
   "file_extension": ".py",
   "mimetype": "text/x-python",
   "name": "python",
   "nbconvert_exporter": "python",
   "pygments_lexer": "ipython3",
   "version": "3.8.10"
  }
 },
 "nbformat": 4,
 "nbformat_minor": 4
}
