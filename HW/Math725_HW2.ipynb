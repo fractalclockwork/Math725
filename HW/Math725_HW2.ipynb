{
 "cells": [
  {
   "cell_type": "markdown",
   "metadata": {},
   "source": [
    "# Math 725 Advanced Linear Algebra\n",
    "## HW2\n",
    "\n",
    "\n",
    "### Brent A. Thorne\n",
    "\n",
    "brentathorne@gmail.com\n",
    "\n",
    "##### Finite-Dimensional Vector Spaces"
   ]
  },
  {
   "cell_type": "code",
   "execution_count": 3,
   "metadata": {},
   "outputs": [],
   "source": [
    "# import libraries\n",
    "import numpy as np\n",
    "import sympy as sym\n",
    "from sympy.matrices import Matrix\n",
    "from sympy import I\n",
    "import matplotlib.pyplot as plt\n",
    "from IPython.display import display, Math, Latex"
   ]
  },
  {
   "cell_type": "markdown",
   "metadata": {},
   "source": [
    "## 1.  Span of $\\Bbb{C}^4$\n",
    "### Show that the list $(1,1,1,1), (1,i,-1,-i), (1,-1,1,-1), (1,-i,-1,i)$ spans $\\Bbb{C}$^4 over $\\Bbb{C}$. Conclude that this is a list of independent vectors, hence it is a basis."
   ]
  },
  {
   "cell_type": "markdown",
   "metadata": {},
   "source": [
    "Our approach is to interpret this vectors as a linear equation in the varibles $x_1,...,x_n$ that can be written in the form\n",
    "\n",
    "$a_1x_1+a_2x_2+...+a_nx_n=b$, \n",
    "\n",
    "where $b$ and the coefficients $a_1,...,a_n$ are complex numbers.  We'll assume that there is a solution exists and is unquie by defining $b=0$.  We use the reduced echelon matrix form to demonstrate the list is independent thus a basis. "
   ]
  },
  {
   "cell_type": "code",
   "execution_count": 41,
   "metadata": {},
   "outputs": [
    {
     "data": {
      "text/latex": [
       "$Au=\\left[\\begin{matrix}1 & 1 & 1 & 1 & 0\\\\1 & i & -1 & - i & 0\\\\1 & -1 & 1 & -1 & 0\\\\1 & - i & 1 & i & 0\\end{matrix}\\right]$"
      ],
      "text/plain": [
       "<IPython.core.display.Latex object>"
      ]
     },
     "metadata": {},
     "output_type": "display_data"
    },
    {
     "data": {
      "text/latex": [
       "$Au_{rref}=\\left[\\begin{matrix}1 & 0 & 0 & 0 & 0\\\\0 & 1 & 0 & 0 & 0\\\\0 & 0 & 1 & 0 & 0\\\\0 & 0 & 0 & 1 & 0\\end{matrix}\\right]$"
      ],
      "text/plain": [
       "<IPython.core.display.Latex object>"
      ]
     },
     "metadata": {},
     "output_type": "display_data"
    },
    {
     "data": {
      "text/latex": [
       "We can see above that there are 4 pivots thus this list of vectors is independent and forms a valid basis of $\\Bbb{C}^4$ over $\\Bbb{C}.$"
      ],
      "text/plain": [
       "<IPython.core.display.Latex object>"
      ]
     },
     "metadata": {},
     "output_type": "display_data"
    }
   ],
   "source": [
    "A= Matrix([[1,1,1,1],\n",
    "          [1,I,-1,-I],\n",
    "          [1,-1,1,-1],\n",
    "          [1,-I,1,I]])\n",
    "b = Matrix([0,0,0,0])\n",
    "Au = A.row_join(b)\n",
    "display(Latex(f'$Au={sym.latex(Au)}$'))\n",
    "display(Latex('$Au_{rref}'+f'={sym.latex(Au.rref(pivots=False))}$'))\n",
    "display(Latex('We can see above that there are 4 pivots ' +\n",
    "        'thus this list of vectors is independent ' +\n",
    "        'and forms a valid basis of $\\Bbb{C}^4$ over $\\Bbb{C}.$'))"
   ]
  },
  {
   "cell_type": "markdown",
   "metadata": {},
   "source": [
    "## 2. (2A 7)\n",
    "### Prove of given a counterexample: If $v_1,...,v_m$ is a linearly independent list of vector in $V$, then\n",
    "\n",
    "### $5v_1-4v_2,v_2,v_3,...,v_m$\n",
    "\n",
    "### is also linearly independent."
   ]
  },
  {
   "cell_type": "markdown",
   "metadata": {},
   "source": [
    "## 3. (2A 13)\n",
    "### Explain why no list for four polynomials spans $\\mathcal{P}_4(\\Bbb{F})$."
   ]
  },
  {
   "cell_type": "markdown",
   "metadata": {},
   "source": [
    "## 4. (2A 15)\n",
    "### Prove that $\\Bbb{F}^{\\infty}$ is infinite-dimensional."
   ]
  },
  {
   "cell_type": "markdown",
   "metadata": {},
   "source": [
    "## 5. (2B 3)\n",
    "\n",
    "### (a) Let $U$ be the subspace of $\\Bbb{R}^5$ define by\n",
    "\n",
    "### $U = \\{(x_1,x_2,x_3,x_4,x_5)\\in \\Bbb{R}^5: x_1=3x_2 \\text{ and } x_3=7x_4\\}$.\n",
    "\n",
    "### Find a basis of $U$.\n",
    "\n",
    "### (b) Extend the basis if part (a) to a basis of $\\Bbb{R}^5$.\n",
    "\n",
    "### (c) Find a subspace $W$ of $\\Bbb{R}^5$ such that $\\Bbb{R}^5=U\\oplus W$."
   ]
  },
  {
   "cell_type": "markdown",
   "metadata": {},
   "source": [
    "## 6. (2B 8)\n",
    "### Suppose $U$ and $W$ are subspaced of $V$ such that $V=U\\oplus W$.  Suppose also that $u_1,...u_m$ is a basis of $U$ and $w_1,...,w_n$ is a basis of $W$.\n",
    "\n",
    "### Prove that \n",
    "\n",
    "### $u_1,...,u_m,w_1,...,w_n$\n",
    "\n",
    "### is a basis of $V$."
   ]
  },
  {
   "cell_type": "markdown",
   "metadata": {},
   "source": [
    "## 7. Basis of $\\Bbb{C}^3$ over $\\Bbb{C}$\n",
    "### Let $z$ be a non real third root of unity. Show that the list $(1,1,1), (1, z, z^2), (1,z^2,z^4)$ forms a basis of $C^3$ over $C$. \n",
    "\n",
    "### Challenge question: Generalize this example from $C^3$ to $C^n$.  "
   ]
  },
  {
   "cell_type": "markdown",
   "metadata": {},
   "source": [
    "## 8. (2C 1)\n",
    "### Suppose $V$ is finite-dimensional and $U$ is a subspace of $V$ such that $dim U = dim V$.  Prove that $U=V$."
   ]
  },
  {
   "cell_type": "markdown",
   "metadata": {},
   "source": [
    "## 9. (2C 9)\n",
    "### Suppose $v_1,...,v_m$ is linearly independent in $V$ and $w\\in V$.  Prove that\n",
    "\n",
    "### $dim$ $span(v_1+w,...,v_m+w)\\geq m-1$."
   ]
  },
  {
   "cell_type": "markdown",
   "metadata": {},
   "source": [
    "## 10. (2C 14)\n",
    "### Suppose $U_1,...,U_m$ are finite-dimensional subspaces of $V$.  Prove that $U_1+...+U_m$ is finite-dimensional and\n",
    "\n",
    "### $dim(U_1+...+U_m)\\leq dim U_1+...+dim U_m$. "
   ]
  },
  {
   "cell_type": "markdown",
   "metadata": {},
   "source": [
    "## Appendix 1. TBD"
   ]
  },
  {
   "cell_type": "markdown",
   "metadata": {},
   "source": [
    "## Appendix 2. Proof Techniques\n",
    "\n",
    "\n",
    "#### To prove goal of the form:\n",
    " - $\\neg P:$\n",
    "     - Reexpress as a positive statement.\n",
    "     - use proof by contradiction; that is, assue that $P$ is true and try to reach a contradiction.\n",
    " - $P\\implies Q:$\n",
    "     - Assume $P$ is true and prove $Q$.\n",
    "     - Prove the contrapositive; that is, assume that $Q$ is false and prove that $P$ is false.\n",
    " - $P\\wedge Q:$\n",
    "     - Prove $P$ and $Q$ seperately.  In other words, treat this as two separate goals: $P$ and $Q$.\n",
    " - $P\\vee Q:$\n",
    "     - Assume $P$ is false and prove $Q$, or assume $Q$ is false and prove $P$.\n",
    "     - Use proof by cases. In each case, either prove $P$ or prove $Q$.\n",
    " - $P\\iff Q$:\n",
    "     - Prove $P\\implies Q$ and $Q\\implies P$, see method above for $P\\implies Q$\n",
    " - $\\forall xP(x):$\n",
    "     - Let $x$ stand for an arbitrary object, and prove $P(x)$. (If the letter $x$ already stands for something in the proof, you will have to use a different letter for the arbitary object.)\n",
    " - $\\exists xP(x):$\n",
    "     - Find a value of $x$ that make $P(n)$ true. Prove $P(n)$ for this value of $x$.\n",
    " - $\\exists!xP(x):$\n",
    "     - Prove $\\exists xP(x)$ (existence) and $\\forall y \\forall z((P(y)\\wedge P(z)) \\implies y=z)$ (uniqueness).\n",
    "     - Prove the equivalent statement $\\exists x(P(x)\\wedge P(y)) \\implies y=x)).$\n",
    " - $\\forall n\\in \\mathbb{N}P(n):$\n",
    "     - Mathematicall induction: Prove $P(0)$ (base case) and $\\forall n\\in \\mathbb{N}P(n) \\implies P(n+1))$ (induction step).\n",
    "     - Strong induction: Prove $\\forall n\\in \\mathbb{N}[\\forall k \\lt n P(k) \\implies P(n)]$.\n",
    " \n",
    "#### To use a given form:\n",
    " - $\\neg P:$\n",
    "    - Reexpress as a positive statement.\n",
    "    - In a proof by contradiction, you can reach a contradiction by proving $P$.\n",
    " - $P\\to Q:$\n",
    "     - If you are also given $P$, or you can prove that $P$ is true, then you can conclude that $Q$ is true.\n",
    "     - Use the contrapositive: If you are given or can prove that $Q$ is false, then you can condlude that $P$ is false.\n",
    " - $P\\wedge Q:$\n",
    "     - Treat this as two givens: $P$ and $Q$.\n",
    " - $P\\vee Q:$\n",
    "     - Use proof by cases. In the first case assume that $P$ is true, then in the second case assume the $Q$ is true.\n",
    "     - If you are also given that $P$ is false, or you can prove that $P$ is false, then you can conclude that $Q$ is true.  Similarly, if you know that $Q$ is false then you can conclude that $P$ is true.\n",
    " - $P\\iff Q$:\n",
    "     - Treat this as two givens: $P\\implies Q$ and $Q\\implies P$.\n",
    " - $\\forall xP(x):$\n",
    "     - You can plug in any value, say $a$, for $x$, and conclude that $P(a)$ is true.\n",
    " - $\\exists xP(x):$\n",
    "     - Indroduce a new variable, say $x_0$, into the proof, to stand for a particular object for which $P(x_0)$ is true.\n",
    " - $\\exists!xP(x):$\n",
    "     - Indroduce a new variable, say $x_0$, into the proof, to stand for a particular object for which $P(x_0)$ is true.  You may assume that $\\forall y(P(y) \\implies y=x_0$.\n",
    " \n",
    "#### Techniques that can be used in any proof:\n",
    " - Proof by contradiction: Assume the goal is false and derive a contradiction.\n",
    " - Proof by cases: Consider serveral cases that are $\\textit{exhaustive}$, that is, that include all possibilities. Prove the goal in each case.\n",
    "   \n",
    "##### * See also, How to Prove It, Velleman\n",
    "  "
   ]
  }
 ],
 "metadata": {
  "kernelspec": {
   "display_name": "Python 3",
   "language": "python",
   "name": "python3"
  },
  "language_info": {
   "codemirror_mode": {
    "name": "ipython",
    "version": 3
   },
   "file_extension": ".py",
   "mimetype": "text/x-python",
   "name": "python",
   "nbconvert_exporter": "python",
   "pygments_lexer": "ipython3",
   "version": "3.8.10"
  }
 },
 "nbformat": 4,
 "nbformat_minor": 4
}
