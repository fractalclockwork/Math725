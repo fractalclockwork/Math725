{
 "cells": [
  {
   "cell_type": "markdown",
   "metadata": {},
   "source": [
    "# Math 725 Advanced Linear Algebra\n",
    "## HW6\n",
    "\n",
    "\n",
    "### Brent A. Thorne\n",
    "\n",
    "brentathorne@gmail.com\n",
    "\n",
    "##### Inner Product Spaces\n"
   ]
  },
  {
   "cell_type": "markdown",
   "metadata": {},
   "source": [
    "$\\newcommand{\\null}{\\text{null }}$\n",
    "$\\newcommand{\\span}{\\text{span }}$\n",
    "$\\newcommand{\\dim}{\\text{dim }}$\n",
    "$\\newcommand{\\range}{\\text{range }}$\n",
    "\n",
    "$\\require{AMScd}$\n",
    "$\\require{cancel}$\n",
    "$\\newcommand{\\0}{\\{\\Bbb{0}\\}}$\n",
    "$\\newcommand{\\C}{\\Bbb{C}}$\n",
    "$\\newcommand{\\1}{\\Bbb{1}}$\n",
    "$\\newcommand{\\P}{\\mathcal{P}}$\n",
    "$\\newcommand{\\B}{\\mathcal{B}}$\n",
    "$\\newcommand{\\T}{\\mathcal{T}}$\n",
    "$\\newcommand{\\M}{\\mathcal{M}}$\n",
    "$\\newcommand{\\U}{\\mathbf{U}}$\n",
    "$\\newcommand{\\L}{\\mathcal{L}}$\n",
    "$\\newcommand{\\W}{\\mathbf{W}}$\n",
    "$\\newcommand{\\F}{\\mathbb{F}}$\n",
    "$\\newcommand{\\R}{\\mathbb{R}}$\n",
    "$\\newcommand{\\ip}[1]{\\langle#1\\rangle}$\n",
    "$\\newcommand{\\v}[2]{#1_1,...,#1_#2}$\n",
    "$\\newcommand{\\ip}[1]{\\langle#1\\rangle}$\n",
    "$\\newcommand{\\Bip}[1]{\\Big\\langle#1\\Big\\rangle}$\n",
    "$\\newcommand{\\rr}[2]{\\begin{bmatrix}#1\\\\#2\\end{bmatrix}}$"
   ]
  },
  {
   "cell_type": "code",
   "execution_count": 1,
   "metadata": {},
   "outputs": [],
   "source": [
    "# import libraries\n",
    "import numpy as np\n",
    "import sympy as sym\n",
    "from sympy.matrices import Matrix\n",
    "from sympy import I\n",
    "import matplotlib.pyplot as plt\n",
    "from IPython.display import display, Math, Latex\n",
    "\n",
    "from sympy import init_printing\n",
    "init_printing()"
   ]
  },
  {
   "cell_type": "markdown",
   "metadata": {},
   "source": [
    "## 1. (6A12)\n",
    "### Prove that $$(x_1+\\cdots+x_n)^2 \\leq \\mathfrak{n}(x_1^2+\\cdots+x_n^2)$$ for all positive integers $\\mathfrak{n}$ and all real numbers $x_1,...,x_n$."
   ]
  },
  {
   "cell_type": "markdown",
   "metadata": {},
   "source": [
    "##### Recall: norm, $\\|v\\|$\n",
    "For $v\\in V$, the norm of $v$, denoted $\\|v\\|$, is defined by $$\\|v\\|=\\sqrt{\\langle v,v \\rangle}.$$\n",
    "\n",
    "##### Recall: Euclidean inner product\n",
    "on $\\F^m=n$ is defined by, $$\\langle(\\v wn),(\\v zn)\\rangle=w_1\\overline{z_1}+\\cdots+w_n\\overline{z_n}.$$"
   ]
  },
  {
   "cell_type": "markdown",
   "metadata": {},
   "source": [
    "##### Recall: Cauchy-Schwarz Inequality\n",
    "Suppose $u,v\\in V$. Then $$\\|\\langle u,v \\rangle\\|\\leq\\|u\\|\\|v\\|.$$\n",
    "This inequality is an equality if and only if one of the $u,v$ is a scalar multiple of the other.\n",
    "\n",
    "##### Recall: Cauchy-Schwarz-Bunyakosky Theorem\n",
    "Restated in a slightly more interpetable manner.\n",
    "\n",
    "Let $V$ be an inner product space.  If $v,w\\in V$, the $$|\\ip{v,w}|^2\\leq \\ip{v,v}\\ip{w,w}.$$"
   ]
  },
  {
   "cell_type": "markdown",
   "metadata": {},
   "source": [
    "#### Solution:\n",
    "Our goal is, $(x_1+\\cdots+x_n)^2 \\leq \\mathfrak{n}(x_1^2+\\cdots+x_n^2)$.\n",
    "\n",
    "Assuming real $\\v xn$ and $\\mathfrak{n}=1,2,...$ and appling RHS of Cauchy-Schwarz Inequality with Euclidean inner product we have,\n",
    "$$|\\ip{\\v xn,\\v 1n}|^2 = \\ip{\\v xn, \\v xn} \\ip{\\v 1n,\\v 1n} $$\n",
    "$$=(x_1^2 +\\cdots+x_n^2)\\mathfrak{n}$$\n",
    "\n",
    "Working the LHS, we have \n",
    "$$(x_1+\\cdots+x_n)^2 = |x_1(1), ... x_n(1)|^2.$$\n",
    "Hence,\n",
    "$$(x_1 +\\cdots+x_n)^2 \\leq \\mathfrak{n}(x_1^2 +\\cdots+x_n^2), \\text{ (by Archimedean Property)}$$\n",
    "as desired.\n",
    "\n",
    "$\\square$"
   ]
  },
  {
   "cell_type": "code",
   "execution_count": 22,
   "metadata": {},
   "outputs": [
    {
     "data": {
      "text/latex": [
       "$\\displaystyle \\left[\\begin{matrix}1\\\\1\\\\1\\end{matrix}\\right]$"
      ],
      "text/plain": [
       "⎡1⎤\n",
       "⎢ ⎥\n",
       "⎢1⎥\n",
       "⎢ ⎥\n",
       "⎣1⎦"
      ]
     },
     "metadata": {},
     "output_type": "display_data"
    },
    {
     "data": {
      "text/latex": [
       "$\\displaystyle \\left[\\begin{matrix}3\\end{matrix}\\right]$"
      ],
      "text/plain": [
       "[3]"
      ]
     },
     "metadata": {},
     "output_type": "display_data"
    }
   ],
   "source": [
    "# scratch\n",
    "n = 3\n",
    "v = sym.ones(n,1)\n",
    "display(v)\n",
    "display(v.T*v) # as we know and now demonstrate"
   ]
  },
  {
   "cell_type": "markdown",
   "metadata": {},
   "source": [
    "##### Going deeper:\n",
    "Here we apply Example 6.17 (a) and reference Caucy-Schwarz, noting that there exists a $v\\in V$ such that $\\|v\\|=1$ is a unit vector.  We can normalize any $v\\in V$ to produce a unit vector by dividing it by its norm. \n",
    "$$(\\R^n,\\langle,\\rangle):\\|v\\|=\\sqrt{\\sum\\limits_{i=1}^n{v_i^2} }$$\n",
    "\n",
    "$$(\\C^n,\\langle,\\rangle):\\|v\\|=\\sqrt{ \\sum\\limits_{i=1}^n{v_i \\overline{v_i} }} =\\sqrt{\\sum\\limits_{i=1}^n{|v_i|^2}} $$\n",
    "\n",
    "This might be a good place to introduce parallelogram law and note that it guarantees that a norm over a vector space will be induced by an inner product, thus the norm is Hilbertian.  We've already discovered some interesting properties through experimentation, such as Polarization...\n",
    "$$\\langle v,w \\rangle = \\frac{1}{4}\\Big(\\|v+w\\|^2-\\|v-w\\|^2\\Big), (\\F\\in \\R) \\text{, and}$$\n",
    "$$\\langle v,w \\rangle = \\frac{1}{4}\\Big[\\|v+w\\|^2-\\|v-w\\|^2 + i\\Big(\\|v+iw\\|^2-\\|v-iw\\|^2\\Big) \\Big], (\\F\\in \\C).$$\n",
    "\n",
    "##### See also: From Euclidean to Hilbert Spaces, Edoardo Provenzi"
   ]
  },
  {
   "cell_type": "markdown",
   "metadata": {},
   "source": [
    "## 2. (6A18)\n",
    "### Suppose $p\\lt0$.  Prove that there is an inner product on $\\R^2$ such that the associated norm is given by $$\\|(x,y)\\|=(x^p+y^p)^{1/p}$$ for all $(x,y)\\in\\R^2$ if and only if $p=2$."
   ]
  },
  {
   "cell_type": "markdown",
   "metadata": {},
   "source": [
    "#### Solution:\n",
    "Consider polarization/parrallel theorm proof (6.22) and that \n",
    "$$\\langle u,v \\rangle = \\frac{1}{4}\\Big(\\|u+v\\|^2-\\|u-v\\|^2\\Big) = 0$$\n",
    "is orthogonal.  Then apply Pythagoras,\n",
    "$$\\sqrt{\\|u+v\\|^2}=\\sqrt{\\|u\\|^2+\\|v\\|^2}= \\Big(\\|u\\|^p + \\|v\\|^p \\Big)^{1/p}.$$\n",
    "Now we assume that from some $p$ this is true, thus, \n",
    "$$\\|u\\|^2+\\|v\\|^2= \\|u\\|^p + \\|v\\|^p,$$\n",
    "which is true if and only if $p=2$.\n",
    "\n",
    "$\\square$\n",
    "\n",
    "See also:  \"Scratch thoughts\" below which were used to refine this solution."
   ]
  },
  {
   "cell_type": "markdown",
   "metadata": {},
   "source": [
    "##### Scratch thoughts:\n",
    "\n",
    "Consider $u,v \\in \\R^2$ such that $\\ip{u,v}=0$ (othorgonal) and let $u=\\rr{1}{1}$ and $v=\\rr{1}{-1}$, then\n",
    "$$\\ip{u,v}=\\Bip{\\rr{1}{1},\\rr{1}{-1}} = 0,$$\n",
    "Then by Pythagoras,\n",
    "$$\\|u+v\\|^2=\\|u\\|^2+\\|v\\|^2$$\n",
    "$$\\implies \\Big\\|\\rr{2}{0} \\Big\\|^2= \\Big\\| \\rr{1}{1} \\Big\\|^2 + \\Big\\|\\rr{1}{-1} \\Big\\|^2$$\n",
    "Thus for RHS, $\\|(x,y)\\|$,\n",
    "$$2^2= \\sqrt{2}^2 + \\sqrt{2}^2 = 2+2 = 4.$$"
   ]
  },
  {
   "cell_type": "markdown",
   "metadata": {},
   "source": [
    "Also by some Pythagoras wrangling, the LHS becomes,\n",
    "$$\\sqrt{\\|u\\|^2+\\|v\\|^2}=(<u,u>^p + <v,v>^p)^{1/p},$$\n",
    "$$\\implies \\|u\\|^2+\\|v\\|^2=\\|u\\|^p + \\|v\\|^p,$$\n",
    "$$\\implies \\sqrt{2}^2 + \\sqrt{2}^2=\\sqrt{2}^p + \\sqrt{2}^p,$$\n",
    "$$4=(\\sqrt{2}\\sqrt{2})^p=2^p,$$\n",
    "Thus $p=2$ as desired.\n",
    "\n",
    "$\\square$"
   ]
  },
  {
   "cell_type": "code",
   "execution_count": 2,
   "metadata": {},
   "outputs": [
    {
     "data": {
      "text/latex": [
       "$\\displaystyle \\left( \\left[\\begin{matrix}0\\end{matrix}\\right], \\  \\left( \\left[\\begin{matrix}2\\end{matrix}\\right], \\  \\left[\\begin{matrix}2\\end{matrix}\\right]\\right), \\  \\left[\\begin{matrix}2\\\\0\\end{matrix}\\right], \\  2, \\  \\sqrt{2}, \\  \\sqrt{2}\\right)$"
      ],
      "text/plain": [
       "⎛                 ⎡2⎤           ⎞\n",
       "⎜[0], ([2], [2]), ⎢ ⎥, 2, √2, √2⎟\n",
       "⎝                 ⎣0⎦           ⎠"
      ]
     },
     "execution_count": 2,
     "metadata": {},
     "output_type": "execute_result"
    }
   ],
   "source": [
    "# scratch the itch\n",
    "u = Matrix([1,1])\n",
    "v = Matrix([1,-1])\n",
    "u.T*v, (u.T*u, v.T*v), u+v, (u+v).norm(), u.norm(),v.norm()"
   ]
  },
  {
   "cell_type": "code",
   "execution_count": 3,
   "metadata": {},
   "outputs": [
    {
     "data": {
      "image/png": "[encoded data removed]",
      "text/latex": [
       "$\\displaystyle \\left(x^{p} + y^{p}\\right)^{\\frac{1}{p}}$"
      ],
      "text/plain": [
       "   _________\n",
       "p ╱  p    p \n",
       "╲╱  x  + y  "
      ]
     },
     "execution_count": 3,
     "metadata": {},
     "output_type": "execute_result"
    }
   ],
   "source": [
    "# think about distance in R^2\n",
    "x,y,p=sym.symbols('x y p')\n",
    "eq = (x**p+y**p)**(1/p)\n",
    "eq"
   ]
  },
  {
   "cell_type": "code",
   "execution_count": 4,
   "metadata": {},
   "outputs": [
    {
     "data": {
      "image/png": "[encoded data removed]",
      "text/latex": [
       "$\\displaystyle \\left( 2 \\cdot 2^{\\frac{p}{2}} = 4, \\  \\left[ 2\\right]\\right)$"
      ],
      "text/plain": [
       "⎛   p         ⎞\n",
       "⎜   ─         ⎟\n",
       "⎜   2         ⎟\n",
       "⎝2⋅2  = 4, [2]⎠"
      ]
     },
     "execution_count": 4,
     "metadata": {},
     "output_type": "execute_result"
    }
   ],
   "source": [
    "eq = sym.Eq(u.norm()**p+v.norm()**p,4)\n",
    "eq, sym.solve(eq,p)"
   ]
  },
  {
   "cell_type": "markdown",
   "metadata": {},
   "source": [
    "## 3. (6A20)\n",
    "### Suppose $V$ is a complex inner product space.  Prove that $$\\langle u,v\\rangle= \\frac{\\|u+v\\|^2 - \\|u-v\\|^2 + \\|u+iv\\|^2i - \\|u-iv\\|^2i}{4}$$ for all $u,v\\in V$."
   ]
  },
  {
   "cell_type": "markdown",
   "metadata": {},
   "source": [
    "##### Recall: Pythagorean Theorem\n",
    "$$\\|u+v\\|^2=\\ip{u+v,u+v}=\\|u\\|^2+\\ip{u,v}+\\ip{v,u}+\\|v\\|^2$$\n",
    "$$-\\|u-v\\|^2=-\\ip{u-v,u-v}=-\\|u\\|^2+\\ip{u,v}+\\ip{v,u}-\\|v\\|^2$$\n",
    "$$i\\|u+v\\|^2=i\\ip{u+v,u+v}=i\\|u\\|^2+\\ip{u,v}-\\ip{v,u}+i\\|v\\|^2$$\n",
    "$$-i\\|u+v\\|^2=i\\ip{u-v,u-v}=-i\\|u\\|^2+\\ip{u,v}-\\ip{v,u}-i\\|v\\|^2$$"
   ]
  },
  {
   "cell_type": "markdown",
   "metadata": {},
   "source": [
    "#### Solution:\n",
    "By direct computation we have,\n",
    "$$\\frac{\\|u+v\\|^2 - \\|u-v\\|^2 + \\|u+iv\\|^2i - \\|u-iv\\|^2i}{4}=\\frac{\\ip{u+v,u+v} - \\ip{u-v,u-v} + i\\ip{u+iv,u+iv} - i\\ip{u-iv,u-iv}}{4}$$\n",
    "$$=\\frac{\\|u\\|^2+\\ip{u,v}+\\ip{v,u}+\\|v\\|^2}{4} $$\n",
    "$$ \\frac{-\\|u\\|^2+\\ip{u,v}+\\ip{v,u}-\\|v\\|^2}{4} $$\n",
    "$$ \\frac{+i\\|u\\|^2+\\ip{u,v}-\\ip{v,u}+i\\|v\\|^2}{4} $$\n",
    "$$ \\frac{-i\\|u\\|^2+\\ip{u,v}-\\ip{v,u}-i\\|v\\|^2}{4}$$"
   ]
  },
  {
   "cell_type": "markdown",
   "metadata": {},
   "source": [
    "$$=\\frac{4\\ip{u,v}}{4}=\\ip{u,v},$$\n",
    "as desired.\n",
    "\n",
    "$\\square$"
   ]
  },
  {
   "cell_type": "markdown",
   "metadata": {},
   "source": [
    "##### Going deeper:\n",
    "Explore by computation..."
   ]
  },
  {
   "cell_type": "markdown",
   "metadata": {},
   "source": [
    "#### Now let's try to apply it to this...\n",
    "$$\\langle u,v\\rangle= \\frac{\\|u+v\\|^2 - \\|u-v\\|^2 + \\|u+iv\\|^2i - \\|u-iv\\|^2i}{4}=\\frac{\\ip{u+v,u+v} - \\ip{u-v,u-v} + i\\ip{u+iv,u+iv} - i\\ip{u-iv,u-iv}}{4}$$\n",
    "\n",
    "##### Recall: Pythagorean Theorem\n",
    "$$\\|u+v\\|^2=\\ip{u+v,u+v}=\\|u\\|^2+\\ip{u,v}+\\ip{v,u}+\\|v\\|^2$$"
   ]
  },
  {
   "cell_type": "code",
   "execution_count": 5,
   "metadata": {},
   "outputs": [
    {
     "data": {
      "image/png": "[encoded data removed]",
      "text/latex": [
       "$\\displaystyle 0$"
      ],
      "text/plain": [
       "0"
      ]
     },
     "metadata": {},
     "output_type": "display_data"
    }
   ],
   "source": [
    "i = sym.I\n",
    "u,v = sym.symbols('u v') \n",
    "\n",
    "ip = ((u+v)**2 - (u-v)**2 + i*(u+i*v)**2 - i*(u-i*v)**2)/4\n",
    "display(sym.expand(ip)) # * zero result is expect for orthogonality"
   ]
  },
  {
   "cell_type": "markdown",
   "metadata": {},
   "source": [
    "$^*$ Based on this result we conclude that the inner product is the matrix multiplication of a vector and a dual vector.\n",
    "\n",
    "$^*$ Consider extending the Sympy library to improve the interpetablity of symbolic inner-products.\n",
    "\n",
    "$^*$ Discuss research into Gramian matrices of polytopes."
   ]
  },
  {
   "attachments": {
    "HW6_6A31.png": {
     "image/png": "[encoded data removed]"
    }
   },
   "cell_type": "markdown",
   "metadata": {},
   "source": [
    "## 4. (6A31)\n",
    "### Use inner products to prove Apollonius' Identity: In a triangle with sides of length $a$, $b$, and $c$, let $d$ be the length of the line segment from the midpoint of the side of length $c$ to the opposite vertex.  Then $$a^2 + b^2 = \\frac{1}{2}c^2+2d^2.$$\n",
    "![HW6_6A31.png](attachment:HW6_6A31.png)"
   ]
  },
  {
   "cell_type": "markdown",
   "metadata": {},
   "source": [
    "##### Recall: Euclidean Inner Production\n",
    "on $\\F^n$ is defined by,\n",
    "$$\\langle(\\v wn),(\\v zn)\\rangle = w_1\\overline{z_1}+\\cdots+w_n\\overline{z_n}.$$\n",
    "\n",
    "##### Recall: Triangle Inequality\n",
    "Suppose $u,v\\in V$.  Then $$\\|u+v\\| \\leq \\|u\\|+\\|v\\|.$$ This inequality is an equality if and only if one of the $u,v$ is a nonnegative multiple of the other.\n",
    "\n",
    "##### Recall: Cauchy-Schwarz Inequality \n",
    "Suppose $u,v\\in V$.  Then $$|\\langle u,v\\rangle| \\leq \\|u\\|+\\|v\\|.$$ This inequality is an equality if and only if one of the $u,v$ is a nonnegative multiple of the other.\n",
    "\n",
    "##### Recall: Cauchy-Schwarz-Bunyakosky Theorem\n",
    "Restated in a slightly more interpetable manner.\n",
    "\n",
    "Let $V$ be an inner product space.  If $v,w\\in V$, the $$|\\ip{v,w}|^2\\leq \\ip{v,v}\\ip{w,w}.$$"
   ]
  },
  {
   "cell_type": "markdown",
   "metadata": {},
   "source": [
    "#### Scratch and Itch:"
   ]
  },
  {
   "cell_type": "code",
   "execution_count": 6,
   "metadata": {},
   "outputs": [
    {
     "data": {
      "image/png": "[encoded data removed]",
      "text/plain": [
       "<Figure size 432x288 with 1 Axes>"
      ]
     },
     "metadata": {
      "needs_background": "light"
     },
     "output_type": "display_data"
    }
   ],
   "source": [
    "# let's play about with this a bit in R^2\n",
    "t1=Matrix([[0,0],[10,0],[12,10]]).T\n",
    "t2=Matrix([[0,0],[5,0],[12,10]]).T\n",
    "t3=Matrix([[0,0],[12,10],[5,0]]).T\n",
    "\n",
    "T=t1\n",
    "T=(T.row_join(t2).row_join(t3))\n",
    "\n",
    "x,y=np.array(T)\n",
    "plt.scatter(x,y)\n",
    "plt.plot(x,y)\n",
    "\n",
    "plttext = lambda x,y,t: plt.text(x-.3,y+.3,t)\n",
    "plttext(12,10,'w')\n",
    "plttext(0,0,'u')\n",
    "plttext(10,0,'v')\n",
    "plttext(5,0,'v/2')\n",
    "\n",
    "plttext((12+0)/2,10/2,'a')\n",
    "plttext((12+10)/2,10/2,'b')\n",
    "plttext(8,0,'c')\n",
    "plttext((12+5)/2,(10-0)/2,'d')\n",
    "\n",
    "\"\"\"\n",
    "# Through the Looking Glass\n",
    "\n",
    "display(Latex('Consider Coherence:'))\n",
    "display(T*T.T)\n",
    "\n",
    "display(Latex('Consider decoherence:'))\n",
    "display(T.T*T)\n",
    "\n",
    "u=t1.col(1)\n",
    "v=t1.col(2)\n",
    "display((u+v).norm()**2+(u-v).norm()**2 ==\n",
    "        2*(u.norm()**2 + v.norm()**2)) # which is obvious\n",
    "display(u.T*v == v.T*u) # also obvious\n",
    "\n",
    "display(Latex(\"What we are showing here is that a dual vector,\"+\n",
    "       \" left multplied with a vector (...or some functional), is an inner product.  \"+\n",
    "       \"$$\\\\langle f,g \\\\rangle=g^Tf=\\\\sum\\\\limits_{k=1}^n{f_k g_k}\"+\n",
    "       \" \\\\text{, (* consider showing complex conjugate transpose of g())}$$\"+\n",
    "       \"  We also discovered that \"+\n",
    "       \"decoherence has an interesting aliased structure.  \"+\n",
    "       \"This could be an area for further study.\"))\n",
    "\"\"\"\n",
    "\n",
    "plt.title('$a^2 + b^2 =\\\\frac{1}{2}c^2+2d^2$ with Vetrices');"
   ]
  },
  {
   "cell_type": "markdown",
   "metadata": {},
   "source": [
    "#### Solution:\n",
    "Goal is, $$a^2 + b^2 = \\frac{1}{2}c^2+2d^2.$$\n",
    "$$\\text{ Let, } \\begin{cases}a=w-u\\\\ b=w-v\\\\ c=u-v\\\\ d=w-\\frac{1}{2}(u+v)\\end{cases}  $$\n",
    "Consider, $$\\|w-u\\|^2+\\|w-v\\|^2=\\frac{1}{2}\\|u-v\\|^2+2\\Big(\\|w\\|-\\frac{1}{2}\\|u+v\\|\\Big)^2 \\text{ is true, }$$\n",
    "$$\\implies a^2 + b^2 = \\frac{1}{2}c^2+2d^2 \\text{, as desired.}$$\n",
    "$\\square$\n",
    "\n",
    "See also: Direct calculation below.\n",
    "\n",
    "See also: Alternate solution below, however I actually preferred this soltion as I only use the definition of the inner product and a couple boundary conditions, by fixing a point($u$) at origin and $v$ and $v/2$ on the axis.  This is process of selecting the best eigenbasis for the problem.  "
   ]
  },
  {
   "cell_type": "code",
   "execution_count": 7,
   "metadata": {},
   "outputs": [],
   "source": [
    "# direct calculation for alternate proof\n",
    "u,v,w = sym.symbols('u v w')\n",
    "\n",
    "u=0 # simplify our coordinates by creating boundary condition, ask about my terminalogy\n",
    "a=w-u\n",
    "b=w-v\n",
    "c=u-v\n",
    "d=w-(u+v)/2 # other boundary condition"
   ]
  },
  {
   "cell_type": "code",
   "execution_count": 8,
   "metadata": {},
   "outputs": [
    {
     "data": {
      "image/png": "[encoded data removed]",
      "text/latex": [
       "$\\displaystyle v^{2} - 2 v w + 2 w^{2}$"
      ],
      "text/plain": [
       " 2              2\n",
       "v  - 2⋅v⋅w + 2⋅w "
      ]
     },
     "metadata": {},
     "output_type": "display_data"
    }
   ],
   "source": [
    "display(sym.expand((u-v)**2/2+2*(w-(u+v)/2)**2))"
   ]
  },
  {
   "cell_type": "code",
   "execution_count": 9,
   "metadata": {},
   "outputs": [
    {
     "data": {
      "image/png": "[encoded data removed]",
      "text/latex": [
       "$\\displaystyle v^{2} - 2 v w + 2 w^{2}$"
      ],
      "text/plain": [
       " 2              2\n",
       "v  - 2⋅v⋅w + 2⋅w "
      ]
     },
     "metadata": {},
     "output_type": "display_data"
    },
    {
     "data": {
      "text/plain": [
       "True"
      ]
     },
     "execution_count": 9,
     "metadata": {},
     "output_type": "execute_result"
    }
   ],
   "source": [
    "# now plug and chug on the given formula\n",
    "display(sym.expand(a**2+b**2))\n",
    "sym.expand(a**2+b**2)==sym.expand(c**2/2 + 2*d**2)"
   ]
  },
  {
   "cell_type": "markdown",
   "metadata": {},
   "source": [
    "##### Going deeper:\n",
    "Concider Cauchy completeness and Complete metric spaces"
   ]
  },
  {
   "cell_type": "markdown",
   "metadata": {},
   "source": [
    "#### Alternate Solution:\n",
    "Our goal is $a^2 + b^2 = \\frac{1}{2}c^2+2d^2.$\n",
    "\n",
    "Assume $a,b\\in \\R^2$ and are scalar multiples of eachother, then by Triangle Inequality,\n",
    "$$d+\\frac{1}{2}c=a \\text{ and } b+\\frac{1}{2}c=d,$$\n",
    "$$ \\implies a=d+\\frac{1}{2}c \\text{ and } b=d-\\frac{1}{2}c.$$"
   ]
  },
  {
   "cell_type": "markdown",
   "metadata": {},
   "source": [
    "Then by Cauchy-Schwarz (and Pythagoras of Samos), $$a^2+b^2=\\|a+b\\|^2=\\langle a+b,a+b \\rangle,$$\n",
    "$$=\\|a\\|^2+\\|b\\|^2= \\Big\\|d+\\frac{1}{2}c\\Big\\|^2 + \\Big\\|d-\\frac{1}{2}c\\Big\\|^2, \\text{ see below: *term expansion}$$\n",
    "$$=a^2+b^2=\\frac{1}{2}c^2+2d^2,$$\n",
    "as desired.\n",
    "\n",
    "$\\square$\n",
    "\n",
    "See also: Axler, proof of 6.18 Triangle Inequality, 6.19 and 6.20.\n",
    "\n",
    "Note: Alternate solution based on the numberic experiments above and only presented as another view of the same problem less the vertex boundary condintion."
   ]
  },
  {
   "cell_type": "code",
   "execution_count": 10,
   "metadata": {},
   "outputs": [
    {
     "data": {
      "image/png": "[encoded data removed]",
      "text/latex": [
       "$\\displaystyle \\frac{c^{2}}{2} + 2 d^{2}$"
      ],
      "text/plain": [
       " 2       \n",
       "c       2\n",
       "── + 2⋅d \n",
       "2        "
      ]
     },
     "execution_count": 10,
     "metadata": {},
     "output_type": "execute_result"
    }
   ],
   "source": [
    "# *term expansion\n",
    "a,b,c,d = sym.symbols('a b c d')\n",
    "a = (d+c/2)**2\n",
    "b = (d-c/2)**2\n",
    "sym.expand(a + b)"
   ]
  },
  {
   "cell_type": "markdown",
   "metadata": {},
   "source": [
    "## 5. (6B2)\n",
    "### Suppose $\\v em$ is an orthonormal list of vector in $V$.  Let $v\\in V$.  Prove that $$\\|v\\|^2=|\\langle v,e_1\\rangle|^2+\\cdots+|\\langle v,e_m\\rangle|^2$$ if and only if $v\\in\\span(\\v em)$."
   ]
  },
  {
   "cell_type": "markdown",
   "metadata": {},
   "source": [
    "##### Recall 6.30 Writing a vector as linear combinations of otrthonormal basis\n",
    "Suppose $\\v en$ is an orthonormal basis of $V$ and $v\\in V$.  Then\n",
    "$$v=\\ip{v,e_1}e_1+\\cdots+\\ip{v,e_n}e_n \\text{ and }$$\n",
    "$$\\|v\\|^2 = |\\langle v,e_1\\rangle|^2+\\cdots+|\\langle v,e_m\\rangle|^2$$"
   ]
  },
  {
   "cell_type": "markdown",
   "metadata": {},
   "source": [
    "##### Recall 6.31 Gram-Schmidt Procedure\n",
    "Suppose $\\v vm$ is linearly independent list of vectors in $V$. Let $e_e=v_1/\\|v_1\\|$.  For $j=2,...m$, define $e_j$ inductively by\n",
    "$$e_j=\\frac{v_j - \\ip{v_j,e_1}e_1 - ... - \\ip{v_j,e_{j-1}}e_{j-1}}{\\| v_j - \\ip{v_j,e_1}e_1 - ... - \\ip{v_j,e_{j-1}}e_{j-1} \\|}.$$\n",
    "Then $\\v em$ is an orthonormal list of vector in $V$ such that\n",
    "$$\\span(\\v vj)=\\span(\\v ej)$$ for $j=1,...,m$."
   ]
  },
  {
   "cell_type": "markdown",
   "metadata": {},
   "source": [
    "#### Solution:\n",
    "$\\Rightarrow$\n",
    "\n",
    "By Gram-Schimidt $v\\in\\span(\\v em)$.\n",
    "\n",
    "$\\square$\n",
    "\n",
    "$\\Leftarrow$\n",
    "\n",
    "Consider $u=\\overline{\\ip{v,e_1}}e_1 + \\cdots + \\overline{\\ip{v,e_m}}e_m$, then\n",
    "$$\\ip{u,v}=\\ip{v,u}=|\\ip{v,e_1}|^2 + \\cdots + |\\ip{v,e_m}|^2 = \\|v\\|^2.$$\n",
    "Thus, $\\ip{u,v}=\\|v\\|^2$ and $\\|u\\|^2=\\|v\\|^2,$ \n",
    "$$\\implies \\|u-v\\|^2=\\|u\\|^2 + \\|v\\|^2 - \\ip{u,v} - \\ip{v,u} = 0.$$ \n",
    "Hence, $v=u\\in\\span(\\v em).$\n",
    "\n",
    "$\\square\\square$"
   ]
  },
  {
   "cell_type": "markdown",
   "metadata": {},
   "source": [
    "## 6. (6B5)\n",
    "### On $\\P_2(\\R)$, consider the inner product given by $$\\langle p,q \\rangle = \\int_0^1p(x)q(x)dx.$$  Apply the Gram-Schmidt Procedure to the basis $1,x,x^2$ to produce an orthonormal basis of $\\P_2(\\R).$"
   ]
  },
  {
   "cell_type": "markdown",
   "metadata": {},
   "source": [
    "##### Recall: 6.31 Gram-Schmidt Procedure\n",
    "Suppose $\\v vm$ is linearly independent list of vectors in $V$. Let $e_e=v_1/\\|v_1\\|$.  For $j=2,...m$, define $e_j$ inductively by\n",
    "$$e_j=\\frac{v_j - \\ip{v_j,e_1}e_1 - ... - \\ip{v_j,e_{j-1}}e_{j-1}}{\\| v_j - \\ip{v_j,e_1}e_1 - ... - \\ip{v_j,e_{j-1}}e_{j-1} \\|}.$$\n",
    "Then $\\v em$ is an orthonormal list of vector in $V$ such that\n",
    "$$\\span(\\v vj)=\\span(\\v ej)$$ for $j=1,...,m$."
   ]
  },
  {
   "cell_type": "markdown",
   "metadata": {},
   "source": [
    "##### Recall: Example 6.33\n",
    "Find an orthonormal basis of $\\P_2(\\R)$, where the inner product is given by\n",
    "$$\\ip{p,q}=\\int_{-1}^1p(x)q(x)dx.$$\n",
    "\n",
    "Apply Gram-Schmidt Procedure to the basis $1,x,x^x$."
   ]
  },
  {
   "cell_type": "markdown",
   "metadata": {},
   "source": [
    "$e_1=\\frac{ \\ip{v_1,e_1}e_1} {\\| \\ip{v_1,e_1}e_1 \\|} =  \\frac{1}{\\sqrt{ \\int_{-1}^1 1^2dx}} = \\sqrt{\\frac{1}{2}}$"
   ]
  },
  {
   "cell_type": "markdown",
   "metadata": {},
   "source": [
    "$e_2=\\frac{ v_2- \\ip{v_2,e_1}e_1} {\\| v_2- \\ip{v_2,e_1}e_1\\|} =  \\frac{x}{\\sqrt{ \\int_{-1}^1 x^2dx}} = \\sqrt{\\frac{3}{2}}x$"
   ]
  },
  {
   "cell_type": "markdown",
   "metadata": {},
   "source": [
    "$e_3=\\frac{ v_3- \\ip{v_3,e_1}e_1 - \\ip{v_3,e_2}e_2 } {\\| v_3- \\ip{v_3,e_1}e_1 - \\ip{v_3,e_2}e_2 \\|} =  \\frac{x-\\frac{1}{3}}{\\sqrt{ \\int_{-1}^1 \\left(x-\\frac{1}{3}\\right)^2dx}} = \\frac{3 \\sqrt{10} \\left(x^{2} - \\frac{1}{3}\\right)}{4} = \\sqrt{\\frac{45}{8}}\\left(x^2-\\frac{1}{3}\\right)$"
   ]
  },
  {
   "cell_type": "markdown",
   "metadata": {},
   "source": [
    "#### Solution:\n",
    "Apply Gram-Schmidt as in Example 6.33 but over interval $[0,1]$ rather than $[-1,1]$."
   ]
  },
  {
   "cell_type": "markdown",
   "metadata": {},
   "source": [
    "$e_1=\\frac{ \\ip{v_1,e_1}e_1} {\\| \\ip{v_1,e_1}e_1 \\|} =  \\frac{1}{\\sqrt{ \\int_{0}^1 1^2dx}} = 1$"
   ]
  },
  {
   "cell_type": "markdown",
   "metadata": {},
   "source": [
    "$e_2=\\frac{ v_2- \\ip{v_2,e_1}e_1} {\\| v_2- \\ip{v_2,e_1}e_1\\|} =  \\frac{x- \\int_{0}^1{x}dx}{\\sqrt{ \\int_{0}^1 \\left(x-\\frac{1}{2}\\right)^2dx}} = 2\\sqrt{3}\\left(x-\\frac{1}{2}\\right)$"
   ]
  },
  {
   "cell_type": "markdown",
   "metadata": {},
   "source": [
    "$e_3=\\frac{ v_3 - \\ip{v_3,e_1}e_1 - \\ip{v_3,e_2}e_2 } {\\| v_3- \\ip{v_3,e_1}e_1 - \\ip{v_3,e_2}e_2 \\|} = $\n",
    "$\\frac{x^2 - \\int_{0}^1 x^2(1)dx(1) - \\int_{0}^1 x^2 \\sqrt{3}\\left(x-\\frac{1}{2}\\right)dx\\sqrt{3}\\left(x-\\frac{1}{2}\\right)} \n",
    "{\\| v_3- \\ip{v_3,e_1}e_1 - \\ip{v_3,e_2}e_2 \\|} $\n",
    "$=\\frac{x^{2} - x + \\frac{1}{6}}\n",
    "{\\sqrt\\frac{\\sqrt{5}}{30}}$\n",
    "$= 6 \\sqrt{5} \\left(x^{2} - x + \\frac{1}{6}\\right)$"
   ]
  },
  {
   "cell_type": "markdown",
   "metadata": {},
   "source": [
    "$ (e_1, e_2, e_3) = \\left(\n",
    "1,\n",
    "\\sqrt{3} \\left(2x - 1\\right),\n",
    "6 \\sqrt{5} \\left(x^{2} - x + \\frac{1}{6}\\right)\n",
    " \\right)$\n",
    " \n",
    "$\\square$\n",
    "\n",
    "See also: 'feed the mind' below for direct computation and Example 6.33 above for the algorithm that we implimented.\n",
    "\n",
    "Note: I've been rigously tested our algorithm and compaired with hand calculations.  We found many other solutions on online to be incorrect.  Valided using Axler's example along with notes from Rashidi and Pham.  This was actually quite simple but easy to make small calculation errors."
   ]
  },
  {
   "cell_type": "code",
   "execution_count": 11,
   "metadata": {},
   "outputs": [
    {
     "data": {
      "image/png": "[encoded data removed]",
      "text/latex": [
       "$\\displaystyle \\left[ 1, \\  2 \\sqrt{3} \\left(x - \\frac{1}{2}\\right), \\  6 \\sqrt{5} \\left(x^{2} - x + \\frac{1}{6}\\right)\\right]$"
      ],
      "text/plain": [
       "⎡                        ⎛ 2       1⎞⎤\n",
       "⎢1, 2⋅√3⋅(x - 1/2), 6⋅√5⋅⎜x  - x + ─⎟⎥\n",
       "⎣                        ⎝         6⎠⎦"
      ]
     },
     "metadata": {},
     "output_type": "display_data"
    },
    {
     "data": {
      "text/plain": [
       "True"
      ]
     },
     "metadata": {},
     "output_type": "display_data"
    }
   ],
   "source": [
    "# feed the mind\n",
    "# validated with Example 6.33\n",
    "x = sym.symbols('x', real=True) # \n",
    "v1,v2,v3 = [1,x,x**2]\n",
    "lim0 = 0 # -1 For Example 6.33 and 0 for 6B5\n",
    "lim1 = 1\n",
    "\n",
    "# do it\n",
    "e1_nom = v1\n",
    "e1_denom = sym.sqrt(sym.integrate(e1_nom**2, (x,lim0,lim1)))\n",
    "e1 = e1_nom/e1_denom\n",
    "\n",
    "e2_nom = (v2 - sym.integrate(v2*e1, (x,lim0,lim1))*e1) \n",
    "e2_denom = sym.sqrt(sym.integrate(e2_nom**2, (x,lim0,lim1)))\n",
    "e2= e2_nom/e2_denom\n",
    "\n",
    "e3_nom = (v3 - sym.integrate(v3*e1, (x,lim0,lim1))*e1 - sym.integrate(v3*e2, (x,lim0,lim1))*e2) \n",
    "e3_denom = sym.sqrt(sym.integrate(e3_nom**2, (x,lim0,lim1))) # why doesn't this agree\n",
    "e3 = e3_nom/e3_denom\n",
    "\n",
    "# validation cases\n",
    "e3_axler = sym.sqrt(sym.Rational(45,8)) * (x**2-sym.Rational(1,3)) # Okay\n",
    "e3_pham = sym.sqrt(105)*sym.Rational(2,7)* (x**2-x-sym.Rational(1,6)) # Pham made a mistake on the last integral\n",
    "e3_rashidi = 6*sym.sqrt(5)*(x**2-x+ sym.Rational(1,6))# Rashidi got it right\n",
    "\n",
    "if (lim0==-1): \n",
    "    display([e1,e2,e3])\n",
    "    display(e3==e3_axler) # checks out\n",
    "    \n",
    "if (lim0==0): \n",
    "    display([e1,e2,e3]) # looks good\n",
    "    display(e3==e3_rashidi) # checks out"
   ]
  },
  {
   "cell_type": "code",
   "execution_count": 12,
   "metadata": {},
   "outputs": [
    {
     "name": "stdout",
     "output_type": "stream",
     "text": [
      "1\n",
      "2 \\sqrt{3} \\left(x - \\frac{1}{2}\\right)\n",
      "6 \\sqrt{5} \\left(x^{2} - x + \\frac{1}{6}\\right)\n"
     ]
    }
   ],
   "source": [
    "# put on the latex gloves\n",
    "print(sym.latex(e1))\n",
    "print(sym.latex(e2))\n",
    "print(sym.latex(e3))"
   ]
  },
  {
   "cell_type": "code",
   "execution_count": 13,
   "metadata": {},
   "outputs": [
    {
     "data": {
      "image/png": "[encoded data removed]",
      "text/latex": [
       "$\\displaystyle \\left( x^{2} - x + \\frac{1}{6}, \\  x^{4} - 2 x^{3} + \\frac{4 x^{2}}{3} - \\frac{x}{3} + \\frac{1}{36}\\right)$"
      ],
      "text/plain": [
       "⎛                           2         ⎞\n",
       "⎜ 2       1   4      3   4⋅x    x   1 ⎟\n",
       "⎜x  - x + ─, x  - 2⋅x  + ──── - ─ + ──⎟\n",
       "⎝         6               3     3   36⎠"
      ]
     },
     "execution_count": 13,
     "metadata": {},
     "output_type": "execute_result"
    }
   ],
   "source": [
    "e3_nom, sym.expand(e3_nom**2) # this is where Pham went wrong"
   ]
  },
  {
   "cell_type": "markdown",
   "metadata": {},
   "source": [
    "## 7. (6B15)\n",
    "### Suppose $C_R([-1,1])$ is the vector space of continuous real-valued functions on the interval $[-1,1]$ with inner product given by $$\\langle f, g \\rangle = \\int_{-1}^1 f(x)g(x)dx$$\n",
    "### for $f,g\\in C_R([-1,1])$.  Let $\\varphi$ be the linear functional on $C_R([-1,1])$ defined by $\\varphi(f)=f(0)$.  Show that there does not exist $g\\in C_R([-1,1])$ such that \n",
    "### $$\\varphi(f)=\\langle f,g\\rangle$$\n",
    "### for every $f\\in C_R([-1,1])$.\n",
    "[This exercise shows that the Riesz Representation Theroem (6.42) does not hold on infinte-dimensional vector spaces without additional hypotheses on $V$ and $\\varphi$.]"
   ]
  },
  {
   "cell_type": "markdown",
   "metadata": {},
   "source": [
    "#### Solution:\n",
    "Consider the contrary and there exists a $g$ such that $\\varphi(f)=f(t)$ for all $f\\in C_\\R$ and $t\\in[-1,1]$.\n",
    "\n",
    "If there exists such a function then,\n",
    "$$f(x) = (x-t)^2 g(x).$$\n",
    "\n",
    "Thus $f(t)=0$ must exist.  Hence,\n",
    "$$\\int_{-1}^1 f(x)g(x)dx = \\int_{-1}^1 \\left[(x-t) g(x)\\right]^2dx = f(t)=0.$$\n",
    "$$\\implies (x-t)g(x)=0 \\text{ and } g(x)=0,$$ \n",
    "since g(x) is continuous on the interval.\n",
    "\n",
    "Hence, $\\ip{f,g}=0$ for all $f\\in C_\\R([-1,1])$. \n",
    "This a contradiction if $f(t)\\neq 0$, thus no such function $g(x)$ exist.\n",
    "\n",
    "$\\square$\n",
    "\n",
    "$^*$ Validated with Pham's notes.  Used his construction of $(x-t)^2 g(x)$ to create an intergal in the familar form of $\\ip{f,g}=\\int_{-1}^1 \\left[(x-t) g(x)\\right]^2dx$."
   ]
  },
  {
   "cell_type": "markdown",
   "metadata": {},
   "source": [
    "##### Going deep:\n",
    "Consider if $F\\in\\R \\text{ or } \\C$ and is $D=\\left[{d}_{ij}\\right]$ is nonsingular matrix in $\\M_{n \\times n}(F)$ then inner production on $F^n$ is defined by,\n",
    "\n",
    "$\\left<\\\n",
    "{\\begin{bmatrix}a_1\\\\ \\vdots\\\\ a_n\\end{bmatrix}},\n",
    "{\\begin{bmatrix}\\overline{b_1}\\\\ \\vdots\\\\ \\overline{b_n}\\end{bmatrix}}\n",
    "\\right> = {\\begin{bmatrix}a_1&& \\cdots&& a_n\\end{bmatrix}} DD^H {\\begin{bmatrix}\\overline{b_1}\\\\ \\vdots\\\\ \\overline{b_n}\\end{bmatrix}}$, where $D^H=\\left[\\overline{d}_{ij}\\right]^T$.\n",
    "\n",
    "Weighted dot product is defined by,\n",
    "$\\left<\\\n",
    "{\\begin{bmatrix}a_1\\\\ \\vdots\\\\ a_n\\end{bmatrix}},\n",
    "{\\begin{bmatrix}\\overline{b_1}\\\\ \\vdots\\\\ \\overline{b_n}\\end{bmatrix}}\n",
    "\\right> =\n",
    "\\sum\\limits_{i=1}^n{ c_i a_i \\overline{b}_i}$."
   ]
  },
  {
   "cell_type": "code",
   "execution_count": 14,
   "metadata": {},
   "outputs": [
    {
     "data": {
      "text/latex": [
       "$\\displaystyle \\left[\\begin{matrix}1\\\\i\\end{matrix}\\right]$"
      ],
      "text/plain": [
       "⎡1⎤\n",
       "⎢ ⎥\n",
       "⎣ⅈ⎦"
      ]
     },
     "metadata": {},
     "output_type": "display_data"
    },
    {
     "data": {
      "text/latex": [
       "$\\displaystyle \\left[\\begin{matrix}0\\end{matrix}\\right]$"
      ],
      "text/plain": [
       "[0]"
      ]
     },
     "metadata": {},
     "output_type": "display_data"
    },
    {
     "data": {
      "text/latex": [
       "$\\displaystyle \\left[\\begin{matrix}2\\end{matrix}\\right]$"
      ],
      "text/plain": [
       "[2]"
      ]
     },
     "metadata": {},
     "output_type": "display_data"
    }
   ],
   "source": [
    "# Think about another case\n",
    "v = Matrix([1,sym.I])\n",
    "display(v)\n",
    "display(v.T*v) # nope, only works for F \\in R \n",
    "display(sym.conjugate(v.T)*v) # Hermitian transpose works for both"
   ]
  },
  {
   "cell_type": "markdown",
   "metadata": {},
   "source": [
    "# Appendix 0. Being but men\n",
    "\n",
    "```\n",
    "Being but men, we walked into the trees\n",
    "Afraid, letting our syllables be soft\n",
    "For fear of waking the rooks,\n",
    "For fear of coming\n",
    "Noiselessly into a world of wings and cries.\n",
    "\n",
    "If we were children we might climb,\n",
    "Catch the rooks sleeping, and break no twig,\n",
    "And, after the soft ascent,\n",
    "Thrust out our heads above the branches\n",
    "To wonder at the unfailing stars.\n",
    "\n",
    "Out of confusion, as the way is,\n",
    "And the wonder, that man knows,\n",
    "Out of the chaos would come bliss.\n",
    "\n",
    "That, then, is loveliness, we said,\n",
    "Children in wonder watching the stars,\n",
    "Is the aim and the end.\n",
    "\n",
    "Being but men, we walked into the trees.\n",
    "\n",
    "-Dylan Thomas\n",
    "```"
   ]
  }
 ],
 "metadata": {
  "kernelspec": {
   "display_name": "Python 3",
   "language": "python",
   "name": "python3"
  },
  "language_info": {
   "codemirror_mode": {
    "name": "ipython",
    "version": 3
   },
   "file_extension": ".py",
   "mimetype": "text/x-python",
   "name": "python",
   "nbconvert_exporter": "python",
   "pygments_lexer": "ipython3",
   "version": "3.8.10"
  }
 },
 "nbformat": 4,
 "nbformat_minor": 4
}
