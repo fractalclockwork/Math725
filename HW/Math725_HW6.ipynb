{
 "cells": [
  {
   "cell_type": "markdown",
   "metadata": {},
   "source": [
    "# Math 725 Advanced Linear Algebra\n",
    "## HW6\n",
    "\n",
    "\n",
    "### Brent A. Thorne\n",
    "\n",
    "brentathorne@gmail.com\n",
    "\n",
    "##### Inner Product Spaces\n"
   ]
  },
  {
   "cell_type": "markdown",
   "metadata": {},
   "source": [
    "$\\newcommand{\\null}{\\text{null }}$\n",
    "$\\newcommand{\\span}{\\text{span }}$\n",
    "$\\newcommand{\\dim}{\\text{dim }}$\n",
    "$\\newcommand{\\range}{\\text{range }}$\n",
    "\n",
    "$\\require{AMScd}$\n",
    "$\\require{cancel}$\n",
    "$\\newcommand{\\0}{\\{\\Bbb{0}\\}}$\n",
    "$\\newcommand{\\C}{\\Bbb{C}}$\n",
    "$\\newcommand{\\1}{\\Bbb{1}}$\n",
    "$\\newcommand{\\P}{\\mathcal{P}}$\n",
    "$\\newcommand{\\B}{\\mathcal{B}}$\n",
    "$\\newcommand{\\T}{\\mathcal{T}}$\n",
    "$\\newcommand{\\M}{\\mathcal{M}}$\n",
    "$\\newcommand{\\U}{\\mathbf{U}}$\n",
    "$\\newcommand{\\L}{\\mathcal{L}}$\n",
    "$\\newcommand{\\W}{\\mathbf{W}}$\n",
    "$\\newcommand{\\F}{\\mathbb{F}}$\n",
    "$\\newcommand{\\R}{\\mathbb{R}}$\n",
    "$\\newcommand{\\ip}[1]{\\langle#1\\rangle}$\n",
    "$\\newcommand{\\v}[2]{#1_1,\\cdots,#1_#2}$\n",
    "$\\newcommand{\\ip}[1]{\\langle#1\\rangle}$\n",
    "$\\newcommand{\\Bip}[1]{\\Big\\langle#1\\Big\\rangle}$\n",
    "$\\newcommand{\\rr}[2]{\\begin{bmatrix}#1\\\\#2\\end{bmatrix}}$"
   ]
  },
  {
   "cell_type": "code",
   "execution_count": 1,
   "metadata": {},
   "outputs": [],
   "source": [
    "# import libraries\n",
    "import numpy as np\n",
    "import sympy as sym\n",
    "from sympy.matrices import Matrix\n",
    "from sympy import I\n",
    "import matplotlib.pyplot as plt\n",
    "from IPython.display import display, Math, Latex\n",
    "\n",
    "from sympy import init_printing\n",
    "init_printing()"
   ]
  },
  {
   "cell_type": "markdown",
   "metadata": {},
   "source": [
    "## 1. (6A12)\n",
    "### Prove that $$(x_1+\\cdots+x_n)^2 \\leq \\mathfrak{n}(x_1^2+\\cdots+x_n^2)$$ for all positive integers $\\mathfrak{n}$ and all real numbers $x_1,...,x_n$."
   ]
  },
  {
   "cell_type": "markdown",
   "metadata": {},
   "source": [
    "##### Recall: Cauchy-Schwarz Inequality\n",
    "Suppose $u,v\\in V$. Then $$\\|\\langle u,v \\rangle\\|\\leq\\|u\\|\\|v\\|.$$\n",
    "This inequality is an equality if and only if one of the $u,v$ is a scalar multiple of the other."
   ]
  },
  {
   "cell_type": "markdown",
   "metadata": {},
   "source": [
    "##### Recall: norm, $\\|v\\|$\n",
    "For $v\\in V$, the norm of $v$, denoted $\\|v\\|$, is defined by $$\\|v\\|=\\sqrt{\\langle v,v \\rangle}.$$\n",
    "\n",
    "##### Recall: Euclidean inner product\n",
    "on $\\F^m=n$ is defined by, $$\\langle(\\v wn),(\\v zn)\\rangle=w_1\\overline{z_1}+\\cdots+w_n\\overline{z_n}.$$"
   ]
  },
  {
   "cell_type": "markdown",
   "metadata": {},
   "source": [
    "#### Solution:\n",
    "Assuming real $\\v xn$ and $\\mathfrak{n}=1,2,...$ and appling Cauchy-Schwarz Inequality with Euclidean inner product we have,\n",
    "$$\\langle(\\v xn),(\\v 1n)\\rangle = (x_1 1_1 +\\cdots+x_n 1_n)= x_1+\\cdots+x_n \\text{ (by EIP)}$$ \n",
    "$$\\|\\langle(\\v xn),(\\v 1n)\\rangle\\| \\leq (\\|x_1\\| +\\cdots+\\|x_n\\| )^2\\text{ (by CSI)}$$\n",
    "$$\\implies (x_1 +\\cdots+x_n)^2 \\leq \\mathfrak{n}(x_1^2 +\\cdots+x_n^2),$$\n",
    "as desired.\n",
    "\n",
    "$\\square$\n",
    "\n",
    "Are we waving our hands at the magitude of these?  I think not but I was operating on instinct.  Think about it.\n",
    "\n",
    "##### Going deeper:\n",
    "Here we apply Example 6.17 (a) and reference Caucy-Schwarz, noting that there exists a $v\\in V$ such that $\\|v\\|=1$ is a unit vector.  We can normalize any $v\\in V$ to produce a unit vector by dividing it by its norm. \n",
    "$$(\\R^n,\\langle,\\rangle):\\|v\\|=\\sqrt{\\sum\\limits_{i=1}^n{v_i^2} }$$\n",
    "\n",
    "$$(\\C^n,\\langle,\\rangle):\\|v\\|=\\sqrt{ \\sum\\limits_{i=1}^n{v_i \\overline{v_i} }} =\\sqrt{\\sum\\limits_{i=1}^n{|v_i|^2}} $$\n",
    "\n",
    "This might be a good place to introduce parallelogram law and note that it guarantees that a norm over a vector space will be induced by an inner product, thus the norm is Hilbertian.  We've already discovered some interesting properties through experimentation, such as Polarization...\n",
    "$$\\langle v,w \\rangle = \\frac{1}{4}\\Big(\\|v+w\\|^2-\\|v-w\\|^2\\Big), (\\F\\in \\R) \\text{, and}$$\n",
    "$$\\langle v,w \\rangle = \\frac{1}{4}\\Big[\\|v+w\\|^2-\\|v-w\\|^2 + i\\Big(\\|v+iw\\|^2-\\|v-iw\\|^2\\Big) \\Big], (\\F\\in \\C).$$\n",
    "...develop Pauli Matrix example from Polytope Project further if time allows.\n",
    "\n",
    "##### See also: From Euclidean to Hilbert Spaces, Edoardo Provenzi"
   ]
  },
  {
   "cell_type": "markdown",
   "metadata": {},
   "source": [
    "## 2. (6A18)\n",
    "### Suppose $p\\lt0$.  Prove that there is an inner product on $\\R^2$ such that the associated norm is given by $$\\|(x,y)\\|=(x^p+y^p)^{1/p}$$ for all $(x,y)\\in\\R^2$ if and only if $p=2$."
   ]
  },
  {
   "cell_type": "markdown",
   "metadata": {},
   "source": [
    "#### Solution:\n",
    "Consider polarization/parrallel theorm proof (6.22) and that \n",
    "$$\\langle u,v \\rangle = \\frac{1}{4}\\Big(\\|u+v\\|^2-\\|u-v\\|^2\\Big) = 0$$\n",
    "is orthogonal.  Then apply Pythagoras,\n",
    "$$\\sqrt{\\|u+v\\|^2}=\\sqrt{\\|u\\|^2+\\|v\\|^2}= \\Big(\\|u\\|^p + \\|v\\|^p \\Big)^{1/p}.$$\n",
    "Now we assume that from some $p$ this is true, thus, \n",
    "$$\\|u\\|^2+\\|v\\|^2= \\|u\\|^p + \\|v\\|^p,$$\n",
    "which is obviously only true if and only if $p=2$.\n",
    "\n",
    "$\\square$"
   ]
  },
  {
   "cell_type": "markdown",
   "metadata": {},
   "source": [
    "##### Scratch thoughts:\n",
    "\n",
    "Consider $u,v \\in \\R^2$ such that $\\ip{u,v}=0$ (othorgonal) and let $u=\\rr{1}{1}$ and $v=\\rr{1}{-1}$, then\n",
    "$$\\ip{u,v}=\\Bip{\\rr{1}{1},\\rr{1}{-1}} = 0,$$\n",
    "Then by Pythagoras,\n",
    "$$\\|u+v\\|^2=\\|u\\|^2+\\|v\\|^2$$\n",
    "$$\\implies \\Big\\|\\rr{2}{0} \\Big\\|^2= \\Big\\| \\rr{1}{1} \\Big\\|^2 + \\Big\\|\\rr{1}{-1} \\Big\\|^2$$\n",
    "Thus for RHS, $\\|(x,y)\\|$,\n",
    "$$2^2= \\sqrt{2}^2 + \\sqrt{2}^2 = 2+2 = 4.$$"
   ]
  },
  {
   "cell_type": "markdown",
   "metadata": {},
   "source": [
    "Also by some Pythagoras wrangling, the LHS becomes,\n",
    "$$\\sqrt{\\|u\\|^2+\\|v\\|^2}=(<u,u>^p + <v,v>^p)^{1/p},$$\n",
    "$$\\implies \\|u\\|^2+\\|v\\|^2=\\|u\\|^p + \\|v\\|^p,$$\n",
    "$$\\implies \\sqrt{2}^2 + \\sqrt{2}^2=\\sqrt{2}^p + \\sqrt{2}^p,$$\n",
    "$$4=(\\sqrt{2}\\sqrt{2})^p=2^p,$$\n",
    "Thus $p=2$ as desired.\n",
    "\n",
    "$\\square$\n",
    "\n",
    "Now we see a way forward to tighten up our solution using polarization theorem."
   ]
  },
  {
   "cell_type": "code",
   "execution_count": 2,
   "metadata": {},
   "outputs": [
    {
     "data": {
      "text/latex": [
       "$\\displaystyle \\left( \\left[\\begin{matrix}0\\end{matrix}\\right], \\  \\left( \\left[\\begin{matrix}2\\end{matrix}\\right], \\  \\left[\\begin{matrix}2\\end{matrix}\\right]\\right), \\  \\left[\\begin{matrix}2\\\\0\\end{matrix}\\right], \\  2, \\  \\sqrt{2}, \\  \\sqrt{2}\\right)$"
      ],
      "text/plain": [
       "⎛                 ⎡2⎤           ⎞\n",
       "⎜[0], ([2], [2]), ⎢ ⎥, 2, √2, √2⎟\n",
       "⎝                 ⎣0⎦           ⎠"
      ]
     },
     "execution_count": 2,
     "metadata": {},
     "output_type": "execute_result"
    }
   ],
   "source": [
    "# scracth the itch\n",
    "u = Matrix([1,1])\n",
    "v = Matrix([1,-1])\n",
    "u.T*v, (u.T*u, v.T*v), u+v, (u+v).norm(), u.norm(),v.norm()"
   ]
  },
  {
   "cell_type": "code",
   "execution_count": 3,
   "metadata": {},
   "outputs": [
    {
     "data": {
      "image/png": "[encoded data removed]",
      "text/latex": [
       "$\\displaystyle \\left(x^{p} + y^{p}\\right)^{\\frac{1}{p}}$"
      ],
      "text/plain": [
       "   _________\n",
       "p ╱  p    p \n",
       "╲╱  x  + y  "
      ]
     },
     "execution_count": 3,
     "metadata": {},
     "output_type": "execute_result"
    }
   ],
   "source": [
    "# think about distance in R^2\n",
    "x,y,p=sym.symbols('x y p')\n",
    "eq = (x**p+y**p)**(1/p)\n",
    "eq"
   ]
  },
  {
   "cell_type": "code",
   "execution_count": 4,
   "metadata": {},
   "outputs": [
    {
     "data": {
      "image/png": "[encoded data removed]",
      "text/latex": [
       "$\\displaystyle \\left( 2 \\cdot 2^{\\frac{p}{2}} = 4, \\  \\left[ 2\\right]\\right)$"
      ],
      "text/plain": [
       "⎛   p         ⎞\n",
       "⎜   ─         ⎟\n",
       "⎜   2         ⎟\n",
       "⎝2⋅2  = 4, [2]⎠"
      ]
     },
     "execution_count": 4,
     "metadata": {},
     "output_type": "execute_result"
    }
   ],
   "source": [
    "eq = sym.Eq(u.norm()**p+v.norm()**p,4)\n",
    "eq, sym.solve(eq,p)"
   ]
  },
  {
   "cell_type": "markdown",
   "metadata": {},
   "source": [
    "## 3. (6A20)\n",
    "### Suppose $V$ is a complex inner product space.  Prove that $$\\langle u,v\\rangle= \\frac{\\|u+v\\|^2 - \\|u-v\\|^2 + \\|u+iv\\|^2i - \\|u-iv\\|^2i}{4}$$ for all $u,v\\in V$."
   ]
  },
  {
   "cell_type": "markdown",
   "metadata": {},
   "source": [
    "##### Recall: Pythagorean Theorem\n",
    "$$\\|u+v\\|^2=\\ip{u+v,u+v}=\\|u\\|^2+\\ip{u,v}+\\ip{v,u}+\\|v\\|^2$$"
   ]
  },
  {
   "cell_type": "markdown",
   "metadata": {},
   "source": [
    "#### Solution:\n",
    "By direct computation we have,\n",
    "$$\\frac{\\|u+v\\|^2 - \\|u-v\\|^2 + \\|u+iv\\|^2i - \\|u-iv\\|^2i}{4}=\\frac{\\ip{u+v,u+v} - \\ip{u-v,u-v} + i\\ip{u+iv,u+iv} - i\\ip{u-iv,u-iv}}{4}$$\n",
    "$$=\\frac{\\|u\\|^2+\\ip{u,v}+\\ip{v,u}+\\|v\\|^2}{4} $$\n",
    "$$ \\frac{-\\|u\\|^2+\\ip{u,v}+\\ip{v,u}-\\|v\\|^2}{4} $$\n",
    "$$ \\frac{+i\\|u\\|^2+\\ip{u,v}-\\ip{v,u}+i\\|v\\|^2}{4} $$\n",
    "$$ \\frac{-i\\|u\\|^2+\\ip{u,v}-\\ip{v,u}-i\\|v\\|^2}{4}$$"
   ]
  },
  {
   "cell_type": "markdown",
   "metadata": {},
   "source": [
    "$$=\\frac{4\\ip{u,v}}{4}=\\ip{u,v},$$\n",
    "as desired.\n",
    "\n",
    "$\\square$"
   ]
  },
  {
   "cell_type": "markdown",
   "metadata": {},
   "source": [
    "##### Going deeper:\n",
    "Explore Bra and kets in quautum mechanics\n",
    "\n",
    "Let $\\mathcal{H}$ be a quantum-mechanical Hilbert space with inner product $(\\cdot|\\cdot)$.  In Dirac notation, a vector $\\psi\\in\\mathcal{H}$ is written as a ket $|\\rangle$ and the inner production $(\\psi|\\phi)$ is written $\\langle\\psi|\\phi\\rangle$.  Finally we conclude that the bra $\\langle|$ is the dual vector.\n",
    "\n",
    "See also: An Introduction to Tensors and Group Theory for Physicts, Nadir Jeevanjee"
   ]
  },
  {
   "cell_type": "code",
   "execution_count": 5,
   "metadata": {},
   "outputs": [
    {
     "data": {
      "image/png": "[encoded data removed]",
      "text/latex": [
       "$\\displaystyle \\left( \\left\\langle b \\right. {\\left|k\\right\\rangle }, \\  {\\left\\langle b\\right|}, \\  {\\left|k\\right\\rangle }\\right)$"
      ],
      "text/plain": [
       "(⟨b❘k⟩, ⟨b❘, ❘k⟩)"
      ]
     },
     "execution_count": 5,
     "metadata": {},
     "output_type": "execute_result"
    }
   ],
   "source": [
    "from sympy.physics.quantum import Bra, Ket, qapply\n",
    "b = Bra('b')\n",
    "k = Ket('k')\n",
    "ip = b*k\n",
    "ip, ip.bra, ip.ket"
   ]
  },
  {
   "cell_type": "markdown",
   "metadata": {},
   "source": [
    "#### Now let's try to apply it to this...\n",
    "$$\\langle u,v\\rangle= \\frac{\\|u+v\\|^2 - \\|u-v\\|^2 + \\|u+iv\\|^2i - \\|u-iv\\|^2i}{4}$$\n",
    "\n",
    "##### Recall: Pythagorean Theorem\n",
    "$$\\|u+v\\|^2=\\ip{u+v,u+v}=\\|u\\|^2+\\ip{u,v}+\\ip{v,u}+\\|v\\|^2$$"
   ]
  },
  {
   "cell_type": "code",
   "execution_count": 36,
   "metadata": {},
   "outputs": [
    {
     "data": {
      "image/png": "[encoded data removed]",
      "text/latex": [
       "$\\displaystyle \\frac{- i \\left({\\left\\langle u\\right|} - i {\\left|v\\right\\rangle }\\right)^{2} + i \\left({\\left\\langle u\\right|} + i {\\left|v\\right\\rangle }\\right)^{2} - \\left({\\left\\langle u\\right|} - {\\left|v\\right\\rangle }\\right)^{2} + \\left({\\left\\langle u\\right|} + {\\left|v\\right\\rangle }\\right)^{2}}{4}$"
      ],
      "text/plain": [
       "                 2                  2              2              2\n",
       "- ⅈ⋅(⟨u❘ - ⅈ⋅❘v⟩)  + ⅈ⋅(⟨u❘ + ⅈ⋅❘v⟩)  - (⟨u❘ - ❘v⟩)  + (⟨u❘ + ❘v⟩) \n",
       "───────────────────────────────────────────────────────────────────\n",
       "                                 4                                 "
      ]
     },
     "metadata": {},
     "output_type": "display_data"
    },
    {
     "data": {
      "image/png": "[encoded data removed]",
      "text/latex": [
       "$\\displaystyle - \\frac{{\\left|v\\right\\rangle } {\\left\\langle u\\right|}}{4} + \\frac{{\\left|v\\right\\rangle }{\\left\\langle u\\right|}}{4}$"
      ],
      "text/plain": [
       "  ❘v⟩⋅⟨u❘   ❘v⟩⟨u❘\n",
       "- ─────── + ──────\n",
       "     4        4   "
      ]
     },
     "execution_count": 36,
     "metadata": {},
     "output_type": "execute_result"
    }
   ],
   "source": [
    "i = sym.I\n",
    "u = Bra('u')\n",
    "#v = Bra('v') \n",
    "v = Ket('v') # see conclusion at the end as to why this didn't work as expected\n",
    "\n",
    "ip = ((u+v)**2 - (u-v)**2 + i*(u+i*v)**2 - i*(u-i*v)**2)/4\n",
    "display(ip)\n",
    "qapply(ip)  # not exactly what we expected"
   ]
  },
  {
   "cell_type": "code",
   "execution_count": 37,
   "metadata": {},
   "outputs": [
    {
     "data": {
      "image/png": "[encoded data removed]",
      "text/latex": [
       "$\\displaystyle \\frac{- i \\left({\\left\\langle u\\right|} - i {\\left|v\\right\\rangle }\\right)^{2} + i \\left({\\left\\langle u\\right|} + i {\\left|v\\right\\rangle }\\right)^{2} - \\left({\\left\\langle u\\right|} - {\\left|v\\right\\rangle }\\right)^{2} + \\left({\\left\\langle u\\right|} + {\\left|v\\right\\rangle }\\right)^{2}}{4}$"
      ],
      "text/plain": [
       "                 2                  2              2              2\n",
       "- ⅈ⋅(⟨u❘ - ⅈ⋅❘v⟩)  + ⅈ⋅(⟨u❘ + ⅈ⋅❘v⟩)  - (⟨u❘ - ❘v⟩)  + (⟨u❘ + ❘v⟩) \n",
       "───────────────────────────────────────────────────────────────────\n",
       "                                 4                                 "
      ]
     },
     "metadata": {},
     "output_type": "display_data"
    },
    {
     "data": {
      "image/png": "[encoded data removed]",
      "text/latex": [
       "$\\displaystyle - \\frac{{\\left|v\\right\\rangle } {\\left\\langle u\\right|}}{4} + \\frac{{\\left|v\\right\\rangle }{\\left\\langle u\\right|}}{4}$"
      ],
      "text/plain": [
       "  ❘v⟩⋅⟨u❘   ❘v⟩⟨u❘\n",
       "- ─────── + ──────\n",
       "     4        4   "
      ]
     },
     "execution_count": 37,
     "metadata": {},
     "output_type": "execute_result"
    }
   ],
   "source": [
    "ip = sym.Rational(1,4) * ( (u+v)*(u+v) - (u-v)*(u-v) + i*(u+i*v)*(u+i*v) - i*(u-i*v)*(u-i*v) )\n",
    "display(ip)\n",
    "qapply(ip) # at least it's consistant"
   ]
  },
  {
   "cell_type": "code",
   "execution_count": 8,
   "metadata": {},
   "outputs": [
    {
     "data": {
      "image/png": "[encoded data removed]",
      "text/latex": [
       "$\\displaystyle \\frac{- i \\left({\\left\\langle u\\right|} - i {\\left|v\\right\\rangle }\\right)^{2} + i \\left({\\left\\langle u\\right|} + i {\\left|v\\right\\rangle }\\right)^{2} - \\left({\\left\\langle u\\right|} - {\\left|v\\right\\rangle }\\right)^{2} + \\left({\\left\\langle u\\right|} + {\\left|v\\right\\rangle }\\right)^{2}}{4}$"
      ],
      "text/plain": [
       "                 2                  2              2              2\n",
       "- ⅈ⋅(⟨u❘ - ⅈ⋅❘v⟩)  + ⅈ⋅(⟨u❘ + ⅈ⋅❘v⟩)  - (⟨u❘ - ❘v⟩)  + (⟨u❘ + ❘v⟩) \n",
       "───────────────────────────────────────────────────────────────────\n",
       "                                 4                                 "
      ]
     },
     "metadata": {},
     "output_type": "display_data"
    },
    {
     "data": {
      "image/png": "[encoded data removed]",
      "text/latex": [
       "$\\displaystyle - \\frac{{\\left|v\\right\\rangle } {\\left\\langle u\\right|}}{4} + \\frac{{\\left|v\\right\\rangle }{\\left\\langle u\\right|}}{4}$"
      ],
      "text/plain": [
       "  ❘v⟩⋅⟨u❘   ❘v⟩⟨u❘\n",
       "- ─────── + ──────\n",
       "     4        4   "
      ]
     },
     "execution_count": 8,
     "metadata": {},
     "output_type": "execute_result"
    }
   ],
   "source": [
    "# swap conjugate order between Dirac's notation and historic Maths notation.\n",
    "ip = ((u+v)**2 - (u-v)**2 + i*(u+i*v)**2 - i*(u-i*v)**2)/4\n",
    "display(ip)\n",
    "qapply(ip)  # nope"
   ]
  },
  {
   "cell_type": "code",
   "execution_count": 9,
   "metadata": {},
   "outputs": [
    {
     "data": {
      "image/png": "[encoded data removed]",
      "text/latex": [
       "$\\displaystyle \\left( {\\left\\langle u\\right|}, \\  {\\left|u\\right\\rangle }, \\  {\\left\\langle k\\right|}, \\  {\\left|k\\right\\rangle }\\right)$"
      ],
      "text/plain": [
       "(⟨u❘, ❘u⟩, ⟨k❘, ❘k⟩)"
      ]
     },
     "execution_count": 9,
     "metadata": {},
     "output_type": "execute_result"
    }
   ],
   "source": [
    "u,u.dual, k.dual,k"
   ]
  },
  {
   "cell_type": "code",
   "execution_count": 10,
   "metadata": {},
   "outputs": [
    {
     "data": {
      "image/png": "[encoded data removed]",
      "text/latex": [
       "$\\displaystyle \\left\\langle u \\right. {\\left|u\\right\\rangle } + \\left\\langle u \\right. {\\left|v\\right\\rangle } + \\left\\langle v \\right. {\\left|u\\right\\rangle } + \\left\\langle v \\right. {\\left|v\\right\\rangle }$"
      ],
      "text/plain": [
       "⟨u❘u⟩ + ⟨u❘v⟩ + ⟨v❘u⟩ + ⟨v❘v⟩"
      ]
     },
     "metadata": {},
     "output_type": "display_data"
    },
    {
     "data": {
      "text/plain": [
       "(True, False)"
      ]
     },
     "execution_count": 10,
     "metadata": {},
     "output_type": "execute_result"
    }
   ],
   "source": [
    "# let's try something simpler\n",
    "ip0 = qapply(u*v.dual)\n",
    "ip1 = qapply((u+v)*(u+v))\n",
    "ip2 = qapply((u*u)+(u*v)+(v*u)+(v*v))\n",
    "ip3 = qapply((u*u.dual)+(u*v)+(v.dual*u.dual)+(v.dual*v))\n",
    "display(ip3)\n",
    "ip1==ip2, ip1==ip3 # nope, but we start to see the bug"
   ]
  },
  {
   "cell_type": "code",
   "execution_count": 11,
   "metadata": {},
   "outputs": [
    {
     "data": {
      "image/png": "[encoded data removed]",
      "text/latex": [
       "$\\displaystyle \\left\\langle u \\right. {\\left|v\\right\\rangle }$"
      ],
      "text/plain": [
       "⟨u❘v⟩"
      ]
     },
     "metadata": {},
     "output_type": "display_data"
    }
   ],
   "source": [
    "# here we're just using our hand expansion\n",
    "ip=((\n",
    "    (u*u.dual)+(u*v)+(v.dual*u.dual)+(v.dual*v) +\n",
    "     -(u*u.dual)+(u*v)+(v.dual*u.dual)-(v.dual*v) +\n",
    "     i*(u*u.dual)+(u*v)-(v.dual*u.dual)+i*(v.dual*v) +\n",
    "     -i*(u*u.dual)+(u*v)-(v.dual*u.dual)-i*(v.dual*v)\n",
    "    )/4)\n",
    "display(ip) # at least now it works out so we get a clue"
   ]
  },
  {
   "cell_type": "code",
   "execution_count": 12,
   "metadata": {},
   "outputs": [
    {
     "data": {
      "image/png": "[encoded data removed]",
      "text/latex": [
       "$\\displaystyle \\left( \\left\\langle u \\right. {\\left|v\\right\\rangle }, \\  0\\right)$"
      ],
      "text/plain": [
       "(⟨u❘v⟩, 0)"
      ]
     },
     "execution_count": 12,
     "metadata": {},
     "output_type": "execute_result"
    }
   ],
   "source": [
    "# just a matter of proper notation...\n",
    "i = sym.I\n",
    "u = Bra('u')\n",
    "v_ = Bra('v')\n",
    "ip = ((u+v_)**2 - (u-v_)**2 + i*(u+i*v_)**2 - i*(u-i*v_)**2)/4\n",
    "u*v_.dual, qapply(ip) # yup, zero* actaully makes sence for two orthogonal vectors "
   ]
  },
  {
   "cell_type": "code",
   "execution_count": 13,
   "metadata": {},
   "outputs": [
    {
     "data": {
      "image/png": "[encoded data removed]",
      "text/latex": [
       "$\\displaystyle \\left( \\frac{- i \\left({\\left\\langle u\\right|} - i {\\left\\langle v\\right|}\\right)^{2} + i \\left({\\left\\langle u\\right|} + i {\\left\\langle v\\right|}\\right)^{2} - \\left({\\left\\langle u\\right|} - {\\left\\langle v\\right|}\\right)^{2} + \\left({\\left\\langle u\\right|} + {\\left\\langle v\\right|}\\right)^{2}}{4}, \\  0\\right)$"
      ],
      "text/plain": [
       "⎛                 2                  2              2              2   ⎞\n",
       "⎜- ⅈ⋅(⟨u❘ - ⅈ⋅⟨v❘)  + ⅈ⋅(⟨u❘ + ⅈ⋅⟨v❘)  - (⟨u❘ - ⟨v❘)  + (⟨u❘ + ⟨v❘)    ⎟\n",
       "⎜───────────────────────────────────────────────────────────────────, 0⎟\n",
       "⎝                                 4                                    ⎠"
      ]
     },
     "execution_count": 13,
     "metadata": {},
     "output_type": "execute_result"
    }
   ],
   "source": [
    "# and again in a slightly different way, because that's how we roll...\n",
    "ip = sym.Rational(1,4) * ( (u+v_)*(u+v_) - (u-v_)*(u-v_) + i*(u+i*v_)*(u+i*v_) - i*(u-i*v_)*(u-i*v_) )\n",
    "ip, qapply(ip)"
   ]
  },
  {
   "cell_type": "markdown",
   "metadata": {},
   "source": [
    "$^*$ Based on this result we conclude that the inner product is the matrix multiplication of a vector and a dual vector."
   ]
  },
  {
   "attachments": {
    "HW6_6A31.png": {
     "image/png": "[encoded data removed]"
    }
   },
   "cell_type": "markdown",
   "metadata": {},
   "source": [
    "## 4. (6A31)\n",
    "### Use inner products to prove Apollonius' Identity: In a triangle with sides of length $a$, $b$, and $c$, let $d$ be the length of the line segment from the midpoint of the side of length $c$ to the opposite vertex.  Then $$a^2 + b^2 = \\frac{1}{2}c^2+2d^2.$$\n",
    "![HW6_6A31.png](attachment:HW6_6A31.png)"
   ]
  },
  {
   "cell_type": "markdown",
   "metadata": {},
   "source": [
    "##### Recall: Euclidean Inner Production\n",
    "on $\\F^n$ is defined by,\n",
    "$$\\langle(\\v wn),(\\v zn)\\rangle = w_1\\overline{z_1}+\\cdots+w_n\\overline{z_n}.$$\n",
    "\n",
    "##### Recall: Triangle Inequality\n",
    "Suppose $u,v\\in V$.  Then $$\\|u+v\\| \\leq \\|u\\|+\\|v\\|.$$ This inequality is an equality if and only if one of the $u,v$ is a nonnegative multiple of the other.\n",
    "\n",
    "##### Recall: Cauchy-Schwarz Inequality\n",
    "Suppose $u,v\\in V$.  Then $$\\|\\langle u+v\\rangle\\| \\leq \\|u\\|+\\|v\\|.$$ This inequality is an equality if and only if one of the $u,v$ is a nonnegative multiple of the other."
   ]
  },
  {
   "cell_type": "markdown",
   "metadata": {},
   "source": [
    "#### Solution:\n",
    "Our goal is $a^2 + b^2 = \\frac{1}{2}c^2+2d^2.$\n",
    "\n",
    "Assume $a,b\\in \\R^2$ and are scalar multiples of eachother, then by Triangle Inequality,\n",
    "$$d+\\frac{1}{2}c=a \\text{ and } b+\\frac{1}{2}c=d,$$\n",
    "$$ \\implies a=d+\\frac{1}{2}c \\text{ and } b=d-\\frac{1}{2}c.$$"
   ]
  },
  {
   "cell_type": "markdown",
   "metadata": {},
   "source": [
    "Then by Cauchy-Schwarz (and Pythagoras of Samos), $$\\|\\langle a+b \\rangle\\|^2=\\|a\\|^2+\\|b\\|^2,$$\n",
    "$$= \\Big\\|d+\\frac{1}{2}c\\Big\\|^2 + \\Big\\|d-\\frac{1}{2}c\\Big\\|^2,$$\n",
    "$$=\\frac{1}{2}c^2+2d^2,$$\n",
    "as desired.\n",
    "\n",
    "$\\square$\n",
    "\n",
    "See also: Axler, proof of 6.18 Triangle Inequality, 6.19 and 6.20.\n",
    "\n",
    "See also: Alternate solution below which is based on the following numberic experiments. "
   ]
  },
  {
   "cell_type": "code",
   "execution_count": 14,
   "metadata": {},
   "outputs": [
    {
     "data": {
      "image/png": "[encoded data removed]",
      "text/latex": [
       "$\\displaystyle \\frac{c^{2}}{2} + 2 d^{2}$"
      ],
      "text/plain": [
       " 2       \n",
       "c       2\n",
       "── + 2⋅d \n",
       "2        "
      ]
     },
     "execution_count": 14,
     "metadata": {},
     "output_type": "execute_result"
    }
   ],
   "source": [
    "# scratch out the idea\n",
    "a,b,c,d = sym.symbols('a b c d')\n",
    "a = (d+c/2)**2\n",
    "b = (d-c/2)**2\n",
    "sym.expand(a + b)"
   ]
  },
  {
   "cell_type": "code",
   "execution_count": 40,
   "metadata": {},
   "outputs": [
    {
     "data": {
      "text/latex": [
       "Consider Coherence:"
      ],
      "text/plain": [
       "<IPython.core.display.Latex object>"
      ]
     },
     "metadata": {},
     "output_type": "display_data"
    },
    {
     "data": {
      "text/latex": [
       "$\\displaystyle \\left[\\begin{matrix}582 & 360\\\\360 & 300\\end{matrix}\\right]$"
      ],
      "text/plain": [
       "⎡582  360⎤\n",
       "⎢        ⎥\n",
       "⎣360  300⎦"
      ]
     },
     "metadata": {},
     "output_type": "display_data"
    },
    {
     "data": {
      "text/latex": [
       "Consider decoherence:"
      ],
      "text/plain": [
       "<IPython.core.display.Latex object>"
      ]
     },
     "metadata": {},
     "output_type": "display_data"
    },
    {
     "data": {
      "text/latex": [
       "$\\displaystyle \\left[\\begin{matrix}0 & 0 & 0 & 0 & 0 & 0 & 0 & 0 & 0\\\\0 & 100 & 120 & 0 & 50 & 120 & 0 & 120 & 50\\\\0 & 120 & 244 & 0 & 60 & 244 & 0 & 244 & 60\\\\0 & 0 & 0 & 0 & 0 & 0 & 0 & 0 & 0\\\\0 & 50 & 60 & 0 & 25 & 60 & 0 & 60 & 25\\\\0 & 120 & 244 & 0 & 60 & 244 & 0 & 244 & 60\\\\0 & 0 & 0 & 0 & 0 & 0 & 0 & 0 & 0\\\\0 & 120 & 244 & 0 & 60 & 244 & 0 & 244 & 60\\\\0 & 50 & 60 & 0 & 25 & 60 & 0 & 60 & 25\\end{matrix}\\right]$"
      ],
      "text/plain": [
       "⎡0   0    0   0  0    0   0   0   0 ⎤\n",
       "⎢                                   ⎥\n",
       "⎢0  100  120  0  50  120  0  120  50⎥\n",
       "⎢                                   ⎥\n",
       "⎢0  120  244  0  60  244  0  244  60⎥\n",
       "⎢                                   ⎥\n",
       "⎢0   0    0   0  0    0   0   0   0 ⎥\n",
       "⎢                                   ⎥\n",
       "⎢0  50   60   0  25  60   0  60   25⎥\n",
       "⎢                                   ⎥\n",
       "⎢0  120  244  0  60  244  0  244  60⎥\n",
       "⎢                                   ⎥\n",
       "⎢0   0    0   0  0    0   0   0   0 ⎥\n",
       "⎢                                   ⎥\n",
       "⎢0  120  244  0  60  244  0  244  60⎥\n",
       "⎢                                   ⎥\n",
       "⎣0  50   60   0  25  60   0  60   25⎦"
      ]
     },
     "metadata": {},
     "output_type": "display_data"
    },
    {
     "data": {
      "text/plain": [
       "True"
      ]
     },
     "metadata": {},
     "output_type": "display_data"
    },
    {
     "data": {
      "text/plain": [
       "True"
      ]
     },
     "metadata": {},
     "output_type": "display_data"
    },
    {
     "data": {
      "text/plain": [
       "'What we are showing here is that a dual vector, left multplied with a vector, is an inner product.'"
      ]
     },
     "metadata": {},
     "output_type": "display_data"
    },
    {
     "data": {
      "image/png": "[encoded data removed]",
      "text/plain": [
       "<Figure size 432x288 with 1 Axes>"
      ]
     },
     "metadata": {
      "needs_background": "light"
     },
     "output_type": "display_data"
    }
   ],
   "source": [
    "# let's play about with this a bit in R^2\n",
    "t1=Matrix([[0,0],[10,0],[12,10]]).T\n",
    "t2=Matrix([[0,0],[5,0],[12,10]]).T\n",
    "t3=Matrix([[0,0],[12,10],[5,0]]).T\n",
    "\n",
    "T=t1\n",
    "T=(T.row_join(t2).row_join(t3))\n",
    "\n",
    "x,y=np.array(T)\n",
    "plt.scatter(x,y)\n",
    "plt.plot(x,y)\n",
    "\n",
    "plttext = lambda x,y,t: plt.text(x-.3,y+.3,t)\n",
    "plttext(12,10,'w')\n",
    "plttext(0,0,'u')\n",
    "plttext(10,0,'v')\n",
    "plttext(5,0,'v/2')\n",
    "\n",
    "plttext((12+0)/2,10/2,'a')\n",
    "plttext((12+10)/2,10/2,'b')\n",
    "plttext(8,0,'c')\n",
    "plttext((12+5)/2,(10-0)/2,'d')\n",
    "\n",
    "display(Latex('Consider Coherence:'))\n",
    "display(T*T.T)\n",
    "\n",
    "display(Latex('Consider decoherence:'))\n",
    "display(T.T*T)\n",
    "\n",
    "u=t1.col(1)\n",
    "v=t1.col(2)\n",
    "display((u+v).norm()**2+(u-v).norm()**2 ==\n",
    "        2*(u.norm()**2 + v.norm()**2)) # which is obvious\n",
    "display(u.T*v == v.T*u) # also obvious\n",
    "\n",
    "display(\"What we are showing here is that a dual vector, left multplied with a vector, is an inner product.\")"
   ]
  },
  {
   "cell_type": "markdown",
   "metadata": {},
   "source": [
    "#### Alternate solution:\n",
    "Goal is, $$a^2 + b^2 = \\frac{1}{2}c^2+2d^2.$$\n",
    "$$\\text{ Let, } \\begin{cases}a=w-u\\\\ b=w-v\\\\ c=u-v\\\\ d=w-\\frac{1}{2}(u+v)\\end{cases}  $$\n",
    "Consider, $$\\|w-u\\|^2+\\|w-v\\|^2=\\frac{1}{2}\\|u-v\\|^2+2\\Big(\\|w\\|-\\frac{1}{2}\\|(u+v)\\|\\Big)^2 \\text{ is true, }$$\n",
    "$$\\implies a^2 + b^2 = \\frac{1}{2}c^2+2d^2 \\text{, as desired.}$$\n",
    "$\\square$\n",
    "\n",
    "See also: Direct calculation below."
   ]
  },
  {
   "cell_type": "code",
   "execution_count": 42,
   "metadata": {},
   "outputs": [
    {
     "data": {
      "image/png": "[encoded data removed]",
      "text/latex": [
       "$\\displaystyle \\left(- {\\left|v\\right\\rangle } + {\\left|w\\right\\rangle }\\right)^{2} + {\\left|w\\right\\rangle }^{2}$"
      ],
      "text/plain": [
       "            2      2\n",
       "(-❘v⟩ + ❘w⟩)  + ❘w⟩ "
      ]
     },
     "metadata": {},
     "output_type": "display_data"
    },
    {
     "data": {
      "text/plain": [
       "True"
      ]
     },
     "execution_count": 42,
     "metadata": {},
     "output_type": "execute_result"
    }
   ],
   "source": [
    "# direct calculation of alternate proof\n",
    "#u=Bra('u')\n",
    "#v=Bra('v')\n",
    "#w=Bra('w')\n",
    "\n",
    "# Jeevanjee uses Bra for vectors, however it\n",
    "# appears that Kets are more commonly used as vectors\n",
    "# in Mathematics.  It also feels more syntaxically\n",
    "# correct as our dual might be considered a linear functional... think about this.\n",
    "u=Ket('u')\n",
    "v=Ket('v')\n",
    "w=Ket('w')\n",
    "\n",
    "u=0 # simplify our coordinates\n",
    "a=w-u\n",
    "b=w-v\n",
    "c=u-v\n",
    "d=w-(u+v)/2\n",
    "\n",
    "display(qapply(w-u)**2 + (w-v)**2)\n",
    "qapply((w-u)**2 + (w-v)**2) == qapply(((2*w-u-v)**2+(u-v)**2)/2)"
   ]
  },
  {
   "cell_type": "code",
   "execution_count": 45,
   "metadata": {},
   "outputs": [
    {
     "data": {
      "image/png": "[encoded data removed]",
      "text/latex": [
       "$\\displaystyle - {\\left|v\\right\\rangle } {\\left|w\\right\\rangle } + {\\left|v\\right\\rangle }^{2} - {\\left|w\\right\\rangle } {\\left|v\\right\\rangle } + 2 {\\left|w\\right\\rangle }^{2}$"
      ],
      "text/plain": [
       "              2                  2\n",
       "-❘v⟩⋅❘w⟩ + ❘v⟩  - ❘w⟩⋅❘v⟩ + 2⋅❘w⟩ "
      ]
     },
     "execution_count": 45,
     "metadata": {},
     "output_type": "execute_result"
    }
   ],
   "source": [
    "qapply((u-v)**2/2+2*(w-(u+v)/2)**2)"
   ]
  },
  {
   "cell_type": "code",
   "execution_count": 34,
   "metadata": {},
   "outputs": [
    {
     "data": {
      "image/png": "[encoded data removed]",
      "text/latex": [
       "$\\displaystyle \\mathcal{H}$"
      ],
      "text/plain": [
       "H"
      ]
     },
     "metadata": {},
     "output_type": "display_data"
    },
    {
     "data": {
      "image/png": "[encoded data removed]",
      "text/latex": [
       "$\\displaystyle - {\\left|v\\right\\rangle } {\\left|w\\right\\rangle } + {\\left|v\\right\\rangle }^{2} - {\\left|w\\right\\rangle } {\\left|v\\right\\rangle } + 2 {\\left|w\\right\\rangle }^{2}$"
      ],
      "text/plain": [
       "              2                  2\n",
       "-❘v⟩⋅❘w⟩ + ❘v⟩  - ❘w⟩⋅❘v⟩ + 2⋅❘w⟩ "
      ]
     },
     "metadata": {},
     "output_type": "display_data"
    },
    {
     "data": {
      "image/png": "[encoded data removed]",
      "text/latex": [
       "$\\displaystyle - {\\left|v\\right\\rangle } {\\left|w\\right\\rangle } + {\\left|v\\right\\rangle }^{2} - {\\left|w\\right\\rangle } {\\left|v\\right\\rangle } + 2 {\\left|w\\right\\rangle }^{2}$"
      ],
      "text/plain": [
       "              2                  2\n",
       "-❘v⟩⋅❘w⟩ + ❘v⟩  - ❘w⟩⋅❘v⟩ + 2⋅❘w⟩ "
      ]
     },
     "metadata": {},
     "output_type": "display_data"
    },
    {
     "data": {
      "text/plain": [
       "True"
      ]
     },
     "metadata": {},
     "output_type": "display_data"
    }
   ],
   "source": [
    "# now plug and chug on the given formula\n",
    "display(w.hilbert_space)\n",
    "display(qapply(a**2+b**2))\n",
    "display(qapply(c**2/2 + 2*d**2))\n",
    "display(qapply(a**2+b**2) == qapply(c**2/2 + 2*d**2)) "
   ]
  },
  {
   "cell_type": "markdown",
   "metadata": {},
   "source": [
    "##### Note: \n",
    "Checks out!! \n",
    "Appears to be in the form of the Parallelogram Equality...\n",
    "\n",
    "Ask Arek about how to make this result more intertable!!\n",
    "\n",
    "We might be able to put our Bra into the same Hilbert space (Ketbase?) to simply further... \n",
    "\n",
    "I have no idea what I was thinking about here... \n",
    "\n",
    "Actaully after some thought this is because of the swapping of Bra instead of Ket as our sample matrix in early texts.  Doesn't really matter if consistant.  "
   ]
  },
  {
   "cell_type": "markdown",
   "metadata": {},
   "source": [
    "## 5. (6B2)\n",
    "### Suppose $\\v em$ is an orthonormal list of vector in $V$.  Let $v\\in V$.  Prove that $$\\|v\\|^2=|\\langle v,e_1\\rangle|^2+\\cdots+|\\langle v,e_m\\rangle|^2$$ if and only if $v\\in\\span(\\v em)$."
   ]
  },
  {
   "cell_type": "markdown",
   "metadata": {},
   "source": [
    "## 6. (6B5)\n",
    "### On $\\P_2(\\R)$, consider the inner product given by $$\\langle p,q \\rangle = \\int_0^1p(x)q(x)dx.$$  Apply the Gram-Schmidt Procedure to the basis $1,x,x^2$ to produce an orthonormal basis of $\\P_2(\\R).$\n"
   ]
  },
  {
   "cell_type": "markdown",
   "metadata": {},
   "source": [
    "## 7. (6B15)\n",
    "### Suppose $C_R([-1,1])$ is the vector space of continuous real-valued functions on the interval $[-1,1]$ with inner product given by $$\\langle f, g \\rangle = \\int_{-1}^1 f(x)g(x)dx$$\n",
    "### for $f,g\\in C_R([-1,1])$.  Let $\\varphi$ be the linear functional on $C_R([-1,1])$ defined by $\\varphi(f)=f(0)$.  Show that there does not exist $g\\in C_R([-1,1])$ such that \n",
    "### $$\\varphi(f)=\\langle f,g\\rangle$$\n",
    "### for every $f\\in C_R([-1,1])$.\n",
    "[This exercise shows that the Riesz Representation Theroem (6.42) does not hold on infinte-dimensional vector spaces withou additional hypotheses on $V$ and $\\varphi$.]"
   ]
  },
  {
   "cell_type": "markdown",
   "metadata": {},
   "source": [
    "# Appendix 0. More nonsense"
   ]
  }
 ],
 "metadata": {
  "kernelspec": {
   "display_name": "Python 3",
   "language": "python",
   "name": "python3"
  },
  "language_info": {
   "codemirror_mode": {
    "name": "ipython",
    "version": 3
   },
   "file_extension": ".py",
   "mimetype": "text/x-python",
   "name": "python",
   "nbconvert_exporter": "python",
   "pygments_lexer": "ipython3",
   "version": "3.8.10"
  }
 },
 "nbformat": 4,
 "nbformat_minor": 4
}
