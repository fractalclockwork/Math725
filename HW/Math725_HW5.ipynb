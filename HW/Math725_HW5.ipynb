{
 "cells": [
  {
   "cell_type": "markdown",
   "metadata": {},
   "source": [
    "# Math 725 Advanced Linear Algebra\n",
    "## HW5\n",
    "\n",
    "\n",
    "### Brent A. Thorne\n",
    "\n",
    "brentathorne@gmail.com\n",
    "\n",
    "##### Eigenvalues and eigenvectors\n",
    "\n",
    "see also:\n",
    "\n",
    "SVD and applicaitons: https://towardsdatascience.com/understanding-singular-value-decomposition-and-its-application-in-data-science-388a54be95d\n",
    "\n",
    "Nathanial Johnston: http://www.njohnston.ca/publications/advanced-linear-and-matrix-algebra/\n",
    "https://www.youtube.com/user/NathanielJohnst\n",
    "\n",
    "Math at Andrews (based on Johnston text): https://www.youtube.com/watch?v=ItYveKoaBF8\n",
    "\n",
    "$\\newcommand{\\null}{\\text{null }}$\n",
    "$\\newcommand{\\dim}{\\text{dim }}$\n",
    "$\\newcommand{\\range}{\\text{range }}$\n",
    "\n",
    "$\\require{AMScd}$\n",
    "$\\require{cancel}$\n",
    "$\\newcommand{\\0}{\\{\\Bbb{0}\\}}$\n",
    "$\\newcommand{\\C}{\\Bbb{C}}$\n",
    "$\\newcommand{\\1}{\\Bbb{1}}$\n",
    "$\\newcommand{\\P}{\\mathcal{P}}$\n",
    "$\\newcommand{\\B}{\\mathcal{B}}$\n",
    "$\\newcommand{\\T}{\\mathcal{T}}$\n",
    "$\\newcommand{\\M}{\\mathcal{M}}$\n",
    "$\\newcommand{\\U}{\\mathbf{U}}$\n",
    "$\\newcommand{\\L}{\\mathcal{L}}$\n",
    "$\\newcommand{\\W}{\\mathbf{W}}$\n",
    "$\\newcommand{\\R}{\\mathbb{R}}$\n",
    "$\\newcommand{\\F}{\\mathbb{F}}$\n",
    "\n",
    "$\\newcommand{\\v}[2]{#1_1,...,#1_#2}$\n"
   ]
  },
  {
   "cell_type": "code",
   "execution_count": 2,
   "metadata": {},
   "outputs": [],
   "source": [
    "# import libraries\n",
    "import numpy as np\n",
    "import sympy as sym\n",
    "from sympy.matrices import Matrix\n",
    "from sympy import I\n",
    "import matplotlib.pyplot as plt\n",
    "from IPython.display import display, Math, Latex\n",
    "\n",
    "from sympy import init_printing\n",
    "init_printing()"
   ]
  },
  {
   "cell_type": "markdown",
   "metadata": {},
   "source": [
    "Collect 5A, 5B, and 5C together. \n",
    "\n",
    "5A: 3, 5, 31(part of that was in the lecture), 32"
   ]
  },
  {
   "cell_type": "markdown",
   "metadata": {},
   "source": [
    "## 1. (5A3)\n",
    "### Suppose $S,T\\in\\L(V)$ are such that $ST=TS$.  Prove that $\\range S$ is invariant under $T$."
   ]
  },
  {
   "cell_type": "markdown",
   "metadata": {},
   "source": [
    "#### Solution:\n",
    "For each $u\\in \\range S$ there is a $v\\in V$ so $Sv=u$. This implies that $Tu=T(Sv)=S(Tv)\\in \\range S$ thus $\\range S$ is invarient under $T$ as desired.\n",
    "\n",
    "$\\square$"
   ]
  },
  {
   "cell_type": "markdown",
   "metadata": {},
   "source": [
    "## 2. (5A5)\n",
    "### Suppose $T\\in\\L(V)$.  Prove that the intersection of every collection of subspaces of $V$ inveriant under $T$ is invariant under $T$."
   ]
  },
  {
   "cell_type": "markdown",
   "metadata": {},
   "source": [
    "#### Solution:\n",
    "Let $\\v Um$ to be invariant subspace of $V$ under $T$.  Then for any $v\\in S=U_1\\cap\\cdots\\cap U_m$ then $Tv\\in V$ so $S$ is invariant under $T$ as desired.\n",
    "\n",
    "$\\square$"
   ]
  },
  {
   "cell_type": "markdown",
   "metadata": {},
   "source": [
    "## 3. (5A31)\n",
    "### Suppose $V$ is finite-dimensional and $\\v vm$ is a list of vector in $V$.  Prove that $\\v vm$ is linearly independent if and only if there exists $T\\in\\L(V)$ such that $\\v vm$ are eigenvectors of $T$ corresponding to distinct eigenvalues."
   ]
  },
  {
   "cell_type": "markdown",
   "metadata": {},
   "source": [
    "#### Solution:\n",
    "If $\\v vm$ is independent then we can define $T\\in\\L(V)$ by $$Tv_i=\\lambda_iv_i \\text{ for } i=1,...,m.$$  By inspection $T$ has eigenvectors $\\v vm$ which correspond to $\\v \\lambda m$.\n",
    "\n",
    "$\\square$"
   ]
  },
  {
   "cell_type": "markdown",
   "metadata": {},
   "source": [
    "## 4. (5A32)\n",
    "### Suppose $\\v \\lambda n$ is a list of distinct real numbers.  Prove that the list $e^{\\lambda_1x},...,e^{\\lambda_nx}$ is linearly independent in the vector space of the real-valued functions on $\\R$.\n",
    "\n",
    "##### Hint:  Let $V=\\text{span}(e^{\\lambda_1x},...,e^{\\lambda_nx})$, and define an operator $T\\in\\L(V)$ by $Tf=f'$.  find eigenvalues and eigenvectors of $T$."
   ]
  },
  {
   "cell_type": "markdown",
   "metadata": {},
   "source": [
    "###### Recall: 5.10 Linearly independent eigenvectors\n",
    "Let $T\\in\\L(V)$.  Suppose $\\v \\lambda m$ are distinct eigenvalues of $T$ and $\\v vm$ are corresponding eigenvector.  then $\\v vm$ is linearly independent."
   ]
  },
  {
   "cell_type": "markdown",
   "metadata": {},
   "source": [
    "#### Solution:\n",
    "\n",
    "Let $V=\\text{span}(e^{\\lambda_1x},...,e^{\\lambda_nx})$, and the operator $T\\in\\L(V)$ be defined by $$Te^{\\lambda_ix}=\\lambda_ie^{\\lambda_ix},$$ \n",
    "where $\\lambda_i$ is an eigenvalue of $T$ and $e^{\\lambda_ix}$ is the corresponding eigenvector.  By Theorem 5.10, $e^{\\lambda_1x},...,e^{\\lambda_nx}$ is linearly independent as desired.\n",
    "\n",
    "$\\square$"
   ]
  },
  {
   "cell_type": "markdown",
   "metadata": {},
   "source": [
    "## 5. (5B2)\n",
    "### Suppose $T\\in\\L(T)$ and $(T-2I)(T-3I)(T-4I)=0$.  Suppose $\\lambda$ is an eigenvalue of $T$.  Prove that $\\lambda=2$ or $\\lambda=3$ or $\\lambda=4$."
   ]
  },
  {
   "cell_type": "markdown",
   "metadata": {},
   "source": [
    "##### Recall: 5.32 Determination of eigenvalues from upper-triangular matrix.\n",
    "Suppose $T\\in\\L(V)$ has an upper-triangular matrix with respect to some basis of $V$.  Then the eigenvalues of $T$ are precisely the entries on the diagonal of the upper-triangular matrix.\n",
    "\n",
    "#### Solution:\n",
    "Consider if $V$ is a complex vector space then $T$ has an upper-triangular matrix in some basis of $V$, thus by 5.32 the eigenvalues of $T$ are the entries on the diagonal represented by the characteristic polynomial above.\n",
    "\n",
    "In more mathy words, if $\\lambda$ is an eigenvaule of $T$ there is a corresponding eigenvector $v$.  Thus we have $((x-2)(x-3)(x-4))(T))v=0 \\implies (\\lambda-2)(\\lambda-3)(\\lambda-4)=0$, which has the solutions $\\lambda=2, \\lambda=3, \\lambda=4$ as desired.\n",
    "\n",
    "$\\square$"
   ]
  },
  {
   "cell_type": "markdown",
   "metadata": {},
   "source": [
    "## 6. (5B8)\n",
    "### Give an example of $T\\in\\L(\\R^2)$ such $T^4=-1$."
   ]
  },
  {
   "cell_type": "markdown",
   "metadata": {},
   "source": [
    "#### Solution:\n",
    "We can see that for this to be true the $4^{th}$ root of unity must equal $-\\1$, so let's do that.  We'll also note that this would be a rotation of $\\pi$ radians thus $\\theta=\\frac{\\pi}{4}$.  Hence,\n",
    "$$T(x,y) = (x\\cos(\\theta)-y\\sin(\\theta), x\\sin(\\theta)+y\\cos(\\theta)), \\text{ where } \\theta=\\frac{\\pi}{4}, \\text{ or more simply, }$$\n",
    "$$T(x,y)=\\lambda(x-y,x+y), \\text{ where }  \\lambda=\\frac{\\sqrt{2}}{2}$$\n",
    "\n",
    "$\\square$"
   ]
  },
  {
   "cell_type": "code",
   "execution_count": 3,
   "metadata": {},
   "outputs": [
    {
     "data": {
      "image/png": "[encoded data removed]",
      "text/latex": [
       "$\\displaystyle -1$"
      ],
      "text/plain": [
       "-1"
      ]
     },
     "execution_count": 3,
     "metadata": {},
     "output_type": "execute_result"
    }
   ],
   "source": [
    "# scratch it out in complex domain\n",
    "theta = sym.pi/4\n",
    "zeta = theta*sym.I\n",
    "sym.exp(zeta)**4"
   ]
  },
  {
   "cell_type": "code",
   "execution_count": 4,
   "metadata": {},
   "outputs": [
    {
     "data": {
      "image/png": "[encoded data removed]",
      "text/latex": [
       "$\\displaystyle \\left( -1, \\  0\\right)$"
      ],
      "text/plain": [
       "(-1, 0)"
      ]
     },
     "execution_count": 4,
     "metadata": {},
     "output_type": "execute_result"
    }
   ],
   "source": [
    "# make it real\n",
    "#x,y=sym.symbols('x y') # lol, that got ugly very quickly\n",
    "x=1;y=0\n",
    "for i in range(4):\n",
    "    x,y = x*sym.cos(theta)-y*sym.sin(theta), x*sym.sin(theta)+y*sym.cos(theta)\n",
    "x,y # checks out"
   ]
  },
  {
   "cell_type": "markdown",
   "metadata": {},
   "source": [
    "## 7. (5B11)\n",
    "### Suppose $\\F=\\C$, $T\\in\\L(V)$, $p\\in\\P(\\C)$ is a polynomial, and $\\alpha\\in\\C$.  Prove that $\\alpha=p(\\lambda)$ for some eigenvalue $\\lambda$ of $T$."
   ]
  },
  {
   "cell_type": "markdown",
   "metadata": {},
   "source": [
    "$\\newcommand{\\p}[2]{a_0#1^0+a_1#1^1+\\cdots+a_#2#1^#2}$\n",
    "\n",
    "By definition, $p(z)=\\p zm$ for $z\\in\\F$ and $p(T)=\\p Tm$.\n",
    "\n",
    "Also by $Tv=\\lambda v$,\n",
    "$$p(T)v=(\\p Tm)v,$$\n",
    "$$=a_0v+a_1Tv+\\cdots + a_m T^m v$$\n",
    "$$=a_0v+a_1\\lambda v+ \\cdots + a_m\\lambda^m v$$\n",
    "$$=p(\\lambda)v.$$\n",
    "If $\\alpha=p(\\lambda)$ for some $\\lambda$ of $T$ then $\\alpha$ is an eigenvalue of $p(T)$ as well, thus there is some $v\\in V$, $v\\neq0$ so that $$p(T)=\\alpha v \\implies (p(T)-\\alpha\\1)v=0.$$\n",
    "\n",
    "By FTA and $F\\in\\C$ the coefficient of a polynomial has a factorization,\n",
    "$$\\p z n=c(z-\\lambda_1)\\cdots(z-\\lambda_m).$$\n",
    "\n",
    "Thus, $p-a=c(z-\\lambda_1)\\cdots(z-\\lambda_m) \\implies$ $0=(p(T)-\\alpha\\1)v=c(T-\\lambda_1\\1)\\cdots(T-\\lambda_m\\1)v.$\n",
    "\n",
    "Hence, $\\lambda_j$ is an eigenvalue of $T$ for some $1\\leq j\\leq m$.  Thus, $$p(T)v=p(\\lambda_j)v=\\alpha v \\text{ and } \\alpha=p(\\lambda_j),$$ as desired.\n",
    "\n",
    "$\\square$\n",
    "\n",
    "See also: Lecture notes and Pham's notes, both from which this solution is extended."
   ]
  },
  {
   "cell_type": "markdown",
   "metadata": {},
   "source": [
    "# 8. (5C3)\n",
    "### Suppose $V$ is finite-dimensional and $T\\in\\L(V)$.  Prove that the following are equivalent:\n",
    "\n",
    "a) $V=\\null T \\oplus \\range T$.\n",
    "\n",
    "b) $V=\\null T + \\range T$.\n",
    "\n",
    "c) $V=\\null T \\cap \\range T=\\0$."
   ]
  },
  {
   "cell_type": "markdown",
   "metadata": {},
   "source": [
    "##### Recall: 3.22 Fundamental Theorem of Linear Maps\n",
    "Suppose $V$ is finite-dimensional and $T\\in\\L(V,W)$.  Then $\\range T$ is finite-dimensional and $$\\dim V=\\dim \\null T+\\dim \\range T.$$\n",
    "\n",
    "#### Solution:\n",
    "From 3.22, we see that $\\null T$ can be extended to a basis of $V$, $span(\\v un, \\v vm)$ which implies (a) is true thus (b) is also true.\n",
    "\n",
    "$\\square$ $\\square$\n",
    "\n",
    "Also from the therom $V$ is completely defined, $$\\dim V=\\dim\\null+\\dim\\range T- \\dim(\\null T\\cap\\range T) \\implies \\dim(\\null T\\cap\\range T) =0.$$\n",
    "\n",
    "Thus for c), $$\\0=\\null T\\cap\\range T.$$\n",
    "$\\square$\n",
    "\n"
   ]
  },
  {
   "cell_type": "markdown",
   "metadata": {},
   "source": [
    "## 9. (5C8)\n",
    "### Suppose $T\\in\\L(\\F^5)$ and $\\dim E(8,T)=4$.  Prove that $T-2I$ or $T-6I$ is invertible."
   ]
  },
  {
   "cell_type": "markdown",
   "metadata": {},
   "source": [
    "##### Recall:  5.6 Equivalent conditions to be an eigenvalue\n",
    "Suppose $V$ is finite-dimenstional, $T\\in\\L(V)$, and $\\lambda\\in\\F$.  Then the following are equivlent:\n",
    "\n",
    "a) $\\lambda$ is an eigenvalue ot $T$,\n",
    "\n",
    "b) $T-\\lambda\\1$ is not injective,\n",
    "\n",
    "c) $T-\\lambda\\1$ is not surjective,\n",
    "\n",
    "d) $T-\\lambda\\1$ is not invertible.\n",
    "\n",
    "##### Recall:  5.38 Sum of eigenspaces is a direct sum.\n",
    "Suppose $V$ is finite-dimensional and $T\\in\\L(V)$.  Suppose also that $\\v \\lambda m$ are distinct eigenvalues of $T$.  Then, $$E(\\lambda_1)+\\cdots+E(\\lambda_m),$$ is a direct sum.  Furthermore, $$\\dim E(\\lambda_1)+\\cdots+\\dim E(\\lambda_m)\\leq\\dim V.$$"
   ]
  },
  {
   "cell_type": "markdown",
   "metadata": {},
   "source": [
    "#### Solution:\n",
    "Consider the contrary, if $T-2I$ or $T-6I$ are non-invertible, then by 5.6, $\\lambda = 2 \\text{ or } 6$, thus $\\dim E(2) \\geq 1$ and $\\dim E(6) \\geq 1$, however, $$\\dim E(2) + \\dim E(6) + \\dim E(8)\\gt 5, \\text{ however } \\dim\\F^5=5.$$  Which is a contradiction to 5.38, thus either $T-2I$ or $T-6I$ are invertible.\n",
    "\n",
    "$\\square$"
   ]
  },
  {
   "cell_type": "markdown",
   "metadata": {},
   "source": [
    "## 10. (5C10)\n",
    "### Suppose that $V$ is finite-dimensional and $T\\in\\L(V)$.  Let $\\v\\lambda m$ denote the distinct nonzero eigenvalues of $T$.  Prove that $$\\dim E(\\lambda_1,T)+\\cdots+\\dim E(\\lambda_m,T)\\leq\\dim \\range T.$$"
   ]
  },
  {
   "cell_type": "markdown",
   "metadata": {},
   "source": [
    "##### Recall:  5.38 Sum of eigenspaces is a direct sum.\n",
    "Suppose $V$ is finite-dimensional and $T\\in\\L(V)$.  Suppose also that $\\v \\lambda m$ are distinct eigenvalues of $T$.  Then, $$E(\\lambda_1)+\\cdots+E(\\lambda_m),$$ is a direct sum.  Furthermore, $$\\dim E(\\lambda_1)+\\cdots+\\dim E(\\lambda_m)\\leq\\dim V.$$"
   ]
  },
  {
   "cell_type": "markdown",
   "metadata": {},
   "source": [
    "#### Solution:\n",
    "Consider $\\null T = \\null (T-0\\1) = E(0)$, thus by 5.38, $$\\dim E(\\lambda_1)+\\cdots+\\dim E(\\lambda_m) + \\dim E(0)= \\dim \\range T + \\dim \\null T,$$ $$ \\implies \\dim E(\\lambda_1)+\\cdots+\\dim E(\\lambda_m) \\leq \\dim \\range T.$$\n",
    "\n",
    "$\\square$"
   ]
  },
  {
   "cell_type": "markdown",
   "metadata": {},
   "source": [
    "## 11. (5C16)\n",
    "### The $\\textit{Fibonacci sequence } F_1,F_2,...$ is defined by\n",
    "### $$F_1=1, F_2=1, \\text{ and } F_n=F_{n-2}+F_{n-1} \\text{ for } n\\geq 3.$$\n",
    "\n",
    "### Define $T\\in\\L(\\R^2)$ by $T(x,y)=(y,x+y)$.\n",
    "\n",
    "(a) Show that $T^n(0,1)=(F_n,F_{n+1})$ for each positive integer $n$.\n",
    "\n",
    "(b) Find the eigenvalues of $T$.\n",
    "\n",
    "(c) Find a basis of $R^2$ consisting of the eigenvector of $T$.\n",
    "\n",
    "(d) Use the solution to part (c) to computer $T^n(0,1)$.  Conclude that\n",
    "$$F_n=\\frac{1}{\\sqrt{5}}\\Big[\\Big(\\frac{1+\\sqrt{5}}{2}\\Big)^n-\\Big(\\frac{1-\\sqrt{5}}{2}\\Big)^n\\Big]$$ for each positive integer $n$.\n",
    "\n",
    "(e) Use part(d) to conclude that for each postive integer $n$, the Fibonacci number $F_n$ is the integer that is closest to $$\\frac{1}{\\sqrt{5}}\\Big(\\frac{1+\\sqrt{5}}{2}\\Big)^n.$$"
   ]
  },
  {
   "cell_type": "markdown",
   "metadata": {},
   "source": [
    "#### Solution:\n",
    "(a) Show that $T^n(0,1)=(F_n,F_{n+1})$ for each positive integer $n$."
   ]
  },
  {
   "cell_type": "markdown",
   "metadata": {},
   "source": [
    "If $T^{n-1}(0,1)=(F_{n-1},F_n)$, then by induction, $$T^n(0,1)=T(F_{n-1},F_n) = (F_n,F{n-1}+F_n) = (F_n,F{n+1}).$$\n",
    "\n",
    "$\\square$"
   ]
  },
  {
   "cell_type": "markdown",
   "metadata": {},
   "source": [
    "(b) Find the eigenvalues of $T$.\n",
    "\n",
    "By definition of eigenvalue, $T(x,y)=\\lambda(x,y)=\\lambda(x,y)=(y,x+y)$, thus by given definiton of $T$, $\\lambda x = y$ and $\\lambda y = x+y$."
   ]
  },
  {
   "cell_type": "markdown",
   "metadata": {},
   "source": [
    "By $\\lambda x = y$ (and $y\\neq0$) $\\implies \\frac{x}{y}=\\frac{1}{\\lambda}$, and by $\\lambda y = x+y \\implies \\lambda = \\frac{x}{y}+1$, hence $\\lambda = \\frac{1}{\\lambda} + 1.$"
   ]
  },
  {
   "cell_type": "markdown",
   "metadata": {},
   "source": [
    "Thus $\\lambda = \\left[ \\frac{1}{2} + \\frac{\\sqrt{5}}{2}, \\  \\frac{1}{2} - \\frac{\\sqrt{5}}{2}\\right]$.\n",
    "\n",
    "$\\square$"
   ]
  },
  {
   "cell_type": "markdown",
   "metadata": {},
   "source": [
    "(c) Find a bisis of $R^2$ consisting of the eigenvector of $T$."
   ]
  },
  {
   "cell_type": "markdown",
   "metadata": {},
   "source": [
    "Let $x=1$ then $e_1=\\Big(1,\\frac{1}{2} + \\frac{\\sqrt{5}}{2}\\Big) \\in E\\Big(\\frac{1}{2} + \\frac{\\sqrt{5}}{2}\\Big)$ and \n",
    "$e_2=\\Big(1,\\frac{1}{2} - \\frac{\\sqrt{5}}{2}\\Big) \\in E_2= E\\Big(\\frac{1}{2} - \\frac{\\sqrt{5}}{2}\\Big)$.\n",
    "\n",
    "$\\square$"
   ]
  },
  {
   "cell_type": "markdown",
   "metadata": {},
   "source": [
    "(d) Use the solution to part (c) to computer $T^n(0,1)$.  Conclude that\n",
    "$$F_n=\\frac{1}{\\sqrt{5}}\\Big[\\Big(\\frac{1+\\sqrt{5}}{2}\\Big)^n-\\Big(\\frac{1-\\sqrt{5}}{2}\\Big)^n\\Big]$$ for each positive integer $n$."
   ]
  },
  {
   "cell_type": "markdown",
   "metadata": {},
   "source": [
    "From the result in (c) we have $(0,1)=\\frac{1}{\\sqrt{5}}(e_1-e_2), \\implies$\n",
    "\n",
    "$$T^n(0,1) = T^n \\Big( \\frac{1}{\\sqrt{5}}(e_1-e_2)\\Big) = \\frac{1}{\\sqrt{5}}(T^n e_1- T^n e_2)$$\n",
    "$$= \\frac{1}{\\sqrt{5}} \\Big( \\Big( \\frac{1}{2} + \\frac{\\sqrt{5}}{2} \\Big)^n e_1 -\n",
    "\\Big( \\Big( \\frac{1}{2} - \\frac{\\sqrt{5}}{2} \\Big)^n e_2\\Big) $$\n",
    "\n",
    "$$= \\frac{1}{\\sqrt{5}} \\Big[ \\Big( \\frac{1}{2} + \\frac{\\sqrt{5}}{2} \\Big)^n \\Big(1,\\frac{1}{2} + \\frac{\\sqrt{5}}{2}\\Big) -\n",
    "\\Big( \\Big( \\frac{1}{2} - \\frac{\\sqrt{5}}{2} \\Big)^n \\Big(1,\\frac{1}{2} - \\frac{\\sqrt{5}}{2}\\Big)\\Big].$$\n",
    "\n",
    "Computing the first component $(x=1)$ we obtain,\n",
    "$$F_n=\\frac{1}{\\sqrt{5}}\\Big[\\Big(\\frac{1+\\sqrt{5}}{2}\\Big)^n-\\Big(\\frac{1-\\sqrt{5}}{2}\\Big)^n\\Big],$$\n",
    "as desired.\n",
    "\n",
    "$\\square$"
   ]
  },
  {
   "cell_type": "code",
   "execution_count": 24,
   "metadata": {},
   "outputs": [
    {
     "data": {
      "image/png": "[encoded data removed]",
      "text/latex": [
       "$\\displaystyle \\left( 1 + \\frac{1}{\\lambda} = \\lambda, \\  \\left[ \\frac{1}{2} - \\frac{\\sqrt{5}}{2}, \\  \\frac{1}{2} + \\frac{\\sqrt{5}}{2}\\right]\\right)$"
      ],
      "text/plain": [
       "⎛    1      ⎡1   √5  1   √5⎤⎞\n",
       "⎜1 + ─ = λ, ⎢─ - ──, ─ + ──⎥⎟\n",
       "⎝    λ      ⎣2   2   2   2 ⎦⎠"
      ]
     },
     "execution_count": 24,
     "metadata": {},
     "output_type": "execute_result"
    }
   ],
   "source": [
    "# scratch it out\n",
    "lambda_ = sym.symbols('lambda')\n",
    "eq1 = sym.Eq(1/lambda_+1,lambda_)\n",
    "eq1, sym.solve(eq1,lambda_)"
   ]
  },
  {
   "cell_type": "markdown",
   "metadata": {},
   "source": [
    "## Appendix 1. Spectral Musings\n",
    "\n",
    "see also: Golan, The Linear Algebra a beginning Gradute Student Ought to Know"
   ]
  },
  {
   "cell_type": "markdown",
   "metadata": {},
   "source": [
    "#### Terms and Background Concepts:"
   ]
  },
  {
   "cell_type": "markdown",
   "metadata": {},
   "source": [
    "###### Golan and Axler terminalogy comparison...\n",
    "restriction operator: $T|_U\\in\\L(U)$ defined by $T|_U(u) = Tu$ for $u\\in U$.\n",
    "\n",
    "quotient operator (extension): $T\\setminus U \\in \\L(V\\setminus U)$ defined by $(T\\setminus U)(v+U)=Tv +U$ for $v\\in V$.\n",
    "\n",
    "injective function (monic or left-cancellable or one-to-one): ker$T=\\{0_V\\}$ and dim(ker$T$)$=0$ (monomorphism)\n",
    "\n",
    "surjective function (epic or right-cancellable or onto): coker$T=\\{0_W\\}$ (epimorphism)\n",
    "\n",
    "isomorphic (bijective): both injective and surjective (bimorphism)\n",
    "\n",
    "operator (endomorphism): $\\L(V) = \\L(V,V)$\n",
    "   * nilpotent: if $T^n=0$, for some $n\\in \\Bbb{Z}^+$\n",
    "   * idempotent: if $T^2=T$\n",
    "   * scaling transform: if $T=k\\Bbb{1}$\n",
    "\n",
    "\n",
    "\n",
    "###### ...end comparison"
   ]
  },
  {
   "cell_type": "markdown",
   "metadata": {},
   "source": [
    "The set of all functions from a nonempty set $A$ to a nonempty set $B$ is denoted by $B^A$.  \n",
    "\n",
    "If $f\\in B^A$ and if $A'$ is a nonempty subset of $A'$, then a fucntion $f'\\in B^{A'}$ is the $\\textit{restriction}$ of $f$ to $A'$, and $F$ is the $\\textit{extension}$ of $f'$ to $A$, if and only is $f':a'\\mapsto f(a')$ for all $a'\\in A'$."
   ]
  },
  {
   "cell_type": "markdown",
   "metadata": {},
   "source": [
    "Functions $f$ and $g$ in $B^A$ are $\\textit{equal}$ if and only if $f(a)=g(a)$ for all $a\\in A$ ($f=g$).  \n",
    "\n",
    "A function $f\\in B^A$ is $\\textit{monic}$ if and only if it assigns different elements of $B$ to different elements of $A$.  \n",
    "\n",
    "A function is $\\textit{epic}$ if and only if every element of $B$ is assigned by $F$ to some element of $A$.  \n",
    "\n",
    "A function with is both monic and epic is $\\textit{bijective}$.  A bijective function from set $A$ to a set $B$ determines a bijective correspondence between the elements of $A$ and the elements of $B$.  \n",
    "\n",
    "If $f:A\\rightarrow B$ is a bijective function, then we can define the $\\textit{inverse function, } f^{-1}:B\\rightarrow A$, defined by the condition that $f^{-1}(b)=a$ if and only if $f(a)=b$.  This inverse function is also bijective.  \n",
    "\n",
    "A bijective function from a set $A$ to itself is a $\\textit{permutation}$ of $A$.  Note that there is always at least one permutation of any nonempy set $A$, namely the identity function $a\\mapsto a$."
   ]
  },
  {
   "cell_type": "markdown",
   "metadata": {},
   "source": [
    "Let $V$ be a vector space over a field $F$.  A linear transformation $\\alpha$ from $V$ to itself is called an $\\textit{endomorphism}$ of $V$.  The set of all endomorphisms of $V$ is denoted by $\\text{End}(V)$.  \n",
    "\n",
    "The set, $\\text{End}(V)$, is nonempty, since it includes the function of the form $\\sigma_c:v\\mapsto cv$ for $c\\in F$.  In particular, it includes the 0-endomorphism, $\\sigma_0:v\\mapsto 0v$ and the indentity endomorphism $\\sigma_1:v\\mapsto v$.  If $V$ is nontrivial, these function are not the same. Note that we have two operations defined on $\\text{End}(V)$; addition and multiplication (given by composition)."
   ]
  },
  {
   "cell_type": "markdown",
   "metadata": {},
   "source": [
    "An endomorphisim of a vector space $V$ over a field $F$ which is also an isomorphism is called an $\\textit{automorphism}$ of $V$.  Since $\\alpha(0_V)=0_v$ for any endomorphism of $\\alpha$ of $V$, we see that any automorphisim of $V$ induces a permutation of $V\\setminus\\{0_V\\}$."
   ]
  },
  {
   "cell_type": "markdown",
   "metadata": {},
   "source": [
    "We know that $\\alpha\\in\\text{End}(V)$ is an automorphism if and only if that exists an endomorphism $\\alpha_{-1}\\in\\text{End}(V)$ satisfying $\\alpha\\alpha^{-1}=\\sigma_1=\\alpha^{-1}\\alpha$.  We denote the set of all automorphisms of $V$ by $\\text{Aut}(V)$.\n",
    "\n",
    "The set, $\\text{Aut}(V)$, is nonempty, since $\\sigma_1\\in\\text{Aut}(V)$ where ${\\sigma_1}^{-1}=\\sigma_1$.  Moreover, if $\\alpha,\\beta\\in\\text{Aut}(V)$ then $(\\alpha\\beta)(\\beta^{-1}\\alpha^{-1}=\\alpha(\\beta\\beta^{-1})\\alpha^{-1}=\\alpha\\alpha^{-1}=\\sigma_1$ and simularly $(\\beta^{-1}\\alpha^{-1})(\\alpha\\beta)=\\sigma_1$.  Thus $\\alpha\\beta\\in\\text{Aut}(V)$, with $(\\alpha\\beta)^{-1}=\\beta^{-1}\\alpha^{-1}$.  It is also clear that if $\\alpha\\in\\text{End}(V)$ and $0\\neq c\\in F$, then $c\\alpha\\in\\text{End}(V)$, and $(c\\alpha)^{-1}=c^{-1}\\alpha^{-1}$."
   ]
  },
  {
   "cell_type": "markdown",
   "metadata": {},
   "source": [
    "Let $V$ be a vector space over a field $F$ and let $\\alpha\\in\\text{End}(V)$.  A subspace $W$ of $V$ is $\\textit{invarient}$ under $\\alpha$ if and only if $\\alpha{w}\\in W$ for all $w\\in W$ or, in other words, if and only if $\\alpha(W)\\subseteq W$.  Thus, $W$ is invariant under $\\alpha$ if and only is the restriction of $\\alpha$ to $W$ is an endomorphism of $W$.  It is clear the $V$ and {$0v$} are both invarient under every endomorphism of $V$.  If $\\alpha\\in\\text{End}(V)$ then $\\text{im}(\\alpha)$ and $\\text{ker}(\\alpha)$ are both invariant under $\\alpha$. "
   ]
  },
  {
   "cell_type": "markdown",
   "metadata": {},
   "source": [
    "#### Spectral Thoery:"
   ]
  },
  {
   "cell_type": "markdown",
   "metadata": {},
   "source": [
    "Let $V$ be a vector space over a field $F$ and let $\\alpha\\in \\text{End}(V)$.  A scalar $c\\in F$ is an $\\textit{eigenvalue}$ of $\\alpha$ if and only if there exists a vector $v\\neq0v$ satisfying $\\alpha(v)=cv$.\n",
    "\n",
    "Such a vector is called an $\\textit{eigenvector}$ of $\\alpha$ associated with the eigenvalue $C$.  Thus we can see that a nonzero vector $v\\in V$ is an eigenvector of $\\alpha$ if and only if the subspace $Fv$ of $V$ is inveriant under $\\alpha$.\n",
    "\n",
    "Every eigenvector of $\\alpha$ is associated with a unique eigenvalue of $\\alpha$ but any eigenvalue has, as a rule, many eigenvectors associated with it.  The set of all eigenvalues of $\\alpha$ is called the $\\textit{spectrum}$ of $\\alpha$ and is denoted by $\\text{spec}(\\alpha)$. Thus, $c\\in \\text{spec}(\\alpha)$ is and only if the endomorphism, $c\\sigma_1-\\alpha$ of $V$ is not monic."
   ]
  },
  {
   "cell_type": "markdown",
   "metadata": {},
   "source": [
    "###### Add more detail.\n",
    "Our goal is to show that if $\\Phi_{BB}(\\alpha)$ is a diagonal matrix we can form a spectral subspace for all simular matrices... \n",
    "##### to be continued..."
   ]
  },
  {
   "cell_type": "markdown",
   "metadata": {},
   "source": [
    "Any monic polynomial in $F[X]$ of positive degree is the characteristic poynomial of some square matrix over $F$.\n",
    "\n",
    "Consider a polynomial $p(x)=\\sum\\limits_{i=0}^n{a_iX^i}$, for $n\\gt 0$.  If $p(X)$ is monic, define the $\\textit{companion matrix}$ of $p(X)$, denoted by $\\text{comp}(p)\\in M_{n\\times n}(F)$, to be the matrix $[a_{ij}]$ given by \n",
    "$$a_{ij}=\\begin{cases} 1 & \\text{if } i=j+1 \\text{ and } j \\lt n, \\\\ -a_{i-1} & \\text{if } j=n, \\\\ 0 & otherwise.\\end{cases}$$\n",
    "\n",
    "Otherwise, define $\\text{comp}(p)$ to be $\\text{comp}({a_n}^{-1}p)$.\n",
    "##### ...add detail"
   ]
  },
  {
   "cell_type": "markdown",
   "metadata": {},
   "source": [
    "#### Schur Triangularization\n",
    "\n",
    "$A=UTU^*$, for any $A\\in M_n(\\C)$ where $^*$ is conjugate transpose, $U$ is unitatry and $T$ is upper trianular\n",
    "\n",
    "##### Proof:\n",
    "\n",
    "Goal: $A=UTU^*$ and $U^*AU=T$\n",
    "\n",
    "$(n=1)$, $(a)=(\\1)(a)(\\1)$\n",
    "\n",
    "Assume true for $(n-1)x(n-1)$ matrices.\n",
    "\n",
    "Consider an $n\\times n$ matrix $A$\n",
    "\n",
    "A has characteristic polynomial, $P_A(\\lambda)$ with a root $\\lambda_1$ (eigenvalue) and eigenvector $v_1$.\n",
    "\n",
    "WLOG may assume, $||v_1||=1$.\n",
    "\n",
    "May extend to an orthonormal basis, $\\v v n$. (Gram-Schmitt)\n",
    "\n",
    "Define:  \n",
    "\n",
    "$V=(\\v vn)=\\begin{pmatrix}v_1 & V_2\\end{pmatrix} \\leftarrow n\\times(n-1)$\n",
    "\n",
    "Consider: \n",
    "\n",
    "$V^* AV= \\begin{pmatrix}v_1^* \\\\V_2\\end{pmatrix}A\\begin{pmatrix}v_1 & V_2\\end{pmatrix}$\n",
    "$ =\\begin{pmatrix}v_1^* \\\\V_2\\end{pmatrix}\\begin{pmatrix}Av_1 & AV_2\\end{pmatrix}$\n",
    "$ =\\begin{pmatrix}v_1^* Av_1 & v_1^* AV_2 \\\\ \n",
    "                  V_2^* Av_1 & V_2^* AV_2 \\end{pmatrix}$\n",
    "$ =\\begin{pmatrix}\\lambda_1 & v_1^* AV_2 \\\\ \n",
    "                  0 & U_2T_2 {U_2}^* \\end{pmatrix}$\n",
    "\n",
    "$\\lambda_1$ because $\\lambda_1 v_1^* v_1$, $0$ due to orthonormal construction, and $U_2T_2 {U_2}^*$ because $[(n-1)n][n\\times n][n(n-1)]= (n-1)\\times (n-1)$\n"
   ]
  },
  {
   "cell_type": "markdown",
   "metadata": {},
   "source": [
    "Now we have:\n",
    "$V^* AV$\n",
    "$ =\\begin{pmatrix}1&0 \\\\ \n",
    "                  0 & U_2 \\end{pmatrix}\n",
    "\\begin{pmatrix}\\lambda_1 & v_1^* AV_2 \\\\ \n",
    "                  0 & T \\end{pmatrix}\n",
    "\\begin{pmatrix}1&0 \\\\ \n",
    "                  0 & U_2^* \\end{pmatrix}$\n",
    "\n",
    "See also:  Math at Andrews https://www.youtube.com/watch?v=ItYveKoaBF8"
   ]
  },
  {
   "cell_type": "markdown",
   "metadata": {},
   "source": [
    "Corollaries: \n",
    "\n",
    "For $A\\in M_n(\\C)$,\n",
    "\n",
    "   * $\\det(A)=\\lambda_1 \\lambda_2 \\cdots \\lambda_n$ (due to trianglization)\n",
    "   * $\\text{tr}(A)=\\lambda_1 +\\lambda_2 +\\cdots +\\lambda_n$ (because $\\text{tr}(A)=\\text{tr}(UTU^*)$\n",
    "   * Calay-Hamilton: $P_A(\\lambda)$ is the charactristic polynomial for $A$, then $P_A(A)=0$."
   ]
  },
  {
   "cell_type": "markdown",
   "metadata": {},
   "source": [
    "## Appendix 2. Computational Musings"
   ]
  },
  {
   "cell_type": "code",
   "execution_count": 6,
   "metadata": {},
   "outputs": [
    {
     "data": {
      "text/latex": [
       "$A=\\left[\\begin{matrix}\\frac{1}{2} & \\frac{\\sqrt{3}}{2}\\\\- \\frac{\\sqrt{3}}{2} & \\frac{1}{2}\\end{matrix}\\right]$, $B=\\left[\\begin{matrix}1 & 1\\\\0 & 1\\end{matrix}\\right]$,$C=\\left[\\begin{matrix}1 & 2\\\\0 & 1\\end{matrix}\\right]$"
      ],
      "text/plain": [
       "<IPython.core.display.Latex object>"
      ]
     },
     "metadata": {},
     "output_type": "display_data"
    },
    {
     "data": {
      "image/png": "[encoded data removed]",
      "text/latex": [
       "$\\displaystyle \\left( \\lambda^{2} - \\lambda + 1, \\  \\lambda^{2} - 2 \\lambda + 1, \\  \\lambda^{2} - 2 \\lambda + 1\\right)$"
      ],
      "text/plain": [
       "⎛ 2           2             2          ⎞\n",
       "⎝λ  - λ + 1, λ  - 2⋅λ + 1, λ  - 2⋅λ + 1⎠"
      ]
     },
     "execution_count": 6,
     "metadata": {},
     "output_type": "execute_result"
    }
   ],
   "source": [
    "theta = sym.symbols('theta')\n",
    "theta = sym.pi/3\n",
    "A=Matrix([[sym.cos(theta),sym.sin(theta)],[-sym.sin(theta),sym.cos(theta)]])\n",
    "#A=sym.simplify(sym.exp(Matrix([[theta,sym.I*theta],[-sym.I*theta,theta]])))\n",
    "B=Matrix([[1,1],[0,1]])\n",
    "C=Matrix([[1,2],[0,1]])\n",
    "\n",
    "display(Latex(f'$A={sym.latex(A)}$, ' + f'$B={sym.latex(B)}$,' + f'$C={sym.latex(C)}$'))\n",
    "\n",
    "A.charpoly().as_expr(), B.charpoly().as_expr(), C.charpoly().as_expr()"
   ]
  },
  {
   "cell_type": "code",
   "execution_count": 7,
   "metadata": {},
   "outputs": [
    {
     "data": {
      "image/png": "[encoded data removed]",
      "text/latex": [
       "$\\displaystyle \\left( 1, \\  1, \\  1\\right)$"
      ],
      "text/plain": [
       "(1, 1, 1)"
      ]
     },
     "execution_count": 7,
     "metadata": {},
     "output_type": "execute_result"
    }
   ],
   "source": [
    "A.det(), B.det(), C.det()"
   ]
  },
  {
   "cell_type": "code",
   "execution_count": 8,
   "metadata": {},
   "outputs": [
    {
     "data": {
      "text/latex": [
       "$\\displaystyle \\left( \\left[ \\left( \\frac{1}{2} - \\frac{\\sqrt{3} i}{2}, \\  1, \\  \\left[ \\left[\\begin{matrix}i\\\\1\\end{matrix}\\right]\\right]\\right), \\  \\left( \\frac{1}{2} + \\frac{\\sqrt{3} i}{2}, \\  1, \\  \\left[ \\left[\\begin{matrix}- i\\\\1\\end{matrix}\\right]\\right]\\right)\\right], \\  \\left[ \\left( 1, \\  2, \\  \\left[ \\left[\\begin{matrix}1\\\\0\\end{matrix}\\right]\\right]\\right)\\right], \\  \\left[ \\left( 1, \\  2, \\  \\left[ \\left[\\begin{matrix}1\\\\0\\end{matrix}\\right]\\right]\\right)\\right]\\right)$"
      ],
      "text/plain": [
       "⎛⎡⎛1   √3⋅ⅈ     ⎡⎡ⅈ⎤⎤⎞  ⎛1   √3⋅ⅈ     ⎡⎡-ⅈ⎤⎤⎞⎤  ⎡⎛      ⎡⎡1⎤⎤⎞⎤  ⎡⎛      ⎡⎡1⎤⎤\n",
       "⎜⎢⎜─ - ────, 1, ⎢⎢ ⎥⎥⎟, ⎜─ + ────, 1, ⎢⎢  ⎥⎥⎟⎥, ⎢⎜1, 2, ⎢⎢ ⎥⎥⎟⎥, ⎢⎜1, 2, ⎢⎢ ⎥⎥\n",
       "⎝⎣⎝2    2       ⎣⎣1⎦⎦⎠  ⎝2    2       ⎣⎣1 ⎦⎦⎠⎦  ⎣⎝      ⎣⎣0⎦⎦⎠⎦  ⎣⎝      ⎣⎣0⎦⎦\n",
       "\n",
       "⎞⎤⎞\n",
       "⎟⎥⎟\n",
       "⎠⎦⎠"
      ]
     },
     "execution_count": 8,
     "metadata": {},
     "output_type": "execute_result"
    }
   ],
   "source": [
    "A.eigenvects(), B.eigenvects(), C.eigenvects()"
   ]
  },
  {
   "cell_type": "code",
   "execution_count": 25,
   "metadata": {},
   "outputs": [
    {
     "data": {
      "text/latex": [
       "$\\displaystyle \\left( \\left[\\begin{matrix}1 & 0\\\\0 & 1\\end{matrix}\\right], \\  \\lambda^{2} - 2 \\lambda + 1\\right)$"
      ],
      "text/plain": [
       "⎛⎡1  0⎤   2          ⎞\n",
       "⎜⎢    ⎥, λ  - 2⋅λ + 1⎟\n",
       "⎝⎣0  1⎦              ⎠"
      ]
     },
     "execution_count": 25,
     "metadata": {},
     "output_type": "execute_result"
    }
   ],
   "source": [
    "# Scaling\n",
    "X=Matrix([[1,0],[0,1]])\n",
    "X, X.charpoly().as_expr() ### recall something about non-invertible matrices"
   ]
  },
  {
   "cell_type": "code",
   "execution_count": 10,
   "metadata": {},
   "outputs": [
    {
     "data": {
      "text/latex": [
       "$\\displaystyle \\left( \\left[\\begin{matrix}1 & -1\\\\1 & -1\\end{matrix}\\right], \\  \\lambda^{2}, \\  \\left[\\begin{matrix}0 & 0\\\\0 & 0\\end{matrix}\\right]\\right)$"
      ],
      "text/plain": [
       "⎛⎡1  -1⎤   2  ⎡0  0⎤⎞\n",
       "⎜⎢     ⎥, λ , ⎢    ⎥⎟\n",
       "⎝⎣1  -1⎦      ⎣0  0⎦⎠"
      ]
     },
     "execution_count": 10,
     "metadata": {},
     "output_type": "execute_result"
    }
   ],
   "source": [
    "# Nipotent\n",
    "N=Matrix([[1,-1],[1,-1]])\n",
    "#N=Matrix([[0,1],[0,0]])\n",
    "N, N.charpoly().as_expr(), N**2"
   ]
  },
  {
   "cell_type": "code",
   "execution_count": 11,
   "metadata": {},
   "outputs": [
    {
     "data": {
      "image/png": "[encoded data removed]",
      "text/latex": [
       "$\\displaystyle 0$"
      ],
      "text/plain": [
       "0"
      ]
     },
     "execution_count": 11,
     "metadata": {},
     "output_type": "execute_result"
    }
   ],
   "source": [
    "N.det()"
   ]
  },
  {
   "cell_type": "code",
   "execution_count": 12,
   "metadata": {},
   "outputs": [
    {
     "data": {
      "text/latex": [
       "$\\displaystyle \\left( \\left[\\begin{matrix}3 & -2\\\\3 & -2\\end{matrix}\\right], \\  \\lambda^{2} - \\lambda, \\  \\left[\\begin{matrix}3 & -2\\\\3 & -2\\end{matrix}\\right]\\right)$"
      ],
      "text/plain": [
       "⎛⎡3  -2⎤   2      ⎡3  -2⎤⎞\n",
       "⎜⎢     ⎥, λ  - λ, ⎢     ⎥⎟\n",
       "⎝⎣3  -2⎦          ⎣3  -2⎦⎠"
      ]
     },
     "execution_count": 12,
     "metadata": {},
     "output_type": "execute_result"
    }
   ],
   "source": [
    "# Idempotent\n",
    "a,b,c = sym.symbols('a b c')\n",
    "a=3;b=-2;c=3;\n",
    "I=Matrix([[a,b],[c,1-a]])\n",
    "I, I.charpoly().as_expr(), I**2"
   ]
  },
  {
   "cell_type": "code",
   "execution_count": 13,
   "metadata": {},
   "outputs": [
    {
     "data": {
      "image/png": "[encoded data removed]",
      "text/latex": [
       "$\\displaystyle 0$"
      ],
      "text/plain": [
       "0"
      ]
     },
     "execution_count": 13,
     "metadata": {},
     "output_type": "execute_result"
    }
   ],
   "source": [
    "I.det()"
   ]
  },
  {
   "cell_type": "code",
   "execution_count": 14,
   "metadata": {},
   "outputs": [
    {
     "data": {
      "text/latex": [
       "$\\displaystyle \\text{True}$"
      ],
      "text/plain": [
       "True"
      ]
     },
     "execution_count": 14,
     "metadata": {},
     "output_type": "execute_result"
    }
   ],
   "source": [
    "sym.Eq(a**2+b*c,a)"
   ]
  },
  {
   "cell_type": "code",
   "execution_count": 15,
   "metadata": {},
   "outputs": [
    {
     "data": {
      "text/latex": [
       "$\\displaystyle \\left( \\left[\\begin{matrix}\\frac{1}{2} & - \\frac{\\sqrt{3}}{2}\\\\\\frac{\\sqrt{3}}{2} & \\frac{1}{2}\\end{matrix}\\right], \\  \\left[\\begin{matrix}1 & -1\\\\0 & 1\\end{matrix}\\right], \\  \\left[\\begin{matrix}1 & -2\\\\0 & 1\\end{matrix}\\right], \\  \\left[\\begin{matrix}1 & 0\\\\0 & 1\\end{matrix}\\right]\\right)$"
      ],
      "text/plain": [
       "⎛⎡     -√3 ⎤                          ⎞\n",
       "⎜⎢1/2  ────⎥                          ⎟\n",
       "⎜⎢      2  ⎥  ⎡1  -1⎤  ⎡1  -2⎤  ⎡1  0⎤⎟\n",
       "⎜⎢         ⎥, ⎢     ⎥, ⎢     ⎥, ⎢    ⎥⎟\n",
       "⎜⎢√3       ⎥  ⎣0  1 ⎦  ⎣0  1 ⎦  ⎣0  1⎦⎟\n",
       "⎜⎢──   1/2 ⎥                          ⎟\n",
       "⎝⎣2        ⎦                          ⎠"
      ]
     },
     "execution_count": 15,
     "metadata": {},
     "output_type": "execute_result"
    }
   ],
   "source": [
    "A.inv(),B.inv(),C.inv(),X.inv()"
   ]
  },
  {
   "cell_type": "code",
   "execution_count": 16,
   "metadata": {},
   "outputs": [
    {
     "data": {
      "image/png": "[encoded data removed]",
      "text/latex": [
       "$\\displaystyle \\left( \\left\\{ \\frac{1}{2} - \\frac{\\sqrt{3} i}{2} : 1, \\  \\frac{1}{2} + \\frac{\\sqrt{3} i}{2} : 1\\right\\}, \\  \\left\\{ 1 : 2\\right\\}, \\  \\left\\{ 1 : 2\\right\\}\\right)$"
      ],
      "text/plain": [
       "⎛⎧1   √3⋅ⅈ     1   √3⋅ⅈ   ⎫                ⎞\n",
       "⎜⎨─ - ────: 1, ─ + ────: 1⎬, {1: 2}, {1: 2}⎟\n",
       "⎝⎩2    2       2    2     ⎭                ⎠"
      ]
     },
     "execution_count": 16,
     "metadata": {},
     "output_type": "execute_result"
    }
   ],
   "source": [
    "A.eigenvals(), B.eigenvals(), C.eigenvals()"
   ]
  },
  {
   "cell_type": "code",
   "execution_count": 17,
   "metadata": {},
   "outputs": [
    {
     "data": {
      "text/latex": [
       "$\\displaystyle \\left( \\left[ \\left( 1, \\  2, \\  \\left[ \\left[\\begin{matrix}1\\\\0\\end{matrix}\\right]\\right]\\right)\\right], \\  \\left[ \\left( 1, \\  2, \\  \\left[ \\left[\\begin{matrix}1\\\\0\\end{matrix}\\right]\\right]\\right)\\right], \\  \\left[ \\left( 1, \\  2, \\  \\left[ \\left[\\begin{matrix}1\\\\0\\end{matrix}\\right], \\  \\left[\\begin{matrix}0\\\\1\\end{matrix}\\right]\\right]\\right)\\right]\\right)$"
      ],
      "text/plain": [
       "⎛⎡⎛      ⎡⎡1⎤⎤⎞⎤  ⎡⎛      ⎡⎡1⎤⎤⎞⎤  ⎡⎛      ⎡⎡1⎤  ⎡0⎤⎤⎞⎤⎞\n",
       "⎜⎢⎜1, 2, ⎢⎢ ⎥⎥⎟⎥, ⎢⎜1, 2, ⎢⎢ ⎥⎥⎟⎥, ⎢⎜1, 2, ⎢⎢ ⎥, ⎢ ⎥⎥⎟⎥⎟\n",
       "⎝⎣⎝      ⎣⎣0⎦⎦⎠⎦  ⎣⎝      ⎣⎣0⎦⎦⎠⎦  ⎣⎝      ⎣⎣0⎦  ⎣1⎦⎦⎠⎦⎠"
      ]
     },
     "execution_count": 17,
     "metadata": {},
     "output_type": "execute_result"
    }
   ],
   "source": [
    "#A.eigenvects()\n",
    "B.eigenvects(), C.eigenvects(), X.eigenvects()"
   ]
  },
  {
   "cell_type": "markdown",
   "metadata": {},
   "source": [
    "Note below that a symmetric matrix may be similar to a non-symmetric one."
   ]
  },
  {
   "cell_type": "code",
   "execution_count": 18,
   "metadata": {},
   "outputs": [
    {
     "data": {
      "text/latex": [
       "$A=\\left[\\begin{matrix}20 & 10 & 10\\\\10 & 0 & 10\\\\10 & 10 & 10\\end{matrix}\\right]$, $B=\\left[\\begin{matrix}80 & 130 & 100\\\\10 & 10 & 10\\\\-50 & -80 & -60\\end{matrix}\\right]$"
      ],
      "text/plain": [
       "<IPython.core.display.Latex object>"
      ]
     },
     "metadata": {},
     "output_type": "display_data"
    },
    {
     "data": {
      "text/latex": [
       "charpoly$(A)=\\lambda^{3} - 30 \\lambda^{2} - 100 \\lambda + 1000$"
      ],
      "text/plain": [
       "<IPython.core.display.Latex object>"
      ]
     },
     "metadata": {},
     "output_type": "display_data"
    },
    {
     "data": {
      "text/latex": [
       "charpoly$(A)==$ charpoly$(B)$ is $\\text{True}$"
      ],
      "text/plain": [
       "<IPython.core.display.Latex object>"
      ]
     },
     "metadata": {},
     "output_type": "display_data"
    }
   ],
   "source": [
    "A= Matrix([[20,10,10],[10,0,10],[10,10,10]])\n",
    "B= Matrix([[80,130,100],[10,10,10],[-50,-80,-60]])\n",
    "display(Latex(f'$A={sym.latex(A)}$, ' + f'$B={sym.latex(B)}$'))\n",
    "display(Latex(f'charpoly$(A)={sym.latex(A.charpoly().as_expr())}$'))\n",
    "display(Latex(f'charpoly$(A)==$ charpoly$(B)$ is ${sym.latex(A.charpoly().as_expr()== B.charpoly().as_expr())}$'))"
   ]
  },
  {
   "cell_type": "code",
   "execution_count": 19,
   "metadata": {},
   "outputs": [
    {
     "data": {
      "text/latex": [
       "$\\displaystyle \\left[\\begin{matrix}32.1\\\\-6.75\\\\4.61\\end{matrix}\\right]$"
      ],
      "text/plain": [
       "⎡32.1 ⎤\n",
       "⎢     ⎥\n",
       "⎢-6.75⎥\n",
       "⎢     ⎥\n",
       "⎣4.61 ⎦"
      ]
     },
     "execution_count": 19,
     "metadata": {},
     "output_type": "execute_result"
    }
   ],
   "source": [
    "sym.re(Matrix((list(A.eigenvals().keys())))).n(3)"
   ]
  },
  {
   "cell_type": "code",
   "execution_count": 20,
   "metadata": {},
   "outputs": [
    {
     "data": {
      "image/png": "[encoded data removed]",
      "text/plain": [
       "<Figure size 432x288 with 1 Axes>"
      ]
     },
     "metadata": {
      "needs_background": "light"
     },
     "output_type": "display_data"
    }
   ],
   "source": [
    "lambda_=sym.symbols('lambda')\n",
    "f= B.charpoly(lambda_).as_expr()\n",
    "sym.plot(f,(lambda_,-10,40));"
   ]
  },
  {
   "cell_type": "code",
   "execution_count": 21,
   "metadata": {},
   "outputs": [
    {
     "data": {
      "image/png": "[encoded data removed]",
      "text/plain": [
       "<Figure size 432x288 with 1 Axes>"
      ]
     },
     "metadata": {
      "needs_background": "light"
     },
     "output_type": "display_data"
    }
   ],
   "source": [
    "def plot_dynamics(vector_field, x_left, x_right, x_res, y_down, y_up, y_res):\n",
    "    x, y = np.meshgrid(np.linspace(x_left, x_right, x_res), np.linspace(y_down, y_up, y_res))\n",
    "    Vx, Vy = vector_field(x, y)\n",
    "    if type(Vx) != object:\n",
    "        Vx = Vx * np.ones(x.shape, dtype=float)\n",
    "    if type(Vy) != object:\n",
    "        Vy = Vy * np.ones(x.shape, dtype=float)\n",
    "    fig, ax = plt.subplots()\n",
    "    plt.grid()\n",
    "    #ax.set_aspect( 1 )\n",
    "    ax.streamplot(x, y, Vx, Vy)\n",
    "    ax.set_aspect('equal')    \n",
    "    plt.show()\n",
    "    return None\n",
    "\n",
    "# type the formulas for the x and y components of the vector fields \n",
    "# (use np.cos and np.sin etc if not polynomial vector fields):\n",
    "def V(x, y):    \n",
    "    return  ( 2*x - y + 3*(x**2-y**2) + 2*x*y,   x - 3*y - 3*(x**2-y**2) + 3*x*y )\n",
    "\n",
    "def f(x, y):    \n",
    "    return  ( 1,  y**2 - x ) \n",
    "\n",
    "    \n",
    "plot_dynamics(V, -2, 4, 100, -4, 2, 100)\n",
    "#plot_dynamics(f, -2, 10, 100, -4, 4, 100)\n",
    "\n",
    "#FIXME!!! Compare how similar matrices evolve."
   ]
  },
  {
   "cell_type": "markdown",
   "metadata": {},
   "source": [
    "## Appendix 3. Weird Basis"
   ]
  },
  {
   "cell_type": "markdown",
   "metadata": {},
   "source": [
    "#### Weierstrass function $W$\n",
    "$W(x)=\\sum\\limits_{n=1}^\\infty\\frac{\\cos(2^nx)}{2^n}$"
   ]
  },
  {
   "cell_type": "code",
   "execution_count": 22,
   "metadata": {},
   "outputs": [
    {
     "data": {
      "image/png": "[encoded data removed]",
      "text/plain": [
       "<Figure size 432x288 with 1 Axes>"
      ]
     },
     "metadata": {
      "needs_background": "light"
     },
     "output_type": "display_data"
    }
   ],
   "source": [
    "n=400\n",
    "W = lambda x: np.sum(np.cos(2**n*x)/2**n)\n",
    "x=list(np.linspace(-2,2,2**10))\n",
    "y=[W(xx) for xx in x]\n",
    "plt.plot(x,y);"
   ]
  },
  {
   "cell_type": "markdown",
   "metadata": {},
   "source": [
    "## Appendix 4. Yorkshire Pork Pie\n",
    "\n",
    "Note: You'll also need extra butter or lard to grease the tins, and a beaten egg to glaze the pies.\n",
    "\n",
    "Pastry\n",
    "```\n",
    " 500 grams plain white (all-purpose) flour\n",
    " 200 grams lard (or butter or mixture of bacon fat)\n",
    " 250 ml water\n",
    " 1 tsp salt\n",
    "```\n",
    "Filling\n",
    "```\n",
    " 750 grams minced pork\n",
    " 1.5 tsp seasoning mix\n",
    "```\n",
    "Jelly\n",
    "```\n",
    " 400 ml chicken stock\n",
    " half a sachet powdered gelatine\n",
    " 50 ml water\n",
    "```\n",
    "\n",
    "Pork seasoning mix\n",
    "```\n",
    "1 part salt\n",
    "1 part thyme or sage\n",
    "2 parts ground white pepper\n",
    "```\n",
    "\n",
    "\n",
    "Make the Pastry\n",
    "\n",
    "Pork pies are always made with Hot Water Pastry. This is simple pastry to make, and it can withstand a lot of handling, thumping and rolling.\n",
    "Chop the lard into small chunks, put it in a small pan with the water and bring it to the boil. When all the lard has melted, remove from heat. In a large bowl, mix the salt with flour, and then add the water and lard. Mix with a wooden spoon, then tip out onto the worktop and knead lightly until everyhing is thoroughly mixed and the dough feels smooth.\n",
    "Wrap the dough in plastic film and pop it in the fridge or freezer to cool down. It needs to be at room temperature when you use it.\n",
    "\n",
    "Making the Pie\n",
    "\n",
    "Roll out pastry to about 3mm thick.  Cut out top(s) to size of muffin(s) or pie tin and add 8mm hole in centre for filling and venting.  Form pastry for pie tin, reinforce bottom edge if needed.  Fill pie with pork filling.  Wet edge of pastry in pie tin and add top, pressing and turning up the top edge.  You can get fancy here if desired.\n",
    "\n",
    "Cook\n",
    "\n",
    "Bake at 180C or 400F for 20min, remove from tin, bake another 20-30min or as need.  Let cool then fill with chicken jelly.  Serve warm or cold."
   ]
  }
 ],
 "metadata": {
  "kernelspec": {
   "display_name": "Python 3",
   "language": "python",
   "name": "python3"
  },
  "language_info": {
   "codemirror_mode": {
    "name": "ipython",
    "version": 3
   },
   "file_extension": ".py",
   "mimetype": "text/x-python",
   "name": "python",
   "nbconvert_exporter": "python",
   "pygments_lexer": "ipython3",
   "version": "3.8.10"
  }
 },
 "nbformat": 4,
 "nbformat_minor": 4
}
