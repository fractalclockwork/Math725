{
 "cells": [
  {
   "cell_type": "markdown",
   "metadata": {},
   "source": [
    "# Math 725 Advanced Linear Algebra\n",
    "## HW1\n",
    "\n",
    "\n",
    "### Brent A. Thorne\n",
    "\n",
    "brentathorne@gmail.com\n",
    "\n",
    "##### Vector Space and Subspaces."
   ]
  },
  {
   "cell_type": "markdown",
   "metadata": {},
   "source": [
    "## 1. (1A 13)\n",
    "### 13. Show that $(ab)x=a(bx)$ for all $x\\in\\mathbb{F}^n$ and $a,b\\in\\mathbb{F}$."
   ]
  },
  {
   "cell_type": "markdown",
   "metadata": {},
   "source": [
    "#### Answer:\n",
    "Let $x=(x_1,...,x_n)$, then\n",
    "\n",
    "$(ab)x = ab(x_1,...,x_n)=((ab)x_1,...,(ab)x_n)$\n",
    "\n",
    "$=(a(bx_1),...,a(bx_n))=a(bx_1,...,bx_n)$\n",
    "\n",
    "$=a(bx)$."
   ]
  },
  {
   "cell_type": "markdown",
   "metadata": {},
   "source": [
    "## 2. (1B 6)\n",
    "### 6. Let $\\infty$ and $-\\infty$ denote two distinct objects, neither of which is in $\\mathbb{R}$.  Define an addition and scalar multiplicaiton on $\\mathbb{R}\\cup{\\infty}\\cup{(-\\infty)}$ as you could guess from the notation.  \n",
    "\n",
    "Specifically, the sum and production of two real numbers is as usual, and for $t\\in\\mathbb{R}$ define\n",
    "\n",
    "$t\\infty=\\begin{cases}\n",
    "-\\infty & \\text{if } t\\lt0,\\\\\n",
    "0 & \\text{if }t=0, \\\\\n",
    "\\infty & \\text{if }t\\gt0,\\\\\n",
    "\\end{cases}$,\n",
    "$t(-\\infty)=\\begin{cases}\n",
    "-\\infty & \\text{if } t\\lt0,\\\\\n",
    "0 & \\text{if }t=0, \\\\\n",
    "\\infty & \\text{if }t\\gt0,\\\\\n",
    "\\end{cases}$,\n",
    "\n",
    "$t+\\infty=\\infty+t=\\infty$,\n",
    "$t+(-\\infty)=(-\\infty)+t=(-\\infty)$,\n",
    "\n",
    "$\\infty+\\infty=\\infty$,\n",
    "$(-\\infty)+(-\\infty)=(-\\infty)$,\n",
    "$\\infty+(-\\infty)=0$.\n",
    "\n",
    "### Is $\\mathbb{R}\\cup{\\infty}\\cup{-\\infty}$ a vector space over $\\mathbb{R}$? Explain.\n",
    "\n"
   ]
  },
  {
   "cell_type": "markdown",
   "metadata": {},
   "source": [
    "#### Answer:\n",
    "Show contradiction in distributive property...\n",
    "\n",
    "Recall distributive property,\n",
    "\n",
    "$a(u+v)=au+av$ and $(a+b)v=av + bv$ for all $a,b\\in\\mathbb{F}$ and all $u,v\\in V$.\n",
    "\n",
    "Consider $a=t$, $u=\\infty$, and $v=(-\\infty)$, we have \n",
    "\n",
    "$t(\\infty+(-\\infty))= t\\infty+(-\\infty)=t0=0$, which is a contradiction since the zero vector must be unique."
   ]
  },
  {
   "cell_type": "markdown",
   "metadata": {},
   "source": [
    "## 3. (1C 5)\n",
    "### 5. Is $\\mathbb{R}^2$ a subspace of the complex space $\\mathbb{C}^2$?"
   ]
  },
  {
   "cell_type": "markdown",
   "metadata": {},
   "source": [
    "#### Answer:\n",
    "FIXME!!!"
   ]
  },
  {
   "cell_type": "markdown",
   "metadata": {},
   "source": [
    "## 4. (1C 9)\n",
    "### 9. A function  $f:\\mathbb{R}\\to\\mathbb{R}$  is called $\\textit{periodic}$ if there exists a postive number $p$ such that \n",
    "$f(x)=f(x+p)$ for all $x\\in R$.  \n",
    "### Is the set of periodic funcitons from $\\mathbb{R}\\to\\mathbb{R}$ a subspace of $\\mathbb{R^R}$?  Explain.\n"
   ]
  },
  {
   "cell_type": "markdown",
   "metadata": {},
   "source": [
    "#### Answer:\n",
    "FIXME!!!"
   ]
  },
  {
   "cell_type": "markdown",
   "metadata": {},
   "source": [
    "## 5. (1C 24)\n",
    "### 24. A function $f:\\mathbb{R}\\to\\mathbb{R}$ is called $\\textit{even}$ if $f(-x)=f(x)$ for all $x\\in\\mathbb{R}$.  \n",
    "\n",
    "### A function $f:\\mathbb{R}\\to\\mathbb{R}$ is called $\\textit{odd}$ if $f(-x)=-f(x)$ for all $x\\in\\mathbb{R}$.\n",
    "\n",
    "### Let $U_e$ denote the set of real-valued even functions on $\\mathbb{R}$ and let $U_o$ denote the set of real-valued odd functions on $\\mathbb{R}$.  \n",
    "\n",
    "### Show that $\\mathbb{R^R}=U_e\\oplus U_o$."
   ]
  },
  {
   "cell_type": "markdown",
   "metadata": {},
   "source": [
    "#### Answer:\n",
    "FIXME!!!"
   ]
  },
  {
   "cell_type": "markdown",
   "metadata": {},
   "source": [
    "## 6. (Midpoint Map)\n",
    "\n",
    "### X. Let T be the midpoint map on $\\mathbb{C}^6$, $T(p_1,...,p_6)=(\\frac{p_1+p_2}{2},...,\\frac{p_6+p_1}{2})$.\n",
    "\n",
    "### Find six vectors $v_1,...,v_6$, such that for every $i\\in\\{1,...,6\\}$, there is $\\lambda_i\\in\\mathbb{C}$ with $T(v_i)=\\lambda_i v_i$ and that no two vectors are complex rescaling of each other. \n",
    "\n",
    "### No need to include graphics but please describe in words the geometric pictures of the vectors. "
   ]
  },
  {
   "cell_type": "markdown",
   "metadata": {},
   "source": [
    "#### Answer:\n",
    "FIXME!!!"
   ]
  }
 ],
 "metadata": {
  "kernelspec": {
   "display_name": "Python 3",
   "language": "python",
   "name": "python3"
  },
  "language_info": {
   "codemirror_mode": {
    "name": "ipython",
    "version": 3
   },
   "file_extension": ".py",
   "mimetype": "text/x-python",
   "name": "python",
   "nbconvert_exporter": "python",
   "pygments_lexer": "ipython3",
   "version": "3.8.10"
  }
 },
 "nbformat": 4,
 "nbformat_minor": 4
}
