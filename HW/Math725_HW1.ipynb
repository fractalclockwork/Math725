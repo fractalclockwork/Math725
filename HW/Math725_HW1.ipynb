{
 "cells": [
  {
   "cell_type": "markdown",
   "metadata": {},
   "source": [
    "# Math 725 Advanced Linear Algebra\n",
    "## HW1\n",
    "\n",
    "\n",
    "### Brent A. Thorne\n",
    "\n",
    "brentathorne@gmail.com\n",
    "\n",
    "##### Vector Space and Subspaces."
   ]
  },
  {
   "cell_type": "code",
   "execution_count": 1,
   "metadata": {},
   "outputs": [],
   "source": [
    "# import libraries\n",
    "import numpy as np\n",
    "import sympy as sym\n",
    "from sympy.matrices import Matrix\n",
    "import matplotlib.pyplot as plt\n",
    "from IPython.display import display, Math, Latex"
   ]
  },
  {
   "cell_type": "markdown",
   "metadata": {},
   "source": [
    "## 1. (1A 13)\n",
    "### 13. Show that $(ab)x=a(bx)$ for all $x\\in\\mathbb{F}^n$ and $a,b\\in\\mathbb{F}$."
   ]
  },
  {
   "cell_type": "markdown",
   "metadata": {},
   "source": [
    "#### Answer:\n",
    "Let $x=(x_1,...,x_n)$, then\n",
    "\n",
    "$(ab)x = ab(x_1,...,x_n)=((ab)x_1,...,(ab)x_n)$\n",
    "\n",
    "$=(a(bx_1),...,a(bx_n))=a(bx_1,...,bx_n)$\n",
    "\n",
    "$=a(bx)$. \n",
    "\n",
    "*see also https://linearalgebras.com/1a.html"
   ]
  },
  {
   "cell_type": "markdown",
   "metadata": {},
   "source": [
    "## 2. (1B 6)\n",
    "### 6. Let $\\infty$ and $-\\infty$ denote two distinct objects, neither of which is in $\\mathbb{R}$.\n",
    "\n",
    "### Define an addition and scalar multiplicaiton on $\\mathbb{R}\\cup{\\infty}\\cup{(-\\infty)}$ as you could guess from the notation.  \n",
    "\n",
    "#### Specifically, the sum and production of two real numbers is as usual, and for $t\\in\\mathbb{R}$ define\n",
    "\n",
    "$t\\infty=\\begin{cases}\n",
    "-\\infty & \\text{if } t\\lt0,\\\\\n",
    "0 & \\text{if }t=0, \\\\\n",
    "\\infty & \\text{if }t\\gt0,\\\\\n",
    "\\end{cases}$,\n",
    "$t(-\\infty)=\\begin{cases}\n",
    "-\\infty & \\text{if } t\\lt0,\\\\\n",
    "0 & \\text{if }t=0, \\\\\n",
    "\\infty & \\text{if }t\\gt0,\\\\\n",
    "\\end{cases}$,\n",
    "\n",
    "$t+\\infty=\\infty+t=\\infty$,\n",
    "$t+(-\\infty)=(-\\infty)+t=(-\\infty)$,\n",
    "\n",
    "$\\infty+\\infty=\\infty$,\n",
    "$(-\\infty)+(-\\infty)=(-\\infty)$,\n",
    "$\\infty+(-\\infty)=0$.\n",
    "\n",
    "### Is $\\mathbb{R}\\cup{\\infty}\\cup{(-\\infty)}$ a vector space over $\\mathbb{R}$?\n",
    "\n",
    "### Explain."
   ]
  },
  {
   "cell_type": "markdown",
   "metadata": {},
   "source": [
    "#### Answer:\n",
    "Consider $\\mathbb{V}$ as $\\mathbb{R}\\cup{\\infty}\\cup{(-\\infty)}$, if $\\mathbb{V}$ is a subspace of $\\mathbb{R}$, then $\\infty(1)=(\\infty)\\in \\mathbb{R}$. This is False, thus $\\mathbb{V}$ is not a subspace of $\\mathbb{R}$ as it's not even in the vector space $\\mathbb{R}$.\n",
    "\n",
    "A more rigorous approach is to consider the disributive propery, $\\{(a+b)x=ax+bx| \\forall v \\in \\Bbb{V}\\}$ and $a,b\\in\\Bbb{R}$.  \n",
    "\n",
    "Then $2\\cdot\\infty=\\infty$ and $2=3-1$, hence, \n",
    "\n",
    "$\\{2\\cdot\\infty=(3-1)\\cdot\\infty=3\\cdot\\infty+(-1)\\cdot\\infty=\\infty-\\infty=0\\}$ $\\implies (3-1)\\cdot\\infty=3\\cdot\\infty+(-1)\\cdot\\infty$, which is False, thus $\\mathbb{V}$ is not a subspace of $\\mathbb{R}$. \n",
    "\n",
    "Rarely is the union of subspaces a subspace itself.  "
   ]
  },
  {
   "cell_type": "markdown",
   "metadata": {},
   "source": [
    "##### Discussed with Darcy and Felix.  Felix suggested adding the distributive property argument back.  "
   ]
  },
  {
   "cell_type": "markdown",
   "metadata": {},
   "source": [
    "However, is the intersection of subspaces always a subspace?  Think about this, seems reasonable."
   ]
  },
  {
   "cell_type": "code",
   "execution_count": 2,
   "metadata": {},
   "outputs": [
    {
     "data": {
      "text/latex": [
       "$\\displaystyle \\text{NaN}$"
      ],
      "text/plain": [
       "nan"
      ]
     },
     "execution_count": 2,
     "metadata": {},
     "output_type": "execute_result"
    }
   ],
   "source": [
    "# scratch ideas\n",
    "sym.oo-sym.oo # contradicts the definition above"
   ]
  },
  {
   "cell_type": "markdown",
   "metadata": {},
   "source": [
    "## 3. (1C 5)\n",
    "### 5. Is $\\mathbb{R}^2$ a subspace of the complex space $\\mathbb{C}^2$?"
   ]
  },
  {
   "cell_type": "markdown",
   "metadata": {},
   "source": [
    "#### Answer:\n",
    "Consider if $\\mathbb{R}^2$ is a subspace of $\\mathbb{C}^2$, then $i(1,1)=(i,i)\\in \\mathbb{R}^2$. This is False, thus not closed under scalar multiplication.  $\\mathbb{R}^2$ is not a subspace of $\\mathbb{C}^2$."
   ]
  },
  {
   "cell_type": "markdown",
   "metadata": {},
   "source": [
    "##### Discussed with Darcy and Felix.  Darcy suggested explictily stating that it's not closed under scaler multiplication. "
   ]
  },
  {
   "cell_type": "markdown",
   "metadata": {},
   "source": [
    "## 4. (1C 9)\n",
    "### 9. A function  $f:\\mathbb{R}\\to\\mathbb{R}$  is called $\\textit{periodic}$ if there exists a postive number $p$ such that $f(x)=f(x+p)$ for all $x\\in \\mathbb{R}$.  \n",
    "### Is the set of periodic funcitons from $\\mathbb{R}\\to\\mathbb{R}$ a subspace of $\\mathbb{R^R}$?  Explain.\n"
   ]
  },
  {
   "cell_type": "markdown",
   "metadata": {},
   "source": [
    "#### Answer:\n",
    "Not a subspace, as functions with different periods must a have unique $p$ to make the statement $f(x)=f(x+p)$ for all $x\\in R$ True.  Thus a contradiction in additive identity property, $f(x)+g(x)\\neq f(x+p) + g(x+p)$.\n",
    "\n",
    "Consider $f(x)=cos(x)$, for $f(x)=f(x+p)$ for all $x\\in R$ to be True, $p=2\\pi$.  Now consider \n",
    "$g(y)=cos(\\frac{3y}{2})$ for $g(x)=g(x+q)$ for all $x\\in R$ to be True, $q=\\frac{4x}{3}$.  $p\\neq q$ thus contradiction."
   ]
  },
  {
   "cell_type": "markdown",
   "metadata": {},
   "source": [
    "##### Discussed with Darcy and Felix. Fixed up some symbol names with their feedback.  Thanks guys!"
   ]
  },
  {
   "cell_type": "code",
   "execution_count": 3,
   "metadata": {},
   "outputs": [
    {
     "data": {
      "text/plain": [
       "(False, True)"
      ]
     },
     "execution_count": 3,
     "metadata": {},
     "output_type": "execute_result"
    }
   ],
   "source": [
    "# scratch it out\n",
    "T1 = 1\n",
    "T2 = sym.Rational(3,2)\n",
    "def f(x): return sym.cos(T1*x)\n",
    "def g(x): return sym.sin(T2*x)\n",
    "x=3\n",
    "p=sym.Rational(4,3)*sym.pi\n",
    "\n",
    "# show contradiction\n",
    "f(x)==f(x+p), g(x)==g(x+p)"
   ]
  },
  {
   "cell_type": "markdown",
   "metadata": {},
   "source": [
    "##### Note to grader, the following approach was done as an exercise in proofs and maybe ignored during grading, however your feedback and insight is welcome.\n",
    "####  Euler approach\n",
    "\n",
    "Consider, peridoc functions as infinte series,\n",
    "\n",
    "$sin x = \\sum\\limits^{\\infty}_{n=0}=\\frac{(-1)^n x^{2n+1}}{(2n+1)!}=x-\\frac{x^3}{3!}+\\frac{x^5}{5!}-\\frac{x^7}{7!}+...$, convergent for all $x$;\n",
    "\n",
    "$cos x = \\sum\\limits^{\\infty}_{n=0}=\\frac{(-1)^n x^{2n}}{(2n)!}=1-\\frac{x^2}{2!}+\\frac{x^4}{4!}-\\frac{x^6}{6!}+...$, convergent for all $x$;\n",
    "\n",
    "It is obivious that for $n=0, \\frac{(-1)^n x^{2n+1}}{(2n+1)!} = \\frac{(-1)^n x^{2n}}{(2n)!}$, is false.  Hence by induction, $f_n(x)+g_n(x)= f_n(x+p) + g_n(x+p)$ is also False, thus not closed under addition.\n",
    "\n",
    "I wonder if exhaustive negative induction is actaully a thing? * See Appendix 1."
   ]
  },
  {
   "cell_type": "markdown",
   "metadata": {},
   "source": [
    "## 5. (1C 24)\n",
    "### 24. A function $f:\\mathbb{R}\\to\\mathbb{R}$ is called $\\textit{even}$ if $f(-x)=f(x)$ for all $x\\in\\mathbb{R}$.  \n",
    "\n",
    "### A function $f:\\mathbb{R}\\to\\mathbb{R}$ is called $\\textit{odd}$ if $f(-x)=-f(x)$ for all $x\\in\\mathbb{R}$.\n",
    "\n",
    "### Let $U_e$ denote the set of real-valued even functions on $\\mathbb{R}$ and let $U_o$ denote the set of real-valued odd functions on $\\mathbb{R}$.  \n",
    "\n",
    "### Show that $\\mathbb{R^R}=U_e\\oplus U_o$."
   ]
  },
  {
   "cell_type": "markdown",
   "metadata": {},
   "source": [
    "#### Answer:\n",
    "Let $f_e=\\frac{f(x)+f(-x)}{2}\\in U_e$ and $f_o=\\frac{f(x)-f(-x)}{2}\\in U_o$.  Suppose $f(x)=f_e(x)+f_o(x)$, where $f(x)\\in\\mathbb{R}^R$. This is the direction sum by definition, thus $\\mathbb{R^R}=U_e\\oplus U_o$.  *See also Axler 1.45"
   ]
  },
  {
   "cell_type": "code",
   "execution_count": 4,
   "metadata": {},
   "outputs": [
    {
     "data": {
      "text/plain": [
       "[True, True, True, True]"
      ]
     },
     "execution_count": 4,
     "metadata": {},
     "output_type": "execute_result"
    }
   ],
   "source": [
    "# scratch the itch\n",
    "def f(x): return x\n",
    "def f_e(x): return (f(x)+f(-x))/2\n",
    "def f_o(x): return (f(x)-f(-x))/2\n",
    "def ff(x): return f_e(x)+f_o(x)\n",
    "[f(x)==ff(x) for x in [-1,0,1,sym.sqrt(2)]] # not exahaustive but validates proof"
   ]
  },
  {
   "cell_type": "markdown",
   "metadata": {},
   "source": [
    "## 6. (Midpoint Map)\n",
    "\n",
    "### X. Let T be the midpoint map on $\\mathbb{C}^6$, $T(p_1,...,p_6)=(\\frac{p_1+p_2}{2},...,\\frac{p_6+p_1}{2})$.\n",
    "\n",
    "### Find six vectors $v_1,...,v_6$, such that for every $i\\in\\{1,...,6\\}$, there is $\\lambda_i\\in\\mathbb{C}$ with $T(v_i)=\\lambda_i v_i$ and that no two vectors are complex rescaling of each other. \n",
    "\n",
    "### No need to include graphics but please describe in words the geometric pictures of the vectors. "
   ]
  },
  {
   "cell_type": "markdown",
   "metadata": {},
   "source": [
    "#### Answer:\n",
    "In Euler's Form, $v_i=\\lambda_{i}v_{0}$ where $\\lambda_i = \\Bigg(\\frac{1}{2} + \\frac{e^{\\frac{j \\pi}{3}}}{2}\\Bigg)^{i+1}, v_0=[\\zeta^0,...,\\zeta^{n-1}], \\zeta=e^\\frac{i2\\pi}{n}, i=\\{0,1,...\\}$, $j = \\sqrt{-1}$ and $n = 6$. \n",
    " \n",
    "\n",
    "The vector $v_0=[\\zeta^0,...,\\zeta^{n-1}]$ was formed by rotating a point on the unit circle. \n",
    "The scalar $\\lambda_{i}$,  transforms $v_i$ by rotating and scaling the vector.  The graphical result for the above transformation may be seen below. "
   ]
  },
  {
   "cell_type": "markdown",
   "metadata": {},
   "source": [
    "##### Discussed with Lekha, Darcy and Felix. Improved clarity of notation and fixed v0 of the Matrix v in the code.  Really helpful talking it thru with the team!  Thanks again guys!"
   ]
  },
  {
   "cell_type": "code",
   "execution_count": 5,
   "metadata": {},
   "outputs": [],
   "source": [
    "def z_plot(z, c=None):\n",
    "    plt.scatter(z.real, z.imag, c=c)\n",
    "    z = np.append(z,z[0]) # close the shape\n",
    "    plt.plot(z.real, z.imag, c=c)\n",
    "    plt.grid(visible=True);\n",
    "    plt.gca().set_aspect(\"equal\") # square grids are pretty\n",
    "    plt.axhline(0, color='black', alpha = .2, linestyle='--')\n",
    "    plt.axvline(0, color='black', alpha = .2, linestyle='--') "
   ]
  },
  {
   "cell_type": "code",
   "execution_count": 30,
   "metadata": {},
   "outputs": [
    {
     "data": {
      "text/latex": [
       "$\\displaystyle \\left[\\begin{matrix}1 & e^{\\frac{i \\pi}{3}} & e^{\\frac{2 i \\pi}{3}} & -1 & e^{- \\frac{2 i \\pi}{3}} & e^{- \\frac{i \\pi}{3}}\\end{matrix}\\right]$"
      ],
      "text/plain": [
       "Matrix([[1, exp(I*pi/3), exp(2*I*pi/3), -1, exp(-2*I*pi/3), exp(-I*pi/3)]])"
      ]
     },
     "metadata": {},
     "output_type": "display_data"
    },
    {
     "data": {
      "image/png": "[encoded data removed]",
      "text/plain": [
       "<Figure size 432x288 with 1 Axes>"
      ]
     },
     "metadata": {
      "needs_background": "light"
     },
     "output_type": "display_data"
    }
   ],
   "source": [
    "n=6\n",
    "zeta = sym.exp(2*sym.I*sym.pi/n)\n",
    "lambda_ = (1+zeta)/2\n",
    "ss = 3 # how deep\n",
    "\n",
    "v = (Matrix([zeta**k for k in range(n)]).T) # our vector, v_0 in C^6\n",
    "v  = v.col_join(Matrix([(lambda_**(i+1)*v.row(0)) for i in range(ss-1)])) # this one line does it all\n",
    "    \n",
    "# display our results\n",
    "display(v.row(0))  # IPython.display is so pretty\n",
    "for i in range(v.shape[0]):\n",
    "    z_plot(np.array((v.row(i)).tolist()).astype(np.complex64)) # Aww Yeah!!! This is fast."
   ]
  },
  {
   "cell_type": "markdown",
   "metadata": {},
   "source": [
    "## Appendix 1. Contradiction\n",
    "\n",
    "```\n",
    "Ladies and gentleman skinny and scout\n",
    "I'll tell you a tale I know nothing about\n",
    "The admission is free so pay at the door\n",
    "Now pull out a chair and sit on the floor\n",
    "\n",
    "On one bright day in the middle of the night\n",
    "Two dead boys got up to fight\n",
    "Back to back they faced each other\n",
    "Drew their swords and shot each other\n",
    "\n",
    "The blind man came to see fair play\n",
    "The mute man came to shout hooray\n",
    "The deaf policeman heard the noise\n",
    "And came to stop those two dead boys\n",
    "\n",
    "He lived on the corner in the middle of the block\n",
    "In a two story house on a vacant lot\n",
    "A man with no legs came walking by\n",
    "And kicked the lawman in his thigh\n",
    "\n",
    "He crashed through a wall without making a sound\n",
    "Into a dry creek bed and suddenly drowned\n",
    "A long black hearse came to cart him away\n",
    "But he ran for his life and is still gone today\n",
    "\n",
    "I watched from the corner of the table\n",
    "The only eyewitness to facts of my fable\n",
    "If you doubt my lies are true\n",
    "Just ask the blind man, he saw it too\n",
    "```\n",
    "#### * Two dead boys, author unknown"
   ]
  },
  {
   "cell_type": "markdown",
   "metadata": {},
   "source": [
    "## Appendix 2. Proof Techniques\n",
    "\n",
    "\n",
    "#### To prove goal of the form:\n",
    " - $\\neg P:$\n",
    "     - Reexpress as a positive statement.\n",
    "     - use proof by contradiction; that is, assue that $P$ is true and try to reach a contradiction.\n",
    " - $P\\implies Q:$\n",
    "     - Assume $P$ is true and prove $Q$.\n",
    "     - Prove the contrapositive; that is, assume that $Q$ is false and prove that $P$ is false.\n",
    " - $P\\wedge Q:$\n",
    "     - Prove $P$ and $Q$ seperately.  In other words, treat this as two separate goals: $P$ and $Q$.\n",
    " - $P\\vee Q:$\n",
    "     - Assume $P$ is false and prove $Q$, or assume $Q$ is false and prove $P$.\n",
    "     - Use proof by cases. In each case, either prove $P$ or prove $Q$.\n",
    " - $P\\iff Q$:\n",
    "     - Prove $P\\implies Q$ and $Q\\implies P$, see method above for $P\\implies Q$\n",
    " - $\\forall xP(x):$\n",
    "     - Let $x$ stand for an arbitrary object, and prove $P(x)$. (If the letter $x$ already stands for something in the proof, you will have to use a different letter for the arbitary object.)\n",
    " - $\\exists xP(x):$\n",
    "     - Find a value of $x$ that make $P(n)$ true. Prove $P(n)$ for this value of $x$.\n",
    " - $\\exists!xP(x):$\n",
    "     - Prove $\\exists xP(x)$ (existence) and $\\forall y \\forall z((P(y)\\wedge P(z)) \\implies y=z)$ (uniqueness).\n",
    "     - Prove the equivalent statement $\\exists x(P(x)\\wedge P(y)) \\implies y=x)).$\n",
    " - $\\forall n\\in \\mathbb{N}P(n):$\n",
    "     - Mathematicall induction: Prove $P(0)$ (base case) and $\\forall n\\in \\mathbb{N}P(n) \\implies P(n+1))$ (induction step).\n",
    "     - Strong induction: Prove $\\forall n\\in \\mathbb{N}[\\forall k \\lt n P(k) \\implies P(n)]$.\n",
    " \n",
    "#### To use a given form:\n",
    " - $\\neg P:$\n",
    "    - Reexpress as a positive statement.\n",
    "    - In a proof by contradiction, you can reach a contradiction by proving $P$.\n",
    " - $P\\to Q:$\n",
    "     - If you are also given $P$, or you can prove that $P$ is true, then you can conclude that $Q$ is true.\n",
    "     - Use the contrapositive: If you are given or can prove that $Q$ is false, then you can condlude that $P$ is false.\n",
    " - $P\\wedge Q:$\n",
    "     - Treat this as two givens: $P$ and $Q$.\n",
    " - $P\\vee Q:$\n",
    "     - Use proof by cases. In the first case assume that $P$ is true, then in the second case assume the $Q$ is true.\n",
    "     - If you are also given that $P$ is false, or you can prove that $P$ is false, then you can conclude that $Q$ is true.  Similarly, if you know that $Q$ is false then you can conclude that $P$ is true.\n",
    " - $P\\iff Q$:\n",
    "     - Treat this as two givens: $P\\implies Q$ and $Q\\implies P$.\n",
    " - $\\forall xP(x):$\n",
    "     - You can plug in any value, say $a$, for $x$, and conclude that $P(a)$ is true.\n",
    " - $\\exists xP(x):$\n",
    "     - Indroduce a new variable, say $x_0$, into the proof, to stand for a particular object for which $P(x_0)$ is true.\n",
    " - $\\exists!xP(x):$\n",
    "     - Indroduce a new variable, say $x_0$, into the proof, to stand for a particular object for which $P(x_0)$ is true.  You may assume that $\\forall y(P(y) \\implies y=x_0$.\n",
    " \n",
    "#### Techniques that can be used in any proof:\n",
    " - Proof by contradiction: Assume the goal is false and derive a contradiction.\n",
    " - Proof by cases: Consider serveral cases that are $\\textit{exhaustive}$, that is, that include all possibilities. Prove the goal in each case.\n",
    "   \n",
    "##### * See also, How to Prove It, Velleman\n",
    "  "
   ]
  }
 ],
 "metadata": {
  "kernelspec": {
   "display_name": "Python 3",
   "language": "python",
   "name": "python3"
  },
  "language_info": {
   "codemirror_mode": {
    "name": "ipython",
    "version": 3
   },
   "file_extension": ".py",
   "mimetype": "text/x-python",
   "name": "python",
   "nbconvert_exporter": "python",
   "pygments_lexer": "ipython3",
   "version": "3.8.10"
  }
 },
 "nbformat": 4,
 "nbformat_minor": 4
}
