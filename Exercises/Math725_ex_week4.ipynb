{
 "cells": [
  {
   "cell_type": "markdown",
   "metadata": {},
   "source": [
    "# Math 725\n",
    "\n",
    "### Brent A. Thorne <brentathorne@gmail.com>\n",
    "\n",
    "In class exercises, Week 4\n",
    "\n",
    "$\\require{AMScd}$\n",
    "$\\require{cancel}$\n",
    "$\\newcommand{\\null}{\\text{null}}$\n",
    "$\\newcommand{\\0}{\\{\\Bbb{0}\\}}$\n",
    "$\\newcommand{\\range}{\\text{range}}$\n",
    "$\\newcommand{\\T}{\\mathbf{T}}$\n",
    "$\\newcommand{\\U}{\\mathbf{U}}$\n",
    "$\\newcommand{\\L}{\\mathcal{L}}$\n",
    "$\\newcommand{\\W}{\\mathbf{W}}$\n",
    "$\\newcommand{\\R}{\\mathbb{R}}$\n",
    "$\\newcommand{\\F}{\\mathbb{F}}$\n",
    "$\\newcommand{\\v}[2]{#1_1...#1_#2}$"
   ]
  },
  {
   "cell_type": "code",
   "execution_count": 1,
   "metadata": {},
   "outputs": [],
   "source": [
    "# import libraries\n",
    "import numpy as np\n",
    "import sympy as sym\n",
    "from sympy.matrices import Matrix\n",
    "import matplotlib.pyplot as plt\n",
    "from IPython.display import display, Math, Latex"
   ]
  },
  {
   "cell_type": "markdown",
   "metadata": {},
   "source": [
    "### Ex\n",
    "\n",
    "Consider $v_1,...,v_m$, a finite list.\n",
    "\n",
    "Now consider, $\\circledast \\underbrace{v_1,...,...}_{sequence}$ a sequence of vectors in finite dim$V$, such that for every $v\\in V$, $v$ is a linear combination of a list from $\\circledast.$\n",
    "\n",
    "$s_1,...,s_m$ is a spanning list of $V$.\n",
    "\n",
    "$s_1 = \\alpha_1 v_{i,1}+...+\\alpha_j v_{i,j}$  $\\leftarrow$ carefully consider indexing presented\n",
    "\n",
    "$...$\n",
    "\n",
    "$s_m = \\delta_1 v_{j,1}+...+\\delta_k v_{j,k}$"
   ]
  },
  {
   "cell_type": "markdown",
   "metadata": {},
   "source": [
    "### Dimension of sum\n",
    "see: LADR 2.43\n",
    "\n",
    "$\\underbrace{U_1,U_2}_\\text{subsets of V} \\subset V$ is finite dimensional\n",
    "\n",
    "$\\dim(U_1+U_2) = \\underbrace{\\dim(U_1)}_{(m+j)}+ \\underbrace{\\dim(U_2)}_{(m+k)}-\\underbrace{\\dim(U_1\\cap U_2)}_{(m)}$\n",
    "\n",
    "$U_1\\cap U_2$ is a basis, $u_1,...,u_m$\n",
    "\n",
    "$v_1,...,v_j$ completion to a basis ot $V$\n",
    "\n",
    "$U_1: u_1,...,u_m, v_1,...,v_j$\n",
    "\n",
    "$U_2: u_1,...,u_m, w_1,...,w_k$"
   ]
  },
  {
   "cell_type": "markdown",
   "metadata": {},
   "source": [
    "##### Consider this:"
   ]
  },
  {
   "cell_type": "code",
   "execution_count": 2,
   "metadata": {},
   "outputs": [
    {
     "data": {
      "text/latex": [
       "$\\mu(A\\cup B)=\\mu(A)+\\mu(B)-\\mu(A\\cap B)$"
      ],
      "text/plain": [
       "<IPython.core.display.Latex object>"
      ]
     },
     "metadata": {},
     "output_type": "display_data"
    },
    {
     "data": {
      "image/png": "[encoded data removed]",
      "text/plain": [
       "<Figure size 432x288 with 1 Axes>"
      ]
     },
     "metadata": {},
     "output_type": "display_data"
    }
   ],
   "source": [
    "from matplotlib_venn import venn2\n",
    "d=venn2(subsets = (4, 4, 1), set_labels=('', '', '')) \n",
    "d.get_label_by_id('11').set_text('$A\\cap B$')\n",
    "d.get_label_by_id('10').set_text('$A$')\n",
    "d.get_label_by_id('01').set_text('$B$')\n",
    "# alright that looks pretty\n",
    "\n",
    "display(Latex('$\\mu(A\\cup B)=\\mu(A)+\\mu(B)-\\mu(A\\cap B)$'))"
   ]
  },
  {
   "cell_type": "markdown",
   "metadata": {},
   "source": [
    "##### Things to Consider:\n",
    "Ergodic Theory... mearure-preserving transformations on measure space\n",
    "\n",
    "$\\underbrace{v,\\mathbf{T}v,\\mathbf{T}^2v,...}_{orbit} $"
   ]
  },
  {
   "cell_type": "markdown",
   "metadata": {},
   "source": [
    "### Ex.  $\\T:\\Bbb{R}^3\\mapsto \\Bbb{R}^2$\n",
    "$(x,y,z) \\stackrel{\\T}{\\mapsto} (x,y)$\n",
    "\n",
    "1) $\\T(v+u)=\\T v+ \\T u$\n",
    "\\begin{CD}\n",
    "v\\times v @> + >> V\\\\\n",
    "@VV\\overline{\\T} V  @VV\\T V\\\\\n",
    "u\\times u @> + >> W\n",
    "\\end{CD} FIXME!!! Ask if we got this commutation diagram correct.  I don't have much theory here, so I try to find symmetry.\n",
    "\n",
    "2) $\\T(\\lambda v)=\\lambda \\T(v)$ | $\\lambda \\in \\Bbb{F}$\n",
    "\\begin{CD}\n",
    "V @> \\lambda >> V\\\\\n",
    "@VV\\T V  @VV\\T V\\\\\n",
    "V @> \\lambda >> V\n",
    "\\end{CD}\n",
    "\n",
    "##### Notation:\n",
    "$\\mathcal{L}(V,W)$ - set of all linear transformations from $V$ to $W$."
   ]
  },
  {
   "cell_type": "markdown",
   "metadata": {},
   "source": [
    "### Ex. $\\T \\in \\mathcal{L}(\\mathcal{P}(\\Bbb{R}))$\n",
    "\n",
    "$(\\T p)(x)=x^2p(x)$\n",
    "\n",
    "$\\T(x^2-2x+1)=x^2(x^2-2x+1)\\in \\mathcal{P}(\\Bbb{R})$ $\\leftarrow$ *Note composition of functions."
   ]
  },
  {
   "cell_type": "markdown",
   "metadata": {},
   "source": [
    "### Ex.  Midpoint Polygon Transform $\\Bbb{C}^m\\mapsto \\Bbb{C}^n$\n",
    "\n",
    "$(p_1,...,p_2) \\mapsto \\frac{1}{2}(p_1+p_2,p_2+p_3,...,p_n+p_1)$"
   ]
  },
  {
   "cell_type": "markdown",
   "metadata": {},
   "source": [
    "### Ex. $\\T \\in \\L(\\R^3,\\R^2)$\n",
    "$(x,y,z) \\stackrel{\\T}{\\mapsto} (2x-y+3z, 7x+5y-6z)$"
   ]
  },
  {
   "cell_type": "markdown",
   "metadata": {},
   "source": [
    "### Ex.  $\\F^n \\stackrel{T}{\\mapsto}\\F^m$\n",
    "\n",
    "$\\T \\begin{pmatrix} x_1 \\\\ \\vdots \\\\ x_n   \\end{pmatrix} = \n",
    "\\begin{pmatrix} \n",
    "A_{1,1}x_1 + ... + A_{1,n}x_n\\\\\n",
    "A_{2,1}x_1 + ... + A_{2,n}x_n\\\\\n",
    "... \\\\\n",
    "A_{m,1}x_1 + ... + A_{m,n}x_n\\\\\n",
    "\\end{pmatrix}\n",
    "$\n",
    "\n",
    "Every linear map from $\\F^n$ to $\\F^m$ is of this form."
   ]
  },
  {
   "cell_type": "markdown",
   "metadata": {},
   "source": [
    "### Theorem: Linear Maps and Basis of Domain\n",
    "\n",
    "Suppose $\\v{v}{n}$ is a basis of $V$ and $\\v{w}{n} \\in W$.\n",
    "\n",
    "$\\underbrace{\\exists! \\T}_\\text{exists and unique} \\T:V\\mapsto W$, such that\n",
    "\n",
    "$\\T(v_i)=w_i$ | $i=1,...,n$\n",
    "\n",
    "##### Proof outline\n",
    "Let $c_1v_1+...+c_nv_n$ be and arbitrary vector in $V$.\n",
    "\n",
    "$\\underbrace{\\T(c_1v_1+...+c_nv_n)}_{def.}=\\underbrace{c_1w_1+...+c_nw_n}_{def.}$\n",
    "\n",
    "Test for\n",
    "    1) Summation\n",
    "    2) Scaling "
   ]
  },
  {
   "cell_type": "markdown",
   "metadata": {},
   "source": [
    "##### Consider: Function Composition\n",
    "$\\T\\circ \\U \\implies \\T \\U$\n",
    "\n",
    "$\\T + \\U$\n",
    "\n",
    "$\\T \\circ \\U(v) \\stackrel{def}{=} \\T(\\U(v)$\n",
    "\n",
    "$\\U: V\\mapsto W \\implies \\T(u)$\n",
    "\n",
    "$\\T: W\\mapsto Z$\n",
    "\n",
    "$(\\T+\\U)(v) \\stackrel{def}{=} \\T(v) + \\U(v)$ $\\leftarrow$ in $w$, (vector space of images)\n",
    "\n",
    "$\\T(\\U+\\W)=\\T\\U+\\T\\W$"
   ]
  },
  {
   "cell_type": "markdown",
   "metadata": {},
   "source": [
    "### Non Ex.\n",
    "$\\cos(x+y)\\neq \\cos x + \\cos y$"
   ]
  },
  {
   "cell_type": "markdown",
   "metadata": {},
   "source": [
    "##### Consider trying Mathematica (and porting useful features to Sympy).\n",
    "\n",
    "f[x-]:=x^2;\n",
    "\n",
    "{{1,2,3}, {2,3,4}} $\\rightarrow$ {1,2,3,4}\n",
    "\n",
    "a[[1,2]] $\\rightarrow$ [row,col], also may use $<esc>$]]$<esc>$ as symbol\n",
    "\n",
    "(a+b)(c+d)\n",
    "\n",
    "*Ask about Julia: https://julialang.org/\n",
    "\n",
    "https://cooperrc.github.io/Julia-learning/day_07.html"
   ]
  },
  {
   "cell_type": "markdown",
   "metadata": {},
   "source": [
    "### Recall: $(U+V)\\T = U\\T+V\\T$ \n",
    "$V\\in\\R^3: \\R^3\\mapsto\\R^2$\n",
    "\n",
    "$\\T=\\underbrace{(x,y,z)}_\\text{dim=3}\\underbrace{(x,y)}_\\text{dim=2} $\n",
    "\n",
    "$\\underbrace{\\T^{-1}({0})}_{\\text{null}\\T}=\\underbrace{\\{(0,0,z) | z\\in\\R\\}}_\\text{dim=1}$"
   ]
  },
  {
   "cell_type": "markdown",
   "metadata": {},
   "source": [
    "### Recall: Fundamental Thoery of Linear Algebra\n",
    "\n",
    "$\\dim \\null \\T + \\dim\\range\\T=\\dim V$"
   ]
  },
  {
   "cell_type": "markdown",
   "metadata": {},
   "source": [
    "### Lemma: Injectivity of $\\T\\in\\L(V,W)\\iff\\null(\\T)=\\0$\n",
    "\n",
    "#### $\\Rightarrow x,y\\in V$:\n",
    "\n",
    "Inj:\n",
    "\n",
    "$\\T(x)=\\T(y) \\implies x=y$\n",
    "\n",
    "$\\T(x)-\\T(y)=0$\n",
    "\n",
    "$\\T(x-y)=0 \\implies x=y$\n",
    "\n",
    "Let $y=0$, $\\T(x)=0 \\implies x=0 \\implies \\overbrace{\\null\\T}^\\text{when T is injection}\\subset\\0$\n",
    "\n",
    "Since $\\0 \\subset \\null\\T$, $null(\\T) = 0$.\n",
    "\n",
    "Consider, $\\cancel{\\T(0)}=\\T(0+0)=\\T(0)+\\cancel{\\T(0)} \\surd$\n",
    "\n",
    "#### $\\Leftarrow \\exists x,y | x\\neq y$:\n",
    "\n",
    "$\\T(x)=\\T(y)\\implies \\T(x-y)=0$\n",
    "\n",
    "$x-y\\notin \\null\\T$, thus unquie by contradition. "
   ]
  },
  {
   "cell_type": "markdown",
   "metadata": {},
   "source": [
    "### Lemma: $\\null\\T$ is a vector space, $0\\in\\null\\T$\n",
    "\n",
    "Suppose, $x,y\\in \\null(\\T)\n",
    "\n",
    "$\\T(x,y)=\\T(x)+\\T(y)=0+0=0\\implies x+y\\in\\null\\T$ * note para maybe dropped when clear\n",
    "\n",
    "$\\T(\\lambda x)=\\lambda\\T(x)= \\lambda\\cdot0=0 \\implies \\lambda x\\in \\null(T)$ \n"
   ]
  },
  {
   "cell_type": "markdown",
   "metadata": {},
   "source": [
    "### Revisit: Fundamental Theorem of Linear Algebra\n",
    "\n",
    "Suppose $V$ be a finite dimensional vector space and $\\T\\in\\L(V,W)$.  Then $\\range \\T$ is finite-dimensional and\n",
    "\n",
    "$\\dim V=\\dim\\null\\T+\\dim\\range\\T$.\n",
    "\n",
    "##### Proof:\n",
    "\n",
    "Let $\\v{u}{m}$ be a basis of $\\null\\T$, thus $\\dim\\null\\T=m$. \n",
    "\n",
    "Expand this independent list of $u_i$ to a basis of $V: \\underbrace{\\v{u}{m}}_m,\\underbrace{\\v{v}{n}}_n$.\n",
    "\n",
    "Note that, $\\cancel{\\T u_1,...,\\T u_m}, \\T v_1,...,\\T v_n$, span$\\T(v)$.  Hence $\\T(v)$ is finite dimensional.\n",
    "\n",
    "$\\T(a)=\\T(\\alpha_1 u_1+...+\\alpha_m u_m + \\beta_1 v_1+...+\\beta_n v_n)$, where $a$ is arbitrary element in $\\range\\T$\n",
    "\n",
    "$=\\alpha_1 \\cancel{\\T u_1}+...+\\alpha_m \\cancel{\\T u_m} + \\beta_1 \\T v_1+...+\\beta_n \\T v_n$"
   ]
  },
  {
   "cell_type": "markdown",
   "metadata": {},
   "source": [
    "##### Proof Completion:\n",
    "\n",
    "We now show that $\\T(v_1),...\\T(v_n)$ are linearly independent, hence form a basis of $\\range\\T$.\n",
    "\n",
    "$\\circledast \\alpha_1\\T(v_1)+...+\\alpha_n\\T(v_n) =0 \\implies \\T(\\alpha_1 v_1+...+\\alpha_n v_n)=0$\n",
    "\n",
    "$\\implies \\alpha_1 v_1+...+\\alpha_n v_n \\in \\null\\T$\n",
    "\n",
    "$\\implies \\alpha_1 v_1+...+\\alpha_n v_n = \\beta_1 u_1+...+\\beta_m u_m$\n",
    "\n",
    "$\\implies \\alpha_1=...=\\alpha_n=0$, as desired.\n",
    "\n",
    "Since $\\v{u}{m},\\v{v}{m}$ is a basis of $V$, $\\alpha_i=\\beta_j=0$.\n",
    "\n",
    "Hence, $\\circledast$ implies that, $\\T(v_1),...,\\T(v_n)$ are independent.\n",
    "\n",
    "Thus, $\\dim\\range\\T=n$."
   ]
  },
  {
   "cell_type": "markdown",
   "metadata": {},
   "source": [
    "### Corollary: $\\T: V\\mapsto W$, $\\dim V \\gt \\dim W$ cannot be injective.\n",
    "\n",
    "$\\dim\\range\\T \\lt \\dim W \\lt \\dim V$.\n",
    "\n",
    "$\\circledast$ Recall: $\\dim V = \\dim\\null\\T+\\dim\\range\\T$\n",
    "\n",
    "Thus, $\\circledast$ implies $\\dim \\null\\T \\leq 1$. So, $\\exists u\\in null\\T, u\\neq \\implies \\T(u) =0$."
   ]
  },
  {
   "cell_type": "markdown",
   "metadata": {},
   "source": [
    "### Corollary:  $\\T: V\\mapsto W, \\dim V \\lt dim W$ cannot be surjective.\n",
    "\n",
    "Suppose otherwise, $\\range\\T=W$\n",
    "\n",
    "$\\dim V \\geq \\dim\\range\\T$, because $\\dim\\null$ must be 0.\n",
    "\n",
    "FIXME!!! Add diagram of $\\vec{u}$ and $\\vec{0}$ mapping to $\\0$."
   ]
  },
  {
   "cell_type": "markdown",
   "metadata": {},
   "source": [
    "# Appendix. Mess about with $\\LaTeX$."
   ]
  },
  {
   "cell_type": "markdown",
   "metadata": {},
   "source": [
    "### Tikz Example"
   ]
  },
  {
   "cell_type": "code",
   "execution_count": 3,
   "metadata": {},
   "outputs": [],
   "source": [
    "%load_ext tikzmagic"
   ]
  },
  {
   "cell_type": "code",
   "execution_count": 4,
   "metadata": {},
   "outputs": [
    {
     "data": {
      "image/png": "[encoded data removed]"
     },
     "metadata": {},
     "output_type": "display_data"
    }
   ],
   "source": [
    "%%tikz\n",
    "\\draw (0,0) rectangle (1,1);\n",
    "\\filldraw (0.5,0.5) circle (.1);\n"
   ]
  },
  {
   "cell_type": "code",
   "execution_count": 5,
   "metadata": {},
   "outputs": [
    {
     "data": {
      "image/svg+xml": [
       "<svg xmlns=\"http://www.w3.org/2000/svg\" xmlns:xlink=\"http://www.w3.org/1999/xlink\" width=\"800px\" height=\"500px\" viewBox=\"0 0 28.745 28.745\" version=\"1.1\">\n",
       "<g id=\"surface1\">\n",
       "<path style=\"fill:none;stroke-width:0.3985;stroke-linecap:butt;stroke-linejoin:miter;stroke:rgb(0%,0%,0%);stroke-opacity:1;stroke-miterlimit:10;\" d=\"M 0.00021875 -0.000875 L 0.00021875 28.346781 L 28.347875 28.346781 L 28.347875 -0.000875 Z M 0.00021875 -0.000875 \" transform=\"matrix(1,0,0,-1,0.199,28.546)\"/>\n",
       "<path style=\"fill-rule:nonzero;fill:rgb(0%,0%,0%);fill-opacity:1;stroke-width:0.3985;stroke-linecap:butt;stroke-linejoin:miter;stroke:rgb(0%,0%,0%);stroke-opacity:1;stroke-miterlimit:10;\" d=\"M 17.008031 14.174906 C 17.008031 15.737406 15.7385 17.006937 14.172094 17.006937 C 12.609594 17.006937 11.340063 15.737406 11.340063 14.174906 C 11.340063 12.6085 12.609594 11.338969 14.172094 11.338969 C 15.7385 11.338969 17.008031 12.6085 17.008031 14.174906 Z M 17.008031 14.174906 \" transform=\"matrix(1,0,0,-1,0.199,28.546)\"/>\n",
       "</g>\n",
       "</svg>"
      ]
     },
     "metadata": {
      "isolated": "true"
     },
     "output_type": "display_data"
    }
   ],
   "source": [
    "%%tikz -f svg -s 800,500 --save /tmp/diagram.svg\n",
    "\\draw (0,0) rectangle (1,1);\n",
    "\\filldraw (0.5,0.5) circle (.1);"
   ]
  },
  {
   "cell_type": "code",
   "execution_count": 6,
   "metadata": {},
   "outputs": [],
   "source": [
    "# try this \n",
    "# weird way do it...\n",
    "import IPython.display\n",
    "#IPython.display.display_latex(IPython.display.Latex(filename=\"./macros/xypic/texinput/xymatrix.tex\"))"
   ]
  },
  {
   "cell_type": "markdown",
   "metadata": {},
   "source": [
    "#### Use a macro\n",
    "$\\newcommand{\\paren}[1]{\\left(#1\\right)}$\n",
    "$\\paren{\\beta^2}$"
   ]
  },
  {
   "cell_type": "markdown",
   "metadata": {},
   "source": [
    "## Commutative diagram Using AMScd\n",
    "$\\require{AMScd}$\n",
    "\n",
    "\n",
    "\\begin{CD} E[x]/\\langle p(x) \\rangle    @>\\psi>>  F[x]/\\langle q(x) \\rangle\\\\ @VV{\\sigma}V        @VV{\\tau}V\\\\ E(\\alpha)     @>\\overline{\\phi}>>  F(\\beta)\\\\ @VVV        @VVV\\\\ E     @>\\phi>>  F \\end{CD}\n",
    "\n",
    "</subsection>"
   ]
  },
  {
   "cell_type": "markdown",
   "metadata": {},
   "source": [
    "## A minimal working example for AMScd\n",
    "$\\require{AMScd}$\n",
    "\\begin{CD}\n",
    "A @>a>> B\\\\\n",
    "@AAA @AAA\\\\\n",
    "C @>c>> D\n",
    "\\end{CD}"
   ]
  },
  {
   "cell_type": "markdown",
   "metadata": {},
   "source": [
    "## A minimal (non)working example for xy-pic\n",
    "$\\require{xy}$\n",
    "\n",
    "\\xymatrix{\n",
    "A \\ar[d]^b \\ar[r]^a &B\\ar[d]^c\\\\\n",
    "C \\ar[r]^d &D}"
   ]
  },
  {
   "cell_type": "markdown",
   "metadata": {},
   "source": [
    "## A minimal (non)working example for tikz-cd\n",
    "$\\require{tikz-cd}$\n",
    "\n",
    "\\begin{tikzcd}\n",
    "    A \\arrow{r}{f} \\arrow[swap]{dr}{g\\circ f} & B \\arrow{d}{g} \\\\\n",
    "     & C\n",
    "\\end{tikzcd}"
   ]
  },
  {
   "cell_type": "markdown",
   "metadata": {},
   "source": [
    "### Resources\n",
    "https://nocomplexity.com/documents/jupyterlab/notebooks/TypesettingEquations.html\n",
    "\n",
    "https://daringfireball.net/projects/markdown/syntax\n",
    "\n",
    "https://texnology.com/JupyterSample.pdf\n",
    "\n",
    "https://ncatlab.org/nlab/show/commutative+diagram\n",
    "\n",
    "https://www.jmilne.org/not/CDGuide06.pdf\n",
    "\n",
    "https://laurentperrinet.github.io/sciblog/posts/2015-01-20-using-tikzmagic.html\n",
    "\n"
   ]
  }
 ],
 "metadata": {
  "celltoolbar": "Raw Cell Format",
  "kernelspec": {
   "display_name": "Python 3",
   "language": "python",
   "name": "python3"
  },
  "language_info": {
   "codemirror_mode": {
    "name": "ipython",
    "version": 3
   },
   "file_extension": ".py",
   "mimetype": "text/x-python",
   "name": "python",
   "nbconvert_exporter": "python",
   "pygments_lexer": "ipython3",
   "version": "3.8.10"
  }
 },
 "nbformat": 4,
 "nbformat_minor": 4
}
