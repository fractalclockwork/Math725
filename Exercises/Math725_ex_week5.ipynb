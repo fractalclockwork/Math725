{
 "cells": [
  {
   "cell_type": "markdown",
   "metadata": {},
   "source": [
    "# Math 725\n",
    "\n",
    "### Brent A. Thorne <brentathorne@gmail.com>\n",
    "\n",
    "In class exercises, Week 5\n",
    "\n",
    "$\\require{AMScd}$\n",
    "$\\require{cancel}$\n",
    "$\\newcommand{\\null}{\\text{null}}$\n",
    "$\\newcommand{\\0}{\\{\\Bbb{0}\\}}$\n",
    "$\\newcommand{\\C}{\\Bbb{C}}$\n",
    "$\\newcommand{\\range}{\\text{range}}$\n",
    "$\\newcommand{\\T}{\\mathbf{T}}$\n",
    "$\\newcommand{\\U}{\\mathbf{U}}$\n",
    "$\\newcommand{\\L}{\\mathcal{L}}$\n",
    "$\\newcommand{\\W}{\\mathbf{W}}$\n",
    "$\\newcommand{\\R}{\\mathbb{R}}$\n",
    "$\\newcommand{\\F}{\\mathbb{F}}$\n",
    "$\\newcommand{\\v}[2]{#1_1...#1_#2}$"
   ]
  },
  {
   "cell_type": "code",
   "execution_count": 2,
   "metadata": {},
   "outputs": [],
   "source": [
    "# import libraries\n",
    "import numpy as np\n",
    "import sympy as sym\n",
    "from sympy.matrices import Matrix\n",
    "import matplotlib.pyplot as plt\n",
    "from IPython.display import display, Math, Latex"
   ]
  },
  {
   "cell_type": "code",
   "execution_count": 59,
   "metadata": {},
   "outputs": [],
   "source": [
    "n=6\n",
    "m = Matrix.zeros(1,n)\n",
    "m[0] = 1/2\n",
    "m[-1] =1/2\n",
    "\n",
    "\n",
    "M = Matrix(m)\n",
    "for i in range(n):\n",
    "    M=M.col_join(m)\n",
    "\n"
   ]
  },
  {
   "cell_type": "markdown",
   "metadata": {},
   "source": [
    "### Ex.  $\\F^n \\stackrel{T}{\\mapsto}\\F^m$\n",
    "\n",
    "$\\T \\begin{pmatrix} x_1 \\\\ \\vdots \\\\ x_n   \\end{pmatrix} = \n",
    "\\begin{pmatrix} \n",
    "A_{1,1}x_1 + ... + A_{1,n}x_n\\\\\n",
    "A_{2,1}x_1 + ... + A_{2,n}x_n\\\\\n",
    "... \\\\\n",
    "A_{m,1}x_1 + ... + A_{m,n}x_n\\\\\n",
    "\\end{pmatrix}\n",
    "$\n",
    "\n",
    "Every linear map from $\\F^n$ to $\\F^m$ is of this form."
   ]
  },
  {
   "cell_type": "markdown",
   "metadata": {},
   "source": [
    "# Matrix Manipulation\n",
    "## Matrix Representaion\n",
    "Let $\\C^{n\\times m}$ be the set of $(n\\times m)$-matrices ($n$ rows, $m$ columns) with complex entries.  Let $M\\in\\C^{nxm}$.\n",
    "\n",
    "Let ${M^i}_j$ represent the $i$-th row and the $j$-th column of $M$.\n",
    "\n",
    "We may now write the matrix $M$ in terms of components as,\n",
    "\n",
    "$M=\\begin{pmatrix}\n",
    "{M^1}_1 & \\cdots & {M^1}_m\\\\\n",
    "\\vdots  & \\ddots & \\vdots\\\\\n",
    "{M^n}_1 & \\cdots & {M^n}_m\\\\\n",
    "\\end{pmatrix}$"
   ]
  },
  {
   "cell_type": "markdown",
   "metadata": {},
   "source": [
    "## Matrix Addition\n",
    "\n",
    "We add two matrices of the same size to get another matrix of the same size by adding the entries piecewise.\n",
    "\n",
    "Given $A\\in\\C^{n\\times m}$, $B\\in\\C^{n\\times m}$, and $C\\equiv A+B$, then $C\\in \\C^{n\\times m}$ and \n",
    "\n",
    "${C^i}_j = {A^i}_j + {B^i}_j$."
   ]
  },
  {
   "cell_type": "markdown",
   "metadata": {},
   "source": [
    "### Example: Matrix Addition\n",
    "Condiser the matrices\n",
    "$A=\\begin{pmatrix}\n",
    "8 & 45 & i \\\\\n",
    "7 & 3 & -2\n",
    "\\end{pmatrix}$ and \n",
    "$B=\\begin{pmatrix}\n",
    "-2 & 9 & 1 \\\\\n",
    "0 & \\sqrt{\\pi} & 2\n",
    "\\end{pmatrix}$.  The sum of the matrices $A+B$ is \n",
    "\n",
    "$\\begin{pmatrix}\n",
    "8 & 45 & i \\\\\n",
    "7 & 3 & -2\n",
    "\\end{pmatrix}\n",
    "+\n",
    "\\begin{pmatrix}\n",
    "-2 & 9 & 1 \\\\\n",
    "0 & \\sqrt{\\pi} & 2\n",
    "\\end{pmatrix}\n",
    "=\n",
    "\\begin{pmatrix}\n",
    "8 + (-2) & 45+9 & i+1 \\\\\n",
    "7 + 0 & 3 + \\sqrt{\\pi} & -2+2\n",
    "\\end{pmatrix}\n",
    "=\n",
    "\\begin{pmatrix}\n",
    "6 & 54 & i+1 \\\\\n",
    "7 + 0 & 3 + \\sqrt{\\pi} & 0\n",
    "\\end{pmatrix}\n",
    "$"
   ]
  },
  {
   "cell_type": "markdown",
   "metadata": {},
   "source": [
    "## Scalar Multiplication of a Matrix\n",
    "We multiply a matrix by a scalar to get another matrix of the same size by scalling each entry.\n",
    "\n",
    "Given $A\\in\\C^{n\\times m}$, $c\\in\\C$, and $C\\equiv cA$, then $C\\in\\C^{n\\times m}$ and \n",
    "\n",
    "${C^i}_j=c{A^i}_j$."
   ]
  },
  {
   "cell_type": "markdown",
   "metadata": {},
   "source": [
    "### Example: Scalar Multiplication of a Matrix\n",
    "Consider the matrix\n",
    "$A=\\begin{pmatrix}\n",
    "8 & 45 & i \\\\\n",
    "7 & 3 & -2\n",
    "\\end{pmatrix}$ and c = 7.  The scalar multiplication $cA$ is \n",
    "\n",
    "$A=7 \\begin{pmatrix}\n",
    "8 & 45 & i \\\\\n",
    "7 & 3 & -2\n",
    "\\end{pmatrix} \n",
    "=\n",
    "\\begin{pmatrix}\n",
    "7 \\cdot  8 & 7 \\cdot 45 & 7 \\cdot i \\\\\n",
    "7 \\cdot 7 & 7 \\cdot 3 & 7 \\cdot (-2)\n",
    "\\end{pmatrix}\n",
    "=\n",
    "\\begin{pmatrix}\n",
    "56 & 315 & 7i \\\\\n",
    "49 & 21 & -14\n",
    "\\end{pmatrix}$"
   ]
  },
  {
   "cell_type": "markdown",
   "metadata": {},
   "source": [
    "### Note:\n",
    "These rules for matrix addition and scalr multiplication obey all the axioms for vector addition and scalar multiplication from our discussion of vector spaces.  Since the set $\\C^{n\\times m}$ of $(n\\times m)$-matrices is also closed under these operations (a linear compbination of two $(nxm)$-matrices is another $(n\\times m)$ matrix) we can see that $\\C^{n\\times m}$ is itself a vector space and must contain the zero vector."
   ]
  },
  {
   "cell_type": "markdown",
   "metadata": {},
   "source": [
    "## Define: Zero Matrix\n",
    "The $(nxm)$- zero matrix $\\mathbb{0}^{nxm}$ is the matrix with zero in all entries. The size of the matrix typically clear in the context.\n",
    "\n",
    "Since matrices can represent linear transformations, we can say that the set of all linear transformations $M:V\\mapsto W$ from a vector space $V$ to a vector space $W$ is itself a vector space.  The \"zero transformation\" is the linear transformation that maps every vector $\\vec{v}\\in V$ to zero vector $\\vec{0}\\in W$."
   ]
  },
  {
   "cell_type": "markdown",
   "metadata": {},
   "source": [
    "## Matrix Multiplication\n",
    "We can matrix multiply an $(n_1 \\times n_2)$-matrice with an $(n_2 \\times n_3)$-matrix to get a $(n_1 \\times n_3)$-matrix. The entry in the $i$th and the $k$th column of the product is found by summing the product of each of the $n_2$ pairs of entries in the row and column.\n",
    "\n",
    "Given $A\\in \\C^{n_1 \\times n_2}$, $B\\in \\C^{n_2 \\times n_3}$, and $C\\equiv AB$, then $C\\in C^{n_1 \\times n_3}$ and\n",
    "\n",
    "${C^i}_k= \\sum\\limits^{n_2}_{j=1}{A^i}_j{B^j}_k$."
   ]
  },
  {
   "cell_type": "markdown",
   "metadata": {},
   "source": [
    "### Note:\n",
    "Take note of the indices use above,\n",
    "\n",
    " * $i$ runs from 1 to $n_1$ and indexes the $n_1$ rows of the matrix $A$ and the $n_1$ row of the product $C$\n",
    "\n",
    " * $j$ (which is summed over) runs from 1 to $n_2$ and indexes both the $n_2$ columns of $A$ and the $n_2$ rows of $B$\n",
    " \n",
    " * $k$ runs from 1 to $n_3$ and indexes the $n_3$ columns of $B$ and the $n_3$ columns of the product $C$.\n",
    " \n",
    " The numbers of columns of $A$ $\\textit{must}$ match the number of rows of $B$ for our matix multiplication algorithm to make sense."
   ]
  },
  {
   "cell_type": "markdown",
   "metadata": {},
   "source": [
    "### Example: Matrix Multiplcation\n",
    "Consider the $(2x3)$ and $(3x2)$-matrices\n",
    "$A=\\begin{pmatrix}\n",
    "8 & 5 & i \\\\\n",
    "7 & 3 & -2i\n",
    "\\end{pmatrix}$ and\n",
    "$B=\\begin{pmatrix}\n",
    "-2 & 0 \\\\\n",
    "9 & 1 \\\\\n",
    "3i & 4i\n",
    "\\end{pmatrix}$. The matrix multiplcation $AB$ is a $(2x2)$-matrix,\n",
    "\n",
    "$\\begin{pmatrix}\n",
    "8 & 5 & i \\\\\n",
    "7 & 3 & -2i\n",
    "\\end{pmatrix}\n",
    "\\begin{pmatrix}\n",
    "-2 & 0 \\\\\n",
    "9 & 1 \\\\\n",
    "3i & 4i\n",
    "\\end{pmatrix}\n",
    "=\n",
    "\\begin{pmatrix}\n",
    "8(-2)+5(9)+i(3i) & 8(0)+5(1)+i(4i)\\\\\n",
    "7(-2)+3(9)+(-2i) & 7(0)+3(1)+(-2i)(4i)\n",
    "\\end{pmatrix}\n",
    "=\n",
    "\\begin{pmatrix}\n",
    "26 & 1\\\\\n",
    "19 & 11\n",
    "\\end{pmatrix}\n",
    "$."
   ]
  },
  {
   "cell_type": "markdown",
   "metadata": {},
   "source": [
    "## Conjugate and Transposes\n",
    "Much like the conjugate in the complex numbers, where a pair of numbers were conjugate if they differed only in the sign of the imaginary part, we have a simular concept in matrices, however there are now a number of them that differ in how they swap features.  These are the $\\textbf{complex conjugate}$, $\\textbf{transpose}$, and $\\textbf{Hermitian conjugate}$ (also called the conjugate-transpose) of a matrix.  "
   ]
  },
  {
   "cell_type": "markdown",
   "metadata": {},
   "source": [
    "### Complex Conjugate of a Matrix\n",
    "The complex conjugate of an $(nxm)$-matrix is another $(nxm)$-matrix with each entry complex-conjugated.\n",
    "\n",
    "We represent the complex conjugate of a matrix as we do the complex conjugate of complex numbers, with a star superscript $M^*$.\n",
    "\n",
    "Complex Conjugate:\n",
    "\n",
    "$*:\\C^{nxm}\\mapsto\\C^{nxm}$\n",
    "\n",
    "$M\\mapsto M^*$\n",
    "\n",
    "${(M^*)^i}_j\\equiv ({M^i}_j)^*$, where the $i$th row and the $j$th column of $M^*$ is the complex conjugate of the entry in the $i$th row and the $j$th column of $M$."
   ]
  },
  {
   "cell_type": "markdown",
   "metadata": {},
   "source": [
    "### Example: Complex Conjugate\n",
    "Given the matrix\n",
    "$M=\\begin{pmatrix}\n",
    "2 & \\color{red}{3i}& z \\\\\n",
    "-5i &6 & 7+8i\n",
    "\\end{pmatrix}$, the complex conjugare is\n",
    "$M=\\begin{pmatrix}\n",
    "2 & \\color{red}{-3i}& z^*\\\\\n",
    "5i &6 & 7-8i\n",
    "\\end{pmatrix}$.\n",
    "\n",
    "The $\\color{red}{\\text{red}}$ entries show the relationship ${(M^*)^1}_2\\equiv ({M^1}_2)^*=(3i)^*=-3i$."
   ]
  },
  {
   "attachments": {},
   "cell_type": "markdown",
   "metadata": {},
   "source": [
    "# Enough with the canatonical...\n",
    "\n",
    "## Classification by Products\n",
    "\n",
    "\n",
    "### Involutory: $\\sum\\sum = \\Bbb{1}$\n",
    "\n"
   ]
  },
  {
   "cell_type": "markdown",
   "metadata": {},
   "source": [
    "### We are Space!\n",
    "\n",
    "$M:V\\mapsto W$"
   ]
  },
  {
   "cell_type": "markdown",
   "metadata": {},
   "source": [
    "### Resources\n",
    "https://en.wikipedia.org/wiki/Scaling_(geometry)\n",
    "\n",
    "https://en.wikipedia.org/wiki/Projective_geometry\n",
    "\n",
    "https://en.wikipedia.org/wiki/Fano_plane\n",
    "\n",
    "https://en.wikipedia.org/wiki/Incidence_structure\n",
    "\n",
    "https://en.wikipedia.org/wiki/Projective_harmonic_conjugate\n",
    "\n",
    "https://en.wikipedia.org/wiki/Laplacian_matrix\n",
    "\n",
    "Spectral Graph Theory: https://people.orie.cornell.edu/dpw/orie6334/Fall2016/lecture7.pdf\n",
    "\n",
    "https://en.wikipedia.org/wiki/Dynamic_mode_decomposition"
   ]
  },
  {
   "cell_type": "code",
   "execution_count": null,
   "metadata": {},
   "outputs": [],
   "source": []
  }
 ],
 "metadata": {
  "celltoolbar": "Raw Cell Format",
  "kernelspec": {
   "display_name": "Python 3",
   "language": "python",
   "name": "python3"
  },
  "language_info": {
   "codemirror_mode": {
    "name": "ipython",
    "version": 3
   },
   "file_extension": ".py",
   "mimetype": "text/x-python",
   "name": "python",
   "nbconvert_exporter": "python",
   "pygments_lexer": "ipython3",
   "version": "3.8.10"
  }
 },
 "nbformat": 4,
 "nbformat_minor": 4
}
