{
 "cells": [
  {
   "cell_type": "markdown",
   "id": "c81190c6",
   "metadata": {},
   "source": [
    "# Math 725\n",
    "\n",
    "### Brent A. Thorne <brentathorne@gmail.com>\n",
    "\n",
    "In class exercises"
   ]
  },
  {
   "cell_type": "code",
   "execution_count": 6,
   "id": "b4e33144",
   "metadata": {},
   "outputs": [],
   "source": [
    "# import libraries\n",
    "import numpy as np\n",
    "import sympy as sym\n",
    "from sympy.matrices import Matrix\n",
    "import matplotlib.pyplot as plt"
   ]
  },
  {
   "cell_type": "code",
   "execution_count": 83,
   "id": "af0bda3c",
   "metadata": {},
   "outputs": [],
   "source": [
    "def z_scatter(z, c=None):\n",
    "    plt.scatter(z.real, z.imag, c=c)\n",
    "    plt.grid(visible=True);\n",
    "    plt.gca().set_aspect(\"equal\") # square grids are pretty\n",
    "    plt.axhline(0, color='black', alpha = .2, linestyle='--')\n",
    "    plt.axvline(0, color='black', alpha = .2, linestyle='--')    "
   ]
  },
  {
   "cell_type": "markdown",
   "id": "3893718b",
   "metadata": {},
   "source": [
    "## Ex 0.0\n",
    "$i^2=-1$"
   ]
  },
  {
   "cell_type": "code",
   "execution_count": 1,
   "id": "e870cc8e",
   "metadata": {},
   "outputs": [
    {
     "data": {
      "text/plain": [
       "(-1+0j)"
      ]
     },
     "execution_count": 1,
     "metadata": {},
     "output_type": "execute_result"
    }
   ],
   "source": [
    "1j**2"
   ]
  },
  {
   "cell_type": "markdown",
   "id": "84018e19",
   "metadata": {},
   "source": [
    "## Ex 0.1\n",
    "$i=(0,1)$"
   ]
  },
  {
   "cell_type": "code",
   "execution_count": 2,
   "id": "16e1bdb6",
   "metadata": {},
   "outputs": [
    {
     "data": {
      "text/plain": [
       "(-1+0j)"
      ]
     },
     "execution_count": 2,
     "metadata": {},
     "output_type": "execute_result"
    }
   ],
   "source": [
    "1j*1j"
   ]
  },
  {
   "cell_type": "markdown",
   "id": "545852a8",
   "metadata": {},
   "source": [
    "## Ex 0.11\n",
    "$i * shape$"
   ]
  },
  {
   "cell_type": "code",
   "execution_count": 7,
   "id": "3d1f5d96",
   "metadata": {},
   "outputs": [
    {
     "data": {
      "text/plain": [
       "array([-1.-1.j,  1.+1.j,  1.+0.j, -1.+0.j])"
      ]
     },
     "metadata": {},
     "output_type": "display_data"
    }
   ],
   "source": [
    "my_shape = np.array([-1-1j, 1+1j, 1, -1])\n",
    "display(my_shape)\n",
    "new_shape =1j*my_shape"
   ]
  },
  {
   "cell_type": "code",
   "execution_count": 21,
   "id": "0bc9b7e6",
   "metadata": {},
   "outputs": [
    {
     "data": {
      "text/plain": [
       "(array([-1.,  1.,  1., -1.]), array([-1.,  1.,  0.,  0.]))"
      ]
     },
     "execution_count": 21,
     "metadata": {},
     "output_type": "execute_result"
    }
   ],
   "source": [
    "my_shape.real, my_shape.imag"
   ]
  },
  {
   "cell_type": "code",
   "execution_count": 86,
   "id": "c2a39078",
   "metadata": {},
   "outputs": [
    {
     "data": {
      "image/png": "[encoded data removed]",
      "text/plain": [
       "<Figure size 432x288 with 1 Axes>"
      ]
     },
     "metadata": {
      "needs_background": "light"
     },
     "output_type": "display_data"
    }
   ],
   "source": [
    "z_scatter(my_shape)\n",
    "z_scatter(new_shape, c='red')"
   ]
  },
  {
   "cell_type": "code",
   "execution_count": null,
   "id": "4b3c36ae",
   "metadata": {},
   "outputs": [],
   "source": []
  },
  {
   "cell_type": "markdown",
   "id": "a13fd30c",
   "metadata": {},
   "source": [
    "## Ex 0.2\n",
    "$p^5=1$\n",
    "\n",
    "$p=cos(\\frac{2\\pi}{5}) + i sin(\\frac{2\\pi}{5})$"
   ]
  },
  {
   "cell_type": "code",
   "execution_count": 87,
   "id": "8b3afd86",
   "metadata": {},
   "outputs": [
    {
     "data": {
      "text/plain": [
       "(-1.5, 1.5, -1.5, 1.5)"
      ]
     },
     "execution_count": 87,
     "metadata": {},
     "output_type": "execute_result"
    },
    {
     "data": {
      "image/png": "[encoded data removed]",
      "text/plain": [
       "<Figure size 432x288 with 1 Axes>"
      ]
     },
     "metadata": {
      "needs_background": "light"
     },
     "output_type": "display_data"
    }
   ],
   "source": [
    "p = sym.cos(2*sym.pi/5) + 1j*sym.sin(2*sym.pi/5)\n",
    "#z_scatter(p) # oops, wrong type\n",
    "z_scatter(complex(p))\n",
    "z_scatter(complex(p**5), c='orange')\n",
    "s= 1.5\n",
    "plt.axis([-s,s,-s,s])"
   ]
  },
  {
   "cell_type": "markdown",
   "id": "8f574f56",
   "metadata": {},
   "source": [
    "## Fields\n",
    "consider: Galois Field"
   ]
  },
  {
   "cell_type": "markdown",
   "id": "6526aa6b",
   "metadata": {},
   "source": [
    "# Space\n",
    "consider: Hilbert Space"
   ]
  }
 ],
 "metadata": {
  "kernelspec": {
   "display_name": "Python 3 (ipykernel)",
   "language": "python",
   "name": "python3"
  },
  "language_info": {
   "codemirror_mode": {
    "name": "ipython",
    "version": 3
   },
   "file_extension": ".py",
   "mimetype": "text/x-python",
   "name": "python",
   "nbconvert_exporter": "python",
   "pygments_lexer": "ipython3",
   "version": "3.10.4"
  }
 },
 "nbformat": 4,
 "nbformat_minor": 5
}
