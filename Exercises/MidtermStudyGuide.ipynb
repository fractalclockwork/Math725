{
 "cells": [
  {
   "cell_type": "markdown",
   "id": "933c436f",
   "metadata": {},
   "source": [
    "# Midterm Study Guide\n",
    "\n",
    "Brent A. Thorne\n",
    "\n",
    "brentathorne@gmail.com\n",
    "\n",
    "$\\require{AMScd}$\n",
    "$\\require{cancel}$\n",
    "$\\newcommand{\\null}{\\text{null}}$\n",
    "$\\newcommand{\\P}{\\mathcal{P}}$\n",
    "$\\newcommand{\\B}{\\mathcal{B}}$\n",
    "$\\newcommand{\\0}{\\{\\Bbb{0}\\}}$\n",
    "$\\newcommand{\\C}{\\Bbb{C}}$\n",
    "$\\newcommand{\\1}{\\Bbb{1}}$\n",
    "$\\newcommand{\\range}{\\text{range}}$\n",
    "$\\newcommand{\\T}{\\mathcal{T}}$\n",
    "$\\newcommand{\\M}{\\mathcal{M}}$\n",
    "$\\newcommand{\\U}{\\mathbf{U}}$\n",
    "$\\newcommand{\\L}{\\mathcal{L}}$\n",
    "$\\newcommand{\\W}{\\mathbf{W}}$\n",
    "$\\newcommand{\\R}{\\mathbb{R}}$\n",
    "$\\newcommand{\\F}{\\mathbb{F}}$\n",
    "$\\newcommand{\\v}[2]{#1_1,...,#1_#2}$"
   ]
  },
  {
   "cell_type": "code",
   "execution_count": 1,
   "id": "3cf54940",
   "metadata": {},
   "outputs": [],
   "source": [
    "# import libraries\n",
    "import numpy as np\n",
    "import sympy as sym\n",
    "from sympy.matrices import Matrix\n",
    "from sympy import I\n",
    "import matplotlib.pyplot as plt\n",
    "from IPython.display import display, Math, Latex\n",
    "\n",
    "from sympy import init_printing\n",
    "init_printing()"
   ]
  },
  {
   "cell_type": "markdown",
   "id": "611a68d6",
   "metadata": {},
   "source": [
    "## Topics\n",
    "\n",
    "1. Example of a finite dimensional vector space and an example of an infinite dimensional vector space (why is it infinite dim?),\n",
    "\n",
    "2. Spanning vectors, \n",
    "\n",
    "3. Independent vectors.\n",
    "\n",
    "4. Dimension of a  vector space. \n",
    "\n",
    "5. What is a direct sum? Keep an example in mind. When is a sum a direct sum?\n",
    "\n",
    "6. Illustrate the matrix for a particular linear map, say for $T(x,y,z) = (2x+z, 4y+1)$\n",
    "\n",
    "7. State the Fundamental Theorem of Algebra. Apply it to a simple example. \n",
    "\n",
    "8. Define product of two spaces, its dimension, \n",
    "\n",
    "9. Define the quotient of two vector spaces. Give an example of a linear quotient space. \n",
    "\n",
    "10. Define a linear functional and the dual map. \n",
    "\n",
    "11. Compute a dual basis of a vector space spanned by a basis. "
   ]
  },
  {
   "cell_type": "markdown",
   "id": "23c90c87",
   "metadata": {},
   "source": [
    "## 1. Give an example of a finite dimensional vector space and an example of an infinite dimensional vector space.  Why is it infinite dim?"
   ]
  },
  {
   "cell_type": "markdown",
   "id": "49a706b0",
   "metadata": {},
   "source": [
    "##### Recall:\n",
    "A vector space is finite-dimensional is some list of vector spans the space.  Thus $V$ is a finite vector space if span$(\\v{v}{m})= \\{a_1 v_1 + ... + a_m v_m: a_1,...,a_m \\in \\F\\}$ with $\\0$ being the simpliest finite-dimensional space.  An infinite-dimension space has no list that spans the vector space. \n",
    "\n",
    "#### Ex 1.1 Finite dimensional vector space\n",
    "$V=\\{a+b\\sqrt{5}; a,b \\in \\mathbb{Q}\\}$ is a vector space over $\\Bbb{Q}$.\n",
    "\n",
    "$0+0\\sqrt{5}= 0\\in V$\n",
    "\n",
    "$\\underbrace{a+b\\sqrt{5}}_{\\in V}+\\underbrace{c+d\\sqrt{5}}_{\\in V}= \\underbrace{(a+c)}_{\\in Q}+\\underbrace{(b+d)}_{\\in Q}\\sqrt{5}\\in V$ closed under addition\n",
    "\n",
    "$\\underbrace{\\lambda}_{\\in Q}(a+b\\sqrt{5})=\\underbrace{\\lambda}_{\\in Q}a+\\lambda\\underbrace{b}_{\\in Q}\\sqrt{5}\\in V$ closed under multiplication\n",
    "\n",
    "note: $\\Bbb{Q}$ is Rational Space.\n",
    "\n",
    "#### Ex 1.2 Finite dimensional vector space\n",
    "$\\P_m(\\F)$ is finite dimensional with degree at most $m$.\n",
    "\n",
    "#### Ex 1.2 Infinite dimensional vector space, and why.\n",
    "$\\P(\\F)$ is infinite dimensional as every polymonial is span has degree at most $m$ thus $z^{m+1}$ is not in span, hence no list spans $\\P(\\F)$ thus infinate dimensional."
   ]
  },
  {
   "cell_type": "markdown",
   "id": "6d660943",
   "metadata": {},
   "source": [
    "## 2. Give an example of Spanning vectors.\n",
    "\n",
    "##### Recall:\n",
    "A span is the smallest list containing a subspace.\n",
    "\n",
    "#### Ex 2.1 Spanning list\n",
    "Suppose $(\\v{x}{n})\\in\\F$ then, $(\\v{x}{n})=x_1(1,0,...,0)+x_2(0,1,...,0)+...+x_n(0,...,0,1)$.\n",
    "\n",
    "Thus, $(\\v{x}{n})\\in$ span$((1,0,...,0)+(0,1,...,0)+...+(0,...,0,1))$."
   ]
  },
  {
   "cell_type": "markdown",
   "id": "d8e1a2a0",
   "metadata": {},
   "source": [
    "## 3. Provide an example of Independent vectors."
   ]
  },
  {
   "cell_type": "markdown",
   "id": "30f30595",
   "metadata": {},
   "source": [
    "##### Recall:\n",
    "A list $\\v{v}{m}\\in V$ is linearly-independent if the only choice of $\\v{a}{m}\\in\\F$ that makes $a_1v_1+...+a_mv_m=0$ is $a_1=...=a_m=0$.\n",
    "\n",
    "#### Ex3.1 $\\F^n$\n",
    "$(1,0,0,0),(0,1,0,0),(0,0,1,0)$ is linearly-independent in $\\F^n$.\n",
    "\n",
    "#### Ex3.2 $\\P(\\F)$\n",
    "$1,\\zeta,...,\\zeta^m$ is linearly-independent in $\\P(\\F)$ for each non-negative interger $m$."
   ]
  },
  {
   "cell_type": "markdown",
   "id": "ff3ec957",
   "metadata": {},
   "source": [
    "## 4. Demonstrate the dimension of a vector space. \n",
    "##### Recall:\n",
    "The dimension of a vector space is the length of its basis.\n",
    "\n",
    "#### Ex 4.1 $\\F^n$\n",
    "dim$\\F^n=n$\n",
    "\n",
    "#### Ex 4.2 $\\P_m(\\F)$\n",
    "dim$\\\\P_m(\\F)=m+1$"
   ]
  },
  {
   "cell_type": "markdown",
   "id": "6c657b93",
   "metadata": {},
   "source": [
    "## 5. Explain what a direct sum is.  Keep an example in mind.  When is a sum a direct sum?\n",
    "##### Recall:\n",
    "The sum $U_1+\\cdots+U_2$ is a direct sum is each element can only be written on way.\n",
    "\n",
    "#### Ex5.1 $F^3$\n",
    "$U=\\{(x,y,0)\\in\\F^3: x,y\\in\\F)$ and\n",
    "\n",
    "$W=\\{(0,0,z)\\in\\F^3: z\\in\\F)$, then \n",
    "\n",
    "$\\F^3=U\\oplus W.$\n",
    "\n",
    "#### Ex5.2 $\\F^n$\n",
    "Suppose $U_j$ is a subspace on $\\F^n$ of vectors with coordinated all 0 except possibly the $j^{th}$ slot\n",
    "\n",
    "(ie. $U_2=\\{0,x,0,...,0)\\}\\in\\F^n$), then\n",
    "\n",
    "$\\F^n=U_1\\oplus\\cdots\\oplus U_n$\n",
    "\n",
    "#### Ex5.3 Non-example\n",
    "$U_1=(x,y,0)$\n",
    "\n",
    "$U_2=(0,0,z)$\n",
    "\n",
    "$U_3=(0,y,y)$\n",
    "\n",
    "Note there are two ways to write $(0,0,0)$...\n",
    "\n",
    "$(0,1,0)+(0,0,1)+(0,-1,-1)=(0,0,0)$ and\n",
    "\n",
    "$(0,0,0)+(0,0,0)+(0,0,0)=(0,0,0)$ \n",
    "\n",
    "##### Things to consider:\n",
    "The direct sum as a projection on some subspace if and only if it is idempotent, $E^2=E$. * Where $E$ is $U$ along $W$.\n",
    "\n",
    "$z=Ez+(\\1-E)z$\n",
    "\n",
    "Consider $Ez=x$ and $(\\1-E)z=y$ then\n",
    "\n",
    "$Ex=E^2z=Ez=x$ and $Ey=E(\\1-E)z=Ez-E^2z=0$\n",
    "\n",
    "so that $x$ is in $U$ and $y$ is in $W$.  Thus,\n",
    "\n",
    "$V=U\\oplus W$, and that the projection on $U$ along $W$ is precisely $E$.\n",
    "\n",
    "see also 41 FDVS Halmos\n",
    "\n",
    "ask Arek for some insight on this"
   ]
  },
  {
   "cell_type": "markdown",
   "id": "3d2d9724",
   "metadata": {},
   "source": [
    "## 6. Illustrate the matrix for a particular linear map\n",
    "##### Recall:\n",
    "$Tv_k=A_{1,k}w_1+...+A_{m,k}w_m = \\sum\\limits_{j=1}^{m}A_{j,k}w_j$ or when context is not clear,\n",
    "\n",
    "$M(\\T,(\\v{v}{m}),(\\v{w}{m})$ is used.\n",
    "\n",
    "#### Ex.6.1 $T(x,y,z) = (2x+z, 4y+1)$ $\\leftarrow$ Arek said this is a typo ($1$ ought to be $z$).\n",
    "$\\T\\in\\L(\\F^2,\\P_2(\\F))$ $\\leftarrow$ We made it work anyway.\n",
    "\n",
    "$M(\\T)=\\begin{pmatrix}0&2&0&1\\\\ 1&0&4&0  \\end{pmatrix}$"
   ]
  },
  {
   "cell_type": "code",
   "execution_count": null,
   "id": "26f67da9",
   "metadata": {},
   "outputs": [],
   "source": []
  },
  {
   "cell_type": "markdown",
   "id": "d44a27b4",
   "metadata": {},
   "source": [
    "#### Ex.6.2 $T(x,y,z) = (2x+z, 4y+z)$ $\\leftarrow$ $*$Note correction\n",
    "$\\T\\in\\L(\\R^3,\\R^2)$  \n",
    "\n",
    "$M(\\T)=\\begin{pmatrix}2&0&1\\\\ 0&4&1  \\end{pmatrix}$"
   ]
  },
  {
   "attachments": {
    "rank-nullity.svg": {
     "image/svg+xml": [
      "PD94bWwgdmVyc2lvbj0iMS4wIiBlbmNvZGluZz0iVVRGLTgiPz4KPHN2ZyB4bWxucz0iaHR0cDovL3d3dy53My5vcmcvMjAwMC9zdmciIHhtbG5zOnhsaW5rPSJodHRwOi8vd3d3LnczLm9yZy8xOTk5L3hsaW5rIiB3aWR0aD0iMjM3LjMxMnB0IiBoZWlnaHQ9IjI0MC4wMjdwdCIgdmlld0JveD0iMCAwIDIzNy4zMTIgMjQwLjAyNyIgdmVyc2lvbj0iMS4xIj4KPGRlZnM+CjxnPgo8c3ltYm9sIG92ZXJmbG93PSJ2aXNpYmxlIiBpZD0iZ2x5cGgwLTAiPgo8cGF0aCBzdHlsZT0ic3Ryb2tlOm5vbmU7IiBkPSIiLz4KPC9zeW1ib2w+CjxzeW1ib2wgb3ZlcmZsb3c9InZpc2libGUiIGlkPSJnbHlwaDAtMSI+CjxwYXRoIHN0eWxlPSJzdHJva2U6bm9uZTsiIGQ9Ik0gNi4yNjU2MjUgLTUuNjcxODc1IEMgNi43NSAtNi40NTMxMjUgNy4xNzE4NzUgLTYuNDg0Mzc1IDcuNTMxMjUgLTYuNSBDIDcuNjU2MjUgLTYuNTE1NjI1IDcuNjcxODc1IC02LjY3MTg3NSA3LjY3MTg3NSAtNi42ODc1IEMgNy42NzE4NzUgLTYuNzY1NjI1IDcuNjA5Mzc1IC02LjgxMjUgNy41MzEyNSAtNi44MTI1IEMgNy4yODEyNSAtNi44MTI1IDYuOTg0Mzc1IC02Ljc4MTI1IDYuNzE4NzUgLTYuNzgxMjUgQyA2LjM5MDYyNSAtNi43ODEyNSA2LjA0Njg3NSAtNi44MTI1IDUuNzM0Mzc1IC02LjgxMjUgQyA1LjY3MTg3NSAtNi44MTI1IDUuNTQ2ODc1IC02LjgxMjUgNS41NDY4NzUgLTYuNjI1IEMgNS41NDY4NzUgLTYuNTE1NjI1IDUuNjI1IC02LjUgNS43MDMxMjUgLTYuNSBDIDUuOTY4NzUgLTYuNDg0Mzc1IDYuMTU2MjUgLTYuMzc1IDYuMTU2MjUgLTYuMTcxODc1IEMgNi4xNTYyNSAtNi4wMTU2MjUgNi4wMTU2MjUgLTUuNzk2ODc1IDYuMDE1NjI1IC01Ljc5Njg3NSBMIDIuOTUzMTI1IC0wLjkyMTg3NSBMIDIuMjY1NjI1IC02LjIwMzEyNSBDIDIuMjY1NjI1IC02LjM3NSAyLjUgLTYuNSAyLjk1MzEyNSAtNi41IEMgMy4wOTM3NSAtNi41IDMuMjAzMTI1IC02LjUgMy4yMDMxMjUgLTYuNzAzMTI1IEMgMy4yMDMxMjUgLTYuNzgxMjUgMy4xMjUgLTYuODEyNSAzLjA3ODEyNSAtNi44MTI1IEMgMi42NzE4NzUgLTYuODEyNSAyLjI1IC02Ljc4MTI1IDEuODI4MTI1IC02Ljc4MTI1IEMgMS42NTYyNSAtNi43ODEyNSAxLjQ2ODc1IC02Ljc4MTI1IDEuMjgxMjUgLTYuNzgxMjUgQyAxLjEwOTM3NSAtNi43ODEyNSAwLjkyMTg3NSAtNi44MTI1IDAuNzUgLTYuODEyNSBDIDAuNjcxODc1IC02LjgxMjUgMC41NjI1IC02LjgxMjUgMC41NjI1IC02LjYyNSBDIDAuNTYyNSAtNi41IDAuNjQwNjI1IC02LjUgMC44MTI1IC02LjUgQyAxLjM1OTM3NSAtNi41IDEuMzc1IC02LjQwNjI1IDEuNDA2MjUgLTYuMTU2MjUgTCAyLjE4NzUgLTAuMDE1NjI1IEMgMi4yMTg3NSAwLjE4NzUgMi4yNjU2MjUgMC4yMTg3NSAyLjM5MDYyNSAwLjIxODc1IEMgMi41NDY4NzUgMC4yMTg3NSAyLjU5Mzc1IDAuMTcxODc1IDIuNjcxODc1IDAuMDQ2ODc1IFogTSA2LjI2NTYyNSAtNS42NzE4NzUgIi8+Cjwvc3ltYm9sPgo8c3ltYm9sIG92ZXJmbG93PSJ2aXNpYmxlIiBpZD0iZ2x5cGgwLTIiPgo8cGF0aCBzdHlsZT0ic3Ryb2tlOm5vbmU7IiBkPSJNIDQuMjUgLTYuMDQ2ODc1IEMgNC4zMjgxMjUgLTYuMzI4MTI1IDQuMzU5Mzc1IC02LjM5MDYyNSA0LjQ4NDM3NSAtNi40MjE4NzUgQyA0LjU3ODEyNSAtNi40Mzc1IDQuOTA2MjUgLTYuNDM3NSA1LjEwOTM3NSAtNi40Mzc1IEMgNi4xMjUgLTYuNDM3NSA2LjU2MjUgLTYuNDA2MjUgNi41NjI1IC01LjYyNSBDIDYuNTYyNSAtNS40Njg3NSA2LjUzMTI1IC01LjA3ODEyNSA2LjQ4NDM3NSAtNC44MjgxMjUgQyA2LjQ4NDM3NSAtNC43ODEyNSA2LjQ1MzEyNSAtNC42NzE4NzUgNi40NTMxMjUgLTQuNjQwNjI1IEMgNi40NTMxMjUgLTQuNTc4MTI1IDYuNDg0Mzc1IC00LjUgNi41NzgxMjUgLTQuNSBDIDYuNjg3NSAtNC41IDYuNzAzMTI1IC00LjU3ODEyNSA2LjczNDM3NSAtNC43MzQzNzUgTCA3IC02LjQ2ODc1IEMgNy4wMTU2MjUgLTYuNTE1NjI1IDcuMDE1NjI1IC02LjYwOTM3NSA3LjAxNTYyNSAtNi42NDA2MjUgQyA3LjAxNTYyNSAtNi43NSA2LjkyMTg3NSAtNi43NSA2Ljc1IC02Ljc1IEwgMS4yMTg3NSAtNi43NSBDIDAuOTg0Mzc1IC02Ljc1IDAuOTY4NzUgLTYuNzM0Mzc1IDAuODkwNjI1IC02LjU0Njg3NSBMIDAuMjk2ODc1IC00Ljc5Njg3NSBDIDAuMjk2ODc1IC00Ljc4MTI1IDAuMjM0Mzc1IC00LjY0MDYyNSAwLjIzNDM3NSAtNC42MDkzNzUgQyAwLjIzNDM3NSAtNC41NjI1IDAuMjk2ODc1IC00LjUgMC4zNTkzNzUgLTQuNSBDIDAuNDUzMTI1IC00LjUgMC40Njg3NSAtNC41NjI1IDAuNTMxMjUgLTQuNzE4NzUgQyAxLjA2MjUgLTYuMjY1NjI1IDEuMzI4MTI1IC02LjQzNzUgMi43OTY4NzUgLTYuNDM3NSBMIDMuMTg3NSAtNi40Mzc1IEMgMy40Njg3NSAtNi40Mzc1IDMuNDY4NzUgLTYuNDA2MjUgMy40Njg3NSAtNi4zMTI1IEMgMy40Njg3NSAtNi4yNjU2MjUgMy40Mzc1IC02LjE0MDYyNSAzLjQyMTg3NSAtNi4xMDkzNzUgTCAyLjA5Mzc1IC0wLjc4MTI1IEMgMiAtMC40MjE4NzUgMS45Njg3NSAtMC4zMTI1IDAuOTA2MjUgLTAuMzEyNSBDIDAuNTQ2ODc1IC0wLjMxMjUgMC40ODQzNzUgLTAuMzEyNSAwLjQ4NDM3NSAtMC4xMjUgQyAwLjQ4NDM3NSAwIDAuNTkzNzUgMCAwLjY1NjI1IDAgQyAwLjkyMTg3NSAwIDEuMjAzMTI1IC0wLjAxNTYyNSAxLjQ2ODc1IC0wLjAxNTYyNSBDIDEuNzUgLTAuMDE1NjI1IDIuMDQ2ODc1IC0wLjAzMTI1IDIuMzI4MTI1IC0wLjAzMTI1IEMgMi42MDkzNzUgLTAuMDMxMjUgMi44NzUgLTAuMDE1NjI1IDMuMTU2MjUgLTAuMDE1NjI1IEMgMy40Mzc1IC0wLjAxNTYyNSAzLjczNDM3NSAwIDQuMDE1NjI1IDAgQyA0LjEwOTM3NSAwIDQuMjM0Mzc1IDAgNC4yMzQzNzUgLTAuMjAzMTI1IEMgNC4yMzQzNzUgLTAuMzEyNSA0LjE1NjI1IC0wLjMxMjUgMy44OTA2MjUgLTAuMzEyNSBDIDMuNjU2MjUgLTAuMzEyNSAzLjUxNTYyNSAtMC4zMTI1IDMuMjY1NjI1IC0wLjMyODEyNSBDIDIuOTY4NzUgLTAuMzU5Mzc1IDIuODkwNjI1IC0wLjM5MDYyNSAyLjg5MDYyNSAtMC41NDY4NzUgQyAyLjg5MDYyNSAtMC41NjI1IDIuODkwNjI1IC0wLjYwOTM3NSAyLjkzNzUgLTAuNzUgWiBNIDQuMjUgLTYuMDQ2ODc1ICIvPgo8L3N5bWJvbD4KPHN5bWJvbCBvdmVyZmxvdz0idmlzaWJsZSIgaWQ9ImdseXBoMC0zIj4KPHBhdGggc3R5bGU9InN0cm9rZTpub25lOyIgZD0iTSA5LjE0MDYyNSAtNS42NTYyNSBDIDkuMzkwNjI1IC02LjA5Mzc1IDkuNjI1IC02LjQ1MzEyNSAxMC4yNjU2MjUgLTYuNSBDIDEwLjM0Mzc1IC02LjUxNTYyNSAxMC40NTMxMjUgLTYuNTE1NjI1IDEwLjQ1MzEyNSAtNi43MDMxMjUgQyAxMC40NTMxMjUgLTYuNzM0Mzc1IDEwLjQwNjI1IC02LjgxMjUgMTAuMzI4MTI1IC02LjgxMjUgQyAxMC4wOTM3NSAtNi44MTI1IDkuODEyNSAtNi43ODEyNSA5LjU2MjUgLTYuNzgxMjUgQyA5LjIxODc1IC02Ljc4MTI1IDguODU5Mzc1IC02LjgxMjUgOC41MTU2MjUgLTYuODEyNSBDIDguNDY4NzUgLTYuODEyNSA4LjMyODEyNSAtNi44MTI1IDguMzI4MTI1IC02LjYyNSBDIDguMzI4MTI1IC02LjUxNTYyNSA4LjQyMTg3NSAtNi41IDguNDg0Mzc1IC02LjUgQyA4LjcxODc1IC02LjQ4NDM3NSA5LjA3ODEyNSAtNi40MDYyNSA5LjA3ODEyNSAtNi4xMDkzNzUgQyA5LjA3ODEyNSAtNiA5LjAxNTYyNSAtNS45MjE4NzUgOC45Mzc1IC01Ljc4MTI1IEwgNi4yNSAtMS4wOTM3NSBMIDUuODc1IC02LjAzMTI1IEMgNS44NzUgLTYuMjM0Mzc1IDUuODU5Mzc1IC02LjQ4NDM3NSA2LjU3ODEyNSAtNi41IEMgNi43NSAtNi41IDYuODQzNzUgLTYuNSA2Ljg0Mzc1IC02LjcwMzEyNSBDIDYuODQzNzUgLTYuNzk2ODc1IDYuNzM0Mzc1IC02LjgxMjUgNi43MDMxMjUgLTYuODEyNSBDIDYuMjk2ODc1IC02LjgxMjUgNS44NzUgLTYuNzgxMjUgNS40ODQzNzUgLTYuNzgxMjUgQyA1LjI1IC02Ljc4MTI1IDQuNjcxODc1IC02LjgxMjUgNC40Mzc1IC02LjgxMjUgQyA0LjM3NSAtNi44MTI1IDQuMjUgLTYuODEyNSA0LjI1IC02LjYwOTM3NSBDIDQuMjUgLTYuNSA0LjM0Mzc1IC02LjUgNC40ODQzNzUgLTYuNSBDIDQuOTIxODc1IC02LjUgNSAtNi40Mzc1IDUuMDE1NjI1IC02LjI1IEwgNS4wNzgxMjUgLTUuNDg0Mzc1IEwgMi41NDY4NzUgLTEuMDkzNzUgTCAyLjE3MTg3NSAtNi4xNDA2MjUgQyAyLjE3MTg3NSAtNi4yNjU2MjUgMi4xNzE4NzUgLTYuNDg0Mzc1IDIuOTM3NSAtNi41IEMgMy4wMzEyNSAtNi41IDMuMTQwNjI1IC02LjUgMy4xNDA2MjUgLTYuNzAzMTI1IEMgMy4xNDA2MjUgLTYuODEyNSAzLjAxNTYyNSAtNi44MTI1IDMgLTYuODEyNSBDIDIuNjA5Mzc1IC02LjgxMjUgMi4xODc1IC02Ljc4MTI1IDEuNzgxMjUgLTYuNzgxMjUgQyAxLjQyMTg3NSAtNi43ODEyNSAxLjA2MjUgLTYuODEyNSAwLjczNDM3NSAtNi44MTI1IEMgMC42NzE4NzUgLTYuODEyNSAwLjU0Njg3NSAtNi44MTI1IDAuNTQ2ODc1IC02LjYyNSBDIDAuNTQ2ODc1IC02LjUgMC42NDA2MjUgLTYuNSAwLjc5Njg3NSAtNi41IEMgMS4yOTY4NzUgLTYuNSAxLjMxMjUgLTYuNDA2MjUgMS4zMjgxMjUgLTYuMTI1IEwgMS43ODEyNSAtMC4wNDY4NzUgQyAxLjc4MTI1IDAuMTQwNjI1IDEuNzk2ODc1IDAuMjE4NzUgMS45Mzc1IDAuMjE4NzUgQyAyLjA0Njg3NSAwLjIxODc1IDIuMDc4MTI1IDAuMTU2MjUgMi4xNzE4NzUgMC4wMTU2MjUgTCA1LjEwOTM3NSAtNS4wNzgxMjUgTCA1LjQ2ODc1IC0wLjA0Njg3NSBDIDUuNSAwLjE3MTg3NSA1LjUxNTYyNSAwLjIxODc1IDUuNjI1IDAuMjE4NzUgQyA1Ljc2NTYyNSAwLjIxODc1IDUuODI4MTI1IDAuMTI1IDUuODc1IDAuMDMxMjUgWiBNIDkuMTQwNjI1IC01LjY1NjI1ICIvPgo8L3N5bWJvbD4KPHN5bWJvbCBvdmVyZmxvdz0idmlzaWJsZSIgaWQ9ImdseXBoMS0wIj4KPHBhdGggc3R5bGU9InN0cm9rZTpub25lOyIgZD0iIi8+Cjwvc3ltYm9sPgo8c3ltYm9sIG92ZXJmbG93PSJ2aXNpYmxlIiBpZD0iZ2x5cGgxLTEiPgo8cGF0aCBzdHlsZT0ic3Ryb2tlOm5vbmU7IiBkPSJNIDEuMDYyNSAtMC43NSBDIDEuMDYyNSAtMC4zMTI1IDAuOTUzMTI1IC0wLjMxMjUgMC4yODEyNSAtMC4zMTI1IEwgMC4yODEyNSAwIEMgMC42MDkzNzUgLTAuMDE1NjI1IDEuMDc4MTI1IC0wLjAzMTI1IDEuMzU5Mzc1IC0wLjAzMTI1IEMgMS42NzE4NzUgLTAuMDMxMjUgMi4wNjI1IC0wLjAxNTYyNSAyLjQ2ODc1IDAgTCAyLjQ2ODc1IC0wLjMxMjUgQyAxLjc5Njg3NSAtMC4zMTI1IDEuNjg3NSAtMC4zMTI1IDEuNjg3NSAtMC43NSBMIDEuNjg3NSAtMS43ODEyNSBMIDIuMzI4MTI1IC0yLjMyODEyNSBDIDMuMDkzNzUgLTEuMjgxMjUgMy41MTU2MjUgLTAuNzE4NzUgMy41MTU2MjUgLTAuNTMxMjUgQyAzLjUxNTYyNSAtMC4zNDM3NSAzLjM0Mzc1IC0wLjMxMjUgMy4xNTYyNSAtMC4zMTI1IEwgMy4xNTYyNSAwIEMgMy40MjE4NzUgLTAuMDE1NjI1IDQuMDE1NjI1IC0wLjAzMTI1IDQuMjM0Mzc1IC0wLjAzMTI1IEMgNC41MTU2MjUgLTAuMDMxMjUgNC44MTI1IC0wLjAxNTYyNSA1LjA5Mzc1IDAgTCA1LjA5Mzc1IC0wLjMxMjUgQyA0LjcxODc1IC0wLjMxMjUgNC41IC0wLjMxMjUgNC4xMjUgLTAuODQzNzUgTCAyLjg1OTM3NSAtMi42MjUgQyAyLjg0Mzc1IC0yLjY0MDYyNSAyLjc5Njg3NSAtMi43MDMxMjUgMi43OTY4NzUgLTIuNzM0Mzc1IEMgMi43OTY4NzUgLTIuNzY1NjI1IDMuNTE1NjI1IC0zLjM3NSAzLjYwOTM3NSAtMy40NTMxMjUgQyA0LjIzNDM3NSAtMy45NTMxMjUgNC42NTYyNSAtMy45ODQzNzUgNC44NTkzNzUgLTMuOTg0Mzc1IEwgNC44NTkzNzUgLTQuMjk2ODc1IEMgNC41NzgxMjUgLTQuMjY1NjI1IDQuNDUzMTI1IC00LjI2NTYyNSA0LjE3MTg3NSAtNC4yNjU2MjUgQyAzLjgxMjUgLTQuMjY1NjI1IDMuMTg3NSAtNC4yODEyNSAzLjA0Njg3NSAtNC4yOTY4NzUgTCAzLjA0Njg3NSAtMy45ODQzNzUgQyAzLjIzNDM3NSAtMy45ODQzNzUgMy4zNDM3NSAtMy44NzUgMy4zNDM3NSAtMy43MzQzNzUgQyAzLjM0Mzc1IC0zLjUzMTI1IDMuMjAzMTI1IC0zLjQyMTg3NSAzLjEyNSAtMy4zNDM3NSBMIDEuNzE4NzUgLTIuMTQwNjI1IEwgMS43MTg3NSAtNi45MjE4NzUgTCAwLjI4MTI1IC02LjgxMjUgTCAwLjI4MTI1IC02LjUgQyAwLjk4NDM3NSAtNi41IDEuMDYyNSAtNi40Mzc1IDEuMDYyNSAtNS45Mzc1IFogTSAxLjA2MjUgLTAuNzUgIi8+Cjwvc3ltYm9sPgo8c3ltYm9sIG92ZXJmbG93PSJ2aXNpYmxlIiBpZD0iZ2x5cGgxLTIiPgo8cGF0aCBzdHlsZT0ic3Ryb2tlOm5vbmU7IiBkPSJNIDEuMTA5Mzc1IC0yLjUxNTYyNSBDIDEuMTcxODc1IC00IDIuMDE1NjI1IC00LjI1IDIuMzU5Mzc1IC00LjI1IEMgMy4zNzUgLTQuMjUgMy40ODQzNzUgLTIuOTA2MjUgMy40ODQzNzUgLTIuNTE1NjI1IFogTSAxLjEwOTM3NSAtMi4yOTY4NzUgTCAzLjg5MDYyNSAtMi4yOTY4NzUgQyA0LjEwOTM3NSAtMi4yOTY4NzUgNC4xNDA2MjUgLTIuMjk2ODc1IDQuMTQwNjI1IC0yLjUxNTYyNSBDIDQuMTQwNjI1IC0zLjUgMy41OTM3NSAtNC40Njg3NSAyLjM1OTM3NSAtNC40Njg3NSBDIDEuMjAzMTI1IC00LjQ2ODc1IDAuMjgxMjUgLTMuNDM3NSAwLjI4MTI1IC0yLjE4NzUgQyAwLjI4MTI1IC0wLjg1OTM3NSAxLjMyODEyNSAwLjEwOTM3NSAyLjQ2ODc1IDAuMTA5Mzc1IEMgMy42ODc1IDAuMTA5Mzc1IDQuMTQwNjI1IC0xIDQuMTQwNjI1IC0xLjE4NzUgQyA0LjE0MDYyNSAtMS4yODEyNSA0LjA2MjUgLTEuMzEyNSA0IC0xLjMxMjUgQyAzLjkyMTg3NSAtMS4zMTI1IDMuODkwNjI1IC0xLjI1IDMuODc1IC0xLjE3MTg3NSBDIDMuNTMxMjUgLTAuMTQwNjI1IDIuNjI1IC0wLjE0MDYyNSAyLjUzMTI1IC0wLjE0MDYyNSBDIDIuMDMxMjUgLTAuMTQwNjI1IDEuNjQwNjI1IC0wLjQzNzUgMS40MDYyNSAtMC44MTI1IEMgMS4xMDkzNzUgLTEuMjgxMjUgMS4xMDkzNzUgLTEuOTM3NSAxLjEwOTM3NSAtMi4yOTY4NzUgWiBNIDEuMTA5Mzc1IC0yLjI5Njg3NSAiLz4KPC9zeW1ib2w+CjxzeW1ib2wgb3ZlcmZsb3c9InZpc2libGUiIGlkPSJnbHlwaDEtMyI+CjxwYXRoIHN0eWxlPSJzdHJva2U6bm9uZTsiIGQ9Ik0gMS42NzE4NzUgLTMuMzEyNSBMIDEuNjcxODc1IC00LjQwNjI1IEwgMC4yODEyNSAtNC4yOTY4NzUgTCAwLjI4MTI1IC0zLjk4NDM3NSBDIDAuOTg0Mzc1IC0zLjk4NDM3NSAxLjA2MjUgLTMuOTIxODc1IDEuMDYyNSAtMy40MjE4NzUgTCAxLjA2MjUgLTAuNzUgQyAxLjA2MjUgLTAuMzEyNSAwLjk1MzEyNSAtMC4zMTI1IDAuMjgxMjUgLTAuMzEyNSBMIDAuMjgxMjUgMCBDIDAuNjcxODc1IC0wLjAxNTYyNSAxLjE0MDYyNSAtMC4wMzEyNSAxLjQyMTg3NSAtMC4wMzEyNSBDIDEuODEyNSAtMC4wMzEyNSAyLjI4MTI1IC0wLjAzMTI1IDIuNjg3NSAwIEwgMi42ODc1IC0wLjMxMjUgTCAyLjQ2ODc1IC0wLjMxMjUgQyAxLjczNDM3NSAtMC4zMTI1IDEuNzE4NzUgLTAuNDIxODc1IDEuNzE4NzUgLTAuNzgxMjUgTCAxLjcxODc1IC0yLjMxMjUgQyAxLjcxODc1IC0zLjI5Njg3NSAyLjE0MDYyNSAtNC4xODc1IDIuODkwNjI1IC00LjE4NzUgQyAyLjk1MzEyNSAtNC4xODc1IDIuOTg0Mzc1IC00LjE4NzUgMyAtNC4xNzE4NzUgQyAyLjk2ODc1IC00LjE3MTg3NSAyLjc2NTYyNSAtNC4wNDY4NzUgMi43NjU2MjUgLTMuNzgxMjUgQyAyLjc2NTYyNSAtMy41MTU2MjUgMi45ODQzNzUgLTMuMzU5Mzc1IDMuMjAzMTI1IC0zLjM1OTM3NSBDIDMuMzc1IC0zLjM1OTM3NSAzLjYyNSAtMy40ODQzNzUgMy42MjUgLTMuNzk2ODc1IEMgMy42MjUgLTQuMTA5Mzc1IDMuMzEyNSAtNC40MDYyNSAyLjg5MDYyNSAtNC40MDYyNSBDIDIuMTU2MjUgLTQuNDA2MjUgMS43OTY4NzUgLTMuNzM0Mzc1IDEuNjcxODc1IC0zLjMxMjUgWiBNIDEuNjcxODc1IC0zLjMxMjUgIi8+Cjwvc3ltYm9sPgo8c3ltYm9sIG92ZXJmbG93PSJ2aXNpYmxlIiBpZD0iZ2x5cGgxLTQiPgo8cGF0aCBzdHlsZT0ic3Ryb2tlOm5vbmU7IiBkPSJNIDQuNTc4MTI1IC0zLjE4NzUgQyA0LjU3ODEyNSAtMy45ODQzNzUgNC41MzEyNSAtNC43ODEyNSA0LjE4NzUgLTUuNTE1NjI1IEMgMy43MzQzNzUgLTYuNDg0Mzc1IDIuOTA2MjUgLTYuNjQwNjI1IDIuNSAtNi42NDA2MjUgQyAxLjg5MDYyNSAtNi42NDA2MjUgMS4xNzE4NzUgLTYuMzc1IDAuNzUgLTUuNDUzMTI1IEMgMC40Mzc1IC00Ljc2NTYyNSAwLjM5MDYyNSAtMy45ODQzNzUgMC4zOTA2MjUgLTMuMTg3NSBDIDAuMzkwNjI1IC0yLjQzNzUgMC40MjE4NzUgLTEuNTQ2ODc1IDAuODQzNzUgLTAuNzgxMjUgQyAxLjI2NTYyNSAwLjAxNTYyNSAyIDAuMjE4NzUgMi40ODQzNzUgMC4yMTg3NSBDIDMuMDE1NjI1IDAuMjE4NzUgMy43ODEyNSAwLjAxNTYyNSA0LjIxODc1IC0wLjkzNzUgQyA0LjUzMTI1IC0xLjYyNSA0LjU3ODEyNSAtMi40MDYyNSA0LjU3ODEyNSAtMy4xODc1IFogTSAyLjQ4NDM3NSAwIEMgMi4wOTM3NSAwIDEuNSAtMC4yNSAxLjMyODEyNSAtMS4yMDMxMjUgQyAxLjIxODc1IC0xLjc5Njg3NSAxLjIxODc1IC0yLjcxODc1IDEuMjE4NzUgLTMuMzEyNSBDIDEuMjE4NzUgLTMuOTUzMTI1IDEuMjE4NzUgLTQuNjA5Mzc1IDEuMjk2ODc1IC01LjE0MDYyNSBDIDEuNDg0Mzc1IC02LjMyODEyNSAyLjIzNDM3NSAtNi40MjE4NzUgMi40ODQzNzUgLTYuNDIxODc1IEMgMi44MTI1IC02LjQyMTg3NSAzLjQ2ODc1IC02LjIzNDM3NSAzLjY1NjI1IC01LjI1IEMgMy43NjU2MjUgLTQuNjg3NSAzLjc2NTYyNSAtMy45Mzc1IDMuNzY1NjI1IC0zLjMxMjUgQyAzLjc2NTYyNSAtMi41NjI1IDMuNzY1NjI1IC0xLjg5MDYyNSAzLjY1NjI1IC0xLjI1IEMgMy41IC0wLjI5Njg3NSAyLjkzNzUgMCAyLjQ4NDM3NSAwIFogTSAyLjQ4NDM3NSAwICIvPgo8L3N5bWJvbD4KPHN5bWJvbCBvdmVyZmxvdz0idmlzaWJsZSIgaWQ9ImdseXBoMS01Ij4KPHBhdGggc3R5bGU9InN0cm9rZTpub25lOyIgZD0iTSAzLjc4MTI1IC0wLjU0Njg3NSBMIDMuNzgxMjUgMC4xMDkzNzUgTCA1LjI1IDAgTCA1LjI1IC0wLjMxMjUgQyA0LjU2MjUgLTAuMzEyNSA0LjQ2ODc1IC0wLjM3NSA0LjQ2ODc1IC0wLjg3NSBMIDQuNDY4NzUgLTYuOTIxODc1IEwgMy4wNDY4NzUgLTYuODEyNSBMIDMuMDQ2ODc1IC02LjUgQyAzLjczNDM3NSAtNi41IDMuODEyNSAtNi40Mzc1IDMuODEyNSAtNS45Mzc1IEwgMy44MTI1IC0zLjc4MTI1IEMgMy41MzEyNSAtNC4xNDA2MjUgMy4wOTM3NSAtNC40MDYyNSAyLjU2MjUgLTQuNDA2MjUgQyAxLjM5MDYyNSAtNC40MDYyNSAwLjM0Mzc1IC0zLjQyMTg3NSAwLjM0Mzc1IC0yLjE0MDYyNSBDIDAuMzQzNzUgLTAuODc1IDEuMzEyNSAwLjEwOTM3NSAyLjQ1MzEyNSAwLjEwOTM3NSBDIDMuMDkzNzUgMC4xMDkzNzUgMy41MzEyNSAtMC4yMzQzNzUgMy43ODEyNSAtMC41NDY4NzUgWiBNIDMuNzgxMjUgLTMuMjE4NzUgTCAzLjc4MTI1IC0xLjE3MTg3NSBDIDMuNzgxMjUgLTEgMy43ODEyNSAtMC45ODQzNzUgMy42NzE4NzUgLTAuODEyNSBDIDMuMzc1IC0wLjMyODEyNSAyLjkzNzUgLTAuMTA5Mzc1IDIuNSAtMC4xMDkzNzUgQyAyLjA0Njg3NSAtMC4xMDkzNzUgMS42ODc1IC0wLjM3NSAxLjQ1MzEyNSAtMC43NSBDIDEuMjAzMTI1IC0xLjE1NjI1IDEuMTcxODc1IC0xLjcxODc1IDEuMTcxODc1IC0yLjE0MDYyNSBDIDEuMTcxODc1IC0yLjUgMS4xODc1IC0zLjA5Mzc1IDEuNDY4NzUgLTMuNTQ2ODc1IEMgMS42ODc1IC0zLjg1OTM3NSAyLjA2MjUgLTQuMTg3NSAyLjYwOTM3NSAtNC4xODc1IEMgMi45NTMxMjUgLTQuMTg3NSAzLjM3NSAtNC4wMzEyNSAzLjY3MTg3NSAtMy41OTM3NSBDIDMuNzgxMjUgLTMuNDIxODc1IDMuNzgxMjUgLTMuNDA2MjUgMy43ODEyNSAtMy4yMTg3NSBaIE0gMy43ODEyNSAtMy4yMTg3NSAiLz4KPC9zeW1ib2w+CjxzeW1ib2wgb3ZlcmZsb3c9InZpc2libGUiIGlkPSJnbHlwaDEtNiI+CjxwYXRoIHN0eWxlPSJzdHJva2U6bm9uZTsiIGQ9Ik0gMS43NjU2MjUgLTQuNDA2MjUgTCAwLjM3NSAtNC4yOTY4NzUgTCAwLjM3NSAtMy45ODQzNzUgQyAxLjAxNTYyNSAtMy45ODQzNzUgMS4xMDkzNzUgLTMuOTIxODc1IDEuMTA5Mzc1IC0zLjQzNzUgTCAxLjEwOTM3NSAtMC43NSBDIDEuMTA5Mzc1IC0wLjMxMjUgMSAtMC4zMTI1IDAuMzI4MTI1IC0wLjMxMjUgTCAwLjMyODEyNSAwIEMgMC42NDA2MjUgLTAuMDE1NjI1IDEuMTg3NSAtMC4wMzEyNSAxLjQyMTg3NSAtMC4wMzEyNSBDIDEuNzgxMjUgLTAuMDMxMjUgMi4xMjUgLTAuMDE1NjI1IDIuNDY4NzUgMCBMIDIuNDY4NzUgLTAuMzEyNSBDIDEuNzk2ODc1IC0wLjMxMjUgMS43NjU2MjUgLTAuMzU5Mzc1IDEuNzY1NjI1IC0wLjc1IFogTSAxLjc5Njg3NSAtNi4xNDA2MjUgQyAxLjc5Njg3NSAtNi40NTMxMjUgMS41NjI1IC02LjY3MTg3NSAxLjI4MTI1IC02LjY3MTg3NSBDIDAuOTY4NzUgLTYuNjcxODc1IDAuNzUgLTYuNDA2MjUgMC43NSAtNi4xNDA2MjUgQyAwLjc1IC01Ljg3NSAwLjk2ODc1IC01LjYwOTM3NSAxLjI4MTI1IC01LjYwOTM3NSBDIDEuNTYyNSAtNS42MDkzNzUgMS43OTY4NzUgLTUuODI4MTI1IDEuNzk2ODc1IC02LjE0MDYyNSBaIE0gMS43OTY4NzUgLTYuMTQwNjI1ICIvPgo8L3N5bWJvbD4KPHN5bWJvbCBvdmVyZmxvdz0idmlzaWJsZSIgaWQ9ImdseXBoMS03Ij4KPHBhdGggc3R5bGU9InN0cm9rZTpub25lOyIgZD0iTSAxLjA5Mzc1IC0zLjQyMTg3NSBMIDEuMDkzNzUgLTAuNzUgQyAxLjA5Mzc1IC0wLjMxMjUgMC45ODQzNzUgLTAuMzEyNSAwLjMxMjUgLTAuMzEyNSBMIDAuMzEyNSAwIEMgMC42NzE4NzUgLTAuMDE1NjI1IDEuMTcxODc1IC0wLjAzMTI1IDEuNDUzMTI1IC0wLjAzMTI1IEMgMS43MDMxMjUgLTAuMDMxMjUgMi4yMTg3NSAtMC4wMTU2MjUgMi41NjI1IDAgTCAyLjU2MjUgLTAuMzEyNSBDIDEuODkwNjI1IC0wLjMxMjUgMS43ODEyNSAtMC4zMTI1IDEuNzgxMjUgLTAuNzUgTCAxLjc4MTI1IC0yLjU5Mzc1IEMgMS43ODEyNSAtMy42MjUgMi41IC00LjE4NzUgMy4xMjUgLTQuMTg3NSBDIDMuNzY1NjI1IC00LjE4NzUgMy44NzUgLTMuNjU2MjUgMy44NzUgLTMuMDc4MTI1IEwgMy44NzUgLTAuNzUgQyAzLjg3NSAtMC4zMTI1IDMuNzY1NjI1IC0wLjMxMjUgMy4wOTM3NSAtMC4zMTI1IEwgMy4wOTM3NSAwIEMgMy40Mzc1IC0wLjAxNTYyNSAzLjk1MzEyNSAtMC4wMzEyNSA0LjIxODc1IC0wLjAzMTI1IEMgNC40Njg3NSAtMC4wMzEyNSA1IC0wLjAxNTYyNSA1LjMyODEyNSAwIEwgNS4zMjgxMjUgLTAuMzEyNSBDIDQuNjcxODc1IC0wLjMxMjUgNC41NjI1IC0wLjMxMjUgNC41NjI1IC0wLjc1IEwgNC41NjI1IC0yLjU5Mzc1IEMgNC41NjI1IC0zLjYyNSA1LjI2NTYyNSAtNC4xODc1IDUuOTA2MjUgLTQuMTg3NSBDIDYuNTMxMjUgLTQuMTg3NSA2LjY0MDYyNSAtMy42NTYyNSA2LjY0MDYyNSAtMy4wNzgxMjUgTCA2LjY0MDYyNSAtMC43NSBDIDYuNjQwNjI1IC0wLjMxMjUgNi41MzEyNSAtMC4zMTI1IDUuODU5Mzc1IC0wLjMxMjUgTCA1Ljg1OTM3NSAwIEMgNi4yMDMxMjUgLTAuMDE1NjI1IDYuNzE4NzUgLTAuMDMxMjUgNi45ODQzNzUgLTAuMDMxMjUgQyA3LjI1IC0wLjAzMTI1IDcuNzY1NjI1IC0wLjAxNTYyNSA4LjEwOTM3NSAwIEwgOC4xMDkzNzUgLTAuMzEyNSBDIDcuNTkzNzUgLTAuMzEyNSA3LjM0Mzc1IC0wLjMxMjUgNy4zMjgxMjUgLTAuNjA5Mzc1IEwgNy4zMjgxMjUgLTIuNTE1NjI1IEMgNy4zMjgxMjUgLTMuMzc1IDcuMzI4MTI1IC0zLjY3MTg3NSA3LjAxNTYyNSAtNC4wMzEyNSBDIDYuODc1IC00LjIwMzEyNSA2LjU0Njg3NSAtNC40MDYyNSA1Ljk2ODc1IC00LjQwNjI1IEMgNS4xNDA2MjUgLTQuNDA2MjUgNC42ODc1IC0zLjgxMjUgNC41MzEyNSAtMy40MjE4NzUgQyA0LjM5MDYyNSAtNC4yOTY4NzUgMy42NTYyNSAtNC40MDYyNSAzLjIwMzEyNSAtNC40MDYyNSBDIDIuNDY4NzUgLTQuNDA2MjUgMiAtMy45ODQzNzUgMS43MTg3NSAtMy4zNTkzNzUgTCAxLjcxODc1IC00LjQwNjI1IEwgMC4zMTI1IC00LjI5Njg3NSBMIDAuMzEyNSAtMy45ODQzNzUgQyAxLjAxNTYyNSAtMy45ODQzNzUgMS4wOTM3NSAtMy45MjE4NzUgMS4wOTM3NSAtMy40MjE4NzUgWiBNIDEuMDkzNzUgLTMuNDIxODc1ICIvPgo8L3N5bWJvbD4KPC9nPgo8L2RlZnM+CjxnIGlkPSJzdXJmYWNlMSI+CjxnIHN0eWxlPSJmaWxsOnJnYigwJSwwJSwwJSk7ZmlsbC1vcGFjaXR5OjE7Ij4KICA8dXNlIHhsaW5rOmhyZWY9IiNnbHlwaDAtMSIgeD0iNjkuMTQ2IiB5PSI2Ni44MjEiLz4KPC9nPgo8ZyBzdHlsZT0iZmlsbDpyZ2IoMCUsMCUsMCUpO2ZpbGwtb3BhY2l0eToxOyI+CiAgPHVzZSB4bGluazpocmVmPSIjZ2x5cGgxLTEiIHg9IjYyLjA3IiB5PSIxODAuMjYzIi8+CjwvZz4KPGcgc3R5bGU9ImZpbGw6cmdiKDAlLDAlLDAlKTtmaWxsLW9wYWNpdHk6MTsiPgogIDx1c2UgeGxpbms6aHJlZj0iI2dseXBoMS0yIiB4PSI2Ny4wNDkzMDciIHk9IjE4MC4yNjMiLz4KICA8dXNlIHhsaW5rOmhyZWY9IiNnbHlwaDEtMyIgeD0iNzEuNDc2Njg3IiB5PSIxODAuMjYzIi8+CjwvZz4KPGcgc3R5bGU9ImZpbGw6cmdiKDAlLDAlLDAlKTtmaWxsLW9wYWNpdHk6MTsiPgogIDx1c2UgeGxpbms6aHJlZj0iI2dseXBoMC0yIiB4PSI3Ny4wNDIiIHk9IjE4MC4yNjMiLz4KPC9nPgo8ZyBzdHlsZT0iZmlsbDpyZ2IoMCUsMCUsMCUpO2ZpbGwtb3BhY2l0eToxOyI+CiAgPHVzZSB4bGluazpocmVmPSIjZ2x5cGgxLTQiIHg9IjcwLjY2OCIgeT0iMjM2LjcwNiIvPgo8L2c+CjxnIHN0eWxlPSJmaWxsOnJnYigwJSwwJSwwJSk7ZmlsbC1vcGFjaXR5OjE7Ij4KICA8dXNlIHhsaW5rOmhyZWY9IiNnbHlwaDEtNSIgeD0iMy4zMjEiIHk9IjE1MS45MTYiLz4KICA8dXNlIHhsaW5rOmhyZWY9IiNnbHlwaDEtNiIgeD0iOC44NTYyMjEiIHk9IjE1MS45MTYiLz4KICA8dXNlIHhsaW5rOmhyZWY9IiNnbHlwaDEtNyIgeD0iMTEuNjIzODMxIiB5PSIxNTEuOTE2Ii8+CjwvZz4KPGcgc3R5bGU9ImZpbGw6cmdiKDAlLDAlLDAlKTtmaWxsLW9wYWNpdHk6MTsiPgogIDx1c2UgeGxpbms6aHJlZj0iI2dseXBoMC0xIiB4PSIyMS41ODUiIHk9IjE1MS45MTYiLz4KPC9nPgo8ZyBzdHlsZT0iZmlsbDpyZ2IoMCUsMCUsMCUpO2ZpbGwtb3BhY2l0eToxOyI+CiAgPHVzZSB4bGluazpocmVmPSIjZ2x5cGgxLTUiIHg9IjI0LjU5MSIgeT0iMjA4LjYwOSIvPgogIDx1c2UgeGxpbms6aHJlZj0iI2dseXBoMS02IiB4PSIzMC4xMjYyMjEiIHk9IjIwOC42MDkiLz4KICA8dXNlIHhsaW5rOmhyZWY9IiNnbHlwaDEtNyIgeD0iMzIuODkzODMxIiB5PSIyMDguNjA5Ii8+CjwvZz4KPGcgc3R5bGU9ImZpbGw6cmdiKDAlLDAlLDAlKTtmaWxsLW9wYWNpdHk6MTsiPgogIDx1c2UgeGxpbms6aHJlZj0iI2dseXBoMS0xIiB4PSI0Mi44NTk0MiIgeT0iMjA4LjYwOSIvPgo8L2c+CjxnIHN0eWxlPSJmaWxsOnJnYigwJSwwJSwwJSk7ZmlsbC1vcGFjaXR5OjE7Ij4KICA8dXNlIHhsaW5rOmhyZWY9IiNnbHlwaDEtMiIgeD0iNDcuODM4NzI3IiB5PSIyMDguNjA5Ii8+CiAgPHVzZSB4bGluazpocmVmPSIjZ2x5cGgxLTMiIHg9IjUyLjI2NjEwNyIgeT0iMjA4LjYwOSIvPgo8L2c+CjxnIHN0eWxlPSJmaWxsOnJnYigwJSwwJSwwJSk7ZmlsbC1vcGFjaXR5OjE7Ij4KICA8dXNlIHhsaW5rOmhyZWY9IiNnbHlwaDAtMiIgeD0iNTcuODI4IiB5PSIyMDguNjA5Ii8+CjwvZz4KPGcgc3R5bGU9ImZpbGw6cmdiKDAlLDAlLDAlKTtmaWxsLW9wYWNpdHk6MTsiPgogIDx1c2UgeGxpbms6aHJlZj0iI2dseXBoMC0zIiB4PSIxODEuMTQ4IiB5PSIxMC4xMjkiLz4KPC9nPgo8ZyBzdHlsZT0iZmlsbDpyZ2IoMCUsMCUsMCUpO2ZpbGwtb3BhY2l0eToxOyI+CiAgPHVzZSB4bGluazpocmVmPSIjZ2x5cGgxLTYiIHg9IjE3Ni41NzciIHk9IjEyMy41MTQiLz4KICA8dXNlIHhsaW5rOmhyZWY9IiNnbHlwaDEtNyIgeD0iMTc5LjM0NDYxIiB5PSIxMjMuNTE0Ii8+CjwvZz4KPGcgc3R5bGU9ImZpbGw6cmdiKDAlLDAlLDAlKTtmaWxsLW9wYWNpdHk6MTsiPgogIDx1c2UgeGxpbms6aHJlZj0iI2dseXBoMC0yIiB4PSIxODkuMzA3IiB5PSIxMjMuNTE0Ii8+CjwvZz4KPGcgc3R5bGU9ImZpbGw6cmdiKDAlLDAlLDAlKTtmaWxsLW9wYWNpdHk6MTsiPgogIDx1c2UgeGxpbms6aHJlZj0iI2dseXBoMS00IiB4PSIxODQuMDU0IiB5PSIyMzYuNzA2Ii8+CjwvZz4KPGcgc3R5bGU9ImZpbGw6cmdiKDAlLDAlLDAlKTtmaWxsLW9wYWNpdHk6MTsiPgogIDx1c2UgeGxpbms6aHJlZj0iI2dseXBoMS01IiB4PSIxOTUuNzkxIiB5PSIxODAuMjYzIi8+CiAgPHVzZSB4bGluazpocmVmPSIjZ2x5cGgxLTYiIHg9IjIwMS4zMjYyMjEiIHk9IjE4MC4yNjMiLz4KICA8dXNlIHhsaW5rOmhyZWY9IiNnbHlwaDEtNyIgeD0iMjA0LjA5MzgzMSIgeT0iMTgwLjI2MyIvPgo8L2c+CjxnIHN0eWxlPSJmaWxsOnJnYigwJSwwJSwwJSk7ZmlsbC1vcGFjaXR5OjE7Ij4KICA8dXNlIHhsaW5rOmhyZWY9IiNnbHlwaDEtNiIgeD0iMjE0LjA1OTQyIiB5PSIxODAuMjYzIi8+CiAgPHVzZSB4bGluazpocmVmPSIjZ2x5cGgxLTciIHg9IjIxNi44MjcwMyIgeT0iMTgwLjI2MyIvPgo8L2c+CjxnIHN0eWxlPSJmaWxsOnJnYigwJSwwJSwwJSk7ZmlsbC1vcGFjaXR5OjE7Ij4KICA8dXNlIHhsaW5rOmhyZWY9IiNnbHlwaDAtMiIgeD0iMjI2Ljc4NiIgeT0iMTgwLjI2MyIvPgo8L2c+CjxwYXRoIHN0eWxlPSJmaWxsOm5vbmU7c3Ryb2tlLXdpZHRoOjAuMzk4NTtzdHJva2UtbGluZWNhcDpidXR0O3N0cm9rZS1saW5lam9pbjptaXRlcjtzdHJva2U6cmdiKDAlLDAlLDAlKTtzdHJva2Utb3BhY2l0eToxO3N0cm9rZS1taXRlcmxpbWl0OjEwOyIgZD0iTSA1Ni42OTQxNTYgMTYzLjE1NjE1NiBMIDU2LjY5NDE1NiA2My42NzE3ODEgIiB0cmFuc2Zvcm09Im1hdHJpeCgxLDAsMCwtMSwxNi40NjYsMjMzLjQ5NikiLz4KPHBhdGggc3R5bGU9ImZpbGw6bm9uZTtzdHJva2Utd2lkdGg6MC4zOTg1O3N0cm9rZS1saW5lY2FwOmJ1dHQ7c3Ryb2tlLWxpbmVqb2luOm1pdGVyO3N0cm9rZTpyZ2IoMCUsMCUsMCUpO3N0cm9rZS1vcGFjaXR5OjE7c3Ryb2tlLW1pdGVybGltaXQ6MTA7IiBkPSJNIDU2LjY5NDE1NiA0OS43MTQ3NSBMIDU2LjY5NDE1NiA2LjczMDM3NSAiIHRyYW5zZm9ybT0ibWF0cml4KDEsMCwwLC0xLDE2LjQ2NiwyMzMuNDk2KSIvPgo8cGF0aCBzdHlsZT0iZmlsbDpub25lO3N0cm9rZS13aWR0aDowLjM5ODU7c3Ryb2tlLWxpbmVjYXA6YnV0dDtzdHJva2UtbGluZWpvaW46bWl0ZXI7c3Ryb2tlOnJnYigwJSwwJSwwJSk7c3Ryb2tlLW9wYWNpdHk6MTtzdHJva2UtbWl0ZXJsaW1pdDoxMDsiIGQ9Ik0gMTcwLjA4MDg3NSAyMTkuODUxNDY5IEwgMTcwLjA4MDg3NSAxMjAuMzEyNDA2ICIgdHJhbnNmb3JtPSJtYXRyaXgoMSwwLDAsLTEsMTYuNDY2LDIzMy40OTYpIi8+CjxwYXRoIHN0eWxlPSJmaWxsOm5vbmU7c3Ryb2tlLXdpZHRoOjAuMzk4NTtzdHJva2UtbGluZWNhcDpidXR0O3N0cm9rZS1saW5lam9pbjptaXRlcjtzdHJva2U6cmdiKDAlLDAlLDAlKTtzdHJva2Utb3BhY2l0eToxO3N0cm9rZS1taXRlcmxpbWl0OjEwOyIgZD0iTSAxNzAuMDgwODc1IDEwNi40NjQ3NSBMIDE3MC4wODA4NzUgNi43MzAzNzUgIiB0cmFuc2Zvcm09Im1hdHJpeCgxLDAsMCwtMSwxNi40NjYsMjMzLjQ5NikiLz4KPHBhdGggc3R5bGU9ImZpbGw6bm9uZTtzdHJva2Utd2lkdGg6MC4zOTg1O3N0cm9rZS1saW5lY2FwOmJ1dHQ7c3Ryb2tlLWxpbmVqb2luOm1pdGVyO3N0cm9rZTpyZ2IoMCUsMCUsMCUpO3N0cm9rZS1vcGFjaXR5OjE7c3Ryb2tlLW1pdGVybGltaXQ6MTA7IiBkPSJNIDcwLjQ2MzY4OCAxNjMuMTk5MTI1IEwgMTQ5Ljk5ODg0NCAxMjMuNDE3ODc1ICIgdHJhbnNmb3JtPSJtYXRyaXgoMSwwLDAsLTEsMTYuNDY2LDIzMy40OTYpIi8+CjxwYXRoIHN0eWxlPSJmaWxsOm5vbmU7c3Ryb2tlLXdpZHRoOjAuMzk4NTtzdHJva2UtbGluZWNhcDpyb3VuZDtzdHJva2UtbGluZWpvaW46cm91bmQ7c3Ryb2tlOnJnYigwJSwwJSwwJSk7c3Ryb2tlLW9wYWNpdHk6MTtzdHJva2UtbWl0ZXJsaW1pdDoxMDsiIGQ9Ik0gLTMuMzA4NjAyIDMuNjg0MzMgQyAtMi43MDIyMDkgMS40NzYzNzggLTEuMzU3MDIzIDAuNDI4NDE0IDAuMDAwMzIzOTY1IDAuMDAyMzI4MjMgQyAtMS4zNTUxODQgLTAuNDMxMDM2IC0yLjcwMTg5MiAtMS40NzU3OTYgLTMuMzA3ODExIC0zLjY4NzM3MSAiIHRyYW5zZm9ybT0ibWF0cml4KDAuODk0NDIsMC40NDczMywwLjQ0NzMzLC0wLjg5NDQyLDE2Ni42NDMyLDExMC4xNjYpIi8+CjxwYXRoIHN0eWxlPSJmaWxsOm5vbmU7c3Ryb2tlLXdpZHRoOjAuMzk4NTtzdHJva2UtbGluZWNhcDpidXR0O3N0cm9rZS1saW5lam9pbjptaXRlcjtzdHJva2U6cmdiKDAlLDAlLDAlKTtzdHJva2Utb3BhY2l0eToxO3N0cm9rZS1taXRlcmxpbWl0OjEwOyIgZD0iTSA3Ni44ODk0NjkgNDYuNTkzNjU2IEwgMTU3LjQ3NTQwNiA2LjI5Njc4MSAiIHRyYW5zZm9ybT0ibWF0cml4KDEsMCwwLC0xLDE2LjQ2NiwyMzMuNDk2KSIvPgo8cGF0aCBzdHlsZT0iZmlsbDpub25lO3N0cm9rZS13aWR0aDowLjM5ODU7c3Ryb2tlLWxpbmVjYXA6cm91bmQ7c3Ryb2tlLWxpbmVqb2luOnJvdW5kO3N0cm9rZTpyZ2IoMCUsMCUsMCUpO3N0cm9rZS1vcGFjaXR5OjE7c3Ryb2tlLW1pdGVybGltaXQ6MTA7IiBkPSJNIC0zLjMwNTUxNCAzLjY4NTgyMyBDIC0yLjcwMjcxNyAxLjQ3NjAzMyAtMS4zNTc1NTEgMC40Mjc5NjggLTAuMDAwMTkwNzE4IDAuMDAxNzk4MzEgQyAtMS4zNTU3NTggLTAuNDMxNTA0IC0yLjcwMjU1OCAtMS40NzYyMiAtMy4zMDg2MTIgLTMuNjg3ODIyICIgdHJhbnNmb3JtPSJtYXRyaXgoMC44OTQ0MiwwLjQ0NzI3LDAuNDQ3MjcsLTAuODk0NDIsMTc0LjEyMDQ2LDIyNy4yODY4NSkiLz4KPHBhdGggc3R5bGU9ImZpbGw6bm9uZTtzdHJva2Utd2lkdGg6MC4zOTg1O3N0cm9rZS1saW5lY2FwOmJ1dHQ7c3Ryb2tlLWxpbmVqb2luOm1pdGVyO3N0cm9rZTpyZ2IoMCUsMCUsMCUpO3N0cm9rZS1vcGFjaXR5OjE7c3Ryb2tlLW1pdGVybGltaXQ6MTA7IiBkPSJNIDY5LjY3ODUzMSAtMC4wMDAwOTM3NSBMIDE1Ni42OTgwNjIgLTAuMDAwMDkzNzUgIiB0cmFuc2Zvcm09Im1hdHJpeCgxLDAsMCwtMSwxNi40NjYsMjMzLjQ5NikiLz4KPHBhdGggc3R5bGU9ImZpbGw6bm9uZTtzdHJva2Utd2lkdGg6MC4zOTg1O3N0cm9rZS1saW5lY2FwOnJvdW5kO3N0cm9rZS1saW5lam9pbjpyb3VuZDtzdHJva2U6cmdiKDAlLDAlLDAlKTtzdHJva2Utb3BhY2l0eToxO3N0cm9rZS1taXRlcmxpbWl0OjEwOyIgZD0iTSAtMy4zMDg0NzMgMy42ODc0MDYgQyAtMi43MDMwMDQgMS40NzI1NjMgLTEuMzU1MzQ4IDAuNDI5NTk0IDAuMDAwMTIxMjUgLTAuMDAwMDkzNzUgQyAtMS4zNTUzNDggLTAuNDI5NzgxIC0yLjcwMzAwNCAtMS40NzI3NSAtMy4zMDg0NzMgLTMuNjg3NTk0ICIgdHJhbnNmb3JtPSJtYXRyaXgoMSwwLDAsLTEsMTczLjM2MzE2LDIzMy40OTYpIi8+CjxwYXRoIHN0eWxlPSJmaWxsOm5vbmU7c3Ryb2tlLXdpZHRoOjAuMzk4NTtzdHJva2UtbGluZWNhcDpidXR0O3N0cm9rZS1saW5lam9pbjptaXRlcjtzdHJva2U6cmdiKDUwJSw1MCUsNTAlKTtzdHJva2Utb3BhY2l0eToxO3N0cm9rZS1kYXNoYXJyYXk6Mi45ODg4MywyLjk4ODgzO3N0cm9rZS1taXRlcmxpbWl0OjEwOyIgZD0iTSA0Ny4xNjY4MTMgMTcwLjA4MTkzOCBDIC0wLjAwMTE1NjI1IDE3MC4wODE5MzggLTAuMDAxMTU2MjUgMTcwLjA4MTkzOCAtMC4wMDExNTYyNSA5NC4wMTE2MjUgIiB0cmFuc2Zvcm09Im1hdHJpeCgxLDAsMCwtMSwxNi40NjYsMjMzLjQ5NikiLz4KPHBhdGggc3R5bGU9ImZpbGw6bm9uZTtzdHJva2Utd2lkdGg6MC4zOTg1O3N0cm9rZS1saW5lY2FwOmJ1dHQ7c3Ryb2tlLWxpbmVqb2luOm1pdGVyO3N0cm9rZTpyZ2IoNTAlLDUwJSw1MCUpO3N0cm9rZS1vcGFjaXR5OjE7c3Ryb2tlLWRhc2hhcnJheToyLjk4ODgzLDIuOTg4ODM7c3Ryb2tlLW1pdGVybGltaXQ6MTA7IiBkPSJNIC0wLjAwMTE1NjI1IDc2LjA3MDIxOSBDIC0wLjAwMTE1NjI1IC0wLjAwMDA5Mzc1IC0wLjAwMTE1NjI1IC0wLjAwMDA5Mzc1IDQ4LjY5MDI1IC0wLjAwMDA5Mzc1ICIgdHJhbnNmb3JtPSJtYXRyaXgoMSwwLDAsLTEsMTYuNDY2LDIzMy40OTYpIi8+CjxwYXRoIHN0eWxlPSJmaWxsOm5vbmU7c3Ryb2tlLXdpZHRoOjAuMzk4NTtzdHJva2UtbGluZWNhcDpidXR0O3N0cm9rZS1saW5lam9pbjptaXRlcjtzdHJva2U6cmdiKDUwJSw1MCUsNTAlKTtzdHJva2Utb3BhY2l0eToxO3N0cm9rZS1kYXNoYXJyYXk6Mi45ODg4MywyLjk4ODgzO3N0cm9rZS1taXRlcmxpbWl0OjEwOyIgZD0iTSA0MC4wOTI1OTQgNTYuNjk1MjE5IEMgMjguMzQ2NSA1Ni42OTUyMTkgMjguMzQ2NSA1Ni42OTUyMTkgMjguMzQ2NSAzNy4zMjAyMTkgIiB0cmFuc2Zvcm09Im1hdHJpeCgxLDAsMCwtMSwxNi40NjYsMjMzLjQ5NikiLz4KPHBhdGggc3R5bGU9ImZpbGw6bm9uZTtzdHJva2Utd2lkdGg6MC4zOTg1O3N0cm9rZS1saW5lY2FwOmJ1dHQ7c3Ryb2tlLWxpbmVqb2luOm1pdGVyO3N0cm9rZTpyZ2IoNTAlLDUwJSw1MCUpO3N0cm9rZS1vcGFjaXR5OjE7c3Ryb2tlLWRhc2hhcnJheToyLjk4ODgzLDIuOTg4ODM7c3Ryb2tlLW1pdGVybGltaXQ6MTA7IiBkPSJNIDI4LjM0NjUgMTkuMzc0OTA2IEMgMjguMzQ2NSAtMC4wMDAwOTM3NSAyOC4zNDY1IC0wLjAwMDA5Mzc1IDQ4LjY5MDI1IC0wLjAwMDA5Mzc1ICIgdHJhbnNmb3JtPSJtYXRyaXgoMSwwLDAsLTEsMTYuNDY2LDIzMy40OTYpIi8+CjxwYXRoIHN0eWxlPSJmaWxsOm5vbmU7c3Ryb2tlLXdpZHRoOjAuMzk4NTtzdHJva2UtbGluZWNhcDpidXR0O3N0cm9rZS1saW5lam9pbjptaXRlcjtzdHJva2U6cmdiKDUwJSw1MCUsNTAlKTtzdHJva2Utb3BhY2l0eToxO3N0cm9rZS1kYXNoYXJyYXk6Mi45ODg4MywyLjk4ODgzO3N0cm9rZS1taXRlcmxpbWl0OjEwOyIgZD0iTSAxODUuNTYxMzQ0IDExMy4zODY2MjUgQyAxOTguNDI4NTMxIDExMy4zODY2MjUgMTk4LjQyODUzMSAxMTMuMzg2NjI1IDE5OC40Mjg1MzEgNjUuNjYzOTY5ICIgdHJhbnNmb3JtPSJtYXRyaXgoMSwwLDAsLTEsMTYuNDY2LDIzMy40OTYpIi8+CjxwYXRoIHN0eWxlPSJmaWxsOm5vbmU7c3Ryb2tlLXdpZHRoOjAuMzk4NTtzdHJva2UtbGluZWNhcDpidXR0O3N0cm9rZS1saW5lam9pbjptaXRlcjtzdHJva2U6cmdiKDUwJSw1MCUsNTAlKTtzdHJva2Utb3BhY2l0eToxO3N0cm9rZS1kYXNoYXJyYXk6Mi45ODg4MywyLjk4ODgzO3N0cm9rZS1taXRlcmxpbWl0OjEwOyIgZD0iTSAxOTguNDI4NTMxIDQ3LjcyMjU2MyBDIDE5OC40Mjg1MzEgLTAuMDAwMDkzNzUgMTk4LjQyODUzMSAtMC4wMDAwOTM3NSAxNzguMDg0NzgxIC0wLjAwMDA5Mzc1ICIgdHJhbnNmb3JtPSJtYXRyaXgoMSwwLDAsLTEsMTYuNDY2LDIzMy40OTYpIi8+CjwvZz4KPC9zdmc+Cg=="
     ]
    }
   },
   "cell_type": "markdown",
   "id": "26d834f9",
   "metadata": {},
   "source": [
    "## 7. State the Fundamental Theorem of *Linear Algebra. Apply it to a simple example. \n",
    "\n",
    "#### Recall: Fundamental Theorem of Linear Maps\n",
    "Suppose $V$ is finite-dimensional and $T\\in\\L(V,W)$.  Then $\\text{range}T$ is finite-dimensional and $$\\text{dim}V=\\text{dim null}T+\\text{dim range}T. *$$\n",
    "\n",
    "*Lame... Axler fumbles here and misses an opportunity to enlighten the student.\n",
    "\n",
    "#### Recall: Rank-nullity Theorem (Strang)\n",
    "$$\\text{dim}V=\\text{dim ker}T+\\text{dim im}T$$\n",
    "![rank-nullity.svg](attachment:rank-nullity.svg)"
   ]
  },
  {
   "cell_type": "markdown",
   "id": "178855a9",
   "metadata": {},
   "source": [
    "#### Recall: Fundamental Theorem of Linear Algebra\n",
    "\n",
    "Let $f$ be a linear map between two finite-dimensional vector spaces, representing a $m\\times n$ matrix M of rank $r$ then,\n",
    "   * $r$ is the dimension of column space of $M$, which represent the image of $f$.\n",
    "   * $n-r$ is the dimension of the null space of $M$, which represent the kernel of $f$.\n",
    "   * $m-r$ is the dimension of the cokernel of $f$.\n",
    "   \n",
    "The transpose $M^T$ of $M$ is the matrix of the dual $f^*$ of $f$, and it follows,\n",
    "   * $r$ is the dimension of row space of $M$, which represent the image of $f^*$.\n",
    "   * $n-r$ is the dimension of the left null space of $M$, which represent the kernel of $f^*$.\n",
    "   * $m-r$ is the dimension of the cokernel of $f^*$.\n",
    "   \n",
    "FIXME!!! Make use of Axler's notation..."
   ]
  },
  {
   "cell_type": "markdown",
   "id": "2e57d891",
   "metadata": {},
   "source": [
    "#### Recall: Fundamental Theorem of Linear Algebra (Strang*)\n",
    "*Strang is way clearer.  Probably because he is presenting to Engineers. \n",
    "\n",
    "Let $A\\in \\R^{m\\times n}$, then onsider Four subspaces, $\\mathcal{R}(A), \\mathcal{N}(A), \\mathcal{R}(A^T), \\mathcal{N}(A^T) $\n",
    "\n",
    "  * $\\R^n = \\mathcal{R}(A^T) \\oplus \\mathcal{N}(A)$, also $\\R^n =\\mathcal{R}(A^T) \\perp \\mathcal{N}(A)$\n",
    "      * dim $\\mathcal{R}(A^T) = r$\n",
    "      * dim $\\mathcal{N}(A) = n-r$\n",
    "      \n",
    "  * $\\R^m = \\mathcal{R}(A) \\oplus \\mathcal{N}(AT)$, also $\\R^n =\\mathcal{R}(A) \\perp \\mathcal{N}(A^T)$\n",
    "      * dim $\\mathcal{R}(A) = r$\n",
    "      * dim $\\mathcal{N}(A^T) = m-r$\n",
    "      \n",
    "Where $r$ is called the $\\textit{rank of A}$. Also note that $r\\leq n$ and $r\\leq m$."
   ]
  },
  {
   "cell_type": "markdown",
   "id": "1b8a9843",
   "metadata": {},
   "source": [
    "#### Ex7.1 Basis"
   ]
  },
  {
   "cell_type": "code",
   "execution_count": 30,
   "id": "5c7f7591",
   "metadata": {},
   "outputs": [
    {
     "data": {
      "text/latex": [
       "$A=\\left[\\begin{matrix}1 & 1 & -1\\\\1 & 0 & -1\\end{matrix}\\right] \\rightarrow \\left[\\begin{matrix}1 & 0 & -1\\\\0 & 1 & 0\\end{matrix}\\right] $"
      ],
      "text/plain": [
       "<IPython.core.display.Latex object>"
      ]
     },
     "metadata": {},
     "output_type": "display_data"
    },
    {
     "data": {
      "text/latex": [
       "$\\left[ \\left[\\begin{matrix}1\\\\1\\end{matrix}\\right], \\  \\left[\\begin{matrix}1\\\\0\\end{matrix}\\right]\\right]$ is a bais for $\\mathcal R(A)$, $\\left[ \\left[\\begin{matrix}1\\\\0\\\\1\\end{matrix}\\right]\\right]$ is a basis for $\\mathcal N(A)$."
      ],
      "text/plain": [
       "<IPython.core.display.Latex object>"
      ]
     },
     "metadata": {},
     "output_type": "display_data"
    },
    {
     "data": {
      "text/latex": [
       "$\\left[ \\left[\\begin{matrix}1\\\\1\\\\-1\\end{matrix}\\right], \\  \\left[\\begin{matrix}1\\\\0\\\\-1\\end{matrix}\\right]\\right]$ is a bais for $\\mathcal R(A)$, $\\left[ \\right]$ is a basis for $\\mathcal N(A^T)$."
      ],
      "text/plain": [
       "<IPython.core.display.Latex object>"
      ]
     },
     "metadata": {},
     "output_type": "display_data"
    }
   ],
   "source": [
    "A = Matrix([[1,1,-1],[1,0,-1]])\n",
    "display( Latex(f'$A={sym.latex(A)} \\\\rightarrow {sym.latex(A.rref(pivots=False))} $'))\n",
    "\n",
    "display( Latex(f'${sym.latex(A.columnspace())}$ is a bais for $\\\\mathcal R(A)$, \\\n",
    "${sym.latex(A.nullspace())}$ is a basis for $\\\\mathcal N(A)$.'))\n",
    "\n",
    "display( Latex(f'${sym.latex((A.T).columnspace())}$ is a bais for $\\\\mathcal R(A)$, \\\n",
    "${sym.latex((A.T).nullspace())}$ is a basis for $\\\\mathcal N(A^T)$.'))"
   ]
  },
  {
   "cell_type": "markdown",
   "id": "144d27ee",
   "metadata": {},
   "source": [
    "## 8. Define product of two spaces, its dimension, \n",
    "##### Recall: Dimension of a product is the sum of dimensions\n",
    "Suppose $\\v{V}{m}$ are finite-dimensional vector space.  Then $V_1\\times\\cdots\\times V_m$ is finite-dimensional and $$dim(V_1\\times\\cdots\\times V_m)= \\text{dim}V_1+\\cdots+\\text{dim}V_m.$$\n",
    "\n",
    "##### Recall: Products and direct sums $*$\n",
    "Suppose the $U_1,...,U_m$ are subspaces of $V$.  Define a linear map $\\Gamma:U_1\\times\\cdots\\times U_m\\mapsto U_1+\\cdots+U_m$ by \n",
    "$$\\Gamma(\\v{u}{m})=u_1+...+u_m.$$\n",
    "\n",
    "Then $U_1+\\cdots+U_m$ is a direct sum if and only if $\\Gamma$ is injective$^*$.\n",
    "\n",
    "$*$ Lame... Axler fails to make the connection to biliear maps.\n",
    "\n",
    "#### Recall: A sum is a direct sum if and only if dimensions add up\n",
    "Suppose $V$ is finite-diemnsional and $\\v Um$ are subspaces of $V$.  Then $U_1+...+U_m$ is a direct sum if and only if $$dim(U_1+\\cdots+ U_m)= \\text{dim}U_1+\\cdots+\\text{dim}U_m.$$"
   ]
  },
  {
   "cell_type": "markdown",
   "id": "733eab15",
   "metadata": {},
   "source": [
    "## 9. Define the quotient of two vector spaces. Give an example of a linear quotient space. \n",
    "##### Recall: Sum of vector and subspace\n",
    "Suppose $v\\in V$ and $U$ is a subspace of $V$, then $v+U$ is a subset of $V$ defined by,\n",
    "$$v+U=\\{v+u:u\\in U\\}.$$\n",
    "\n",
    "#### Recall: Affine subset, parrallel\n",
    " * subset of $V$ of form $v+U$ for some $v\\in V$ and some subspace $U$ of $V$.\n",
    " * for $v\\in V$ and $U$ a subspace of $V$, the affine subset $v+U$ is said to be $\\textit{parrallel}$ to $U$.\n",
    "\n",
    "##### Recall: Quotient Space, $V/U$\n",
    "Suppose $U$ is a subspace of $V$, then $V/U$ is the set of all affine subsets of $V$ parrallel to $U$.  $$V/U=\\{v+U:v\\in V\\}.$$\n",
    "\n",
    "##### Recall: Two affine subsets parallel to $U$ are equal or disjoint\n",
    "Suppose $U$ is a subspace of $V$ and $v,w\\in V$. Thne the following are equivalent:\n",
    "\n",
    " (a) $v-w\\in U$\n",
    " \n",
    " (b) $v+U=w+U$\n",
    " \n",
    " (c) $(v+U)\\cap(w+U)\\neq \\0$\n",
    " \n",
    "##### Recall: Quotient map, $\\pi$\n",
    "Suppose $U$ is a subspace of $V$. Then $\\pi$ is the linear map $\\pi:V\\mapsto V/U$ defined by, $$\\pi(v)=v+U$$ for $v\\in V$.\n",
    "\n",
    "##### Recall: Dimension of a quotient space\n",
    "$$\\text{dim}V/U=\\text{dim}V-\\text{dim}U.$$\n",
    "\n",
    "#### Ex 9.1\n",
    "Suppose $U=\\{(x,2x)\\in\\R^2:x\\in\\R\\}$, then $U$ is the line in $R^2$ through the orgin with slope 2.  Thus $p+U$ is the line in $R^2$ that contains the point $p$ and has slope 2.\n",
    "\n",
    "##### Recall: $\\tilde{T}$\n",
    "$*$ Axler makes a lame attempt to demonstrate the Rank-Nullity Theorem using the definition of $\\tilde{T}$.  He's not wrong but why?  I suppose it gets us thinking but in no way it this 'Done Right'.\n",
    "\n",
    "Suppose $T\\in\\L(V,W)$.  Define $\\tilde{T}:V/(\\null T)\\mapsto W$ by,\n",
    "$$\\tilde{T}(v+\\null T)=Tv.$$\n",
    "\n",
    "##### Recall: Null space and range of $\\tilde{T}$\n",
    "Suppose $T\\in\\L(V,W)$.  Then,\n",
    "\n",
    " (a) $T\\in\\L(V,W)$ is a linear map from $V/(\\null T)$ to $W$\n",
    " \n",
    " (b) $T\\in\\L(V,W)$ is injective\n",
    " \n",
    " (c) range$T\\in\\L(V,W)$=range T\n",
    " \n",
    " (d) $V/(\\null T)$ is isomporphic to range$T$"
   ]
  },
  {
   "cell_type": "markdown",
   "id": "b91e09e6",
   "metadata": {},
   "source": [
    "## 10. Define a linear functional and the dual map. \n",
    "##### Recall: Linear functional\n",
    "A $\\textit{linear functional}$ on $V$ is a linear map from $V\\mapsto\\F$.  In other words, a linear functional is an element of $\\L(V,\\F)$.\n",
    "\n",
    "#### Ex 10.1 Linear functional\n",
    "Define $\\varphi:\\R^3\\mapsto\\R$ by $\\varphi(x,y,z)=4x-5y+2z$.  Then $\\varphi$ is a linear functional on $R^3$.\n",
    "\n",
    "Fix $(\\v cn)\\in\\F^n$.  Define $\\varphi:\\F^n\\mapsto\\F$ by $\\varphi(\\v xn)=c_1x_1+...+c_nx_n$.  Then $\\varphi$ is a linear functional on $F^3$.\n",
    "\n",
    "Define $\\varphi:\\R\\mapsto\\R$ by $\\varphi(p)=3p''(5)+7p(4)$.  Then $\\varphi$ is a linear functional on $\\P(\\R)$.\n",
    "\n",
    "Define $\\varphi:\\R\\mapsto\\R$ by $\\varphi(p)=\\int_0^1{p(x)dx}$.  Then $\\varphi$ is a linear functional on $\\P(\\R)$.\n",
    "\n",
    "FIXME!!! Add more example if time allows...\n",
    "\n",
    "##### Recall: Dual map, $T'$\n",
    "If $T\\in\\L(V,W)$, then the $\\textit{dual map}$ of $T$ is the linear map $T'\\in(W',V')*$ defined by $T'(\\varphi)=\\varphi \\circ T$ for $\\varphi \\in W'$.\n",
    "\n",
    "$*$ note swapping of order due to nature of coordinate change\n",
    "\n",
    "#### Ex 10.2 Dual space\n",
    "Define $D:\\P(\\R)\\mapsto\\P(\\R)$ by $Dp=p'$. $*$\n",
    "$*$ Such an awful mixture of notation.  WTF, Axler!?\n",
    "\n",
    "Suppose $\\varphi$ is the linear functional on $\\P(\\R)$ defined by $\\varphi(p)=p(3)$.  Then $D'(\\varphi)$ is the linear functional on $\\P(\\R)$ given by\n",
    "$$ (D'(\\varphi))(p)=(\\varphi \\circ D)(p)=\\varphi(Dp)=\\varphi(p')=p'(3).$$\n",
    "\n",
    "Note: $D'(\\varphi)$ is the linear functional on $\\P(R)$ that takes $p$ to $p'(3)$.\n",
    "\n",
    "#### Ex 10.3 Dual space\n",
    "Define $D:\\P(\\R)\\mapsto\\P(\\R)$ by $Dp=p'$.\n",
    "\n",
    "Suppose $\\varphi$ is the linear functional on $\\P(\\R)$ defined by $\\varphi(p)=\\int_0^1{p}$.  Then $D'(\\varphi)$ is the linear functional on $\\P(\\R)$ given by\n",
    "$$(D'(\\varphi))(p)=(\\varphi \\circ D)(p)=\\varphi(Dp)=\\varphi(p')=\\int_0^1{p'}=p(1)-p(0).$$\n",
    "\n",
    "Note: $D'(\\varphi)$ is the linear functional on $\\P(R)$ that takes $p$ to p(1)-p(0)$."
   ]
  },
  {
   "cell_type": "markdown",
   "id": "c45eb7c3",
   "metadata": {},
   "source": [
    "## 11. Compute a dual basis of a vector space spanned by a basis. \n",
    "##### Recall: Dual basis is a basis of the dual space\n",
    "Suppose $V$ is finite-dimensional.  Then the dual basis of the basis of $V$ is the basis of $V'$\n",
    "\n",
    "#### Ex. 11.1 Proof that dual basis is a basis of the dual space\n",
    "Suppose $\\v vn$ is a basis of $V$.  Let $\\v \\varphi n$ denote the dual basis.\n",
    "\n",
    "Consider that $\\v \\varphi n$ is linearly indendent list of element of $V'$ such that \n",
    "$$a_1\\varphi_1+...+a_n\\varphi=0.$$\n",
    "\n",
    "Consider $(a_1\\varphi_1+...+a_n\\varphi_n)(v_j) = a_j$ for $j=1,...,n$.  Thus, $a_1=...=a_n=0$.  Hence $\\v \\varphi n$ is linearly independent, thus a basis of $V'$.\n",
    "\n",
    "##### Recall: We already computed this..."
   ]
  },
  {
   "cell_type": "markdown",
   "id": "39a3e101",
   "metadata": {},
   "source": [
    "#### Ex 7.1 Basis"
   ]
  },
  {
   "cell_type": "code",
   "execution_count": 32,
   "id": "2454abe0",
   "metadata": {},
   "outputs": [
    {
     "data": {
      "text/latex": [
       "$A=\\left[\\begin{matrix}1 & 1 & -1\\\\1 & 0 & -1\\end{matrix}\\right] \\rightarrow \\left[\\begin{matrix}1 & 0 & -1\\\\0 & 1 & 0\\end{matrix}\\right] $"
      ],
      "text/plain": [
       "<IPython.core.display.Latex object>"
      ]
     },
     "metadata": {},
     "output_type": "display_data"
    },
    {
     "data": {
      "text/latex": [
       "$\\left[ \\left[\\begin{matrix}1\\\\1\\end{matrix}\\right], \\  \\left[\\begin{matrix}1\\\\0\\end{matrix}\\right]\\right]$ is a bais for $\\mathcal R(A)$, $\\left[ \\left[\\begin{matrix}1\\\\0\\\\1\\end{matrix}\\right]\\right]$ is a basis for $\\mathcal N(A)$."
      ],
      "text/plain": [
       "<IPython.core.display.Latex object>"
      ]
     },
     "metadata": {},
     "output_type": "display_data"
    },
    {
     "data": {
      "text/latex": [
       "$\\left[ \\left[\\begin{matrix}1\\\\1\\\\-1\\end{matrix}\\right], \\  \\left[\\begin{matrix}1\\\\0\\\\-1\\end{matrix}\\right]\\right]$ is a bais for $\\mathcal R(A^T)$, $\\left[ \\right]$ is a basis for $\\mathcal N(A^T)$."
      ],
      "text/plain": [
       "<IPython.core.display.Latex object>"
      ]
     },
     "metadata": {},
     "output_type": "display_data"
    }
   ],
   "source": [
    "A = Matrix([[1,1,-1],[1,0,-1]])\n",
    "display( Latex(f'$A={sym.latex(A)} \\\\rightarrow {sym.latex(A.rref(pivots=False))} $'))\n",
    "\n",
    "display( Latex(f'${sym.latex(A.columnspace())}$ is a bais for $\\\\mathcal R(A)$, \\\n",
    "${sym.latex(A.nullspace())}$ is a basis for $\\\\mathcal N(A)$.'))\n",
    "\n",
    "display( Latex(f'${sym.latex((A.T).columnspace())}$ is a bais for $\\\\mathcal R(A^T)$, \\\n",
    "${sym.latex((A.T).nullspace())}$ is a basis for $\\\\mathcal N(A^T)$.'))"
   ]
  },
  {
   "cell_type": "markdown",
   "id": "62569ec7",
   "metadata": {},
   "source": [
    "## Appendix 1. State the Fundamental Theorem of Algebra. Apply it to a simple example. "
   ]
  },
  {
   "cell_type": "markdown",
   "id": "17891611",
   "metadata": {},
   "source": [
    "#### Ex A.1\n",
    "$p(z)=0$ has a solution in $\\C$.\n",
    "\n",
    "$p(z)=a_n z^n+...+a_0$ for $a_0,...,a_n\\in\\C.$\n",
    "\n",
    "Consider $M(z)=\\frac{1}{p(z)}$.\n",
    "\n",
    "Suppose $p(z)\\neq 0$ then converges to $a_0$.\n",
    "\n",
    "In other words, every nonconstant polynomial with complex coefficents has a zero."
   ]
  },
  {
   "cell_type": "code",
   "execution_count": 2,
   "id": "fcb4c316",
   "metadata": {},
   "outputs": [
    {
     "name": "stdout",
     "output_type": "stream",
     "text": [
      "0:a\n",
      "1:b\n",
      "2:c\n"
     ]
    }
   ],
   "source": [
    "foo = ['a','b','c']\n",
    "for i,fu in enumerate(foo):\n",
    "    print(f'{i}:{fu}')"
   ]
  }
 ],
 "metadata": {
  "kernelspec": {
   "display_name": "Python 3",
   "language": "python",
   "name": "python3"
  },
  "language_info": {
   "codemirror_mode": {
    "name": "ipython",
    "version": 3
   },
   "file_extension": ".py",
   "mimetype": "text/x-python",
   "name": "python",
   "nbconvert_exporter": "python",
   "pygments_lexer": "ipython3",
   "version": "3.8.10"
  }
 },
 "nbformat": 4,
 "nbformat_minor": 5
}
