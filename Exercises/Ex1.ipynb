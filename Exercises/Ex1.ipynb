{
 "cells": [
  {
   "cell_type": "markdown",
   "metadata": {},
   "source": [
    "# Exercises from LADR, Axler"
   ]
  },
  {
   "cell_type": "markdown",
   "metadata": {},
   "source": [
    "## Exercises 1.A\n",
    "\n",
    "see also: \n",
    "https://linearalgebras.com/1a.html"
   ]
  },
  {
   "cell_type": "code",
   "execution_count": 1,
   "metadata": {},
   "outputs": [],
   "source": [
    "import sympy as sym\n",
    "import numpy as np\n",
    "from IPython.display import display, Math, Latex\n",
    "from sympy.matrices import Matrix"
   ]
  },
  {
   "cell_type": "markdown",
   "metadata": {},
   "source": [
    "### 1. Suppose $a$ and $b$ are real numbers, both not 0. Find real numbers $c$ and $d$ such that $\\frac{1}{a+b i} = c+d i$."
   ]
  },
  {
   "cell_type": "code",
   "execution_count": 2,
   "metadata": {},
   "outputs": [
    {
     "data": {
      "text/latex": [
       "$\\displaystyle 1.0 a^{2} + 1.0 b^{2}$"
      ],
      "text/plain": [
       "1.0*a**2 + 1.0*b**2"
      ]
     },
     "execution_count": 2,
     "metadata": {},
     "output_type": "execute_result"
    }
   ],
   "source": [
    "a,b,c,d = sym.symbols('a b c d')\n",
    "i = 1j\n",
    "sym.simplify((a+b*i)*(a-b*i))"
   ]
  },
  {
   "cell_type": "markdown",
   "metadata": {},
   "source": [
    "$\\frac{1}{a+b i} = \\frac{a-b i}{a^2+b^2}$, thus, $c=\\frac{a}{a^2+b^2}, d=\\frac{b}{a^2+b^2}$"
   ]
  },
  {
   "cell_type": "markdown",
   "metadata": {},
   "source": [
    "### 2. Show that $\\frac{-1+\\sqrt{3}i}{2}$ is a cube root of 1 (meaning that its cube equals 1)."
   ]
  },
  {
   "cell_type": "code",
   "execution_count": 3,
   "metadata": {},
   "outputs": [
    {
     "data": {
      "text/latex": [
       "$\\displaystyle 1.0$"
      ],
      "text/plain": [
       "1.00000000000000"
      ]
     },
     "execution_count": 3,
     "metadata": {},
     "output_type": "execute_result"
    }
   ],
   "source": [
    "q = (-1+sym.sqrt(3)*1j)/2\n",
    "\n",
    "sym.simplify(q**3)"
   ]
  },
  {
   "cell_type": "markdown",
   "metadata": {},
   "source": [
    "### 3. Find two distinct square roots of $i$."
   ]
  },
  {
   "cell_type": "code",
   "execution_count": 4,
   "metadata": {},
   "outputs": [
    {
     "data": {
      "text/latex": [
       "$i=e^{0.5 i \\pi}$"
      ],
      "text/plain": [
       "<IPython.core.display.Latex object>"
      ]
     },
     "metadata": {},
     "output_type": "display_data"
    },
    {
     "data": {
      "text/latex": [
       "$\\sqrt i_0=$$e^{0.25 i \\pi}$"
      ],
      "text/plain": [
       "<IPython.core.display.Latex object>"
      ]
     },
     "metadata": {},
     "output_type": "display_data"
    },
    {
     "data": {
      "text/latex": [
       "$\\sqrt i_1=$$e^{1.25 i \\pi}$"
      ],
      "text/plain": [
       "<IPython.core.display.Latex object>"
      ]
     },
     "metadata": {},
     "output_type": "display_data"
    },
    {
     "data": {
      "text/latex": [
       "$i=i= i$, super!"
      ],
      "text/plain": [
       "<IPython.core.display.Latex object>"
      ]
     },
     "metadata": {},
     "output_type": "display_data"
    }
   ],
   "source": [
    "# use Euler\n",
    "i = sym.exp(sym.pi*1j/2)\n",
    "isqrt_0 = sym.exp(sym.pi*1j/4)\n",
    "isqrt_1 = sym.exp(sym.pi*1j*(1/4+1))\n",
    "\n",
    "i_0 = sym.simplify(isqrt_0**2)\n",
    "i_1 = sym.simplify(isqrt_1**2)\n",
    "\n",
    "display(Latex(f'$i={sym.latex(i)}$')) # show off using Latex with display() \n",
    "display(Latex('$\\\\sqrt i_0=$' + f'${sym.latex(isqrt_0)}$'))\n",
    "display(Latex('$\\\\sqrt i_1=$' + f'${sym.latex(isqrt_1)}$'))\n",
    "display(Latex(f'$i={sym.latex(i_0)}= {sym.latex(i_1)}$, super!'))"
   ]
  },
  {
   "cell_type": "markdown",
   "metadata": {},
   "source": [
    "### 4. Show that $\\alpha + \\beta = \\beta + \\alpha$ for all $\\alpha, \\beta \\in \\mathbb{C}$."
   ]
  },
  {
   "cell_type": "markdown",
   "metadata": {},
   "source": [
    "Let $\\alpha = x + i y$ and $\\beta = w + i z$, where $x,y,z,w \\in \\mathbb{R}$, then\n",
    "\n",
    "$\\alpha+\\beta=(x+yi)+(z+wi)=(x+z)+(y+w)i$\n",
    "\n",
    "Similarly,\n",
    "\n",
    "$\\beta+\\alpha=(z+wi)+(x+yi)=(z+x)+(w+y)i$\n",
    "\n",
    "By associtive propery, $x+z=z+x$ and $y+w=w+y$, thus $\\alpha+\\beta=\\beta+\\alpha$."
   ]
  },
  {
   "cell_type": "markdown",
   "metadata": {},
   "source": [
    "### 5. Show that $(\\alpha + \\beta) + \\lambda = \\alpha + (\\beta + \\lambda)$ for all $\\alpha, \\beta, \\lambda \\in \\mathbb{C}$."
   ]
  },
  {
   "cell_type": "markdown",
   "metadata": {},
   "source": [
    "Let $\\alpha = x_1+i y_1, \\beta = x_2+i y_2, \\lambda = x_2+i y_3$,\n",
    "where $x_1,x_2,x_3,y_1,y_2,y_3 \\in \\mathbb{R}$. Then\n",
    "\n",
    "$(\\alpha+\\beta)+\\lambda=((x_1+x_2) + i(y_1+y_2)+ (x_3+iy_3)$\n",
    "\n",
    "$=((x_1+x_2)+x_3)+i((y_1+y_2)+y_3)$\n",
    "\n",
    "Likewise,\n",
    "\n",
    "$\\alpha+(\\beta+\\lambda)=(x_1+(x_2+x_3))+i(y_1+(y_2+y_3))$\n",
    "\n",
    "Noting that $((x_1+x_2)+x_3)=(x_1+(x_2+x_3))$ and \n",
    "$((y_1+y_2)+y_3)=(y_1+(y_2+y_3))$, it can now be seen that\n",
    "$(\\alpha + \\beta) + \\lambda = \\alpha + (\\beta + \\lambda)$."
   ]
  },
  {
   "cell_type": "markdown",
   "metadata": {},
   "source": [
    "### 6. Show that $(\\alpha\\beta) \\lambda = \\alpha(\\beta\\lambda)$ for all $\\alpha, \\beta, \\lambda \\in \\mathbb{C}$."
   ]
  },
  {
   "cell_type": "markdown",
   "metadata": {},
   "source": [
    "Let $\\alpha = x_1+i y_1, \\beta = x_2+i y_2, \\lambda = x_2+i y_3$, where $x_1, x_2, x_3, y_1, y_2, \\text{ and } y_3 \\in \\mathbb{C}$\n",
    "\n",
    "... dude we get it ..."
   ]
  },
  {
   "cell_type": "markdown",
   "metadata": {},
   "source": [
    "### 7. Show that for every $\\alpha\\in\\mathbb{C}$, there exits a unique $\\beta\\in\\mathbb{C}$ such that $\\alpha+ \\beta=0$."
   ]
  },
  {
   "cell_type": "markdown",
   "metadata": {},
   "source": [
    "show additive identity"
   ]
  },
  {
   "cell_type": "markdown",
   "metadata": {},
   "source": [
    "### 8. Show that for every $\\alpha\\in\\mathbb{C}$ with $\\alpha\\neq0$, there exits a unique $\\beta\\in\\mathbb{C}$ such that $\\alpha\\beta=1$."
   ]
  },
  {
   "cell_type": "markdown",
   "metadata": {},
   "source": [
    "show multiplitive identity"
   ]
  },
  {
   "cell_type": "markdown",
   "metadata": {},
   "source": [
    "### 9. Show that $\\lambda(\\alpha+\\beta)=\\lambda\\alpha+\\lambda\\beta$ for all $\\alpha, \\beta, \\lambda \\in\\mathbb{C}$."
   ]
  },
  {
   "cell_type": "markdown",
   "metadata": {},
   "source": [
    "more of same ..."
   ]
  },
  {
   "cell_type": "markdown",
   "metadata": {},
   "source": [
    "### 10. Find $x\\in\\mathbb{R}^4$ such that $(4,-3,1,7)+2x = (5,9,-6,8)$."
   ]
  },
  {
   "cell_type": "code",
   "execution_count": null,
   "metadata": {},
   "outputs": [],
   "source": [
    "a = Matrix([4,-3,1,7]).T\n",
    "b = Matrix([5,9,-6,8]).T\n",
    "x = (b-a)/2 \n",
    "display(x, a+2*x == b)"
   ]
  },
  {
   "cell_type": "markdown",
   "metadata": {},
   "source": [
    "### 11. Explain why there does not exist $\\lambda \\in \\mathbb{C}$ such that $\\lambda(2-3i, 5+4i, -6+7i)=(12-5i,7+22i,-32-9i)$."
   ]
  },
  {
   "cell_type": "code",
   "execution_count": null,
   "metadata": {},
   "outputs": [],
   "source": [
    "x1 = 2-3j; x2 = 5+4j; x3 = -6+7j;\n",
    "y1 = 12-5j; y2=7+22j; y3=-32-9j;\n",
    "lambda_ = Matrix([sym.symbols('lambda_1 lambda_2 lambda_3')]).T"
   ]
  },
  {
   "cell_type": "code",
   "execution_count": null,
   "metadata": {},
   "outputs": [],
   "source": [
    "x1*y2==y1*x2"
   ]
  },
  {
   "cell_type": "code",
   "execution_count": null,
   "metadata": {},
   "outputs": [],
   "source": [
    "x1*y3==y1*x3 # nope, thus does not exist"
   ]
  },
  {
   "cell_type": "code",
   "execution_count": null,
   "metadata": {},
   "outputs": [],
   "source": [
    "x= Matrix([x1,x2,x3]).T\n",
    "y= Matrix([y1,y2,y3]).T\n",
    "display(x,y)\n",
    "z=sym.simplify(x.T*y)\n",
    "#sym.simplify(x*z)\n",
    "### FIXME think about the proper way to do this with a Matrix\n",
    "lambda_*x\n",
    "\n",
    "#x1 and y3 are multiple so linearly dependent, right?...\n",
    "-32/2, -9/-3  \n",
    "# also three unknowns and two givens so no good\n",
    "#FIXME"
   ]
  },
  {
   "cell_type": "code",
   "execution_count": null,
   "metadata": {},
   "outputs": [],
   "source": [
    "X=np.array([ complex(xi) for xi in x] )\n",
    "X.real, X.imag\n",
    "Matrix([X.real,X.imag])"
   ]
  },
  {
   "cell_type": "markdown",
   "metadata": {},
   "source": [
    "### 12 Show that $(x + y) + z = x + (y + z)$ for all $x, y, z \\in \\mathbb{F}^n$."
   ]
  },
  {
   "cell_type": "markdown",
   "metadata": {},
   "source": [
    "5 again but now with n dimensions\n",
    "Suppose $x=(x_1,...,x_n)$, $y=(y_1,...,y_n)$, and $z=(z_1,...,z_n)$.  Then\n",
    "\n",
    "$(x+y)+z=((x_1,...,x_n)+(y_1,...,y_n))+(z_1,...,z_n)$\n",
    "\n",
    "...collect terms ...\n",
    "\n",
    "... "
   ]
  },
  {
   "cell_type": "markdown",
   "metadata": {},
   "source": [
    "### 13 Show that $(ab)x=a(bx)$ for all $x\\in\\mathbb{F}^n$ and $a,b\\in\\mathbb{F}$."
   ]
  },
  {
   "cell_type": "markdown",
   "metadata": {},
   "source": [
    "Let $x=(x_1,...,x_n)$, then\n",
    "\n",
    "$(ab)x = ab(x_1,...,x_n)=((ab)x_1,...,(ab)x_n)$\n",
    "\n",
    "$=(a(bx_1),...,a(bx_n))=a(bx_1,...,bx_n)$\n",
    "\n",
    "$=a(bx)$."
   ]
  },
  {
   "cell_type": "markdown",
   "metadata": {},
   "source": [
    "### 14 Show that $1x = x$ for all $x\\in \\mathbb{F}^n$."
   ]
  },
  {
   "cell_type": "markdown",
   "metadata": {},
   "source": [
    "Suppose $x=(x_1,...,x_n)$.  Then\n",
    "\n",
    "$1x=1(x_1,...,x_n)=(1x_1,...,1x_n)=(x_1,...,x_n)=x$"
   ]
  },
  {
   "cell_type": "markdown",
   "metadata": {},
   "source": [
    "### 15 Show that $\\lambda(x+y)=\\lambda x+\\lambda y$ for all $\\lambda\\in\\mathbb{F}$ and $x,y\\in\\mathbb{F}^n$."
   ]
  },
  {
   "cell_type": "markdown",
   "metadata": {},
   "source": [
    "Suppose $x=(x_1,...,x_n)$ and $y=(y_1,...,y_n)$. Then\n",
    "\n",
    "... "
   ]
  }
 ],
 "metadata": {
  "kernelspec": {
   "display_name": "Python 3",
   "language": "python",
   "name": "python3"
  },
  "language_info": {
   "codemirror_mode": {
    "name": "ipython",
    "version": 3
   },
   "file_extension": ".py",
   "mimetype": "text/x-python",
   "name": "python",
   "nbconvert_exporter": "python",
   "pygments_lexer": "ipython3",
   "version": "3.8.10"
  }
 },
 "nbformat": 4,
 "nbformat_minor": 4
}
