{
 "cells": [
  {
   "cell_type": "markdown",
   "metadata": {},
   "source": [
    "# Exercises from LADR, Axler"
   ]
  },
  {
   "cell_type": "markdown",
   "metadata": {},
   "source": [
    "## Exercises 1.A\n",
    "\n",
    "see also: \n",
    "https://linearalgebras.com/1a.html"
   ]
  },
  {
   "cell_type": "markdown",
   "metadata": {},
   "source": [
    "$\\mathtt{128\\sqrt{e980}}$  (math for someone you love)"
   ]
  },
  {
   "cell_type": "code",
   "execution_count": 1,
   "metadata": {},
   "outputs": [],
   "source": [
    "import sympy as sym\n",
    "import numpy as np\n",
    "from IPython.display import display, Math, Latex\n",
    "from sympy.matrices import Matrix"
   ]
  },
  {
   "cell_type": "markdown",
   "metadata": {},
   "source": [
    "### 1. Suppose $a$ and $b$ are real numbers, both not 0. Find real numbers $c$ and $d$ such that $\\frac{1}{a+b i} = c+d i$."
   ]
  },
  {
   "cell_type": "code",
   "execution_count": 2,
   "metadata": {},
   "outputs": [
    {
     "data": {
      "text/latex": [
       "$\\displaystyle 1.0 a^{2} + 1.0 b^{2}$"
      ],
      "text/plain": [
       "1.0*a**2 + 1.0*b**2"
      ]
     },
     "execution_count": 2,
     "metadata": {},
     "output_type": "execute_result"
    }
   ],
   "source": [
    "a,b,c,d = sym.symbols('a b c d')\n",
    "i = 1j\n",
    "sym.simplify((a+b*i)*(a-b*i))"
   ]
  },
  {
   "cell_type": "markdown",
   "metadata": {},
   "source": [
    "$\\frac{1}{a+b i} = \\frac{a-b i}{a^2+b^2}$, thus, $c=\\frac{a}{a^2+b^2}, d=\\frac{b}{a^2+b^2}$"
   ]
  },
  {
   "cell_type": "markdown",
   "metadata": {},
   "source": [
    "### 2. Show that $\\frac{-1+\\sqrt{3}i}{2}$ is a cube root of 1 (meaning that its cube equals 1)."
   ]
  },
  {
   "cell_type": "code",
   "execution_count": 3,
   "metadata": {},
   "outputs": [
    {
     "data": {
      "text/latex": [
       "$\\displaystyle 1.0$"
      ],
      "text/plain": [
       "1.00000000000000"
      ]
     },
     "execution_count": 3,
     "metadata": {},
     "output_type": "execute_result"
    }
   ],
   "source": [
    "q = (-1+sym.sqrt(3)*1j)/2\n",
    "\n",
    "sym.simplify(q**3)"
   ]
  },
  {
   "cell_type": "markdown",
   "metadata": {},
   "source": [
    "### 3. Find two distinct square roots of $i$."
   ]
  },
  {
   "cell_type": "code",
   "execution_count": 4,
   "metadata": {},
   "outputs": [
    {
     "data": {
      "text/latex": [
       "$i=e^{0.5 i \\pi}$"
      ],
      "text/plain": [
       "<IPython.core.display.Latex object>"
      ]
     },
     "metadata": {},
     "output_type": "display_data"
    },
    {
     "data": {
      "text/latex": [
       "$\\sqrt i_0=$$e^{0.25 i \\pi}$"
      ],
      "text/plain": [
       "<IPython.core.display.Latex object>"
      ]
     },
     "metadata": {},
     "output_type": "display_data"
    },
    {
     "data": {
      "text/latex": [
       "$\\sqrt i_1=$$e^{1.25 i \\pi}$"
      ],
      "text/plain": [
       "<IPython.core.display.Latex object>"
      ]
     },
     "metadata": {},
     "output_type": "display_data"
    },
    {
     "data": {
      "text/latex": [
       "$i=i= i$, super!"
      ],
      "text/plain": [
       "<IPython.core.display.Latex object>"
      ]
     },
     "metadata": {},
     "output_type": "display_data"
    }
   ],
   "source": [
    "# use Euler\n",
    "i = sym.exp(sym.pi*1j/2)\n",
    "isqrt_0 = sym.exp(sym.pi*1j/4)\n",
    "isqrt_1 = sym.exp(sym.pi*1j*(1/4+1))\n",
    "\n",
    "i_0 = sym.simplify(isqrt_0**2)\n",
    "i_1 = sym.simplify(isqrt_1**2)\n",
    "\n",
    "display(Latex(f'$i={sym.latex(i)}$')) # show off using Latex with display() \n",
    "display(Latex('$\\\\sqrt i_0=$' + f'${sym.latex(isqrt_0)}$'))\n",
    "display(Latex('$\\\\sqrt i_1=$' + f'${sym.latex(isqrt_1)}$'))\n",
    "display(Latex(f'$i={sym.latex(i_0)}= {sym.latex(i_1)}$, super!'))"
   ]
  },
  {
   "cell_type": "markdown",
   "metadata": {},
   "source": [
    "### 4. Show that $\\alpha + \\beta = \\beta + \\alpha$ for all $\\alpha, \\beta \\in \\mathbb{C}$."
   ]
  },
  {
   "cell_type": "markdown",
   "metadata": {},
   "source": [
    "Let $\\alpha = x + i y$ and $\\beta = w + i z$, where $x,y,z,w \\in \\mathbb{R}$, then\n",
    "\n",
    "$\\alpha+\\beta=(x+yi)+(z+wi)=(x+z)+(y+w)i$\n",
    "\n",
    "Similarly,\n",
    "\n",
    "$\\beta+\\alpha=(z+wi)+(x+yi)=(z+x)+(w+y)i$\n",
    "\n",
    "By associtive propery, $x+z=z+x$ and $y+w=w+y$, thus $\\alpha+\\beta=\\beta+\\alpha$."
   ]
  },
  {
   "cell_type": "markdown",
   "metadata": {},
   "source": [
    "### 5. Show that $(\\alpha + \\beta) + \\lambda = \\alpha + (\\beta + \\lambda)$ for all $\\alpha, \\beta, \\lambda \\in \\mathbb{C}$."
   ]
  },
  {
   "cell_type": "markdown",
   "metadata": {},
   "source": [
    "Let $\\alpha = x_1+i y_1, \\beta = x_2+i y_2, \\lambda = x_2+i y_3$,\n",
    "where $x_1,x_2,x_3,y_1,y_2,y_3 \\in \\mathbb{R}$. Then\n",
    "\n",
    "$(\\alpha+\\beta)+\\lambda=((x_1+x_2) + i(y_1+y_2)+ (x_3+iy_3)$\n",
    "\n",
    "$=((x_1+x_2)+x_3)+i((y_1+y_2)+y_3)$\n",
    "\n",
    "Likewise,\n",
    "\n",
    "$\\alpha+(\\beta+\\lambda)=(x_1+(x_2+x_3))+i(y_1+(y_2+y_3))$\n",
    "\n",
    "Noting that $((x_1+x_2)+x_3)=(x_1+(x_2+x_3))$ and \n",
    "$((y_1+y_2)+y_3)=(y_1+(y_2+y_3))$, it can now be seen that\n",
    "$(\\alpha + \\beta) + \\lambda = \\alpha + (\\beta + \\lambda)$."
   ]
  },
  {
   "cell_type": "markdown",
   "metadata": {},
   "source": [
    "### 6. Show that $(\\alpha\\beta) \\lambda = \\alpha(\\beta\\lambda)$ for all $\\alpha, \\beta, \\lambda \\in \\mathbb{C}$."
   ]
  },
  {
   "cell_type": "markdown",
   "metadata": {},
   "source": [
    "Let $\\alpha = x_1+i y_1, \\beta = x_2+i y_2, \\lambda = x_2+i y_3$, where $x_1, x_2, x_3, y_1, y_2, \\text{ and } y_3 \\in \\mathbb{C}$\n",
    "\n",
    "... dude we get it ..."
   ]
  },
  {
   "cell_type": "markdown",
   "metadata": {},
   "source": [
    "### 7. Show that for every $\\alpha\\in\\mathbb{C}$, there exits a unique $\\beta\\in\\mathbb{C}$ such that $\\alpha+ \\beta=0$."
   ]
  },
  {
   "cell_type": "markdown",
   "metadata": {},
   "source": [
    "show additive identity"
   ]
  },
  {
   "cell_type": "markdown",
   "metadata": {},
   "source": [
    "### 8. Show that for every $\\alpha\\in\\mathbb{C}$ with $\\alpha\\neq0$, there exits a unique $\\beta\\in\\mathbb{C}$ such that $\\alpha\\beta=1$."
   ]
  },
  {
   "cell_type": "markdown",
   "metadata": {},
   "source": [
    "show multiplitive identity"
   ]
  },
  {
   "cell_type": "markdown",
   "metadata": {},
   "source": [
    "### 9. Show that $\\lambda(\\alpha+\\beta)=\\lambda\\alpha+\\lambda\\beta$ for all $\\alpha, \\beta, \\lambda \\in\\mathbb{C}$."
   ]
  },
  {
   "cell_type": "markdown",
   "metadata": {},
   "source": [
    "more of same ..."
   ]
  },
  {
   "cell_type": "markdown",
   "metadata": {},
   "source": [
    "### 10. Find $x\\in\\mathbb{R}^4$ such that $(4,-3,1,7)+2x = (5,9,-6,8)$."
   ]
  },
  {
   "cell_type": "code",
   "execution_count": 5,
   "metadata": {},
   "outputs": [
    {
     "data": {
      "text/latex": [
       "$\\displaystyle \\left[\\begin{matrix}\\frac{1}{2} & 6 & - \\frac{7}{2} & \\frac{1}{2}\\end{matrix}\\right]$"
      ],
      "text/plain": [
       "Matrix([[1/2, 6, -7/2, 1/2]])"
      ]
     },
     "metadata": {},
     "output_type": "display_data"
    },
    {
     "data": {
      "text/plain": [
       "True"
      ]
     },
     "metadata": {},
     "output_type": "display_data"
    }
   ],
   "source": [
    "a = Matrix([4,-3,1,7]).T\n",
    "b = Matrix([5,9,-6,8]).T\n",
    "x = (b-a)/2 \n",
    "display(x, a+2*x == b)"
   ]
  },
  {
   "cell_type": "markdown",
   "metadata": {},
   "source": [
    "### 11. Explain why there does not exist $\\lambda \\in \\mathbb{C}$ such that $\\lambda(2-3i, 5+4i, -6+7i)=(12-5i,7+22i,-32-9i)$."
   ]
  },
  {
   "cell_type": "code",
   "execution_count": 6,
   "metadata": {},
   "outputs": [],
   "source": [
    "x1 = 2-3j; x2 = 5+4j; x3 = -6+7j;\n",
    "y1 = 12-5j; y2=7+22j; y3=-32-9j;\n",
    "lambda_ = Matrix([sym.symbols('lambda_1 lambda_2 lambda_3')]).T"
   ]
  },
  {
   "cell_type": "code",
   "execution_count": 7,
   "metadata": {},
   "outputs": [
    {
     "data": {
      "text/plain": [
       "True"
      ]
     },
     "execution_count": 7,
     "metadata": {},
     "output_type": "execute_result"
    }
   ],
   "source": [
    "x1*y2==y1*x2"
   ]
  },
  {
   "cell_type": "code",
   "execution_count": 8,
   "metadata": {},
   "outputs": [
    {
     "data": {
      "text/plain": [
       "False"
      ]
     },
     "execution_count": 8,
     "metadata": {},
     "output_type": "execute_result"
    }
   ],
   "source": [
    "x1*y3==y1*x3 # nope, thus does not exist"
   ]
  },
  {
   "cell_type": "code",
   "execution_count": 9,
   "metadata": {},
   "outputs": [
    {
     "data": {
      "text/latex": [
       "$\\displaystyle \\left[\\begin{matrix}2.0 - 3.0 i & 5.0 + 4.0 i & -6.0 + 7.0 i\\end{matrix}\\right]$"
      ],
      "text/plain": [
       "Matrix([[2.0 - 3.0*I, 5.0 + 4.0*I, -6.0 + 7.0*I]])"
      ]
     },
     "metadata": {},
     "output_type": "display_data"
    },
    {
     "data": {
      "text/latex": [
       "$\\displaystyle \\left[\\begin{matrix}12.0 - 5.0 i & 7.0 + 22.0 i & -32.0 - 9.0 i\\end{matrix}\\right]$"
      ],
      "text/plain": [
       "Matrix([[12.0 - 5.0*I, 7.0 + 22.0*I, -32.0 - 9.0*I]])"
      ]
     },
     "metadata": {},
     "output_type": "display_data"
    },
    {
     "data": {
      "text/plain": [
       "(-16.0, 3.0)"
      ]
     },
     "execution_count": 9,
     "metadata": {},
     "output_type": "execute_result"
    }
   ],
   "source": [
    "x= Matrix([x1,x2,x3]).T\n",
    "y= Matrix([y1,y2,y3]).T\n",
    "display(x,y)\n",
    "z=sym.simplify(x.T*y)\n",
    "#sym.simplify(x*z)\n",
    "### FIXME think about the proper way to do this with a Matrix\n",
    "lambda_*x\n",
    "\n",
    "#x1 and y3 are multiple so linearly dependent, right?...\n",
    "-32/2, -9/-3  \n",
    "# also three unknowns and two givens so no good\n",
    "#FIXME"
   ]
  },
  {
   "cell_type": "code",
   "execution_count": 10,
   "metadata": {},
   "outputs": [
    {
     "data": {
      "text/latex": [
       "$\\displaystyle \\left[\\begin{matrix}2.0 & 5.0 & -6.0\\\\-3.0 & 4.0 & 7.0\\end{matrix}\\right]$"
      ],
      "text/plain": [
       "Matrix([\n",
       "[ 2.0, 5.0, -6.0],\n",
       "[-3.0, 4.0,  7.0]])"
      ]
     },
     "execution_count": 10,
     "metadata": {},
     "output_type": "execute_result"
    }
   ],
   "source": [
    "X=np.array([ complex(xi) for xi in x] )\n",
    "X.real, X.imag\n",
    "Matrix([X.real,X.imag])"
   ]
  },
  {
   "cell_type": "markdown",
   "metadata": {},
   "source": [
    "### 12. Show that $(x + y) + z = x + (y + z)$ for all $x, y, z \\in \\mathbb{F}^n$."
   ]
  },
  {
   "cell_type": "markdown",
   "metadata": {},
   "source": [
    "5 again but now with n dimensions\n",
    "Suppose $x=(x_1,...,x_n)$, $y=(y_1,...,y_n)$, and $z=(z_1,...,z_n)$.  Then\n",
    "\n",
    "$(x+y)+z=((x_1,...,x_n)+(y_1,...,y_n))+(z_1,...,z_n)$\n",
    "\n",
    "...collect terms ...\n",
    "\n",
    "... "
   ]
  },
  {
   "cell_type": "markdown",
   "metadata": {},
   "source": [
    "### 13. Show that $(ab)x=a(bx)$ for all $x\\in\\mathbb{F}^n$ and $a,b\\in\\mathbb{F}$."
   ]
  },
  {
   "cell_type": "markdown",
   "metadata": {},
   "source": [
    "Let $x=(x_1,...,x_n)$, then\n",
    "\n",
    "$(ab)x = ab(x_1,...,x_n)=((ab)x_1,...,(ab)x_n)$\n",
    "\n",
    "$=(a(bx_1),...,a(bx_n))=a(bx_1,...,bx_n)$\n",
    "\n",
    "$=a(bx)$."
   ]
  },
  {
   "cell_type": "markdown",
   "metadata": {},
   "source": [
    "### 14. Show that $1x = x$ for all $x\\in \\mathbb{F}^n$."
   ]
  },
  {
   "cell_type": "markdown",
   "metadata": {},
   "source": [
    "Suppose $x=(x_1,...,x_n)$.  Then\n",
    "\n",
    "$1x=1(x_1,...,x_n)=(1x_1,...,1x_n)=(x_1,...,x_n)=x$"
   ]
  },
  {
   "cell_type": "markdown",
   "metadata": {},
   "source": [
    "### 15. Show that $\\lambda(x+y)=\\lambda x+\\lambda y$ for all $\\lambda\\in\\mathbb{F}$ and $x,y\\in\\mathbb{F}^n$."
   ]
  },
  {
   "cell_type": "markdown",
   "metadata": {},
   "source": [
    "Suppose $x=(x_1,...,x_n)$ and $y=(y_1,...,y_n)$. Then\n",
    "\n",
    "... "
   ]
  },
  {
   "cell_type": "markdown",
   "metadata": {},
   "source": [
    "## Exercises 1.B\n",
    "\n",
    "see also: \n",
    "https://linearalgebras.com/1b.html"
   ]
  },
  {
   "cell_type": "markdown",
   "metadata": {},
   "source": [
    "### 1. Prove that $-(-v)=v$ for every $v\\in V$."
   ]
  },
  {
   "cell_type": "markdown",
   "metadata": {},
   "source": [
    "Simular to the proof that $(-1)v = -V$ for every $v\\in V$...\n",
    "\n",
    "$(-v)+(-(-v))=0$ and $v+(-v)=0$,\n",
    "\n",
    "which implies $v$ and $-(-v)$ are additive inverse of $-v$, thus it follows that -(-v)=v."
   ]
  },
  {
   "cell_type": "markdown",
   "metadata": {},
   "source": [
    "### 2. Suppose $a \\in \\mathbb{F}$, $v \\in V$, and $av=0$.  Prove that $a=0$ or $v=0$. "
   ]
  },
  {
   "cell_type": "markdown",
   "metadata": {},
   "source": [
    "If $a=0$ we have $0v=(0+0)v=0v+0v$.  Adding the additive inverse of 0v to both side of the equation gives $0=0v$. (see also Axler 1.29)\n",
    "\n",
    "If $a\\neq 0$, then $a$ has and inverse $a^{-1}$ such that $a^{-1}a=1$.  Hence\n",
    "\n",
    "$v=1v= (a^{-1}a)v = a^{-1}(av) = a^{-1}0=0$"
   ]
  },
  {
   "cell_type": "markdown",
   "metadata": {},
   "source": [
    "### 3. Suppose $v,w \\in V$.  Explain why there exists a unique $x \\in V$ such that $v+3x=w$."
   ]
  },
  {
   "cell_type": "markdown",
   "metadata": {},
   "source": [
    "Solving for $x$, $x=\\frac{(w-v)}{3}$, replacing $x$ we now have,\n",
    "\n",
    "$v+3\\frac{(w-v)}{3}=w$ \n",
    "\n",
    "$v+(w-v)=w$, which shows existence.\n",
    "\n",
    "Suppose another solution exists, $x'$ such that $v+3x'=w$.  Then $v+3x'=w$ implies $3x'=(w-v)$.\n",
    "\n",
    "Similarly, $3x=w-v$.  Hence\n",
    "\n",
    "$3(x-x')=3x-3x'=(w-v)-w-v)=0$.  Since, $x-x'=0$ must be true, $x=x'$, thus $x$ is uniqueness."
   ]
  },
  {
   "cell_type": "markdown",
   "metadata": {},
   "source": [
    "### 4. The empty set is not a vector space.  The empty set fails to statisfy only one the requirements listed in 1.19.   Which one?"
   ]
  },
  {
   "cell_type": "markdown",
   "metadata": {},
   "source": [
    "Recall for set $V$ to be a vector space we must have; communtativity, associativity, additive identity, additive inverse, multiplicative identity, and distributivity.\n",
    "\n",
    "For additive identity, $\\exists 0v \\in V$ such that $v+0=v$, $\\forall v\\in V$.  $V$ being empty would be a contradiction, thus $V$ cannot be empty."
   ]
  },
  {
   "cell_type": "markdown",
   "metadata": {},
   "source": [
    "### 5. Show that the in the defination of a vector space (1.19), the additive inverse condition can be replaced with the condition that $0v=0$ for all $v \\in V$.\n",
    "\n",
    "Here the $0$ on the left side is the number $0$, and the $0$ on the right is the additive identity of $V$. (The phase \"a condition can be replaces\" in a defination means that the collection of objects satisfying the definition is unchanged is the original condition is replaces with the new condition.)"
   ]
  },
  {
   "cell_type": "markdown",
   "metadata": {},
   "source": [
    "Recall addtive inverse,\n",
    "\n",
    "for every $v\\in V$, there exists $w\\in V$ such that $v+w=0$.  Which imples $w=(-1)v$.\n",
    "\n",
    "Assuming $0v=0$ for all $v \\in V$, we have\n",
    "\n",
    "$v+((-1)v)=1v+((-1)v)=(1+(-1))v=0v=0$,\n",
    "\n",
    "thus the additive inverse exists."
   ]
  },
  {
   "cell_type": "markdown",
   "metadata": {},
   "source": [
    "### 6. Let $\\infty$ and $-\\infty$ denote two distinct objects, neither of which is in $\\mathbb{R}$.  Define an addition and scalar multiplicaiton on $\\mathbb{R}\\cup{\\infty}\\cup{(-\\infty)}$ as you could guess from the notation.  \n",
    "\n",
    "Specifically, the sum and production of two real numbers is as usual, and for $t\\in\\mathbb{R}$ define\n",
    "\n",
    "$t\\infty=\\begin{cases}\n",
    "-\\infty & \\text{if } t\\lt0,\\\\\n",
    "0 & \\text{if }t=0, \\\\\n",
    "\\infty & \\text{if }t\\gt0,\\\\\n",
    "\\end{cases}$,\n",
    "$t(-\\infty)=\\begin{cases}\n",
    "-\\infty & \\text{if } t\\lt0,\\\\\n",
    "0 & \\text{if }t=0, \\\\\n",
    "\\infty & \\text{if }t\\gt0,\\\\\n",
    "\\end{cases}$,\n",
    "\n",
    "$t+\\infty=\\infty+t=\\infty$,\n",
    "$t+(-\\infty)=(-\\infty)+t=(-\\infty)$,\n",
    "\n",
    "$\\infty+\\infty=\\infty$,\n",
    "$(-\\infty)+(-\\infty)=(-\\infty)$,\n",
    "$\\infty+(-\\infty)=0$.\n",
    "\n",
    "### Is $\\mathbb{R}\\cup{\\infty}\\cup{-\\infty}$ a vector space over $\\mathbb{R}$? Explain."
   ]
  },
  {
   "cell_type": "markdown",
   "metadata": {},
   "source": [
    "Show contradiction in distributive property...\n",
    "\n",
    "Recall distributive property,\n",
    "\n",
    "$a(u+v)=au+av$ and $(a+b)v=av + bv$ for all $a,b\\in\\mathbb{F}$ and all $u,v\\in V$.\n",
    "\n",
    "Consider $a=t$, $u=\\infty$, and $v=(-\\infty)$, we have \n",
    "\n",
    "$t(\\infty+(-\\infty))= t\\infty+(-\\infty)=t0=0$, which is a contradition since the zero vector must be unique."
   ]
  },
  {
   "cell_type": "markdown",
   "metadata": {},
   "source": [
    "## Exercises 1.C\n",
    "\n",
    "see also: \n",
    "https://linearalgebras.com/1c.html"
   ]
  },
  {
   "cell_type": "markdown",
   "metadata": {},
   "source": [
    "### 1. For each of the following subsets of $\\mathbb{F}^3$, determine wheather it is a subspace of $\\mathbb{F}^3$:"
   ]
  },
  {
   "cell_type": "markdown",
   "metadata": {},
   "source": [
    "### (a) $\\{(x_1,x_2,x_3)\\in\\mathbb{F}^3: x_1 + 2x_2 + 3x_3=0\\};$"
   ]
  },
  {
   "cell_type": "markdown",
   "metadata": {},
   "source": [
    "Recall to show a subset is a vector space we next to show 1) Additive identity, 2) Closed under addition, and 3) Closed under scalar multiplication.\n",
    "\n",
    "1) Additive identity: $(0,0,0): 0+2(0)+3(0)=0$ is True\n",
    "\n",
    "2) Closed under addition: Suppose $a,b\\in \\{x\\in\\mathbb{F}^3: x_1+2x_2+3x_3=0\\}$, then\n",
    "\n",
    "$a_1+2a_2+3a_3=0$ and $b_1+2b_2+3b_3=0$.\n",
    "\n",
    "Hence\n",
    "\n",
    "$(a_1+b_1)+2(a_2+b_2)+2(a_3+b_3)=(a_1+2a_2+3a_3)+(b_1+2b_2+3b_3)=0$.\n",
    "\n",
    "Thus,\n",
    "\n",
    "$(a_1+b_1,a_2+b_2,a_3+b_3)=(a_1,a_2,a_3)+(b_1,b_2,b_2)$ is also in \n",
    "$\\{(x_1,x_2,x_3)\\in\\mathbb{f}^3: x_1 + 2x_2 + 3x_3=0\\};$\n",
    "\n",
    "3) Closed under scalar multiplication: Suppose, \n",
    "$a:(a_1,a_2,a_3)\\in\\{(x_1,x_2,x_3)\\in\\mathbb{f}^3: x_1 + 2x_2 + 3x_3=0\\}$, then $a_1+2a_2+3a_3=0$.\n",
    "\n",
    "For any $\\lambda \\in \\mathbb{F}$,\n",
    "\n",
    "$\\lambda(a_1)+\\lambda(2a_2)+\\lambda(3a_3)=\\lambda(a_1+2a_2+3a_3)=0$\n",
    "\n",
    "Thus,\n",
    "\n",
    "$\\lambda a=\\lambda(a_1,a_2,a_3) = (\\lambda(a_1)+\\lambda(a_2)+\\lambda(a_3))\\in \\{(x_1,x_2,x_3)\\in\\mathbb{f}^3: x_1 + 2x_2 + 3x_3=0\\}$\n"
   ]
  },
  {
   "cell_type": "markdown",
   "metadata": {},
   "source": [
    "### (b) $\\{(x_1,x_2,x_3)\\in\\mathbb{F}^3: x_1 + 2x_2 + 3x_3=4\\};$"
   ]
  },
  {
   "cell_type": "markdown",
   "metadata": {},
   "source": [
    "1) Additive identity: $(0,0,0): 0+2(0)+3(0)=4$ is False, thus\n",
    "not a subspace."
   ]
  },
  {
   "cell_type": "markdown",
   "metadata": {},
   "source": [
    "### (c) $\\{(x_1,x_2,x_3)\\in\\mathbb{F}^3: x_1 x_2 x_3=0\\};$"
   ]
  },
  {
   "cell_type": "markdown",
   "metadata": {},
   "source": [
    "2) Closed under addition: Suppose $(1,1,1),(1,0,0)\\in \\{(x_1,x_2,x_3)\\in\\mathbb{F}^3: x_1 x_2 x_3=0\\}$,\n",
    "$(1,1,1)+(1,0,0)=(2,1,1)$, $(2\\cdot1\\cdot 1)\\neq0$ is False, thus is not in subspace."
   ]
  },
  {
   "cell_type": "markdown",
   "metadata": {},
   "source": [
    "### (d) $\\{(x_1,x_2,x_3)\\in\\mathbb{F}^3: x_1=5x_3\\};$"
   ]
  },
  {
   "cell_type": "markdown",
   "metadata": {},
   "source": [
    "1) Additive identity: $(0,0,0): 0=5(0)$ is True\n",
    "\n",
    "2) Closed under addition: Suppose $(5,0,1),(10,0,2)\\in \\{(x_1,x_2,x_3)\\in\\mathbb{F}^3: x_1=5x_3\\}$,\n",
    "$(5,0,1)+(10,0,2)=(15,0,3)$ is True\n",
    "\n",
    "3) Closed under scalar multiplication: Suppose, \n",
    "$a:(a_1,a_2,a_3)\\in\\{(x_1,x_2,x_3)\\in\\mathbb{f}^3: x_1=5x_3\\}$, then $a_1=5a_3$.\n",
    "\n",
    "For any $\\lambda \\in \\mathbb{F}$,\n",
    "\n",
    "$\\lambda(a_1)=\\lambda(5a_3)$, which obiously True, thus this is a valid subspace.\n",
    "\n",
    "$\\heartsuit$"
   ]
  },
  {
   "cell_type": "markdown",
   "metadata": {},
   "source": [
    "### 2. Verfiy all the assertions in Example 1.35 (subspaces)."
   ]
  },
  {
   "cell_type": "markdown",
   "metadata": {},
   "source": [
    "### (a) If $b\\in F$, then $\\{(x_1,x_2,x_3,x_4) \\in \\mathbb{F}^4: x_3=5x_4+b\\}$ is a subspace of $\\mathbb{F}^4$ if and only if $b=0$.\n"
   ]
  },
  {
   "cell_type": "markdown",
   "metadata": {},
   "source": [
    "If this is a subspace then $(0,0,0,0)\\in \\mathbb{F}^4$, then $0=5 \\cdot 0 + b$, thus $b=0$. See also 1.d above."
   ]
  },
  {
   "cell_type": "markdown",
   "metadata": {},
   "source": [
    "### (b) The set of continuous real-valued function on the internal $[0,1]$ is a subspace of $\\mathbb{R}^{[0,1]}$."
   ]
  },
  {
   "cell_type": "markdown",
   "metadata": {},
   "source": [
    "* $f(0)$ is continuous,\n",
    "* $f(U)+f(V)$, where $U,V \\in \\mathbb{R}^{[0,1]}$ is continous, and\n",
    "* $\\lambda(f(V))$, where $V\\in\\mathbb{R}^{[0,1]}$ is continous.  Thus is a valid vector space."
   ]
  },
  {
   "cell_type": "markdown",
   "metadata": {},
   "source": [
    "### (c) The set of differiable real-valued function on $\\mathbb{R}$ is a subspace of  $\\mathbb{R^R}$."
   ]
  },
  {
   "cell_type": "markdown",
   "metadata": {},
   "source": [
    "* $f'(0)$ is differiable,\n",
    "* $f'(U)+f'(V)$, where $U,V \\in \\mathbb{R}^{[0,1]}$ is differiable, and (FIXME!!!, see 3. below)\n",
    "* $\\lambda(f'(V))$, where $V\\in\\mathbb{R}^{[0,1]}$ is differiable.  Thus is a valid vector space."
   ]
  },
  {
   "cell_type": "markdown",
   "metadata": {},
   "source": [
    "### (d) The set of differiable real-valued function $f$ on then interval $(0,3)$ such that $f'(2)=b$ is a subspace of $\\mathbb{R}^{(0,3)}$ if and only if $b=0$."
   ]
  },
  {
   "cell_type": "markdown",
   "metadata": {},
   "source": [
    "For $f'(2)=b$ to be true, the derivatie of that function at 2 must be 0, thus $b=0$.  See also, 2.c above."
   ]
  },
  {
   "cell_type": "markdown",
   "metadata": {},
   "source": [
    "### (e) The set of all sequences of complex numbers with limit $0$ is a subspace of $\\mathbb{C}^\\infty$."
   ]
  },
  {
   "cell_type": "markdown",
   "metadata": {},
   "source": [
    "* $\\vec{0} \\in \\mathbb{C}^\\infty$ is obvious.\n",
    "* Suppose $\\lim\\limits_{n\\to \\infty}a_n=0$ and $\\lim\\limits_{n\\to \\infty}b_n=0$, where $a,b\\in \\mathbb{C}^\\infty$, we see, $\\lim\\limits_{n\\to \\infty}(a_n+b_n) = \\lim\\limits_{n\\to \\infty}a_n$ + $\\lim\\limits_{n\\to \\infty}b_n= 0+0 = 0$.  Thus $(a_1+b_1,...,a_n+b_n)=(a_1,...,a_n)+(b_1,...,b_n)\\in \\mathbb{C}^\\infty$.\n",
    "* Suppose $\\lim\\limits_{n\\to \\infty}a_n=0$, where $a\\in \\mathbb{C}^infty$, we can now see, $\\lim\\limits_{n\\to \\infty}(\\lambda a_n)= \\lambda\\lim\\limits_{n\\to \\infty}a_n=0$.  Thus, $\\lambda(a_1,...,a_n)=(\\lambda a_1,...,\\lambda a_n) \\in \\mathbb{C}^\\infty$."
   ]
  },
  {
   "cell_type": "markdown",
   "metadata": {},
   "source": [
    "### (x) The subspaces of $\\mathbb{R}^2$ are precisely $\\{0\\}$, $\\mathbb{R}^2$, and all line in $\\mathbb{R}^2$ through the origin.\n",
    "Requires some theory to prove."
   ]
  },
  {
   "cell_type": "markdown",
   "metadata": {},
   "source": [
    "### (xx) The subspaces of $\\mathbb{R}^3$ are precisely $\\{0\\}$, $\\mathbb{R}^3$, all lines in $\\mathbb{R}^3$ through the origin and all planes in $\\mathbb{R}^3$ through the origin.\n",
    "Requires some theory to prove."
   ]
  },
  {
   "cell_type": "markdown",
   "metadata": {},
   "source": [
    "### 3. Show that the set of differentiable real-value functions $f$ on the interval $(-4,4)$ such that $f'(-1)=3f(2)$ is a subspace of $\\mathbb{R}^{(-4,4)}$."
   ]
  },
  {
   "cell_type": "markdown",
   "metadata": {},
   "source": [
    "* The constant funciton $f\\equiv0 \\in \\mathbb{R}^{(-4,4)}$, is obvious.\n",
    "* If $f,g\\in \\mathbb{R}^{(-4,4)}$, the $f$ and $g$ are differentiable real-value functions.  So is $f+g$, also $(f+g)'(-1)=f'(-1)+g'(-1)=3f(2)+3f(2)=3(f(2)+g(2))=3(f+g)(2)$.\n",
    "* If $f\\in \\mathbb{R}^{(-4,4)}$, for any $\\lambda \\in \\mathbb{R}$, then $f$ is a differentiable real-valued function, as is $\\lambda f$. Thus, $(\\lambda f)'(-1)=\\lambda f'(-1)=\\lambda(3f)(2)=3(\\lambda f)(2)$."
   ]
  },
  {
   "cell_type": "markdown",
   "metadata": {},
   "source": [
    "### 4. Suppose $b\\in\\mathbb{R}$. Show that the set of continuous real-valued functions $f$ on the interval $[0,1]$ such that $\\int_0^1 f=b$ is a subspace of  $\\mathbb{R}^{(0,1)}$ if and only if $b=0$."
   ]
  },
  {
   "cell_type": "markdown",
   "metadata": {},
   "source": [
    "obvious from linearity of integrals, but not a rigerous proof...\n",
    "FIXME"
   ]
  },
  {
   "cell_type": "markdown",
   "metadata": {},
   "source": [
    "### 5. Is $\\mathbb{R}^2$ a subspace of the complex vector space $\\mathbb{C}^2$?"
   ]
  },
  {
   "cell_type": "markdown",
   "metadata": {},
   "source": [
    "Consider if $\\mathbb{R}^2$ is a subspace of $\\mathbb{C}^2$, then $i(1,1)=(i,i)\\in \\mathbb{R}^2$. This is False, thus $\\mathbb{R}^2$ is not a subspace of $\\mathbb{C}^2$"
   ]
  },
  {
   "cell_type": "markdown",
   "metadata": {},
   "source": [
    "### 9. A function  $f:\\mathbb{R}\\to\\mathbb{R}$  is called $\\textit{periodic}$ if there exists a postive number $p$ such that $f(x)=f(x+p)$ for all $x\\in R$.  \n",
    "### Is the set of periodic funcitons from $\\mathbb{R}\\to\\mathbb{R}$ a subspace of $\\mathbb{R^R}$?  Explain."
   ]
  },
  {
   "cell_type": "markdown",
   "metadata": {},
   "source": [
    "Not a subspace, as functions with different periods must a have unique $p$ to make the statement $f(x)=f(x+p)$ for all $x\\in R$ True.  Thus a contradiction in additive identity property, $f(x)+g(x)\\neq f(x+p) + g(x+p)$.\n",
    "\n",
    "Consider $f(x)=cos(x)$, for $f(x)=f(x+p)$ for all $x\\in R$ to be True, $p=2\\pi$.  Now consider \n",
    "$g(y)=cos(\\frac{3y}{2})$ for $g(y)=g(y+q)$ for all $y\\in R$ to be True, $q=\\frac{4y}{3}$.  $p\\neq q$ thus contradiction."
   ]
  },
  {
   "cell_type": "markdown",
   "metadata": {},
   "source": [
    "### 24. A function $f:\\mathbb{R}\\to\\mathbb{R}$ is called $\\textit{even}$ if $f(-x)=f(x)$ for all $x\\in\\mathbb{R}$.  \n",
    "\n",
    "### A function $f:\\mathbb{R}\\to\\mathbb{R}$ is called $\\textit{odd}$ if $f(-x)=-f(x)$ for all $x\\in\\mathbb{R}$.\n",
    "\n",
    "### Let $U_e$ denote the set of real-valued even functions on $\\mathbb{R}$ and let $U_o$ denote the set of real-valued odd functions on $\\mathbb{R}$.  \n",
    "\n",
    "### Show that $\\mathbb{R^R}=U_e\\oplus U_o$."
   ]
  },
  {
   "cell_type": "markdown",
   "metadata": {},
   "source": [
    "Let $f_e=\\frac{f(x)+f(-x)}{2}\\in U_e$ and $f_o=\\frac{f(x)-f(-x)}{2}\\in U_o$.  Suppose $f(x)=f_e(x)+f_o(x)$, where $f(x)\\in\\mathbb{R}^R$. This is the direction sum, thus $\\mathbb{R^R}=U_e\\oplus U_o$."
   ]
  }
 ],
 "metadata": {
  "kernelspec": {
   "display_name": "Python 3",
   "language": "python",
   "name": "python3"
  },
  "language_info": {
   "codemirror_mode": {
    "name": "ipython",
    "version": 3
   },
   "file_extension": ".py",
   "mimetype": "text/x-python",
   "name": "python",
   "nbconvert_exporter": "python",
   "pygments_lexer": "ipython3",
   "version": "3.8.10"
  }
 },
 "nbformat": 4,
 "nbformat_minor": 4
}
