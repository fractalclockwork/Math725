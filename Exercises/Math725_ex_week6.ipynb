{
 "cells": [
  {
   "cell_type": "markdown",
   "metadata": {},
   "source": [
    "# Math 725\n",
    "\n",
    "### Brent A. Thorne <brentathorne@gmail.com>\n",
    "\n",
    "In class exercises, Week 6\n",
    "\n",
    "##### Note use of $LaTeX$ macros breaks github rendering. \n",
    "\n",
    "$\\require{AMScd}$\n",
    "$\\require{cancel}$\n",
    "$\\newcommand{\\null}{\\text{null}}$\n",
    "$\\newcommand{\\0}{\\{\\Bbb{0}\\}}$\n",
    "$\\newcommand{\\C}{\\Bbb{C}}$\n",
    "$\\newcommand{\\range}{\\text{range}}$\n",
    "$\\newcommand{\\T}{\\mathbf{T}}$\n",
    "$\\newcommand{\\U}{\\mathbf{U}}$\n",
    "$\\newcommand{\\L}{\\mathcal{L}}$\n",
    "$\\newcommand{\\W}{\\mathbf{W}}$\n",
    "$\\newcommand{\\R}{\\mathbb{R}}$\n",
    "$\\newcommand{\\F}{\\mathbb{F}}$\n",
    "$\\newcommand{\\v}[2]{#1_1...#1_#2}$"
   ]
  },
  {
   "cell_type": "code",
   "execution_count": 2,
   "metadata": {},
   "outputs": [],
   "source": [
    "# import libraries\n",
    "import numpy as np\n",
    "import sympy as sym\n",
    "from sympy.matrices import Matrix\n",
    "import matplotlib.pyplot as plt\n",
    "from IPython.display import display, Math, Latex"
   ]
  },
  {
   "cell_type": "markdown",
   "metadata": {},
   "source": [
    "## Theorem:\n",
    "\n",
    "$\\C^n \\stackrel{\\T}{\\mapsto} \\C^n$\n",
    "\n",
    "$M(\\T v)=M(T)M(v)$  \n",
    "\n",
    "$M(v)=\\begin{pmatrix}a_1 \\\\ \\vdots \\\\ a_n\\end{pmatrix} \\leftarrow image$\n",
    "\n",
    "$\\underbrace{\\begin{pmatrix}\\frac{1}{2} & 0 & 0 & 0 & 0 & \\frac{1}{2}\\\\\\frac{1}{2} & \\frac{1}{2} & 0 & 0 & 0 & 0\\\\0 & \\frac{1}{2} & \\frac{1}{2} & 0 & 0 & 0\\\\0 & 0 & \\frac{1}{2} & \\frac{1}{2} & 0 & 0\\\\0 & 0 & 0 & \\frac{1}{2} & \\frac{1}{2} & 0\\\\0 & 0 & 0 & 0 & \\frac{1}{2} & \\frac{1}{2}\\end{pmatrix}}_{M(\\T)}\n",
    "\\underbrace{\\begin{pmatrix}a_1 \\\\ a_2 \\\\ a_3 \\\\ a_4 \\\\ a_5 \\\\ a_6 \\\\ a_7\\end{pmatrix}}_{M(v)}$"
   ]
  },
  {
   "cell_type": "markdown",
   "metadata": {},
   "source": [
    "### Question\n",
    "Does $T(v_i)$ form a basis for $\\T:\\C^2\\mapsto\\C^2$\n",
    "\n",
    "#### Consider non-example:\n",
    "$T(a,b)=(2a,b)$\n",
    "\n",
    "v_1=(1,0), v_2=(2,0)\n",
    "\n",
    "T(v_1)=2(1,0)=(2,0)\n",
    "\n",
    "T(v_2)=2(2,0)=(4,0)"
   ]
  },
  {
   "cell_type": "markdown",
   "metadata": {},
   "source": [
    "#### Actual example:\n",
    "Consider if $\\v{v}{n}\\neq0$, $T:V\\mapsto V$, dim$(V)=n$\n",
    "\n",
    "$\\lambda_i\\in\\C, T(v_i)=\\lambda_i v_i$, and $\\lambda_i\\neq\\lambda_j if i\\neq j$\n",
    "\n",
    "##### Proof:\n",
    "$\\circledast \\alpha_1 v_1+...+\\alpha_{k+1}v_{k+1} = 0$ \n",
    "\n",
    "Assume the $v_1,...,v_k$ if independent, where $(k<n)$.\n",
    "\n",
    "$0=\\T(0)=\\T(\\alpha_1 v_1+...+\\alpha_{k+1}v_{k+1})$\n",
    "\n",
    "$=\\alpha_1 \\T v_1+...+\\alpha_{k+1} \\T v_{k+1} $\n",
    "\n",
    "$=\\lambda_1 \\alpha_1 v_1+...+\\lambda_{k+1} \\alpha_{k+1}v_{k+1} \\circledast\\circledast$\n",
    "\n",
    "Substracting $\\lambda_{k+1}(\\circledast)$ from $(\\circledast\\circledast)$ we have,\n",
    "\n",
    "$\\circledast\\circledast\\circledast(\\lambda_1-\\lambda_{k+1})\\alpha_{1}v_{1}+...+(\\lambda_{k}-\\lambda_{k+1}) \\alpha_{k}v_{k} = 0$.\n",
    "\n",
    "Since $\\lambda_i\\neq\\lambda_j$ for $i\\neq j$, and $v_1,...,v_k$ are independent and by inductive application of $\\circledast\\circledast\\circledast$ we obtain that\n",
    "\n",
    "$\\alpha_1=...=\\alpha_k=0$, also by $\\circledast$ $\\alpha_{k+1}=0$ and $v_{k+1}\\neq 0$.\n",
    "\n",
    "Thus $v_1,...,v_{k+1}$ is independent."
   ]
  },
  {
   "cell_type": "markdown",
   "metadata": {},
   "source": [
    "### Ex.  $\\F^n \\stackrel{T}{\\mapsto}\\F^m$\n",
    "\n",
    "$\\T \\begin{pmatrix} x_1 \\\\ \\vdots \\\\ x_n   \\end{pmatrix} = \n",
    "\\begin{pmatrix} \n",
    "A_{1,1}x_1 + ... + A_{1,n}x_n\\\\\n",
    "A_{2,1}x_1 + ... + A_{2,n}x_n\\\\\n",
    "... \\\\\n",
    "A_{m,1}x_1 + ... + A_{m,n}x_n\\\\\n",
    "\\end{pmatrix}\n",
    "$\n",
    "\n",
    "Every linear map from $\\F^n$ to $\\F^m$ is of this form."
   ]
  },
  {
   "cell_type": "code",
   "execution_count": null,
   "metadata": {},
   "outputs": [],
   "source": []
  }
 ],
 "metadata": {
  "celltoolbar": "Raw Cell Format",
  "kernelspec": {
   "display_name": "Python 3",
   "language": "python",
   "name": "python3"
  },
  "language_info": {
   "codemirror_mode": {
    "name": "ipython",
    "version": 3
   },
   "file_extension": ".py",
   "mimetype": "text/x-python",
   "name": "python",
   "nbconvert_exporter": "python",
   "pygments_lexer": "ipython3",
   "version": "3.8.10"
  }
 },
 "nbformat": 4,
 "nbformat_minor": 4
}
