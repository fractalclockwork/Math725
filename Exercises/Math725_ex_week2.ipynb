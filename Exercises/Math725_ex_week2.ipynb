{
 "cells": [
  {
   "cell_type": "markdown",
   "metadata": {},
   "source": [
    "# Math 725\n",
    "\n",
    "### Brent A. Thorne <brentathorne@gmail.com>\n",
    "\n",
    "In class exercises, Week 2"
   ]
  },
  {
   "cell_type": "code",
   "execution_count": 1,
   "metadata": {},
   "outputs": [],
   "source": [
    "# import libraries\n",
    "import numpy as np\n",
    "import sympy as sym\n",
    "from sympy.matrices import Matrix\n",
    "import matplotlib.pyplot as plt"
   ]
  },
  {
   "cell_type": "markdown",
   "metadata": {},
   "source": [
    "### Ex 2.1 $V=\\{a+b\\sqrt{5}; a,b \\in \\mathbb{Q}\\}$ is a vector space over $\\Bbb{Q}$.\n",
    "\n",
    "$0+0\\sqrt{5}= 0\\in V$\n",
    "\n",
    "$\\underbrace{a+b\\sqrt{5}}_{\\in V}+\\underbrace{c+d\\sqrt{5}}_{\\in V}= \\underbrace{(a+c)}_{\\in Q}+\\underbrace{(b+d)}_{\\in Q}\\sqrt{5}\\in V$ closed under addition\n",
    "\n",
    "$\\underbrace{\\lambda}_{\\in Q}(a+b\\sqrt{5})=\\underbrace{\\lambda}_{\\in Q}a+\\lambda\\underbrace{b}_{\\in Q}\\sqrt{5}\\in V$ closed under multiplication"
   ]
  },
  {
   "cell_type": "markdown",
   "metadata": {},
   "source": [
    "### Ex 2.2 $\\underbrace{V}_{\\text{over Q}}=\\{\\underbrace{_0+a_1\\zeta+a_2\\zeta^2+...+a_{p-1}\\zeta^{p-1}}_{a_i\\in \\Bbb{Q}} | \\zeta=cos\\frac{2\\pi}{p}+i sin\\frac{2\\pi}{p}\\}$"
   ]
  },
  {
   "cell_type": "markdown",
   "metadata": {},
   "source": [
    "### Ex 2.3 $\\Bbb{R}\\to \\Bbb{R}$\n",
    "$\\underbrace{f}_{\\Bbb{C}^1}$ continuously differentiable $\\Bbb{R^R}$\n",
    "\n",
    "$f+g\\in\\Bbb{C}^1$\n",
    "\n",
    "$\\lambda f\\in\\Bbb{C}^1$"
   ]
  },
  {
   "cell_type": "markdown",
   "metadata": {},
   "source": [
    "### Ex 2.3 The collection of infinate sequences of real or complex numbers forms a vector space over $\\Bbb{F}$."
   ]
  },
  {
   "cell_type": "markdown",
   "metadata": {},
   "source": [
    "### Things to Consider:\n",
    "Scaling Polytopes\n",
    "```\n",
    "In elementary geometry, a polytope is a geometric object with flat sides. It is a generalization in any number of dimensions of the three-dimensional polyhedron. Polytopes may exist in any general number of dimensions n as an n-dimensional polytope or n-polytope. Wikipedia\n",
    "```"
   ]
  }
 ],
 "metadata": {
  "kernelspec": {
   "display_name": "Python 3",
   "language": "python",
   "name": "python3"
  },
  "language_info": {
   "codemirror_mode": {
    "name": "ipython",
    "version": 3
   },
   "file_extension": ".py",
   "mimetype": "text/x-python",
   "name": "python",
   "nbconvert_exporter": "python",
   "pygments_lexer": "ipython3",
   "version": "3.8.10"
  }
 },
 "nbformat": 4,
 "nbformat_minor": 4
}
