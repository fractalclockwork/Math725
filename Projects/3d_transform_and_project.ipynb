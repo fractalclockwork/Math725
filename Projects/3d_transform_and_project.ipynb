{
 "cells": [
  {
   "cell_type": "markdown",
   "metadata": {},
   "source": [
    "# Math 725 Advanced Linear Algebra\n",
    "## 3D Cube projected into 2D\n",
    "\n",
    "\n",
    "### Brent A. Thorne\n",
    "\n",
    "brentathorne@gmail.com\n",
    "\n",
    "See file: Data/cube.mp4\n",
    "\n",
    "<video src=\"Data/cube.mp4\"></video>"
   ]
  },
  {
   "cell_type": "code",
   "execution_count": 1,
   "metadata": {},
   "outputs": [],
   "source": [
    "# import libraries\n",
    "import numpy as np  \n",
    "import sympy as sym \n",
    "from mpl_toolkits.mplot3d import Axes3D \n",
    "import matplotlib.pyplot as plt \n",
    "from IPython.display import display, Math, Latex\n",
    "import matplotlib.animation as manimation"
   ]
  },
  {
   "cell_type": "code",
   "execution_count": 2,
   "metadata": {},
   "outputs": [
    {
     "data": {
      "image/png": "[encoded data removed]",
      "text/plain": [
       "<Figure size 432x288 with 1 Axes>"
      ]
     },
     "metadata": {
      "needs_background": "light"
     },
     "output_type": "display_data"
    }
   ],
   "source": [
    "# Define the meta data for the movie\n",
    "FFMpegWriter = manimation.writers['ffmpeg']\n",
    "metadata = dict(title='Rotating Cube', artist='Brent A. Thorne',\n",
    "                comment='a cube with corners draw with red dots and edges draw with blue lines')\n",
    "writer = FFMpegWriter(fps=15, metadata=metadata)\n",
    "\n",
    "# Initialize the movie\n",
    "fig = plt.figure()\n",
    "\n",
    "# think of a better way to do this...\n",
    "# for now we'll just cook up the matrix to show the form\n",
    "D = np.matrix(([[1,-1,-1, 1,1,  1,-1,-1, 1,  1, 1,-1,-1, -1,-1, 1, 1],\\\n",
    "                [1, 1,-1,-1,1,  1, 1,-1,-1,  1, 1, 1, 1, -1,-1,-1,-1],\\\n",
    "                [1, 1, 1, 1,1, -1,-1,-1,-1, -1, 1, 1,-1, -1, 1, 1,-1],\\\n",
    "                [1, 1, 1, 1,1,  1, 1, 1, 1,  1, 1, 1, 1,  1, 1, 1, 1]]))\n",
    "\n",
    "def rot(thetaX,thetaY, thetaZ): \n",
    "    #rot X\n",
    "    Tx = np.matrix([[1,0,0,0],\\\n",
    "            [0,np.cos(thetaX),-np.sin(thetaX),0],\\\n",
    "            [0,np.sin(thetaX),np.cos(thetaX),0],\\\n",
    "            [0,0,0,1]])\n",
    "    #rot Y\n",
    "    Ty = np.matrix([[np.cos(thetaY),0,np.sin(thetaY),0],\\\n",
    "            [0,1,0,0],\\\n",
    "            [-np.sin(thetaY),0,np.cos(thetaY),0],\\\n",
    "            [0,0,0,1]])\n",
    "\n",
    "    #rot Z\n",
    "    Tz = np.matrix([[np.cos(thetaZ),-np.sin(thetaZ),0,0],\\\n",
    "            [np.sin(thetaZ),np.cos(thetaZ),0,0],\\\n",
    "            [0,0,1,0],\\\n",
    "            [0,0,0,1]])\n",
    "    return(Tz*Ty*Tx) # think about order of operatons here\n",
    "\n",
    "def myplot(x,y):\n",
    "    plt.clf()\n",
    "    title='3d rotation projected into 2d'\n",
    "    lim = 3\n",
    "    plt.title(f\"{title}\"); \n",
    "    plt.xlabel(\"X axis\"); \n",
    "    plt.ylabel(\"Y axis\")\n",
    "    plt.scatter(x,y, color =\"red\")\n",
    "    plt.plot(x,y, color =\"blue\")\n",
    "    plt.xlim(-lim,lim); plt.ylim(-lim,lim)\n",
    "    plt.grid(); plt.gca().set_aspect(\"equal\") # square grids are pretty\n",
    "    plt.axhline(0, color='black', linestyle='--')\n",
    "    plt.axvline(0, color='black', linestyle='--')\n",
    "    writer.grab_frame();\n",
    "\n",
    "d = 10 # distance of projection\n",
    "P = np.matrix([[1,0,0,0],\n",
    "               [0,1,0,0],\n",
    "               [0,0,0,0],\n",
    "               [0,0,-1/d,1]])\n",
    "      \n",
    "# Update the frames for the movie\n",
    "n = 1000\n",
    "theta = np.linspace(0, 6*np.pi, n)\n",
    "with writer.saving(fig, \"Data/cube.mp4\", 100):\n",
    "    for i in theta:\n",
    "        T=rot(i,i/2,0)\n",
    "        M= P*(T*D)\n",
    "        H = M[3]\n",
    "        N = np.divide(M,H)[0:2]\n",
    "        x,=N[0].tolist()\n",
    "        y,=N[1].tolist()\n",
    "        #plt.plot(x,y, color =\"blue\")\n",
    "        myplot(x,y);"
   ]
  },
  {
   "cell_type": "code",
   "execution_count": 3,
   "metadata": {},
   "outputs": [
    {
     "data": {
      "text/html": [
       "\n",
       "<div align=\"middle\">\n",
       "<video width=\"80%\" controls>\n",
       "      <source src=\"Data/cube.mp4\" type=\"video/mp4\">\n",
       "</video></div>"
      ],
      "text/plain": [
       "<IPython.core.display.HTML object>"
      ]
     },
     "execution_count": 3,
     "metadata": {},
     "output_type": "execute_result"
    }
   ],
   "source": [
    "# display generated movie in Jupyter notebook\n",
    "from IPython.display import HTML\n",
    "\n",
    "HTML(\"\"\"\n",
    "<div align=\"middle\">\n",
    "<video width=\"80%\" controls>\n",
    "      <source src=\"Data/cube.mp4\" type=\"video/mp4\">\n",
    "</video></div>\"\"\")"
   ]
  }
 ],
 "metadata": {
  "kernelspec": {
   "display_name": "Python 3",
   "language": "python",
   "name": "python3"
  },
  "language_info": {
   "codemirror_mode": {
    "name": "ipython",
    "version": 3
   },
   "file_extension": ".py",
   "mimetype": "text/x-python",
   "name": "python",
   "nbconvert_exporter": "python",
   "pygments_lexer": "ipython3",
   "version": "3.8.10"
  }
 },
 "nbformat": 4,
 "nbformat_minor": 4
}
