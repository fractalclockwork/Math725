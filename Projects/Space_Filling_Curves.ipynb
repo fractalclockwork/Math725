{
 "cells": [
  {
   "cell_type": "markdown",
   "id": "3b993e8f",
   "metadata": {},
   "source": [
    "# Math 725 Advanced Linear Algebra\n",
    "## Space filling Curves\n",
    "\n",
    "\n",
    "### Brent A. Thorne\n",
    "\n",
    "brentathorne@gmail.com\n",
    "\n",
    "##### Coordinate functional space\n",
    "\n",
    "\n",
    "$\\require{AMScd}$\n",
    "$\\require{cancel}$\n",
    "$\\newcommand{\\null}{\\text{null}}$\n",
    "$\\newcommand{\\P}{\\mathcal{P}}$\n",
    "$\\newcommand{\\B}{\\mathcal{B}}$\n",
    "$\\newcommand{\\0}{\\{\\Bbb{0}\\}}$\n",
    "$\\newcommand{\\C}{\\Bbb{C}}$\n",
    "$\\newcommand{\\1}{\\Bbb{1}}$\n",
    "$\\newcommand{\\range}{\\text{range}}$\n",
    "$\\newcommand{\\T}{\\mathcal{T}}$\n",
    "$\\newcommand{\\M}{\\mathcal{M}}$\n",
    "$\\newcommand{\\U}{\\mathbf{U}}$\n",
    "$\\newcommand{\\L}{\\mathcal{L}}$\n",
    "$\\newcommand{\\W}{\\mathbf{W}}$\n",
    "$\\newcommand{\\R}{\\mathbb{R}}$\n",
    "$\\newcommand{\\F}{\\mathbb{F}}$\n",
    "$\\newcommand{\\v}[2]{#1_1...#1_#2}$"
   ]
  },
  {
   "cell_type": "code",
   "execution_count": 65,
   "id": "eaea7248",
   "metadata": {},
   "outputs": [],
   "source": [
    "# import libraries\n",
    "import numpy as np\n",
    "import sympy as sym\n",
    "from sympy.matrices import Matrix\n",
    "from sympy import I\n",
    "import matplotlib.pyplot as plt\n",
    "from IPython.display import display, Math, Latex\n",
    "from sympy import init_printing\n",
    "init_printing()"
   ]
  },
  {
   "cell_type": "markdown",
   "id": "8f088bf7",
   "metadata": {},
   "source": [
    "## Open with a semimanual process then generalize"
   ]
  },
  {
   "cell_type": "code",
   "execution_count": 116,
   "id": "d10b2eb4",
   "metadata": {},
   "outputs": [],
   "source": [
    "def m_plot(P):\n",
    "    p=np.array(P.tolist())\n",
    "    x=p[0]\n",
    "    y=p[1]\n",
    "    plt.plot(x,y)\n",
    "    plt.scatter(x,y)\n",
    "    plt.scatter(x[0],y[0],c='pink')\n",
    "    plt.grid(visible=True);\n",
    "    plt.gca().set_aspect(\"equal\") # square grids are pretty\n",
    "    plt.axhline(0, color='black', alpha = .2, linestyle='--')\n",
    "    plt.axvline(0, color='black', alpha = .2, linestyle='--')"
   ]
  },
  {
   "cell_type": "code",
   "execution_count": 73,
   "id": "29a4c086",
   "metadata": {},
   "outputs": [
    {
     "data": {
      "text/latex": [
       "$\\displaystyle \\left[\\begin{matrix}-1 & -1 & 1 & 1\\\\-1 & 1 & 1 & -1\\end{matrix}\\right]$"
      ],
      "text/plain": [
       "⎡-1  -1  1  1 ⎤\n",
       "⎢             ⎥\n",
       "⎣-1  1   1  -1⎦"
      ]
     },
     "execution_count": 73,
     "metadata": {},
     "output_type": "execute_result"
    },
    {
     "data": {
      "image/png": "[encoded data removed]",
      "text/plain": [
       "<Figure size 432x288 with 1 Axes>"
      ]
     },
     "metadata": {
      "needs_background": "light"
     },
     "output_type": "display_data"
    }
   ],
   "source": [
    "P=Matrix([[-1,-1],[-1,1],[1,1],[1,-1]]).T\n",
    "m_plot(P)\n",
    "P"
   ]
  },
  {
   "cell_type": "code",
   "execution_count": 74,
   "id": "502cf605",
   "metadata": {},
   "outputs": [
    {
     "data": {
      "text/latex": [
       "$\\displaystyle \\left( \\left[\\begin{matrix}-1 & -1 & 1 & 1\\\\-1 & 1 & 1 & -1\\end{matrix}\\right], \\  \\left[\\begin{matrix}-1 & 1 & 1 & -1\\\\-1 & -1 & 1 & 1\\end{matrix}\\right]\\right)$"
      ],
      "text/plain": [
       "⎛⎡-1  -1  1  1 ⎤  ⎡-1  1   1  -1⎤⎞\n",
       "⎜⎢             ⎥, ⎢             ⎥⎟\n",
       "⎝⎣-1  1   1  -1⎦  ⎣-1  -1  1  1 ⎦⎠"
      ]
     },
     "execution_count": 74,
     "metadata": {},
     "output_type": "execute_result"
    },
    {
     "data": {
      "image/png": "[encoded data removed]",
      "text/plain": [
       "<Figure size 432x288 with 1 Axes>"
      ]
     },
     "metadata": {
      "needs_background": "light"
     },
     "output_type": "display_data"
    }
   ],
   "source": [
    "# rotate\n",
    "R = Matrix([[0,1],[1,0]])\n",
    "m_plot(R*P)\n",
    "P, R*P\n",
    "\n",
    "# shift left and shift down... ought to have opened with an affine matrix\n",
    "# let's do that again..."
   ]
  },
  {
   "cell_type": "code",
   "execution_count": 109,
   "id": "886a045e",
   "metadata": {},
   "outputs": [
    {
     "data": {
      "text/latex": [
       "$\\displaystyle \\left[\\begin{matrix}- \\frac{1}{2} & - \\frac{1}{2} & \\frac{1}{2} & \\frac{1}{2}\\\\- \\frac{1}{2} & \\frac{1}{2} & \\frac{1}{2} & - \\frac{1}{2}\\\\0 & 0 & 0 & 0\\\\1 & 1 & 1 & 1\\end{matrix}\\right]$"
      ],
      "text/plain": [
       "⎡-1/2  -1/2  1/2  1/2 ⎤\n",
       "⎢                     ⎥\n",
       "⎢-1/2  1/2   1/2  -1/2⎥\n",
       "⎢                     ⎥\n",
       "⎢ 0     0     0    0  ⎥\n",
       "⎢                     ⎥\n",
       "⎣ 1     1     1    1  ⎦"
      ]
     },
     "execution_count": 109,
     "metadata": {},
     "output_type": "execute_result"
    },
    {
     "data": {
      "image/png": "[encoded data removed]",
      "text/plain": [
       "<Figure size 432x288 with 1 Axes>"
      ]
     },
     "metadata": {
      "needs_background": "light"
     },
     "output_type": "display_data"
    }
   ],
   "source": [
    "# let's begin again this time with a 3D affine transformation so we don't have to do this thrice \n",
    "T = Matrix([\n",
    "    [1,0,0,0],\n",
    "    [0,1,0,0],\n",
    "    [0,0,1,0],\n",
    "    [0,0,0,1]\n",
    "])\n",
    "\n",
    "# Now our 2D shape, we'll save that 3rd dim for later\n",
    "P = sym.Rational(1,2)*Matrix([[-1,-1],[-1,1],[1,1],[1,-1]]).T #make normal unit square\n",
    "P = P.col_join(sym.zeros(1,P.shape[1]))\n",
    "P = P.col_join(sym.ones(1,P.shape[1]))\n",
    "m_plot(T*P)\n",
    "T*P"
   ]
  },
  {
   "cell_type": "code",
   "execution_count": null,
   "id": "3a3e8acb",
   "metadata": {},
   "outputs": [],
   "source": []
  },
  {
   "cell_type": "code",
   "execution_count": 138,
   "id": "4f4814ae",
   "metadata": {},
   "outputs": [
    {
     "data": {
      "image/png": "[encoded data removed]",
      "text/plain": [
       "<Figure size 432x288 with 1 Axes>"
      ]
     },
     "metadata": {
      "needs_background": "light"
     },
     "output_type": "display_data"
    }
   ],
   "source": [
    "R = Matrix([\n",
    "    [0,1,0,0],\n",
    "    [1,0,0,0],\n",
    "    [0,0,1,0],\n",
    "    [0,0,0,1]\n",
    "]) # actaully this is not right but let's roll with it \n",
    "\n",
    "S_1 = Matrix([\n",
    "    [1,0,0,-1],\n",
    "    [0,1,0,-1],\n",
    "    [0,0,1,0],\n",
    "    [0,0,0,1]\n",
    "])\n",
    "m_plot(S_1*R*P) #rotate and shift left and down\n",
    "\n",
    "S_2 = Matrix([\n",
    "    [1,0,0,-1],\n",
    "    [0,1,0,1],\n",
    "    [0,0,1,0],\n",
    "    [0,0,0,1]\n",
    "])\n",
    "\n",
    "m_plot(S_2*P) # shift left and up\n",
    "\n",
    "S_3 = Matrix([\n",
    "    [1,0,0,1],\n",
    "    [0,1,0,1],\n",
    "    [0,0,1,0],\n",
    "    [0,0,0,1]\n",
    "])\n",
    "\n",
    "m_plot(S_3*P) # shift right and up\n",
    "\n",
    "S_4 = Matrix([\n",
    "    [1,0,0,1],\n",
    "    [0,1,0,-1],\n",
    "    [0,0,1,0],\n",
    "    [0,0,0,1]\n",
    "])\n",
    "\n",
    "R_0 = Matrix([\n",
    "    [0,-1,0,0],\n",
    "    [-1,0,0,0],\n",
    "    [0,0,1,0],\n",
    "    [0,0,0,1]\n",
    "]) # infinite monkeys\n",
    "\n",
    "m_plot(S_4*R_0*P)"
   ]
  },
  {
   "cell_type": "code",
   "execution_count": 192,
   "id": "92e8bf67",
   "metadata": {},
   "outputs": [
    {
     "data": {
      "text/latex": [
       "$\\displaystyle \\left( \\left[\\begin{array}{cccccccccccccccc}- \\frac{1}{2} & - \\frac{1}{6} & - \\frac{1}{6} & - \\frac{1}{2} & - \\frac{1}{2} & - \\frac{1}{2} & - \\frac{1}{6} & - \\frac{1}{6} & \\frac{1}{6} & \\frac{1}{6} & \\frac{1}{2} & \\frac{1}{2} & \\frac{1}{2} & \\frac{1}{6} & \\frac{1}{6} & \\frac{1}{2}\\\\- \\frac{1}{2} & - \\frac{1}{2} & - \\frac{1}{6} & - \\frac{1}{6} & \\frac{1}{6} & \\frac{1}{2} & \\frac{1}{2} & \\frac{1}{6} & \\frac{1}{6} & \\frac{1}{2} & \\frac{1}{2} & \\frac{1}{6} & - \\frac{1}{6} & - \\frac{1}{6} & - \\frac{1}{2} & - \\frac{1}{2}\\\\0 & 0 & 0 & 0 & 0 & 0 & 0 & 0 & 0 & 0 & 0 & 0 & 0 & 0 & 0 & 0\\\\\\frac{1}{3} & \\frac{1}{3} & \\frac{1}{3} & \\frac{1}{3} & \\frac{1}{3} & \\frac{1}{3} & \\frac{1}{3} & \\frac{1}{3} & \\frac{1}{3} & \\frac{1}{3} & \\frac{1}{3} & \\frac{1}{3} & \\frac{1}{3} & \\frac{1}{3} & \\frac{1}{3} & \\frac{1}{3}\\end{array}\\right], \\  \\left[\\begin{array}{cccccccccccccccc}- \\frac{1}{2} & - \\frac{1}{6} & - \\frac{1}{6} & - \\frac{1}{2} & - \\frac{1}{2} & - \\frac{1}{2} & - \\frac{1}{6} & - \\frac{1}{6} & \\frac{1}{6} & \\frac{1}{6} & \\frac{1}{2} & \\frac{1}{2} & \\frac{1}{2} & \\frac{1}{6} & \\frac{1}{6} & \\frac{1}{2}\\\\- \\frac{1}{2} & - \\frac{1}{2} & - \\frac{1}{6} & - \\frac{1}{6} & \\frac{1}{6} & \\frac{1}{2} & \\frac{1}{2} & \\frac{1}{6} & \\frac{1}{6} & \\frac{1}{2} & \\frac{1}{2} & \\frac{1}{6} & - \\frac{1}{6} & - \\frac{1}{6} & - \\frac{1}{2} & - \\frac{1}{2}\\\\0 & 0 & 0 & 0 & 0 & 0 & 0 & 0 & 0 & 0 & 0 & 0 & 0 & 0 & 0 & 0\\\\1 & 1 & 1 & 1 & 1 & 1 & 1 & 1 & 1 & 1 & 1 & 1 & 1 & 1 & 1 & 1\\end{array}\\right]\\right)$"
      ],
      "text/plain": [
       "⎛⎡-1/2  -1/6  -1/6  -1/2  -1/2  -1/2  -1/6  -1/6  1/6  1/6  1/2  1/2  1/2   1/\n",
       "⎜⎢                                                                            \n",
       "⎜⎢-1/2  -1/2  -1/6  -1/6  1/6   1/2   1/2   1/6   1/6  1/2  1/2  1/6  -1/6  -1\n",
       "⎜⎢                                                                            \n",
       "⎜⎢ 0     0     0     0     0     0     0     0     0    0    0    0    0     0\n",
       "⎜⎢                                                                            \n",
       "⎝⎣1/3   1/3   1/3   1/3   1/3   1/3   1/3   1/3   1/3  1/3  1/3  1/3  1/3   1/\n",
       "\n",
       "6   1/6   1/2 ⎤  ⎡-1/2  -1/6  -1/6  -1/2  -1/2  -1/2  -1/6  -1/6  1/6  1/6  1/\n",
       "              ⎥  ⎢                                                            \n",
       "/6  -1/2  -1/2⎥  ⎢-1/2  -1/2  -1/6  -1/6  1/6   1/2   1/2   1/6   1/6  1/2  1/\n",
       "              ⎥, ⎢                                                            \n",
       "     0     0  ⎥  ⎢ 0     0     0     0     0     0     0     0     0    0    0\n",
       "              ⎥  ⎢                                                            \n",
       "3   1/3   1/3 ⎦  ⎣ 1     1     1     1     1     1     1     1     1    1    1\n",
       "\n",
       "2  1/2  1/2   1/6   1/6   1/2 ⎤⎞\n",
       "                              ⎥⎟\n",
       "2  1/6  -1/6  -1/6  -1/2  -1/2⎥⎟\n",
       "                              ⎥⎟\n",
       "    0    0     0     0     0  ⎥⎟\n",
       "                              ⎥⎟\n",
       "    1    1     1     1     1  ⎦⎠"
      ]
     },
     "execution_count": 192,
     "metadata": {},
     "output_type": "execute_result"
    }
   ],
   "source": [
    "# my monkey\n",
    "x = P\n",
    "\n",
    "X = S_1*R*x\n",
    "X = X.row_join(S_2*x)\n",
    "X = X.row_join(S_3*x)\n",
    "X = X.row_join(S_4*R_0*x)\n",
    "X = sym.Rational(2,6)*X # normalize back to unit square <- not quite\n",
    "N = Matrix([\n",
    "    [1,0,0,0],\n",
    "    [0,1,0,0],\n",
    "    [0,0,1,0],\n",
    "    [0,0,0,sym.Rational(6,2)]\n",
    "]) \n",
    "\n",
    "\n",
    "P1=N*X\n",
    "X, P1"
   ]
  },
  {
   "cell_type": "code",
   "execution_count": 195,
   "id": "5b7eec1e",
   "metadata": {},
   "outputs": [
    {
     "data": {
      "image/png": "[encoded data removed]",
      "text/plain": [
       "<Figure size 432x288 with 1 Axes>"
      ]
     },
     "metadata": {
      "needs_background": "light"
     },
     "output_type": "display_data"
    }
   ],
   "source": [
    "# release the monkey\n",
    "x = P1\n",
    "\n",
    "X = S_1*R*x\n",
    "X = X.row_join(S_2*x)\n",
    "X = X.row_join(S_3*x)\n",
    "X = X.row_join(S_4*R_0*x)\n",
    "\n",
    "m_plot(X) # nope not quite, but we'll save some fun for Arek"
   ]
  }
 ],
 "metadata": {
  "kernelspec": {
   "display_name": "Python 3",
   "language": "python",
   "name": "python3"
  },
  "language_info": {
   "codemirror_mode": {
    "name": "ipython",
    "version": 3
   },
   "file_extension": ".py",
   "mimetype": "text/x-python",
   "name": "python",
   "nbconvert_exporter": "python",
   "pygments_lexer": "ipython3",
   "version": "3.8.10"
  }
 },
 "nbformat": 4,
 "nbformat_minor": 5
}
