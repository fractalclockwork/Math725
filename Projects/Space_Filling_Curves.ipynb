{
 "cells": [
  {
   "cell_type": "markdown",
   "id": "e405c147",
   "metadata": {},
   "source": [
    "# Math 725 Advanced Linear Algebra\n",
    "## Space filling Curves\n",
    "\n",
    "\n",
    "### Brent A. Thorne\n",
    "\n",
    "brentathorne@gmail.com\n",
    "\n",
    "##### Coordinate functional space\n",
    "\n",
    "\n",
    "$\\require{AMScd}$\n",
    "$\\require{cancel}$\n",
    "$\\newcommand{\\null}{\\text{null}}$\n",
    "$\\newcommand{\\P}{\\mathcal{P}}$\n",
    "$\\newcommand{\\B}{\\mathcal{B}}$\n",
    "$\\newcommand{\\0}{\\{\\Bbb{0}\\}}$\n",
    "$\\newcommand{\\C}{\\Bbb{C}}$\n",
    "$\\newcommand{\\1}{\\Bbb{1}}$\n",
    "$\\newcommand{\\range}{\\text{range}}$\n",
    "$\\newcommand{\\T}{\\mathcal{T}}$\n",
    "$\\newcommand{\\M}{\\mathcal{M}}$\n",
    "$\\newcommand{\\U}{\\mathbf{U}}$\n",
    "$\\newcommand{\\L}{\\mathcal{L}}$\n",
    "$\\newcommand{\\W}{\\mathbf{W}}$\n",
    "$\\newcommand{\\R}{\\mathbb{R}}$\n",
    "$\\newcommand{\\F}{\\mathbb{F}}$\n",
    "$\\newcommand{\\v}[2]{#1_1...#1_#2}$"
   ]
  },
  {
   "cell_type": "code",
   "execution_count": 65,
   "id": "c166d8c3",
   "metadata": {},
   "outputs": [],
   "source": [
    "# import libraries\n",
    "import numpy as np\n",
    "import sympy as sym\n",
    "from sympy.matrices import Matrix\n",
    "from sympy import I\n",
    "import matplotlib.pyplot as plt\n",
    "from IPython.display import display, Math, Latex\n",
    "from sympy import init_printing\n",
    "init_printing()"
   ]
  },
  {
   "cell_type": "markdown",
   "id": "cf9c99c7",
   "metadata": {},
   "source": [
    "## Hilbert Curve\n",
    "Open with a semimanual process then generalize"
   ]
  },
  {
   "cell_type": "code",
   "execution_count": 116,
   "id": "82216873",
   "metadata": {},
   "outputs": [],
   "source": [
    "def m_plot(P):\n",
    "    p=np.array(P.tolist())\n",
    "    x=p[0]\n",
    "    y=p[1]\n",
    "    plt.plot(x,y)\n",
    "    plt.scatter(x,y)\n",
    "    plt.scatter(x[0],y[0],c='pink')\n",
    "    plt.grid(visible=True);\n",
    "    plt.gca().set_aspect(\"equal\") # square grids are pretty\n",
    "    plt.axhline(0, color='black', alpha = .2, linestyle='--')\n",
    "    plt.axvline(0, color='black', alpha = .2, linestyle='--')"
   ]
  },
  {
   "cell_type": "code",
   "execution_count": 73,
   "id": "50caa1f3",
   "metadata": {},
   "outputs": [
    {
     "data": {
      "text/latex": [
       "$\\displaystyle \\left[\\begin{matrix}-1 & -1 & 1 & 1\\\\-1 & 1 & 1 & -1\\end{matrix}\\right]$"
      ],
      "text/plain": [
       "⎡-1  -1  1  1 ⎤\n",
       "⎢             ⎥\n",
       "⎣-1  1   1  -1⎦"
      ]
     },
     "execution_count": 73,
     "metadata": {},
     "output_type": "execute_result"
    },
    {
     "data": {
      "image/png": "[encoded data removed]",
      "text/plain": [
       "<Figure size 432x288 with 1 Axes>"
      ]
     },
     "metadata": {
      "needs_background": "light"
     },
     "output_type": "display_data"
    }
   ],
   "source": [
    "P=Matrix([[-1,-1],[-1,1],[1,1],[1,-1]]).T\n",
    "m_plot(P)\n",
    "P"
   ]
  },
  {
   "cell_type": "code",
   "execution_count": 74,
   "id": "aa1033cb",
   "metadata": {},
   "outputs": [
    {
     "data": {
      "text/latex": [
       "$\\displaystyle \\left( \\left[\\begin{matrix}-1 & -1 & 1 & 1\\\\-1 & 1 & 1 & -1\\end{matrix}\\right], \\  \\left[\\begin{matrix}-1 & 1 & 1 & -1\\\\-1 & -1 & 1 & 1\\end{matrix}\\right]\\right)$"
      ],
      "text/plain": [
       "⎛⎡-1  -1  1  1 ⎤  ⎡-1  1   1  -1⎤⎞\n",
       "⎜⎢             ⎥, ⎢             ⎥⎟\n",
       "⎝⎣-1  1   1  -1⎦  ⎣-1  -1  1  1 ⎦⎠"
      ]
     },
     "execution_count": 74,
     "metadata": {},
     "output_type": "execute_result"
    },
    {
     "data": {
      "image/png": "[encoded data removed]",
      "text/plain": [
       "<Figure size 432x288 with 1 Axes>"
      ]
     },
     "metadata": {
      "needs_background": "light"
     },
     "output_type": "display_data"
    }
   ],
   "source": [
    "# rotate\n",
    "R = Matrix([[0,1],[1,0]])\n",
    "m_plot(R*P)\n",
    "P, R*P\n",
    "\n",
    "# shift left and shift down... ought to have opened with an affine matrix\n",
    "# let's do that again..."
   ]
  },
  {
   "cell_type": "markdown",
   "id": "f4edc46c",
   "metadata": {},
   "source": [
    "## Generalized Hilbert"
   ]
  },
  {
   "cell_type": "code",
   "execution_count": 109,
   "id": "6c44716e",
   "metadata": {},
   "outputs": [
    {
     "data": {
      "text/latex": [
       "$\\displaystyle \\left[\\begin{matrix}- \\frac{1}{2} & - \\frac{1}{2} & \\frac{1}{2} & \\frac{1}{2}\\\\- \\frac{1}{2} & \\frac{1}{2} & \\frac{1}{2} & - \\frac{1}{2}\\\\0 & 0 & 0 & 0\\\\1 & 1 & 1 & 1\\end{matrix}\\right]$"
      ],
      "text/plain": [
       "⎡-1/2  -1/2  1/2  1/2 ⎤\n",
       "⎢                     ⎥\n",
       "⎢-1/2  1/2   1/2  -1/2⎥\n",
       "⎢                     ⎥\n",
       "⎢ 0     0     0    0  ⎥\n",
       "⎢                     ⎥\n",
       "⎣ 1     1     1    1  ⎦"
      ]
     },
     "execution_count": 109,
     "metadata": {},
     "output_type": "execute_result"
    },
    {
     "data": {
      "image/png": "[encoded data removed]",
      "text/plain": [
       "<Figure size 432x288 with 1 Axes>"
      ]
     },
     "metadata": {
      "needs_background": "light"
     },
     "output_type": "display_data"
    }
   ],
   "source": [
    "# let's begin again this time with a 3D affine transformation so we don't have to do this thrice \n",
    "T = Matrix([\n",
    "    [1,0,0,0],\n",
    "    [0,1,0,0],\n",
    "    [0,0,1,0],\n",
    "    [0,0,0,1]\n",
    "])\n",
    "\n",
    "# Now our 2D shape, we'll save that 3rd dim for later\n",
    "P = sym.Rational(1,2)*Matrix([[-1,-1],[-1,1],[1,1],[1,-1]]).T #make normal unit square\n",
    "P = P.col_join(sym.zeros(1,P.shape[1]))\n",
    "P = P.col_join(sym.ones(1,P.shape[1]))\n",
    "m_plot(T*P)\n",
    "T*P"
   ]
  },
  {
   "cell_type": "code",
   "execution_count": null,
   "id": "b17010d1",
   "metadata": {},
   "outputs": [],
   "source": []
  },
  {
   "cell_type": "code",
   "execution_count": 232,
   "id": "d615fd99",
   "metadata": {},
   "outputs": [
    {
     "data": {
      "image/png": "[encoded data removed]",
      "text/plain": [
       "<Figure size 432x288 with 1 Axes>"
      ]
     },
     "metadata": {
      "needs_background": "light"
     },
     "output_type": "display_data"
    }
   ],
   "source": [
    "R = Matrix([\n",
    "    [0,1,0,0],\n",
    "    [1,0,0,0],\n",
    "    [0,0,1,0],\n",
    "    [0,0,0,1]\n",
    "]) # actaully this is a reflect and rotate\n",
    "\n",
    "\n",
    "S_1 = Matrix([\n",
    "    [1,0,0,-1],\n",
    "    [0,1,0,-1],\n",
    "    [0,0,1,0],\n",
    "    [0,0,0,1]\n",
    "])\n",
    "m_plot(S_1*R*P) #reflect/rotate and shift left and down\n",
    "\n",
    "S_2 = Matrix([\n",
    "    [1,0,0,-1],\n",
    "    [0,1,0,1],\n",
    "    [0,0,1,0],\n",
    "    [0,0,0,1]\n",
    "])\n",
    "\n",
    "m_plot(S_2*P) # shift left and up\n",
    "\n",
    "S_3 = Matrix([\n",
    "    [1,0,0,1],\n",
    "    [0,1,0,1],\n",
    "    [0,0,1,0],\n",
    "    [0,0,0,1]\n",
    "])\n",
    "\n",
    "m_plot(S_3*P) # shift right and up\n",
    "\n",
    "S_4 = Matrix([\n",
    "    [1,0,0,1],\n",
    "    [0,1,0,-1],\n",
    "    [0,0,1,0],\n",
    "    [0,0,0,1]\n",
    "])\n",
    "\n",
    "R_0 = Matrix([\n",
    "    [0,-1,0,0],\n",
    "    [-1,0,0,0],\n",
    "    [0,0,1,0],\n",
    "    [0,0,0,1]\n",
    "]) # infinite monkeys\n",
    "\n",
    "m_plot(S_4*R_0*P)"
   ]
  },
  {
   "cell_type": "code",
   "execution_count": 230,
   "id": "e2b6a271",
   "metadata": {},
   "outputs": [
    {
     "data": {
      "image/png": "[encoded data removed]",
      "text/plain": [
       "<Figure size 432x288 with 1 Axes>"
      ]
     },
     "metadata": {
      "needs_background": "light"
     },
     "output_type": "display_data"
    }
   ],
   "source": [
    "# my monkey\n",
    "s=sym.Rational(1,2)\n",
    "x = P\n",
    "\n",
    "X = S_1*R*x\n",
    "X = X.row_join(S_2*x)\n",
    "X = X.row_join(S_3*x)\n",
    "X = X.row_join(S_4*R_0*x)\n",
    "\n",
    "m_plot(X)"
   ]
  },
  {
   "cell_type": "code",
   "execution_count": 233,
   "id": "12f4ba83",
   "metadata": {},
   "outputs": [
    {
     "data": {
      "image/png": "[encoded data removed]",
      "text/plain": [
       "<Figure size 432x288 with 1 Axes>"
      ]
     },
     "metadata": {
      "needs_background": "light"
     },
     "output_type": "display_data"
    }
   ],
   "source": [
    "# release the monkeys\n",
    "N = s*Matrix([\n",
    "    [1,0,0,0],\n",
    "    [0,1,0,0],\n",
    "    [0,0,1,0],\n",
    "    [0,0,0,1/s]\n",
    "]) # normalize back to unit square \n",
    "P1=N*X\n",
    "\n",
    "x = P1\n",
    "X = S_1*R*x\n",
    "X = X.row_join(S_2*x)\n",
    "X = X.row_join(S_3*x)\n",
    "X = X.row_join(S_4*R_0*x)\n",
    "\n",
    "m_plot(X) "
   ]
  },
  {
   "cell_type": "markdown",
   "id": "ccb0b8d5",
   "metadata": {},
   "source": [
    "##### Things to consider:\n",
    " * Modify to for $\\C$\n",
    " * What would a $\\C^2\\mapsto\\R^3\\times\\R^1$ affine transform look like? The dim seems to check out."
   ]
  },
  {
   "cell_type": "markdown",
   "id": "e581a7d8",
   "metadata": {},
   "source": [
    "## Gosper Curve"
   ]
  },
  {
   "cell_type": "code",
   "execution_count": 332,
   "id": "26e00dff",
   "metadata": {},
   "outputs": [],
   "source": [
    "##  Build our basis\n",
    "# 360/60, 2*sym.pi/6, 2*sym.pi- 2*sym.pi/6\n",
    "\n",
    "# translate\n",
    "# rotate -2π/3 and translate\n",
    "# rotate -5π/3 and translate\n",
    "# rotate -π/3 and translate\n",
    "# translate\n",
    "# rotate 2π/3 and translate\n",
    "\n",
    "z = 2*sym.pi*sym.I/6\n",
    "p0 = 0\n",
    "p1 = p0+sym.exp(sym.pi*sym.I/2)\n",
    "p2 = p1+sym.exp(z/2)\n",
    "p3 = p2+sym.exp(-sym.pi*sym.I/2)\n",
    "p4 = p3+sym.exp(-z/2)\n",
    "p5 = p4+sym.exp(sym.pi*sym.I/2)\n",
    "p6 = p5+sym.exp(sym.pi*sym.I/2)\n",
    "p7 = p6+sym.exp(5*z/2)\n",
    "# now fix up the Hilbert curve for complex affine transforms"
   ]
  },
  {
   "cell_type": "code",
   "execution_count": 333,
   "id": "41fde77a",
   "metadata": {},
   "outputs": [
    {
     "data": {
      "image/png": "[encoded data removed]",
      "text/latex": [
       "$\\displaystyle \\left[ 0, \\  i, \\  e^{\\frac{i \\pi}{6}} + i, \\  e^{\\frac{i \\pi}{6}}, \\  e^{- \\frac{i \\pi}{6}} + e^{\\frac{i \\pi}{6}}, \\  e^{- \\frac{i \\pi}{6}} + e^{\\frac{i \\pi}{6}} + i, \\  e^{- \\frac{i \\pi}{6}} + e^{\\frac{i \\pi}{6}} + 2 i, \\  e^{- \\frac{i \\pi}{6}} + e^{\\frac{5 i \\pi}{6}} + e^{\\frac{i \\pi}{6}} + 2 i\\right]$"
      ],
      "text/plain": [
       "⎡       ⅈ⋅π       ⅈ⋅π   -ⅈ⋅π     ⅈ⋅π   -ⅈ⋅π     ⅈ⋅π       -ⅈ⋅π     ⅈ⋅π        \n",
       "⎢       ───       ───   ─────    ───   ─────    ───       ─────    ───        \n",
       "⎢        6         6      6       6      6       6          6       6         \n",
       "⎣0, ⅈ, ℯ    + ⅈ, ℯ   , ℯ      + ℯ   , ℯ      + ℯ    + ⅈ, ℯ      + ℯ    + 2⋅ⅈ, \n",
       "\n",
       " -ⅈ⋅π     5⋅ⅈ⋅π    ⅈ⋅π      ⎤\n",
       " ─────    ─────    ───      ⎥\n",
       "   6        6       6       ⎥\n",
       "ℯ      + ℯ      + ℯ    + 2⋅ⅈ⎦"
      ]
     },
     "execution_count": 333,
     "metadata": {},
     "output_type": "execute_result"
    }
   ],
   "source": [
    "p = [p0, p1, p2, p3, p4, p5, p6, p7]\n",
    "p"
   ]
  },
  {
   "cell_type": "code",
   "execution_count": 334,
   "id": "8ac60bf1",
   "metadata": {},
   "outputs": [
    {
     "data": {
      "image/png": "[encoded data removed]",
      "text/plain": [
       "<Figure size 432x288 with 1 Axes>"
      ]
     },
     "metadata": {
      "needs_background": "light"
     },
     "output_type": "display_data"
    }
   ],
   "source": [
    "P=Matrix([[sym.re(pp), sym.im(pp)]for pp in p]).T\n",
    "m_plot(P)"
   ]
  },
  {
   "cell_type": "markdown",
   "id": "b6cabb0c",
   "metadata": {},
   "source": [
    "##### Things to consider:\n",
    " * Permutation of basis for next interation\n",
    " * Geneneralized generator for all possible space filling curves"
   ]
  }
 ],
 "metadata": {
  "kernelspec": {
   "display_name": "Python 3",
   "language": "python",
   "name": "python3"
  },
  "language_info": {
   "codemirror_mode": {
    "name": "ipython",
    "version": 3
   },
   "file_extension": ".py",
   "mimetype": "text/x-python",
   "name": "python",
   "nbconvert_exporter": "python",
   "pygments_lexer": "ipython3",
   "version": "3.8.10"
  }
 },
 "nbformat": 4,
 "nbformat_minor": 5
}
