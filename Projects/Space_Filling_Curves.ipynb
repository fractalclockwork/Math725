{
 "cells": [
  {
   "cell_type": "markdown",
   "id": "cafe3710",
   "metadata": {},
   "source": [
    "# Math 725 Advanced Linear Algebra\n",
    "## Space filling Curves\n",
    "\n",
    "\n",
    "### Brent A. Thorne\n",
    "\n",
    "brentathorne@gmail.com\n",
    "\n",
    "##### Coordinate functional space explorations\n",
    "\n",
    "#### Resources:\n",
    "Brain Hayes' wonderful article from American Scientist that got me thinking about this years ago...\n",
    "\n",
    "https://www.americanscientist.org/article/crinkly-curves \n",
    "\n",
    "https://en.wikipedia.org/wiki/Transformation_matrix\n",
    "\n",
    "https://www.brainvoyager.com/bv/doc/UsersGuide/CoordsAndTransforms/SpatialTransformationMatrices.html\n",
    "\n",
    "https://en.wikipedia.org/wiki/Hilbert_curve\n",
    "\n",
    "https://en.wikipedia.org/wiki/Gosper_curve"
   ]
  },
  {
   "cell_type": "code",
   "execution_count": 1,
   "id": "c8811b51",
   "metadata": {},
   "outputs": [],
   "source": [
    "# import libraries\n",
    "import numpy as np\n",
    "import sympy as sym\n",
    "from sympy.matrices import Matrix\n",
    "from sympy import I\n",
    "import matplotlib.pyplot as plt\n",
    "from IPython.display import display, Math, Latex\n",
    "from sympy import init_printing\n",
    "init_printing()"
   ]
  },
  {
   "cell_type": "markdown",
   "id": "e1e36069",
   "metadata": {},
   "source": [
    "## Hilbert Curve\n",
    "Open with a semimanual process then generalize"
   ]
  },
  {
   "cell_type": "code",
   "execution_count": 2,
   "id": "abda7ae3",
   "metadata": {},
   "outputs": [],
   "source": [
    "def m_plot(P):\n",
    "    p=np.array(P.tolist())\n",
    "    x=p[0]\n",
    "    y=p[1]\n",
    "    plt.plot(x,y)\n",
    "    plt.scatter(x,y)\n",
    "    plt.scatter(x[0],y[0],c='pink')\n",
    "    plt.grid(visible=True);\n",
    "    plt.gca().set_aspect(\"equal\") # square grids are pretty\n",
    "    plt.axhline(0, color='black', alpha = .2, linestyle='--')\n",
    "    plt.axvline(0, color='black', alpha = .2, linestyle='--')"
   ]
  },
  {
   "cell_type": "markdown",
   "id": "1a628af6",
   "metadata": {},
   "source": [
    "## Affine Hilbert"
   ]
  },
  {
   "cell_type": "code",
   "execution_count": 3,
   "id": "5c58098d",
   "metadata": {},
   "outputs": [
    {
     "data": {
      "text/latex": [
       "$\\displaystyle \\left[\\begin{matrix}- \\frac{1}{2} & - \\frac{1}{2} & \\frac{1}{2} & \\frac{1}{2}\\\\- \\frac{1}{2} & \\frac{1}{2} & \\frac{1}{2} & - \\frac{1}{2}\\\\0 & 0 & 0 & 0\\\\1 & 1 & 1 & 1\\end{matrix}\\right]$"
      ],
      "text/plain": [
       "⎡-1/2  -1/2  1/2  1/2 ⎤\n",
       "⎢                     ⎥\n",
       "⎢-1/2  1/2   1/2  -1/2⎥\n",
       "⎢                     ⎥\n",
       "⎢ 0     0     0    0  ⎥\n",
       "⎢                     ⎥\n",
       "⎣ 1     1     1    1  ⎦"
      ]
     },
     "execution_count": 3,
     "metadata": {},
     "output_type": "execute_result"
    },
    {
     "data": {
      "image/png": "[encoded data removed]",
      "text/plain": [
       "<Figure size 432x288 with 1 Axes>"
      ]
     },
     "metadata": {
      "needs_background": "light"
     },
     "output_type": "display_data"
    }
   ],
   "source": [
    "# let's begin again this time with a 3D affine transformation so we don't have to do this thrice \n",
    "T = Matrix([\n",
    "    [1,0,0,0],\n",
    "    [0,1,0,0],\n",
    "    [0,0,1,0],\n",
    "    [0,0,0,1]\n",
    "])\n",
    "\n",
    "# Now our 2D shape, we'll save that 3rd dim for later\n",
    "P = sym.Rational(1,2)*Matrix([[-1,-1],[-1,1],[1,1],[1,-1]]).T #make normal unit square\n",
    "P = P.col_join(sym.zeros(1,P.shape[1]))\n",
    "P = P.col_join(sym.ones(1,P.shape[1]))\n",
    "m_plot(T*P)\n",
    "T*P"
   ]
  },
  {
   "cell_type": "code",
   "execution_count": 4,
   "id": "e3cffe09",
   "metadata": {},
   "outputs": [
    {
     "data": {
      "image/png": "[encoded data removed]",
      "text/plain": [
       "<Figure size 432x288 with 1 Axes>"
      ]
     },
     "metadata": {
      "needs_background": "light"
     },
     "output_type": "display_data"
    }
   ],
   "source": [
    "R = Matrix([\n",
    "    [0,1,0,0],\n",
    "    [1,0,0,0],\n",
    "    [0,0,1,0],\n",
    "    [0,0,0,1]\n",
    "]) # actaully this is a reflect and rotate\n",
    "\n",
    "\n",
    "S_1 = Matrix([\n",
    "    [1,0,0,-1],\n",
    "    [0,1,0,-1],\n",
    "    [0,0,1,0],\n",
    "    [0,0,0,1]\n",
    "])\n",
    "m_plot(S_1*R*P) #reflect/rotate and shift left and down\n",
    "\n",
    "S_2 = Matrix([\n",
    "    [1,0,0,-1],\n",
    "    [0,1,0,1],\n",
    "    [0,0,1,0],\n",
    "    [0,0,0,1]\n",
    "])\n",
    "\n",
    "m_plot(S_2*P) # shift left and up\n",
    "\n",
    "S_3 = Matrix([\n",
    "    [1,0,0,1],\n",
    "    [0,1,0,1],\n",
    "    [0,0,1,0],\n",
    "    [0,0,0,1]\n",
    "])\n",
    "\n",
    "m_plot(S_3*P) # shift right and up\n",
    "\n",
    "S_4 = Matrix([\n",
    "    [1,0,0,1],\n",
    "    [0,1,0,-1],\n",
    "    [0,0,1,0],\n",
    "    [0,0,0,1]\n",
    "])\n",
    "\n",
    "R_0 = Matrix([\n",
    "    [0,-1,0,0],\n",
    "    [-1,0,0,0],\n",
    "    [0,0,1,0],\n",
    "    [0,0,0,1]\n",
    "]) # infinite monkeys\n",
    "\n",
    "m_plot(S_4*R_0*P)"
   ]
  },
  {
   "cell_type": "code",
   "execution_count": 5,
   "id": "195bbe79",
   "metadata": {},
   "outputs": [
    {
     "data": {
      "image/png": "[encoded data removed]",
      "text/plain": [
       "<Figure size 432x288 with 1 Axes>"
      ]
     },
     "metadata": {
      "needs_background": "light"
     },
     "output_type": "display_data"
    }
   ],
   "source": [
    "# my monkey\n",
    "s=sym.Rational(1,2)\n",
    "x = P\n",
    "\n",
    "X = S_1*R*x\n",
    "X = X.row_join(S_2*x)\n",
    "X = X.row_join(S_3*x)\n",
    "X = X.row_join(S_4*R_0*x)\n",
    "\n",
    "m_plot(X)"
   ]
  },
  {
   "cell_type": "code",
   "execution_count": 6,
   "id": "5651b26f",
   "metadata": {},
   "outputs": [
    {
     "data": {
      "image/png": "[encoded data removed]",
      "text/plain": [
       "<Figure size 432x288 with 1 Axes>"
      ]
     },
     "metadata": {
      "needs_background": "light"
     },
     "output_type": "display_data"
    }
   ],
   "source": [
    "# release the monkeys\n",
    "N = s*Matrix([\n",
    "    [1,0,0,0],\n",
    "    [0,1,0,0],\n",
    "    [0,0,1,0],\n",
    "    [0,0,0,1/s]\n",
    "]) # normalize back to unit square \n",
    "P1=N*X\n",
    "\n",
    "x = P1\n",
    "X = S_1*R*x\n",
    "X = X.row_join(S_2*x)\n",
    "X = X.row_join(S_3*x)\n",
    "X = X.row_join(S_4*R_0*x)\n",
    "\n",
    "m_plot(X) "
   ]
  },
  {
   "cell_type": "markdown",
   "id": "aa721e37",
   "metadata": {},
   "source": [
    "##### Things to consider:\n",
    " * Modify to for $\\Bbb{C}$\n",
    " * What would a $\\Bbb{C}\\times\\Bbb{\\R}^1\\mapsto\\Bbb{\\R}^2\\times\\Bbb{\\R}^1$ affine transform look like? The dim seems to check out."
   ]
  },
  {
   "cell_type": "markdown",
   "id": "f0d4349a",
   "metadata": {},
   "source": [
    "## Gosper Curve"
   ]
  },
  {
   "cell_type": "code",
   "execution_count": 7,
   "id": "5fb81694",
   "metadata": {},
   "outputs": [],
   "source": [
    "def z_plot(Z, c=None):\n",
    "    #display(Latex(f'${sym.latex(Z.T)}$'))\n",
    "    z= np.array(Z.tolist()).astype(np.complex64)\n",
    "    n = len(z)\n",
    "    plt.scatter(z.real, z.imag, c=c)\n",
    "    for i in range(len(z)): # this got a bit fancy\n",
    "        zz = z[i] + .06 *np.exp(1j*2*np.pi*i/n)  #offset text\n",
    "        plt.text(zz.real, zz.imag, i, fontsize=12)\n",
    "#    z = np.append(z,z[0]) # close the shape\n",
    "    plt.plot(z.real, z.imag, c=c)\n",
    "    plt.grid(visible=True);\n",
    "    plt.gca().set_aspect(\"equal\") # square grids are pretty\n",
    "    plt.axhline(0, color='black', alpha = .2, linestyle='--')\n",
    "    plt.axvline(0, color='black', alpha = .2, linestyle='--')"
   ]
  },
  {
   "cell_type": "code",
   "execution_count": 8,
   "id": "c7b785fb",
   "metadata": {},
   "outputs": [],
   "source": [
    "##  Build our basis\n",
    "# 360/60, 2*sym.pi/6, 2*sym.pi- 2*sym.pi/6\n",
    "\n",
    "# translate\n",
    "# rotate -2π/3 and translate\n",
    "# rotate -5π/3 and translate\n",
    "# rotate -π/3 and translate\n",
    "# translate\n",
    "# rotate 2π/3 and translate\n",
    "\n",
    "z = 2*sym.pi*sym.I/6\n",
    "p0 = 0\n",
    "p1 = p0+sym.exp(sym.pi*sym.I/2)\n",
    "p2 = p1+sym.exp(z/2)\n",
    "p3 = p2+sym.exp(-sym.pi*sym.I/2)\n",
    "p4 = p3+sym.exp(-z/2)\n",
    "p5 = p4+sym.exp(sym.pi*sym.I/2)\n",
    "p6 = p5+sym.exp(sym.pi*sym.I/2)\n",
    "p7 = p6+sym.exp(5*z/2)\n",
    "# now fix up the Hilbert curve for complex affine transforms"
   ]
  },
  {
   "cell_type": "code",
   "execution_count": 9,
   "id": "f8cae997",
   "metadata": {},
   "outputs": [
    {
     "data": {
      "image/png": "[encoded data removed]",
      "text/latex": [
       "$\\displaystyle \\left[ 0, \\  i, \\  e^{\\frac{i \\pi}{6}} + i, \\  e^{\\frac{i \\pi}{6}}, \\  e^{- \\frac{i \\pi}{6}} + e^{\\frac{i \\pi}{6}}, \\  e^{- \\frac{i \\pi}{6}} + e^{\\frac{i \\pi}{6}} + i, \\  e^{- \\frac{i \\pi}{6}} + e^{\\frac{i \\pi}{6}} + 2 i, \\  e^{- \\frac{i \\pi}{6}} + e^{\\frac{5 i \\pi}{6}} + e^{\\frac{i \\pi}{6}} + 2 i\\right]$"
      ],
      "text/plain": [
       "⎡       ⅈ⋅π       ⅈ⋅π   -ⅈ⋅π     ⅈ⋅π   -ⅈ⋅π     ⅈ⋅π       -ⅈ⋅π     ⅈ⋅π        \n",
       "⎢       ───       ───   ─────    ───   ─────    ───       ─────    ───        \n",
       "⎢        6         6      6       6      6       6          6       6         \n",
       "⎣0, ⅈ, ℯ    + ⅈ, ℯ   , ℯ      + ℯ   , ℯ      + ℯ    + ⅈ, ℯ      + ℯ    + 2⋅ⅈ, \n",
       "\n",
       " -ⅈ⋅π     5⋅ⅈ⋅π    ⅈ⋅π      ⎤\n",
       " ─────    ─────    ───      ⎥\n",
       "   6        6       6       ⎥\n",
       "ℯ      + ℯ      + ℯ    + 2⋅ⅈ⎦"
      ]
     },
     "execution_count": 9,
     "metadata": {},
     "output_type": "execute_result"
    }
   ],
   "source": [
    "p = [p0, p1, p2, p3, p4, p5, p6, p7]\n",
    "p"
   ]
  },
  {
   "cell_type": "markdown",
   "id": "710a17f6",
   "metadata": {},
   "source": [
    "## $\\mathbb{C}$affine\n",
    "$\\mathcal{T}$ea and $\\mathbb{C}$offee"
   ]
  },
  {
   "cell_type": "code",
   "execution_count": 10,
   "id": "663eda9b",
   "metadata": {},
   "outputs": [
    {
     "data": {
      "text/latex": [
       "$\\displaystyle \\left[\\begin{matrix}\\cosh{\\left(\\frac{\\pi}{3} \\right)} & - i \\sinh{\\left(\\frac{\\pi}{3} \\right)} & 0\\\\i \\sinh{\\left(\\frac{\\pi}{3} \\right)} & \\cosh{\\left(\\frac{\\pi}{3} \\right)} & 0\\\\0 & 0 & 1\\end{matrix}\\right]$"
      ],
      "text/plain": [
       "⎡     ⎛π⎞          ⎛π⎞   ⎤\n",
       "⎢ cosh⎜─⎟   -ⅈ⋅sinh⎜─⎟  0⎥\n",
       "⎢     ⎝3⎠          ⎝3⎠   ⎥\n",
       "⎢                        ⎥\n",
       "⎢      ⎛π⎞       ⎛π⎞     ⎥\n",
       "⎢ⅈ⋅sinh⎜─⎟   cosh⎜─⎟    0⎥\n",
       "⎢      ⎝3⎠       ⎝3⎠     ⎥\n",
       "⎢                        ⎥\n",
       "⎣    0          0       1⎦"
      ]
     },
     "execution_count": 10,
     "metadata": {},
     "output_type": "execute_result"
    },
    {
     "data": {
      "image/png": "[encoded data removed]",
      "text/plain": [
       "<Figure size 432x288 with 1 Axes>"
      ]
     },
     "metadata": {
      "needs_background": "light"
     },
     "output_type": "display_data"
    }
   ],
   "source": [
    "G=Matrix([[sym.re(pp), sym.im(pp)]for pp in p]).T  #map to R\n",
    "G = G.col_join(sym.ones(1,G.shape[1])) # C+affine \n",
    "T_0 = Matrix([\n",
    "    [1,0,-sym.re(p7)],\n",
    "    [0,1,-sym.im(p7)],\n",
    "    [0,0,1]])\n",
    "ROT = lambda theta: Matrix([\n",
    "    [sym.cos(theta),-sym.sin(theta),0],\n",
    "    [sym.sin(theta), sym.cos(theta),0],\n",
    "    [0,0,1]])\n",
    "m_plot(G)\n",
    "m_plot(T_0*G)\n",
    "ROT(z) # ought to have kept this complex, ask Arek about C+affine\n",
    "# Arek notice how the rotation has caused the real number to move in to imagine space"
   ]
  },
  {
   "cell_type": "markdown",
   "id": "9729deb7",
   "metadata": {},
   "source": [
    "##### Things to consider:\n",
    " * Permutation of basis for next interation\n",
    " * Geneneralized generator for all possible space filling curves"
   ]
  },
  {
   "cell_type": "markdown",
   "id": "87f91952",
   "metadata": {},
   "source": [
    "## Complex Hilbert"
   ]
  },
  {
   "cell_type": "code",
   "execution_count": 11,
   "id": "aab85537",
   "metadata": {},
   "outputs": [
    {
     "data": {
      "image/png": "[encoded data removed]",
      "text/plain": [
       "<Figure size 432x288 with 1 Axes>"
      ]
     },
     "metadata": {
      "needs_background": "light"
     },
     "output_type": "display_data"
    }
   ],
   "source": [
    "n = 4\n",
    "z = sym.exp(-2*sym.pi*sym.I/n)\n",
    "h = Matrix([z**(i+1) for i in range(4)])\n",
    "z_plot(h)"
   ]
  },
  {
   "cell_type": "code",
   "execution_count": 12,
   "id": "4fd74598",
   "metadata": {},
   "outputs": [
    {
     "data": {
      "text/latex": [
       "$\\displaystyle \\left[\\begin{matrix}1 - i & 1 & 1 & 1\\\\0 & -1 & 0 & 0\\\\0 & 0 & i & 0\\\\0 & 0 & 0 & 1\\\\1 & 1 & 1 & 1\\end{matrix}\\right]$"
      ],
      "text/plain": [
       "⎡1 - ⅈ  1   1  1⎤\n",
       "⎢               ⎥\n",
       "⎢  0    -1  0  0⎥\n",
       "⎢               ⎥\n",
       "⎢  0    0   ⅈ  0⎥\n",
       "⎢               ⎥\n",
       "⎢  0    0   0  1⎥\n",
       "⎢               ⎥\n",
       "⎣  1    1   1  1⎦"
      ]
     },
     "execution_count": 12,
     "metadata": {},
     "output_type": "execute_result"
    }
   ],
   "source": [
    "# sort out the transforms\n",
    "#z_plot(h*z)\n",
    "T = Matrix([\n",
    "    [1,0,0,0,1],\n",
    "    [0,1,0,0,0],\n",
    "    [0,0,1,0,0],\n",
    "    [0,0,0,1,0],\n",
    "    [0,0,0,0,1]\n",
    "])\n",
    "\n",
    "H=sym.diag(list(h),unpack=True)\n",
    "H= H.col_join(sym.ones(1,4)) # homogenized milk\n",
    "#z_plot(T*H)\n",
    "T*H # oops that caused our points to split in two, how interesting"
   ]
  },
  {
   "cell_type": "code",
   "execution_count": null,
   "id": "4064ddd5",
   "metadata": {},
   "outputs": [],
   "source": []
  }
 ],
 "metadata": {
  "kernelspec": {
   "display_name": "Python 3",
   "language": "python",
   "name": "python3"
  },
  "language_info": {
   "codemirror_mode": {
    "name": "ipython",
    "version": 3
   },
   "file_extension": ".py",
   "mimetype": "text/x-python",
   "name": "python",
   "nbconvert_exporter": "python",
   "pygments_lexer": "ipython3",
   "version": "3.8.10"
  }
 },
 "nbformat": 4,
 "nbformat_minor": 5
}
